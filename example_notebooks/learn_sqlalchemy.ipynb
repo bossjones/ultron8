{
 "cells": [
  {
   "cell_type": "markdown",
   "metadata": {},
   "source": [
    "# Creating Database and Table"
   ]
  },
  {
   "cell_type": "code",
   "execution_count": 1,
   "metadata": {},
   "outputs": [],
   "source": [
    "import sqlalchemy as db\n",
    "import pandas as pd\n",
    "\n",
    "from sqlalchemy.ext.declarative import declarative_base\n",
    "from sqlalchemy.orm import sessionmaker\n",
    "from sqlalchemy import Column, String, Integer, Date, Table, ForeignKey, Boolean\n",
    "from sqlalchemy.orm import relationship, backref\n",
    "\n",
    "import logging\n",
    "logging.basicConfig(level=logging.INFO)\n",
    "logger = logging.getLogger(__name__)\n"
   ]
  },
  {
   "cell_type": "code",
   "execution_count": 2,
   "metadata": {},
   "outputs": [],
   "source": [
    "# Creates: a SQLAlchemy Engine that will interact with our sqlite database,\n",
    "engine = db.create_engine('sqlite:///census.sqlite')\n",
    "\n",
    "# Creates: a SQLAlchemy ORM session factory bound to this engine\n",
    "Session = sessionmaker(bind=engine)\n",
    "\n",
    "# Creates: a base class for our classes definition\n",
    "Base = declarative_base()\n",
    "\n",
    "\n",
    "connection = engine.connect()\n",
    "metadata = db.MetaData()\n",
    "# census = db.Table('census', metadata, autoload=True, autoload_with=engine)"
   ]
  },
  {
   "cell_type": "code",
   "execution_count": 3,
   "metadata": {},
   "outputs": [],
   "source": [
    "emp = db.Table('emp', metadata,\n",
    "              db.Column('Id', db.Integer()),\n",
    "              db.Column('name', db.String(255), nullable=False),\n",
    "              db.Column('salary', db.Float(), default=100.0),\n",
    "              db.Column('active', db.Boolean(), default=True)\n",
    "              )\n",
    "\n",
    "metadata.create_all(engine) #Creates the table"
   ]
  },
  {
   "cell_type": "code",
   "execution_count": 4,
   "metadata": {},
   "outputs": [
    {
     "name": "stdout",
     "output_type": "stream",
     "text": [
      "['Id', 'name', 'salary', 'active']\n"
     ]
    }
   ],
   "source": [
    "# Print the column names\n",
    "print(emp.columns.keys())"
   ]
  },
  {
   "cell_type": "code",
   "execution_count": 5,
   "metadata": {},
   "outputs": [
    {
     "name": "stdout",
     "output_type": "stream",
     "text": [
      "Table('emp', MetaData(bind=None), Column('Id', Integer(), table=<emp>), Column('name', String(length=255), table=<emp>, nullable=False), Column('salary', Float(), table=<emp>, default=ColumnDefault(100.0)), Column('active', Boolean(), table=<emp>, default=ColumnDefault(True)), schema=None)\n"
     ]
    }
   ],
   "source": [
    "# Print full table metadata\n",
    "print(repr(metadata.tables['emp']))"
   ]
  },
  {
   "cell_type": "markdown",
   "metadata": {},
   "source": [
    "# Inserting Data"
   ]
  },
  {
   "cell_type": "code",
   "execution_count": 6,
   "metadata": {},
   "outputs": [],
   "source": [
    "#Inserting record one by one\n",
    "query = db.insert(emp).values(Id=1, name='naveen', salary=60000.00, active=True) \n",
    "ResultProxy = connection.execute(query)\n",
    "\n"
   ]
  },
  {
   "cell_type": "code",
   "execution_count": 7,
   "metadata": {},
   "outputs": [],
   "source": [
    "#Inserting many records at ones\n",
    "query = db.insert(emp) \n",
    "values_list = [{'Id':'2', 'name':'ram', 'salary':80000, 'active':False},\n",
    "               {'Id':'3', 'name':'ramesh', 'salary':70000, 'active':True}]\n",
    "ResultProxy = connection.execute(query,values_list)"
   ]
  },
  {
   "cell_type": "code",
   "execution_count": 8,
   "metadata": {},
   "outputs": [
    {
     "data": {
      "text/html": [
       "<div>\n",
       "<style scoped>\n",
       "    .dataframe tbody tr th:only-of-type {\n",
       "        vertical-align: middle;\n",
       "    }\n",
       "\n",
       "    .dataframe tbody tr th {\n",
       "        vertical-align: top;\n",
       "    }\n",
       "\n",
       "    .dataframe thead th {\n",
       "        text-align: right;\n",
       "    }\n",
       "</style>\n",
       "<table border=\"1\" class=\"dataframe\">\n",
       "  <thead>\n",
       "    <tr style=\"text-align: right;\">\n",
       "      <th></th>\n",
       "      <th>Id</th>\n",
       "      <th>name</th>\n",
       "      <th>salary</th>\n",
       "      <th>active</th>\n",
       "    </tr>\n",
       "  </thead>\n",
       "  <tbody>\n",
       "    <tr>\n",
       "      <th>0</th>\n",
       "      <td>1</td>\n",
       "      <td>naveen</td>\n",
       "      <td>60000.0</td>\n",
       "      <td>True</td>\n",
       "    </tr>\n",
       "    <tr>\n",
       "      <th>1</th>\n",
       "      <td>2</td>\n",
       "      <td>ram</td>\n",
       "      <td>80000.0</td>\n",
       "      <td>False</td>\n",
       "    </tr>\n",
       "    <tr>\n",
       "      <th>2</th>\n",
       "      <td>3</td>\n",
       "      <td>ramesh</td>\n",
       "      <td>70000.0</td>\n",
       "      <td>True</td>\n",
       "    </tr>\n",
       "    <tr>\n",
       "      <th>3</th>\n",
       "      <td>1</td>\n",
       "      <td>naveen</td>\n",
       "      <td>60000.0</td>\n",
       "      <td>True</td>\n",
       "    </tr>\n",
       "  </tbody>\n",
       "</table>\n",
       "</div>"
      ],
      "text/plain": [
       "   Id    name   salary  active\n",
       "0   1  naveen  60000.0    True\n",
       "1   2     ram  80000.0   False\n",
       "2   3  ramesh  70000.0    True\n",
       "3   1  naveen  60000.0    True"
      ]
     },
     "execution_count": 8,
     "metadata": {},
     "output_type": "execute_result"
    }
   ],
   "source": [
    "results = connection.execute(db.select([emp])).fetchall()\n",
    "df = pd.DataFrame(results)\n",
    "df.columns = results[0].keys()\n",
    "df.head(4)"
   ]
  },
  {
   "cell_type": "code",
   "execution_count": null,
   "metadata": {},
   "outputs": [],
   "source": []
  },
  {
   "cell_type": "code",
   "execution_count": 9,
   "metadata": {},
   "outputs": [],
   "source": [
    "# Print the column names\n",
    "# print(census.columns.keys())"
   ]
  },
  {
   "cell_type": "code",
   "execution_count": 10,
   "metadata": {},
   "outputs": [],
   "source": [
    "# Print full table metadata\n",
    "# print(repr(metadata.tables['census']))"
   ]
  },
  {
   "cell_type": "markdown",
   "metadata": {},
   "source": [
    "# Querying"
   ]
  },
  {
   "cell_type": "code",
   "execution_count": 11,
   "metadata": {},
   "outputs": [],
   "source": [
    "#Equivalent to 'SELECT * FROM census'\n",
    "# query = db.select([census])"
   ]
  },
  {
   "cell_type": "code",
   "execution_count": 12,
   "metadata": {},
   "outputs": [],
   "source": [
    "# ResultProxy = connection.execute(query)"
   ]
  },
  {
   "cell_type": "code",
   "execution_count": 13,
   "metadata": {},
   "outputs": [],
   "source": [
    "# ResultSet = ResultProxy.fetchall()"
   ]
  },
  {
   "cell_type": "code",
   "execution_count": 14,
   "metadata": {},
   "outputs": [],
   "source": [
    "# ResultSet[:3]"
   ]
  },
  {
   "cell_type": "markdown",
   "metadata": {},
   "source": [
    "# Class: Movie"
   ]
  },
  {
   "cell_type": "code",
   "execution_count": 15,
   "metadata": {},
   "outputs": [],
   "source": [
    "# Source: https://auth0.com/blog/sqlalchemy-orm-tutorial-for-python-developers/\n",
    "\n",
    "# As many movies can have many actors and vice-versa, \n",
    "# we will need to create a Many To Many relationship between these two classes.\n",
    "\n",
    "# we created a movies_actors_association table that connects rows of actors and rows of movies\n",
    "movies_actors_association = Table(\n",
    "    'movies_actors', Base.metadata,\n",
    "    Column('movie_id', Integer, ForeignKey('movies.id')),\n",
    "    Column('actor_id', Integer, ForeignKey('actors.id'))\n",
    ")\n",
    "\n",
    "\n",
    "class Movie(Base):\n",
    "    __tablename__ = 'movies'\n",
    "\n",
    "    id = Column(Integer, primary_key=True)\n",
    "    title = Column(String)\n",
    "    release_date = Column(Date)\n",
    "    # and we added the actors property to Movie and configured the \n",
    "    # movies_actors_association as the intermediary table.\n",
    "    actors = relationship(\"Actor\", secondary=movies_actors_association)\n",
    "\n",
    "    def __init__(self, title, release_date):\n",
    "        self.title = title\n",
    "        self.release_date = release_date"
   ]
  },
  {
   "cell_type": "markdown",
   "metadata": {},
   "source": [
    "# Class: Actor"
   ]
  },
  {
   "cell_type": "code",
   "execution_count": 16,
   "metadata": {},
   "outputs": [],
   "source": [
    "class Actor(Base):\n",
    "    __tablename__ = 'actors'\n",
    "\n",
    "    id = Column(Integer, primary_key=True)\n",
    "    name = Column(String)\n",
    "    birthday = Column(Date)\n",
    "\n",
    "    def __init__(self, name, birthday):\n",
    "        self.name = name\n",
    "        self.birthday = birthday"
   ]
  },
  {
   "cell_type": "markdown",
   "metadata": {},
   "source": [
    "# Class: Stuntman"
   ]
  },
  {
   "cell_type": "code",
   "execution_count": 17,
   "metadata": {},
   "outputs": [],
   "source": [
    "# In this class, we have defined that the actor property references an \n",
    "# instance of Actor and that this actor will get a property called stuntman that is not a list (uselist=False). \n",
    "# That is, whenever we load an instance of Stuntman, \n",
    "# SQLAlchemy will also load and populate the Actor associated with this stuntman.\n",
    "\n",
    "class Stuntman(Base):\n",
    "    __tablename__ = 'stuntmen'\n",
    "\n",
    "    id = Column(Integer, primary_key=True)\n",
    "    name = Column(String)\n",
    "    active = Column(Boolean)\n",
    "    actor_id = Column(Integer, ForeignKey('actors.id'))\n",
    "    actor = relationship(\"Actor\", backref=backref(\"stuntman\", uselist=False))\n",
    "\n",
    "    def __init__(self, name, active, actor):\n",
    "        self.name = name\n",
    "        self.active = active\n",
    "        self.actor = actor"
   ]
  },
  {
   "cell_type": "markdown",
   "metadata": {},
   "source": [
    "# Class: ContactDetails"
   ]
  },
  {
   "cell_type": "code",
   "execution_count": 18,
   "metadata": {},
   "outputs": [],
   "source": [
    "class ContactDetails(Base):\n",
    "    __tablename__ = 'contact_details'\n",
    "\n",
    "    id = Column(Integer, primary_key=True)\n",
    "    phone_number = Column(String)\n",
    "    address = Column(String)\n",
    "    actor_id = Column(Integer, ForeignKey('actors.id'))\n",
    "    actor = relationship(\"Actor\", backref=\"contact_details\")\n",
    "\n",
    "    def __init__(self, phone_number, address, actor):\n",
    "        self.phone_number = phone_number\n",
    "        self.address = address\n",
    "        self.actor = actor"
   ]
  },
  {
   "cell_type": "markdown",
   "metadata": {},
   "source": [
    "# Persisting Data with SQLAlchemy ORM"
   ]
  },
  {
   "cell_type": "code",
   "execution_count": 19,
   "metadata": {},
   "outputs": [],
   "source": [
    "from datetime import date\n",
    "\n",
    "# 2 - generate database schema\n",
    "Base.metadata.create_all(engine)\n",
    "\n",
    "# 3 - create a new session\n",
    "session = Session()\n"
   ]
  },
  {
   "cell_type": "code",
   "execution_count": 20,
   "metadata": {},
   "outputs": [],
   "source": [
    "# 4 - create movies\n",
    "bourne_identity = Movie(\"The Bourne Identity\", date(2002, 10, 11))\n",
    "furious_7 = Movie(\"Furious 7\", date(2015, 4, 2))\n",
    "pain_and_gain = Movie(\"Pain & Gain\", date(2013, 8, 23))\n"
   ]
  },
  {
   "cell_type": "code",
   "execution_count": 21,
   "metadata": {},
   "outputs": [],
   "source": [
    "# 5 - creates actors\n",
    "matt_damon = Actor(\"Matt Damon\", date(1970, 10, 8))\n",
    "dwayne_johnson = Actor(\"Dwayne Johnson\", date(1972, 5, 2))\n",
    "mark_wahlberg = Actor(\"Mark Wahlberg\", date(1971, 6, 5))\n"
   ]
  },
  {
   "cell_type": "code",
   "execution_count": 22,
   "metadata": {},
   "outputs": [],
   "source": [
    "# 6 - add actors to movies\n",
    "bourne_identity.actors = [matt_damon]\n",
    "furious_7.actors = [dwayne_johnson]\n",
    "pain_and_gain.actors = [dwayne_johnson, mark_wahlberg]\n"
   ]
  },
  {
   "cell_type": "code",
   "execution_count": 23,
   "metadata": {},
   "outputs": [],
   "source": [
    "# 7 - add contact details to actors\n",
    "matt_contact = ContactDetails(\"415 555 2671\", \"Burbank, CA\", matt_damon)\n",
    "dwayne_contact = ContactDetails(\"423 555 5623\", \"Glendale, CA\", dwayne_johnson)\n",
    "dwayne_contact_2 = ContactDetails(\"421 444 2323\", \"West Hollywood, CA\", dwayne_johnson)\n",
    "mark_contact = ContactDetails(\"421 333 9428\", \"Glendale, CA\", mark_wahlberg)\n"
   ]
  },
  {
   "cell_type": "code",
   "execution_count": 24,
   "metadata": {},
   "outputs": [],
   "source": [
    "# 8 - create stuntmen\n",
    "matt_stuntman = Stuntman(\"John Doe\", True, matt_damon)\n",
    "dwayne_stuntman = Stuntman(\"John Roe\", True, dwayne_johnson)\n",
    "mark_stuntman = Stuntman(\"Richard Roe\", True, mark_wahlberg)\n"
   ]
  },
  {
   "cell_type": "code",
   "execution_count": 25,
   "metadata": {},
   "outputs": [],
   "source": [
    "# 9 - persists data\n",
    "session.add(bourne_identity)\n",
    "session.add(furious_7)\n",
    "session.add(pain_and_gain)\n",
    "\n",
    "session.add(matt_contact)\n",
    "session.add(dwayne_contact)\n",
    "session.add(dwayne_contact_2)\n",
    "session.add(mark_contact)\n",
    "\n",
    "session.add(matt_stuntman)\n",
    "session.add(dwayne_stuntman)\n",
    "session.add(mark_stuntman)\n"
   ]
  },
  {
   "cell_type": "code",
   "execution_count": 26,
   "metadata": {},
   "outputs": [],
   "source": [
    "# display data\n",
    "# results = connection.execute(db.select([emp])).fetchall()\n",
    "# df = pd.DataFrame(results)\n",
    "# df.columns = results[0].keys()\n",
    "# df.head(4)"
   ]
  },
  {
   "cell_type": "code",
   "execution_count": 27,
   "metadata": {},
   "outputs": [],
   "source": [
    "# 10 - commit and close session\n",
    "session.commit()\n",
    "# session.close()"
   ]
  }
 ],
 "metadata": {
  "kernelspec": {
   "display_name": "Python 3",
   "language": "python",
   "name": "python3"
  },
  "language_info": {
   "codemirror_mode": {
    "name": "ipython",
    "version": 3
   },
   "file_extension": ".py",
   "mimetype": "text/x-python",
   "name": "python",
   "nbconvert_exporter": "python",
   "pygments_lexer": "ipython3",
   "version": "3.6.8"
  }
 },
 "nbformat": 4,
 "nbformat_minor": 2
}
