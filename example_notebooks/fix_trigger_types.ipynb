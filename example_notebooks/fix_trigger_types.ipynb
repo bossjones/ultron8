{
 "cells": [
  {
   "cell_type": "markdown",
   "metadata": {},
   "source": [
    "# Step 1: Inital db setup"
   ]
  },
  {
   "cell_type": "code",
   "execution_count": 1,
   "metadata": {},
   "outputs": [],
   "source": [
    "# SOURCE: https://ndres.me/post/best-jupyter-notebook-extensions/\n",
    "# autoreload: Autoreloads external files without having to restart the notebook. To enable it:\n",
    "\n",
    "%load_ext autoreload\n",
    "%autoreload 2\n",
    "\n",
    "from IPython.core.interactiveshell import InteractiveShell\n",
    "InteractiveShell.ast_node_interactivity = \"all\""
   ]
  },
  {
   "cell_type": "code",
   "execution_count": 11,
   "metadata": {},
   "outputs": [],
   "source": [
    "# Initial - Setup environment vars before testing anything\n",
    "import os\n",
    "from sqlalchemy import inspect\n",
    "\n",
    "# import better_exceptions; better_exceptions.hook()\n",
    "\n",
    "import sys\n",
    "import ujson\n",
    "\n",
    "from IPython.core.debugger import Tracer  # noqa\n",
    "from IPython.core import ultratb\n",
    "\n",
    "sys.excepthook = ultratb.FormattedTB(\n",
    "    mode=\"Verbose\", color_scheme=\"Linux\", call_pdb=True, ostream=sys.__stdout__\n",
    ")\n",
    "\n",
    "def debug_dump_exclude(obj, exclude=[\"__builtins__\", \"__doc__\"]):\n",
    "    for attr in dir(obj):\n",
    "        if hasattr(obj, attr):\n",
    "            if attr not in exclude:\n",
    "                print(\"obj.%s = %s\" % (attr, getattr(obj, attr)))"
   ]
  },
  {
   "cell_type": "code",
   "execution_count": 3,
   "metadata": {},
   "outputs": [],
   "source": [
    "!source /Users/malcolm/dev/bossjones/ultron8/.local.dist"
   ]
  },
  {
   "cell_type": "code",
   "execution_count": 4,
   "metadata": {},
   "outputs": [
    {
     "name": "stdout",
     "output_type": "stream",
     "text": [
      "2019-08-25 20:35:42,908 INFO sqlalchemy.engine.base.Engine SELECT CAST('test plain returns' AS VARCHAR(60)) AS anon_1\n",
      "2019-08-25 20:35:42,908 INFO sqlalchemy.engine.base.Engine ()\n",
      "2019-08-25 20:35:42,910 INFO sqlalchemy.engine.base.Engine SELECT CAST('test unicode returns' AS VARCHAR(60)) AS anon_1\n",
      "2019-08-25 20:35:42,912 INFO sqlalchemy.engine.base.Engine ()\n",
      "2019-08-25 20:35:42,914 INFO sqlalchemy.engine.base.Engine BEGIN (implicit)\n",
      "2019-08-25 20:35:42,916 INFO sqlalchemy.engine.base.Engine SELECT trigger_types.id AS trigger_types_id, trigger_types.name AS trigger_types_name, trigger_types.ref AS trigger_types_ref, trigger_types.uid AS trigger_types_uid, trigger_types.description AS trigger_types_description, trigger_types.payload_schema AS trigger_types_payload_schema, trigger_types.parameters_schema AS trigger_types_parameters_schema, trigger_types.packs_id AS trigger_types_packs_id, trigger_types.metadata_file AS trigger_types_metadata_file \n",
      "FROM trigger_types \n",
      "WHERE trigger_types.id = ?\n",
      " LIMIT ? OFFSET ?\n",
      "2019-08-25 20:35:42,917 INFO sqlalchemy.engine.base.Engine (156, 1, 0)\n"
     ]
    }
   ],
   "source": [
    "from ultron8.api import settings\n",
    "\n",
    "from ultron8.api.db.u_sqlite.session import db_session\n",
    "from fastapi.encoders import jsonable_encoder\n",
    "from ultron8.api import crud\n",
    "\n",
    "from ultron8.api.models.trigger import TriggerTypeCreate\n",
    "\n",
    "trigger_type_obj = crud.trigger_types.get(\n",
    "    db_session=db_session, trigger_type_id=156\n",
    ")\n"
   ]
  },
  {
   "cell_type": "code",
   "execution_count": 5,
   "metadata": {},
   "outputs": [
    {
     "name": "stdout",
     "output_type": "stream",
     "text": [
      "obj.RESOURCE_TYPE = ResourceType.TRIGGER_TYPE\n",
      "obj.UID_FIELDS = ['packs_name', 'name']\n",
      "obj.UID_SEPARATOR = :\n",
      "obj.__class__ = <class 'ultron8.api.db_models.trigger.TriggerTypeDB'>\n",
      "obj.__delattr__ = <method-wrapper '__delattr__' of TriggerTypeDB object at 0x10aa7f080>\n",
      "obj.__dict__ = {'_sa_instance_state': <sqlalchemy.orm.state.InstanceState object at 0x10aa7f0b8>, 'uid': 'trigger_type:uqbizpssvimcimwntdgnxibradwxryxb:ultron8.csplfnqbdukrwfgouzvhvtsmmxuppvsh', 'name': 'ultron8.csplfnqbdukrwfgouzvhvtsmmxuppvsh', 'metadata_file': './tests/fixtures/simple/packs/csplfnqbdukrwfgouzvhvtsmmxuppvsh', 'parameters_schema': {'additionalProperties': False, 'properties': {'url': {'type': 'string', 'required': True}}, 'type': 'object'}, 'description': 'hjslevdtsqgyvreugpxeehcjzqqeersa', 'ref': 'uqbizpssvimcimwntdgnxibradwxryxb.ultron8.csplfnqbdukrwfgouzvhvtsmmxuppvsh', 'id': 156, 'packs_id': 235, 'payload_schema': {'type': 'object'}}\n",
      "obj.__dir__ = <built-in method __dir__ of TriggerTypeDB object at 0x10aa7f080>\n",
      "obj.__eq__ = <method-wrapper '__eq__' of TriggerTypeDB object at 0x10aa7f080>\n",
      "obj.__format__ = <built-in method __format__ of TriggerTypeDB object at 0x10aa7f080>\n",
      "obj.__ge__ = <method-wrapper '__ge__' of TriggerTypeDB object at 0x10aa7f080>\n",
      "obj.__getattribute__ = <method-wrapper '__getattribute__' of TriggerTypeDB object at 0x10aa7f080>\n",
      "obj.__gt__ = <method-wrapper '__gt__' of TriggerTypeDB object at 0x10aa7f080>\n",
      "obj.__hash__ = <method-wrapper '__hash__' of TriggerTypeDB object at 0x10aa7f080>\n",
      "obj.__init__ = <bound method __init__ of TriggerTypeDB<name=ultron8.csplfnqbdukrwfgouzvhvtsmmxuppvsh,ref=uqbizpssvimcimwntdgnxibradwxryxb.ultron8.csplfnqbdukrwfgouzvhvtsmmxuppvsh>>\n",
      "obj.__init_subclass__ = <built-in method __init_subclass__ of DeclarativeMeta object at 0x7fed507ee718>\n",
      "obj.__le__ = <method-wrapper '__le__' of TriggerTypeDB object at 0x10aa7f080>\n",
      "obj.__lt__ = <method-wrapper '__lt__' of TriggerTypeDB object at 0x10aa7f080>\n",
      "obj.__mapper__ = mapped class TriggerTypeDB->trigger_types\n",
      "obj.__module__ = ultron8.api.db_models.trigger\n",
      "obj.__ne__ = <method-wrapper '__ne__' of TriggerTypeDB object at 0x10aa7f080>\n",
      "obj.__new__ = <built-in method __new__ of type object at 0x106fbd470>\n",
      "obj.__reduce__ = <built-in method __reduce__ of TriggerTypeDB object at 0x10aa7f080>\n",
      "obj.__reduce_ex__ = <built-in method __reduce_ex__ of TriggerTypeDB object at 0x10aa7f080>\n",
      "obj.__repr__ = <bound method TriggerTypeDB.__repr__ of TriggerTypeDB<name=ultron8.csplfnqbdukrwfgouzvhvtsmmxuppvsh,ref=uqbizpssvimcimwntdgnxibradwxryxb.ultron8.csplfnqbdukrwfgouzvhvtsmmxuppvsh>>\n",
      "obj.__setattr__ = <method-wrapper '__setattr__' of TriggerTypeDB object at 0x10aa7f080>\n",
      "obj.__sizeof__ = <built-in method __sizeof__ of TriggerTypeDB object at 0x10aa7f080>\n",
      "obj.__str__ = <method-wrapper '__str__' of TriggerTypeDB object at 0x10aa7f080>\n",
      "obj.__subclasshook__ = <built-in method __subclasshook__ of DeclarativeMeta object at 0x7fed507ee718>\n",
      "obj.__table__ = trigger_types\n",
      "obj.__tablename__ = trigger_types\n",
      "obj.__weakref__ = <weakref at 0x10aa75db8; to 'TriggerTypeDB' at 0x10aa7f080>\n",
      "obj._decl_class_registry = <WeakValueDictionary at 0x10a0d95f8>\n",
      "obj._sa_class_manager = <ClassManager of <class 'ultron8.api.db_models.trigger.TriggerTypeDB'> at 10a92d8e0>\n",
      "obj._sa_instance_state = <sqlalchemy.orm.state.InstanceState object at 0x10aa7f0b8>\n",
      "obj.description = hjslevdtsqgyvreugpxeehcjzqqeersa\n",
      "obj.get_uid = <bound method UIDFieldMixin.get_uid of TriggerTypeDB<name=ultron8.csplfnqbdukrwfgouzvhvtsmmxuppvsh,ref=uqbizpssvimcimwntdgnxibradwxryxb.ultron8.csplfnqbdukrwfgouzvhvtsmmxuppvsh>>\n",
      "obj.get_uid_parts = <bound method UIDFieldMixin.get_uid_parts of TriggerTypeDB<name=ultron8.csplfnqbdukrwfgouzvhvtsmmxuppvsh,ref=uqbizpssvimcimwntdgnxibradwxryxb.ultron8.csplfnqbdukrwfgouzvhvtsmmxuppvsh>>\n",
      "obj.has_valid_uid = <bound method UIDFieldMixin.has_valid_uid of TriggerTypeDB<name=ultron8.csplfnqbdukrwfgouzvhvtsmmxuppvsh,ref=uqbizpssvimcimwntdgnxibradwxryxb.ultron8.csplfnqbdukrwfgouzvhvtsmmxuppvsh>>\n",
      "obj.id = 156\n",
      "obj.metadata = MetaData(bind=None)\n",
      "obj.metadata_file = ./tests/fixtures/simple/packs/csplfnqbdukrwfgouzvhvtsmmxuppvsh\n",
      "obj.name = ultron8.csplfnqbdukrwfgouzvhvtsmmxuppvsh\n",
      "obj.packs_id = 235\n",
      "obj.parameters_schema = {'additionalProperties': False, 'properties': {'url': {'type': 'string', 'required': True}}, 'type': 'object'}\n",
      "obj.payload_schema = {'type': 'object'}\n",
      "obj.ref = uqbizpssvimcimwntdgnxibradwxryxb.ultron8.csplfnqbdukrwfgouzvhvtsmmxuppvsh\n",
      "2019-08-25 20:35:42,950 INFO sqlalchemy.engine.base.Engine SELECT sensors.id AS sensors_id, sensors.class_name AS sensors_class_name, sensors.ref AS sensors_ref, sensors.uid AS sensors_uid, sensors.artifact_uri AS sensors_artifact_uri, sensors.poll_interval AS sensors_poll_interval, sensors.enabled AS sensors_enabled, sensors.entry_point AS sensors_entry_point, sensors.description AS sensors_description, sensors.created_at AS sensors_created_at, sensors.updated_at AS sensors_updated_at, sensors.packs_id AS sensors_packs_id \n",
      "FROM sensors, sensors_trigger_types_association \n",
      "WHERE ? = sensors_trigger_types_association.trigger_types_id AND sensors.id = sensors_trigger_types_association.sensors_id\n",
      "2019-08-25 20:35:42,951 INFO sqlalchemy.engine.base.Engine (156,)\n",
      "obj.sensors = []\n",
      "2019-08-25 20:35:42,957 INFO sqlalchemy.engine.base.Engine SELECT trigger_tags.id AS trigger_tags_id, trigger_tags.trigger_type_id AS trigger_tags_trigger_type_id, trigger_tags.tag AS trigger_tags_tag, trigger_tags.trigger_name AS trigger_tags_trigger_name \n",
      "FROM trigger_tags \n",
      "WHERE ? = trigger_tags.trigger_type_id\n",
      "2019-08-25 20:35:42,958 INFO sqlalchemy.engine.base.Engine (156,)\n",
      "obj.tags = []\n",
      "obj.uid = trigger_type:uqbizpssvimcimwntdgnxibradwxryxb:ultron8.csplfnqbdukrwfgouzvhvtsmmxuppvsh\n"
     ]
    }
   ],
   "source": [
    "debug_dump_exclude(trigger_type_obj)"
   ]
  },
  {
   "cell_type": "code",
   "execution_count": 6,
   "metadata": {},
   "outputs": [],
   "source": [
    "# dict(trigger_type_obj)"
   ]
  },
  {
   "cell_type": "code",
   "execution_count": 7,
   "metadata": {},
   "outputs": [
    {
     "name": "stdout",
     "output_type": "stream",
     "text": [
      "InteractiveShell\t Tracer\t TriggerTypeCreate\t crud\t db_session\t debug_dump_exclude\t inspect\t jsonable_encoder\t os\t \n",
      "settings\t sys\t trigger_type_obj\t ultratb\t \n"
     ]
    }
   ],
   "source": [
    "# list all variables of global scope\n",
    "# SOURCE: https://www.dataquest.io/blog/jupyter-notebook-tips-tricks-shortcuts/\n",
    "%who"
   ]
  },
  {
   "cell_type": "code",
   "execution_count": 8,
   "metadata": {},
   "outputs": [
    {
     "name": "stdout",
     "output_type": "stream",
     "text": [
      "obj.ACCESS_TOKEN_EXPIRE_MINUTES = 11520\n",
      "obj.API_V1_STR = /v1\n",
      "obj.BACKEND_CORS_ORIGINS = *\n",
      "obj.CommaSeparatedStrings = <class 'starlette.datastructures.CommaSeparatedStrings'>\n",
      "obj.Config = <class 'starlette.config.Config'>\n",
      "obj.DATABASE_URL = sqlite:///test.db\n",
      "obj.DEBUG = True\n",
      "obj.DEBUG_REQUESTS = False\n",
      "obj.DEFAULT_SECRET_KEY = b'supersecretkey'\n",
      "obj.EMAILS_ENABLED = None\n",
      "obj.EMAILS_FROM_EMAIL = None\n",
      "obj.EMAILS_FROM_NAME = ultron8\n",
      "obj.EMAIL_RESET_TOKEN_EXPIRE_HOURS = 48\n",
      "obj.EMAIL_TEMPLATES_DIR = /app/app/email-templates/build\n",
      "obj.FIRST_SUPERUSER = admin@ultron8.com\n",
      "obj.FIRST_SUPERUSER_PASSWORD = password\n",
      "obj.LOG_LEVEL = 10\n",
      "obj.LOG_LEVEL_MAP = {'INFO': 20, 'DEBUG': 10, 'WARNING': 30, 'WARN': 30, 'ERROR': 40, 'FATAL': 50, 'CRITICAL': 50}\n",
      "obj.MASK_SECRETS = True\n",
      "obj.PROJECT_NAME = ultron8\n",
      "obj.SECRET_KEY = b'43n080musdfjt54t-09sdgr'\n",
      "obj.SENTRY_DSN = None\n",
      "obj.SERVER_HOST = http://localhost:11267\n",
      "obj.SERVER_NAME = localhost:11267\n",
      "obj.SMTP_HOST = None\n",
      "obj.SMTP_PASSWORD = None\n",
      "obj.SMTP_PORT = 587\n",
      "obj.SMTP_TLS = True\n",
      "obj.SMTP_USER = None\n",
      "obj.Secret = <class 'starlette.datastructures.Secret'>\n",
      "obj.SettingsConfig = <class 'ultron8.api.settings.SettingsConfig'>\n",
      "obj.TESTING = True\n",
      "obj.TEST_DATABASE_URL = sqlite:///test.db\n",
      "obj.USERS_OPEN_REGISTRATION = False\n",
      "obj._SMTP_PORT = 587\n",
      "obj._USER_LOG_LEVEL = DEBUG\n",
      "obj.__cached__ = /Users/malcolm/dev/bossjones/ultron8/ultron8/api/__pycache__/settings.cpython-36.pyc\n",
      "obj.__file__ = /Users/malcolm/dev/bossjones/ultron8/ultron8/api/settings.py\n",
      "obj.__loader__ = <_frozen_importlib_external.SourceFileLoader object at 0x10a0895f8>\n",
      "obj.__name__ = ultron8.api.settings\n",
      "obj.__package__ = ultron8.api\n",
      "obj.__spec__ = ModuleSpec(name='ultron8.api.settings', loader=<_frozen_importlib_external.SourceFileLoader object at 0x10a0895f8>, origin='/Users/malcolm/dev/bossjones/ultron8/ultron8/api/settings.py')\n",
      "obj.getenv_boolean = <function getenv_boolean at 0x10a00d2f0>\n",
      "obj.log = <BetExcLogger ultron8.api.settings (WARNING)>\n",
      "obj.logging = <module 'logging' from '/Users/malcolm/.pyenv/versions/3.6.8/lib/python3.6/logging/__init__.py'>\n",
      "obj.os = <module 'os' from '/Users/malcolm/.pyenv/versions/3.6.8/lib/python3.6/os.py'>\n",
      "obj.sys = <module 'sys' (built-in)>\n"
     ]
    }
   ],
   "source": [
    "debug_dump_exclude(settings)"
   ]
  },
  {
   "cell_type": "code",
   "execution_count": 9,
   "metadata": {},
   "outputs": [
    {
     "data": {
      "text/plain": [
       "{'additionalProperties': False,\n",
       " 'properties': {'url': {'type': 'string', 'required': True}},\n",
       " 'type': 'object'}"
      ]
     },
     "execution_count": 9,
     "metadata": {},
     "output_type": "execute_result"
    }
   ],
   "source": [
    "jsonable_encoder(trigger_type_obj.parameters_schema)"
   ]
  },
  {
   "cell_type": "code",
   "execution_count": 15,
   "metadata": {},
   "outputs": [
    {
     "data": {
      "text/plain": [
       "'{\"additionalProperties\":false,\"properties\":{\"url\":{\"type\":\"string\",\"required\":true}},\"type\":\"object\"}'"
      ]
     },
     "execution_count": 15,
     "metadata": {},
     "output_type": "execute_result"
    }
   ],
   "source": [
    "ujson.dumps(trigger_type_obj.parameters_schema)"
   ]
  },
  {
   "cell_type": "code",
   "execution_count": 18,
   "metadata": {},
   "outputs": [
    {
     "name": "stdout",
     "output_type": "stream",
     "text": [
      "2019-08-25 20:59:48,256 INFO sqlalchemy.engine.base.Engine SELECT packs.id AS packs_id, packs.ref AS packs_ref, packs.uid AS packs_uid, packs.name AS packs_name, packs.description AS packs_description, packs.keywords AS packs_keywords, packs.version AS packs_version, packs.python_versions AS packs_python_versions, packs.author AS packs_author, packs.email AS packs_email, packs.contributors AS packs_contributors, packs.files AS packs_files, packs.path AS packs_path, packs.dependencies AS packs_dependencies, packs.system AS packs_system, packs.created_at AS packs_created_at, packs.updated_at AS packs_updated_at \n",
      "FROM packs \n",
      "WHERE packs.id = ?\n",
      " LIMIT ? OFFSET ?\n",
      "2019-08-25 20:59:48,258 INFO sqlalchemy.engine.base.Engine (235, 1, 0)\n"
     ]
    }
   ],
   "source": [
    "# packs_obj = obj.packs_id = 235\n",
    "\n",
    "packs_obj = crud.packs.get(\n",
    "    db_session=db_session, packs_id=235\n",
    ")"
   ]
  },
  {
   "cell_type": "code",
   "execution_count": 19,
   "metadata": {},
   "outputs": [
    {
     "data": {
      "text/plain": [
       "Packs<name=uqbizpssvimcimwntdgnxibradwxryxb,ref=uqbizpssvimcimwntdgnxibradwxryxb>"
      ]
     },
     "execution_count": 19,
     "metadata": {},
     "output_type": "execute_result"
    }
   ],
   "source": [
    "packs_obj"
   ]
  },
  {
   "cell_type": "code",
   "execution_count": 20,
   "metadata": {},
   "outputs": [
    {
     "name": "stdout",
     "output_type": "stream",
     "text": [
      "obj.RESOURCE_TYPE = ResourceType.PACK\n",
      "obj.UID_FIELDS = ['ref']\n",
      "obj.UID_SEPARATOR = :\n",
      "obj.__class__ = <class 'ultron8.api.db_models.packs.Packs'>\n",
      "obj.__delattr__ = <method-wrapper '__delattr__' of Packs object at 0x115343b38>\n",
      "obj.__dict__ = {'_sa_instance_state': <sqlalchemy.orm.state.InstanceState object at 0x115343b70>, 'version': 'wroqzxuconfwhujucbsgzhhyfqbuhgwu', 'description': 'fjccadkasepmicrdydubpqziarwmkzxr', 'uid': 'pack:uqbizpssvimcimwntdgnxibradwxryxb', 'id': 235, 'system': None, 'updated_at': '2019-07-25 01:11:00.740428', 'dependencies': None, 'files': 'clkrrjtdvzpbkyehksuqimegzmusihxo', 'email': 'info@theblacktonystark.com', 'python_versions': 'lnotdaqcvmwjndzogpxzovyuincipzca', 'keywords': 'ugnyumdhdzmezktffhxjomkhvwuwppxf', 'name': 'uqbizpssvimcimwntdgnxibradwxryxb', 'ref': 'uqbizpssvimcimwntdgnxibradwxryxb', 'created_at': '2019-07-25 01:11:00.740428', 'path': 'xainktthfsbavlnsygjnaqctuelxshfj', 'contributors': 'jszphuqjozykfxekgnsuxyveontpdlvy', 'author': 'ffcfzmdswezpvowgamxzypgoaawvvbqt'}\n",
      "obj.__dir__ = <built-in method __dir__ of Packs object at 0x115343b38>\n",
      "obj.__eq__ = <method-wrapper '__eq__' of Packs object at 0x115343b38>\n",
      "obj.__format__ = <built-in method __format__ of Packs object at 0x115343b38>\n",
      "obj.__ge__ = <method-wrapper '__ge__' of Packs object at 0x115343b38>\n",
      "obj.__getattribute__ = <method-wrapper '__getattribute__' of Packs object at 0x115343b38>\n",
      "obj.__gt__ = <method-wrapper '__gt__' of Packs object at 0x115343b38>\n",
      "obj.__hash__ = <method-wrapper '__hash__' of Packs object at 0x115343b38>\n",
      "obj.__init__ = <bound method __init__ of Packs<name=uqbizpssvimcimwntdgnxibradwxryxb,ref=uqbizpssvimcimwntdgnxibradwxryxb>>\n",
      "obj.__init_subclass__ = <built-in method __init_subclass__ of DeclarativeMeta object at 0x7fed505d6528>\n",
      "obj.__le__ = <method-wrapper '__le__' of Packs object at 0x115343b38>\n",
      "obj.__lt__ = <method-wrapper '__lt__' of Packs object at 0x115343b38>\n",
      "obj.__mapper__ = mapped class Packs->packs\n",
      "obj.__module__ = ultron8.api.db_models.packs\n",
      "obj.__ne__ = <method-wrapper '__ne__' of Packs object at 0x115343b38>\n",
      "obj.__new__ = <built-in method __new__ of type object at 0x106fbd470>\n",
      "obj.__reduce__ = <built-in method __reduce__ of Packs object at 0x115343b38>\n",
      "obj.__reduce_ex__ = <built-in method __reduce_ex__ of Packs object at 0x115343b38>\n",
      "obj.__repr__ = <bound method Packs.__repr__ of Packs<name=uqbizpssvimcimwntdgnxibradwxryxb,ref=uqbizpssvimcimwntdgnxibradwxryxb>>\n",
      "obj.__setattr__ = <method-wrapper '__setattr__' of Packs object at 0x115343b38>\n",
      "obj.__sizeof__ = <built-in method __sizeof__ of Packs object at 0x115343b38>\n",
      "obj.__str__ = <method-wrapper '__str__' of Packs object at 0x115343b38>\n",
      "obj.__subclasshook__ = <built-in method __subclasshook__ of DeclarativeMeta object at 0x7fed505d6528>\n",
      "obj.__table__ = packs\n",
      "obj.__tablename__ = packs\n",
      "obj.__weakref__ = <weakref at 0x10a7998b8; to 'Packs' at 0x115343b38>\n",
      "obj._decl_class_registry = <WeakValueDictionary at 0x10a0d95f8>\n",
      "obj._sa_class_manager = <ClassManager of <class 'ultron8.api.db_models.packs.Packs'> at 10a8a1af0>\n",
      "obj._sa_instance_state = <sqlalchemy.orm.state.InstanceState object at 0x115343b70>\n",
      "2019-08-25 21:00:00,822 INFO sqlalchemy.engine.base.Engine SELECT actions.id AS actions_id, actions.ref AS actions_ref, actions.uid AS actions_uid, actions.metadata_file AS actions_metadata_file, actions.name AS actions_name, actions.description AS actions_description, actions.runner_type AS actions_runner_type, actions.enabled AS actions_enabled, actions.entry_point AS actions_entry_point, actions.parameters AS actions_parameters, actions.tags AS actions_tags, actions.created_at AS actions_created_at, actions.updated_at AS actions_updated_at, actions.packs_id AS actions_packs_id \n",
      "FROM actions \n",
      "WHERE ? = actions.packs_id\n",
      "2019-08-25 21:00:00,824 INFO sqlalchemy.engine.base.Engine (235,)\n",
      "obj.actions = []\n",
      "obj.author = ffcfzmdswezpvowgamxzypgoaawvvbqt\n",
      "obj.contributors = jszphuqjozykfxekgnsuxyveontpdlvy\n",
      "obj.created_at = 2019-07-25 01:11:00.740428\n",
      "obj.dependencies = None\n",
      "obj.description = fjccadkasepmicrdydubpqziarwmkzxr\n",
      "obj.email = info@theblacktonystark.com\n",
      "obj.files = clkrrjtdvzpbkyehksuqimegzmusihxo\n",
      "obj.get_uid = <bound method UIDFieldMixin.get_uid of Packs<name=uqbizpssvimcimwntdgnxibradwxryxb,ref=uqbizpssvimcimwntdgnxibradwxryxb>>\n",
      "obj.get_uid_parts = <bound method UIDFieldMixin.get_uid_parts of Packs<name=uqbizpssvimcimwntdgnxibradwxryxb,ref=uqbizpssvimcimwntdgnxibradwxryxb>>\n",
      "obj.has_valid_uid = <bound method UIDFieldMixin.has_valid_uid of Packs<name=uqbizpssvimcimwntdgnxibradwxryxb,ref=uqbizpssvimcimwntdgnxibradwxryxb>>\n",
      "obj.id = 235\n",
      "obj.keywords = ugnyumdhdzmezktffhxjomkhvwuwppxf\n",
      "obj.metadata = MetaData(bind=None)\n",
      "obj.name = uqbizpssvimcimwntdgnxibradwxryxb\n",
      "obj.path = xainktthfsbavlnsygjnaqctuelxshfj\n",
      "obj.python_versions = lnotdaqcvmwjndzogpxzovyuincipzca\n",
      "obj.ref = uqbizpssvimcimwntdgnxibradwxryxb\n",
      "obj.system = None\n",
      "obj.uid = pack:uqbizpssvimcimwntdgnxibradwxryxb\n",
      "obj.updated_at = 2019-07-25 01:11:00.740428\n",
      "obj.version = wroqzxuconfwhujucbsgzhhyfqbuhgwu\n"
     ]
    }
   ],
   "source": [
    "debug_dump_exclude(packs_obj)"
   ]
  },
  {
   "cell_type": "code",
   "execution_count": null,
   "metadata": {},
   "outputs": [],
   "source": []
  },
  {
   "cell_type": "code",
   "execution_count": 22,
   "metadata": {},
   "outputs": [],
   "source": [
    "sensors_packs_name = packs_obj.name\n",
    "sensors_class_name = \"FileWatchSensor\"\n",
    "sensors_enabled = True\n",
    "sensors_entry_point = \"file_watch_sensor.py\"\n",
    "sensors_description = \"Sensor which monitors files for new lines\"\n",
    "# sensors_trigger_types = []\n",
    "# sensors_trigger_types.extend(trigger_type_list)\n",
    "# sensors_trigger_types.append(trigger_type1)\n",
    "# sensors_trigger_types.append(trigger_type2)\n",
    "# sensors_trigger_types.append(trigger_type3)\n",
    "#     {\n",
    "#         \"name\": \"file_watch.line\",\n",
    "#         \"pack\": \"linux\",\n",
    "#         \"description\": \"Trigger which indicates a new line has been detected\",\n",
    "#         \"parameters_schema\": {\n",
    "#             \"type\": \"object\",\n",
    "#             \"properties\": {\n",
    "#                 \"file_path\": {\n",
    "#                     \"description\": \"Path to the file to monitor\",\n",
    "#                     \"type\": \"string\",\n",
    "#                     \"required\": True,\n",
    "#                 }\n",
    "#             },\n",
    "#             \"additionalProperties\": False,\n",
    "#         },\n",
    "#         \"payload_schema\": {\n",
    "#             \"type\": \"object\",\n",
    "#             \"properties\": {\n",
    "#                 \"file_path\": {\"type\": \"string\"},\n",
    "#                 \"file_name\": {\"type\": \"string\"},\n",
    "#                 \"line\": {\"type\": \"string\"},\n",
    "#             },\n",
    "#         },\n",
    "#     }\n",
    "# ]\n",
    "\n",
    "from ultron8.api.models.sensors import SensorsCreate\n",
    "\n",
    "# # Step 5 - create sensors\n",
    "sensors_in = SensorsCreate(\n",
    "    class_name=sensors_class_name,\n",
    "    enabled=sensors_enabled,\n",
    "    entry_point=sensors_entry_point,\n",
    "    description=sensors_description,\n",
    "    packs_name=sensors_packs_name,\n",
    "    # trigger_types=sensors_trigger_types,\n",
    ")"
   ]
  },
  {
   "cell_type": "code",
   "execution_count": null,
   "metadata": {},
   "outputs": [],
   "source": []
  },
  {
   "cell_type": "code",
   "execution_count": 23,
   "metadata": {},
   "outputs": [
    {
     "data": {
      "text/plain": [
       "<SensorsCreate id=None class_name='FileWatchSensor' packs_name='uqbizpssvimcimwntdgnxibradwxryxb' ref=None uid=None artifact_uri=None poll_interval=None enabled=True entry_point='file_watch_sensor.py' description='Sensor which monitors files for new lines' trigger_types=[] created_at=None updated_at=None>"
      ]
     },
     "execution_count": 23,
     "metadata": {},
     "output_type": "execute_result"
    }
   ],
   "source": [
    "sensors_in"
   ]
  },
  {
   "cell_type": "code",
   "execution_count": 24,
   "metadata": {},
   "outputs": [
    {
     "name": "stdout",
     "output_type": "stream",
     "text": [
      "obj.Config = <class 'ultron8.api.models.sensors.SensorsBase.Config'>\n",
      "obj.__abstractmethods__ = frozenset()\n",
      "obj.__annotations__ = {'class_name': typing.Union[str, NoneType], 'enabled': typing.Union[bool, NoneType], 'entry_point': typing.Union[str, NoneType], 'description': typing.Union[str, NoneType], 'trigger_types': typing.Union[typing.List[ultron8.api.models.trigger.TriggerTypeInDBModel], NoneType]}\n",
      "obj.__class__ = <class 'ultron8.api.models.sensors.SensorsCreate'>\n",
      "obj.__config__ = <class 'pydantic.main.Config'>\n",
      "obj.__delattr__ = <method-wrapper '__delattr__' of SensorsCreate object at 0x115542318>\n",
      "obj.__dict__ = {}\n",
      "obj.__dir__ = <bound method BaseModel.__dir__ of <SensorsCreate id=None class_name='FileWatchSensor' packs_name='uqbizpssvimcimwntdgnxibradwxryxb' ref=None uid=None artifact_uri=None poll_interval=None enabled=True entry_point='file_watch_sensor.py' description='Sensor which monitors files for new lines' trigger_types=[] created_at=None updated_at=None>>\n",
      "obj.__eq__ = <bound method BaseModel.__eq__ of <SensorsCreate id=None class_name='FileWatchSensor' packs_name='uqbizpssvimcimwntdgnxibradwxryxb' ref=None uid=None artifact_uri=None poll_interval=None enabled=True entry_point='file_watch_sensor.py' description='Sensor which monitors files for new lines' trigger_types=[] created_at=None updated_at=None>>\n",
      "obj.__fields__ = {'id': <Field(id type=int default=None)>, 'class_name': <Field(class_name type=typing.Union[str, NoneType] default=None)>, 'packs_name': <Field(packs_name type=str required)>, 'ref': <Field(ref type=typing.Union[str, NoneType] default=None)>, 'uid': <Field(uid type=typing.Union[str, NoneType] default=None)>, 'artifact_uri': <Field(artifact_uri type=typing.Union[str, NoneType] default=None)>, 'poll_interval': <Field(poll_interval type=typing.Union[str, NoneType] default=None)>, 'enabled': <Field(enabled type=typing.Union[bool, NoneType] default=None)>, 'entry_point': <Field(entry_point type=typing.Union[str, NoneType] default=None)>, 'description': <Field(description type=typing.Union[str, NoneType] default=None)>, 'trigger_types': <Field(trigger_types type=typing.Union[typing.List[ultron8.api.models.trigger.TriggerTypeInDBModel], NoneType] default=[])>, 'created_at': <Field(created_at type=typing.Union[str, NoneType] default=None)>, 'updated_at': <Field(updated_at type=typing.Union[str, NoneType] default=None)>}\n",
      "obj.__fields_set__ = {'class_name', 'description', 'enabled', 'packs_name', 'entry_point'}\n",
      "obj.__format__ = <built-in method __format__ of SensorsCreate object at 0x115542318>\n",
      "obj.__ge__ = <method-wrapper '__ge__' of SensorsCreate object at 0x115542318>\n",
      "obj.__get_validators__ = <bound method BaseModel.__get_validators__ of <class 'ultron8.api.models.sensors.SensorsCreate'>>\n",
      "obj.__getattr__ = <bound method BaseModel.__getattr__ of <SensorsCreate id=None class_name='FileWatchSensor' packs_name='uqbizpssvimcimwntdgnxibradwxryxb' ref=None uid=None artifact_uri=None poll_interval=None enabled=True entry_point='file_watch_sensor.py' description='Sensor which monitors files for new lines' trigger_types=[] created_at=None updated_at=None>>\n",
      "obj.__getattribute__ = <method-wrapper '__getattribute__' of SensorsCreate object at 0x115542318>\n",
      "obj.__getstate__ = <bound method BaseModel.__getstate__ of <SensorsCreate id=None class_name='FileWatchSensor' packs_name='uqbizpssvimcimwntdgnxibradwxryxb' ref=None uid=None artifact_uri=None poll_interval=None enabled=True entry_point='file_watch_sensor.py' description='Sensor which monitors files for new lines' trigger_types=[] created_at=None updated_at=None>>\n",
      "obj.__gt__ = <method-wrapper '__gt__' of SensorsCreate object at 0x115542318>\n",
      "obj.__hash__ = None\n",
      "obj.__init__ = <bound method BaseModel.__init__ of <SensorsCreate id=None class_name='FileWatchSensor' packs_name='uqbizpssvimcimwntdgnxibradwxryxb' ref=None uid=None artifact_uri=None poll_interval=None enabled=True entry_point='file_watch_sensor.py' description='Sensor which monitors files for new lines' trigger_types=[] created_at=None updated_at=None>>\n",
      "obj.__init_subclass__ = <built-in method __init_subclass__ of MetaModel object at 0x7fed52f1a748>\n",
      "obj.__iter__ = <bound method BaseModel.__iter__ of <SensorsCreate id=None class_name='FileWatchSensor' packs_name='uqbizpssvimcimwntdgnxibradwxryxb' ref=None uid=None artifact_uri=None poll_interval=None enabled=True entry_point='file_watch_sensor.py' description='Sensor which monitors files for new lines' trigger_types=[] created_at=None updated_at=None>>\n",
      "obj.__le__ = <method-wrapper '__le__' of SensorsCreate object at 0x115542318>\n",
      "obj.__lt__ = <method-wrapper '__lt__' of SensorsCreate object at 0x115542318>\n",
      "obj.__module__ = ultron8.api.models.sensors\n",
      "obj.__ne__ = <method-wrapper '__ne__' of SensorsCreate object at 0x115542318>\n",
      "obj.__new__ = <built-in method __new__ of type object at 0x106fbd470>\n",
      "obj.__reduce__ = <built-in method __reduce__ of SensorsCreate object at 0x115542318>\n",
      "obj.__reduce_ex__ = <built-in method __reduce_ex__ of SensorsCreate object at 0x115542318>\n",
      "obj.__repr__ = <bound method BaseModel.__repr__ of <SensorsCreate id=None class_name='FileWatchSensor' packs_name='uqbizpssvimcimwntdgnxibradwxryxb' ref=None uid=None artifact_uri=None poll_interval=None enabled=True entry_point='file_watch_sensor.py' description='Sensor which monitors files for new lines' trigger_types=[] created_at=None updated_at=None>>\n",
      "obj.__setattr__ = <bound method BaseModel.__setattr__ of <SensorsCreate id=None class_name='FileWatchSensor' packs_name='uqbizpssvimcimwntdgnxibradwxryxb' ref=None uid=None artifact_uri=None poll_interval=None enabled=True entry_point='file_watch_sensor.py' description='Sensor which monitors files for new lines' trigger_types=[] created_at=None updated_at=None>>\n",
      "obj.__setstate__ = <bound method BaseModel.__setstate__ of <SensorsCreate id=None class_name='FileWatchSensor' packs_name='uqbizpssvimcimwntdgnxibradwxryxb' ref=None uid=None artifact_uri=None poll_interval=None enabled=True entry_point='file_watch_sensor.py' description='Sensor which monitors files for new lines' trigger_types=[] created_at=None updated_at=None>>\n",
      "obj.__sizeof__ = <built-in method __sizeof__ of SensorsCreate object at 0x115542318>\n",
      "obj.__slots__ = ('__values__', '__fields_set__')\n",
      "obj.__str__ = <bound method BaseModel.__str__ of <SensorsCreate id=None class_name='FileWatchSensor' packs_name='uqbizpssvimcimwntdgnxibradwxryxb' ref=None uid=None artifact_uri=None poll_interval=None enabled=True entry_point='file_watch_sensor.py' description='Sensor which monitors files for new lines' trigger_types=[] created_at=None updated_at=None>>\n",
      "obj.__subclasshook__ = <built-in method __subclasshook__ of MetaModel object at 0x7fed52f1a748>\n",
      "obj.__validators__ = {}\n",
      "obj.__values__ = {'id': None, 'class_name': 'FileWatchSensor', 'packs_name': 'uqbizpssvimcimwntdgnxibradwxryxb', 'ref': None, 'uid': None, 'artifact_uri': None, 'poll_interval': None, 'enabled': True, 'entry_point': 'file_watch_sensor.py', 'description': 'Sensor which monitors files for new lines', 'trigger_types': [], 'created_at': None, 'updated_at': None}\n",
      "obj.__weakref__ = None\n",
      "obj._abc_cache = <_weakrefset.WeakSet object at 0x10a9e57b8>\n",
      "obj._abc_negative_cache = <_weakrefset.WeakSet object at 0x10a9a1c18>\n",
      "obj._abc_negative_cache_version = 51\n",
      "obj._abc_registry = <_weakrefset.WeakSet object at 0x10a9e5668>\n",
      "obj._calculate_keys = <bound method BaseModel._calculate_keys of <SensorsCreate id=None class_name='FileWatchSensor' packs_name='uqbizpssvimcimwntdgnxibradwxryxb' ref=None uid=None artifact_uri=None poll_interval=None enabled=True entry_point='file_watch_sensor.py' description='Sensor which monitors files for new lines' trigger_types=[] created_at=None updated_at=None>>\n",
      "obj._custom_root_type = False\n",
      "obj._decompose_class = <bound method BaseModel._decompose_class of <class 'ultron8.api.models.sensors.SensorsCreate'>>\n",
      "obj._get_key_factory = <bound method BaseModel._get_key_factory of <SensorsCreate id=None class_name='FileWatchSensor' packs_name='uqbizpssvimcimwntdgnxibradwxryxb' ref=None uid=None artifact_uri=None poll_interval=None enabled=True entry_point='file_watch_sensor.py' description='Sensor which monitors files for new lines' trigger_types=[] created_at=None updated_at=None>>\n",
      "obj._get_value = <bound method BaseModel._get_value of <class 'ultron8.api.models.sensors.SensorsCreate'>>\n",
      "obj._iter = <bound method BaseModel._iter of <SensorsCreate id=None class_name='FileWatchSensor' packs_name='uqbizpssvimcimwntdgnxibradwxryxb' ref=None uid=None artifact_uri=None poll_interval=None enabled=True entry_point='file_watch_sensor.py' description='Sensor which monitors files for new lines' trigger_types=[] created_at=None updated_at=None>>\n",
      "obj._json_encoder = <function pydantic_encoder at 0x10a550d90>\n",
      "obj._schema_cache = {}\n",
      "obj.artifact_uri = None\n",
      "obj.class_name = FileWatchSensor\n",
      "obj.construct = <bound method BaseModel.construct of <class 'ultron8.api.models.sensors.SensorsCreate'>>\n",
      "obj.copy = <bound method BaseModel.copy of <SensorsCreate id=None class_name='FileWatchSensor' packs_name='uqbizpssvimcimwntdgnxibradwxryxb' ref=None uid=None artifact_uri=None poll_interval=None enabled=True entry_point='file_watch_sensor.py' description='Sensor which monitors files for new lines' trigger_types=[] created_at=None updated_at=None>>\n",
      "obj.created_at = None\n",
      "obj.description = Sensor which monitors files for new lines\n",
      "obj.dict = <bound method BaseModel.dict of <SensorsCreate id=None class_name='FileWatchSensor' packs_name='uqbizpssvimcimwntdgnxibradwxryxb' ref=None uid=None artifact_uri=None poll_interval=None enabled=True entry_point='file_watch_sensor.py' description='Sensor which monitors files for new lines' trigger_types=[] created_at=None updated_at=None>>\n",
      "obj.enabled = True\n",
      "obj.entry_point = file_watch_sensor.py\n",
      "obj.fields = {'id': <Field(id type=int default=None)>, 'class_name': <Field(class_name type=typing.Union[str, NoneType] default=None)>, 'packs_name': <Field(packs_name type=str required)>, 'ref': <Field(ref type=typing.Union[str, NoneType] default=None)>, 'uid': <Field(uid type=typing.Union[str, NoneType] default=None)>, 'artifact_uri': <Field(artifact_uri type=typing.Union[str, NoneType] default=None)>, 'poll_interval': <Field(poll_interval type=typing.Union[str, NoneType] default=None)>, 'enabled': <Field(enabled type=typing.Union[bool, NoneType] default=None)>, 'entry_point': <Field(entry_point type=typing.Union[str, NoneType] default=None)>, 'description': <Field(description type=typing.Union[str, NoneType] default=None)>, 'trigger_types': <Field(trigger_types type=typing.Union[typing.List[ultron8.api.models.trigger.TriggerTypeInDBModel], NoneType] default=[])>, 'created_at': <Field(created_at type=typing.Union[str, NoneType] default=None)>, 'updated_at': <Field(updated_at type=typing.Union[str, NoneType] default=None)>}\n",
      "obj.from_orm = <bound method BaseModel.from_orm of <class 'ultron8.api.models.sensors.SensorsCreate'>>\n",
      "obj.id = None\n",
      "obj.json = <bound method BaseModel.json of <SensorsCreate id=None class_name='FileWatchSensor' packs_name='uqbizpssvimcimwntdgnxibradwxryxb' ref=None uid=None artifact_uri=None poll_interval=None enabled=True entry_point='file_watch_sensor.py' description='Sensor which monitors files for new lines' trigger_types=[] created_at=None updated_at=None>>\n",
      "obj.packs_name = uqbizpssvimcimwntdgnxibradwxryxb\n",
      "obj.parse_file = <bound method BaseModel.parse_file of <class 'ultron8.api.models.sensors.SensorsCreate'>>\n",
      "obj.parse_obj = <bound method BaseModel.parse_obj of <class 'ultron8.api.models.sensors.SensorsCreate'>>\n",
      "obj.parse_raw = <bound method BaseModel.parse_raw of <class 'ultron8.api.models.sensors.SensorsCreate'>>\n",
      "obj.poll_interval = None\n",
      "obj.ref = None\n",
      "obj.schema = <bound method BaseModel.schema of <class 'ultron8.api.models.sensors.SensorsCreate'>>\n",
      "obj.schema_json = <bound method BaseModel.schema_json of <class 'ultron8.api.models.sensors.SensorsCreate'>>\n",
      "obj.to_string = <bound method BaseModel.to_string of <SensorsCreate id=None class_name='FileWatchSensor' packs_name='uqbizpssvimcimwntdgnxibradwxryxb' ref=None uid=None artifact_uri=None poll_interval=None enabled=True entry_point='file_watch_sensor.py' description='Sensor which monitors files for new lines' trigger_types=[] created_at=None updated_at=None>>\n",
      "obj.trigger_types = []\n",
      "obj.uid = None\n",
      "obj.update_forward_refs = <bound method BaseModel.update_forward_refs of <class 'ultron8.api.models.sensors.SensorsCreate'>>\n",
      "obj.updated_at = None\n",
      "obj.validate = <bound method BaseModel.validate of <class 'ultron8.api.models.sensors.SensorsCreate'>>\n"
     ]
    }
   ],
   "source": [
    "debug_dump_exclude(sensors_in)"
   ]
  },
  {
   "cell_type": "code",
   "execution_count": null,
   "metadata": {},
   "outputs": [],
   "source": [
    "# sensors = crud.sensors.create(db_session, sensors_in=sensors_in, packs_id=packs_obj.id)"
   ]
  }
 ],
 "metadata": {
  "kernelspec": {
   "display_name": "Python 3",
   "language": "python",
   "name": "python3"
  },
  "language_info": {
   "codemirror_mode": {
    "name": "ipython",
    "version": 3
   },
   "file_extension": ".py",
   "mimetype": "text/x-python",
   "name": "python",
   "nbconvert_exporter": "python",
   "pygments_lexer": "ipython3",
   "version": "3.6.8"
  },
  "toc": {
   "base_numbering": 1,
   "nav_menu": {},
   "number_sections": true,
   "sideBar": true,
   "skip_h1_title": false,
   "title_cell": "Table of Contents",
   "title_sidebar": "Contents",
   "toc_cell": false,
   "toc_position": {},
   "toc_section_display": true,
   "toc_window_display": false
  },
  "varInspector": {
   "cols": {
    "lenName": 16,
    "lenType": 16,
    "lenVar": 40
   },
   "kernels_config": {
    "python": {
     "delete_cmd_postfix": "",
     "delete_cmd_prefix": "del ",
     "library": "var_list.py",
     "varRefreshCmd": "print(var_dic_list())"
    },
    "r": {
     "delete_cmd_postfix": ") ",
     "delete_cmd_prefix": "rm(",
     "library": "var_list.r",
     "varRefreshCmd": "cat(var_dic_list()) "
    }
   },
   "types_to_exclude": [
    "module",
    "function",
    "builtin_function_or_method",
    "instance",
    "_Feature"
   ],
   "window_display": false
  }
 },
 "nbformat": 4,
 "nbformat_minor": 2
}
