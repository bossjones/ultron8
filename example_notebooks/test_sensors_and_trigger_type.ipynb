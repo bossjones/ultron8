{
 "cells": [
  {
   "cell_type": "markdown",
   "metadata": {},
   "source": [
    "# Step 1: Inital db setup"
   ]
  },
  {
   "cell_type": "code",
   "execution_count": 1,
   "metadata": {},
   "outputs": [],
   "source": [
    "# SOURCE: https://ndres.me/post/best-jupyter-notebook-extensions/\n",
    "# autoreload: Autoreloads external files without having to restart the notebook. To enable it:\n",
    "\n",
    "%load_ext autoreload\n",
    "%autoreload 2\n",
    "\n",
    "from IPython.core.interactiveshell import InteractiveShell\n",
    "InteractiveShell.ast_node_interactivity = \"all\""
   ]
  },
  {
   "cell_type": "code",
   "execution_count": 2,
   "metadata": {},
   "outputs": [],
   "source": [
    "# Initial - Setup environment vars before testing anything\n",
    "import os\n",
    "from sqlalchemy import inspect\n",
    "\n",
    "# import better_exceptions; better_exceptions.hook()\n",
    "\n",
    "import sys\n",
    "\n",
    "from IPython.core.debugger import Tracer  # noqa\n",
    "from IPython.core import ultratb\n",
    "\n",
    "sys.excepthook = ultratb.FormattedTB(\n",
    "    mode=\"Verbose\", color_scheme=\"Linux\", call_pdb=True, ostream=sys.__stdout__\n",
    ")\n",
    "\n",
    "os.environ[\"DEBUG\"] = \"1\"\n",
    "os.environ[\"TESTING\"] = \"0\"\n",
    "os.environ[\"BETTER_EXCEPTIONS\"] = \"1\"\n",
    "\n",
    "# os.environ[\"DATABASE_URL\"] = \"sqlite:///:memory:\"\n",
    "# os.environ[\"TEST_DATABASE_URL\"] = \"sqlite:///:memory:\"\n",
    "\n",
    "os.environ[\"DATABASE_URL\"] = \"sqlite:///sensor_test.db\"\n",
    "os.environ[\"TEST_DATABASE_URL\"] = \"sqlite:///sensor_test.db\"\n",
    "\n",
    "def debug_dump(obj):\n",
    "    for attr in dir(obj):\n",
    "        if hasattr(obj, attr):\n",
    "            print(\"obj.%s = %s\" % (attr, getattr(obj, attr)))\n",
    "            \n",
    "def debug_dump_exclude(obj, exclude=[\"__builtins__\", \"__doc__\"]):\n",
    "    for attr in dir(obj):\n",
    "        if hasattr(obj, attr):\n",
    "            if attr not in exclude:\n",
    "                print(\"obj.%s = %s\" % (attr, getattr(obj, attr)))"
   ]
  },
  {
   "cell_type": "code",
   "execution_count": null,
   "metadata": {},
   "outputs": [],
   "source": []
  },
  {
   "cell_type": "code",
   "execution_count": null,
   "metadata": {},
   "outputs": [],
   "source": []
  },
  {
   "cell_type": "code",
   "execution_count": 3,
   "metadata": {},
   "outputs": [],
   "source": [
    "# Initalize database and create schema etc\n",
    "\n",
    "import logging\n",
    "\n",
    "from tenacity import after_log, before_log, retry, stop_after_attempt, wait_fixed\n",
    "\n",
    "from ultron8.api.db.u_sqlite.session import db_session\n",
    "\n",
    "logging.basicConfig(level=logging.INFO)\n",
    "logger = logging.getLogger(__name__)\n",
    "\n",
    "max_tries = 60 * 5  # 5 minutes\n",
    "wait_seconds = 1\n",
    "\n",
    "@retry(\n",
    "    stop=stop_after_attempt(max_tries),\n",
    "    wait=wait_fixed(wait_seconds),\n",
    "    before=before_log(logger, logging.INFO),\n",
    "    after=after_log(logger, logging.WARN),\n",
    ")\n",
    "def init():\n",
    "    try:\n",
    "        # Try to create session to check if DB is awake\n",
    "        db_session.execute(\"SELECT 1\")\n",
    "    except Exception as e:\n",
    "        logger.error(e)\n",
    "        raise e\n"
   ]
  },
  {
   "cell_type": "code",
   "execution_count": 4,
   "metadata": {},
   "outputs": [],
   "source": [
    "# Get sqlalchemy classes/objects\n",
    "\n",
    "from ultron8.api.db.u_sqlite.init_db import init_db\n",
    "from ultron8.api.db.u_sqlite.session import db_session, engine, Session\n",
    "\n",
    "# make sure all SQL Alchemy models are imported before initializing DB\n",
    "# otherwise, SQL Alchemy might fail to initialize properly relationships\n",
    "# for more details: https://github.com/tiangolo/full-stack-fastapi-postgresql/issues/28\n",
    "from ultron8.api.db.u_sqlite.base import Base\n",
    "\n",
    "import pandas as pd"
   ]
  },
  {
   "cell_type": "markdown",
   "metadata": {},
   "source": [
    "# Import SQLAlchemy data classes"
   ]
  },
  {
   "cell_type": "code",
   "execution_count": 5,
   "metadata": {},
   "outputs": [],
   "source": [
    "from ultron8.api.db_models.packs import Packs\n",
    "# from ultron8.api.db_models.action import Action\n",
    "# from ultron8.api.db_models.guid import Guid\n",
    "# from ultron8.api.db_models.item import Item\n",
    "\n",
    "# from ultron8.api.db_models.rule import RuleTypeParameter, RuleType, Rules\n",
    "from ultron8.api.db_models.sensors import Sensors\n",
    "# from ultron8.api.db_models.timer import TimeDB\n",
    "from ultron8.api.db_models.trigger import TriggerTypeDB\n",
    "# from ultron8.api.db_models.trigger import TriggerTypeDB, Trigger, TriggerInstanceDB\n",
    "# from ultron8.api.db_models.user import User"
   ]
  },
  {
   "cell_type": "code",
   "execution_count": 6,
   "metadata": {},
   "outputs": [
    {
     "name": "stdout",
     "output_type": "stream",
     "text": [
      "2019-08-24 16:11:47,581 INFO sqlalchemy.engine.base.Engine SELECT CAST('test plain returns' AS VARCHAR(60)) AS anon_1\n"
     ]
    },
    {
     "name": "stderr",
     "output_type": "stream",
     "text": [
      "INFO:sqlalchemy.engine.base.Engine:SELECT CAST('test plain returns' AS VARCHAR(60)) AS anon_1\n"
     ]
    },
    {
     "name": "stdout",
     "output_type": "stream",
     "text": [
      "2019-08-24 16:11:47,583 INFO sqlalchemy.engine.base.Engine ()\n"
     ]
    },
    {
     "name": "stderr",
     "output_type": "stream",
     "text": [
      "INFO:sqlalchemy.engine.base.Engine:()\n"
     ]
    },
    {
     "name": "stdout",
     "output_type": "stream",
     "text": [
      "2019-08-24 16:11:47,585 INFO sqlalchemy.engine.base.Engine SELECT CAST('test unicode returns' AS VARCHAR(60)) AS anon_1\n"
     ]
    },
    {
     "name": "stderr",
     "output_type": "stream",
     "text": [
      "INFO:sqlalchemy.engine.base.Engine:SELECT CAST('test unicode returns' AS VARCHAR(60)) AS anon_1\n"
     ]
    },
    {
     "name": "stdout",
     "output_type": "stream",
     "text": [
      "2019-08-24 16:11:47,587 INFO sqlalchemy.engine.base.Engine ()\n"
     ]
    },
    {
     "name": "stderr",
     "output_type": "stream",
     "text": [
      "INFO:sqlalchemy.engine.base.Engine:()\n"
     ]
    },
    {
     "name": "stdout",
     "output_type": "stream",
     "text": [
      "2019-08-24 16:11:47,592 INFO sqlalchemy.engine.base.Engine PRAGMA table_info(\"item\")\n"
     ]
    },
    {
     "name": "stderr",
     "output_type": "stream",
     "text": [
      "INFO:sqlalchemy.engine.base.Engine:PRAGMA table_info(\"item\")\n"
     ]
    },
    {
     "name": "stdout",
     "output_type": "stream",
     "text": [
      "2019-08-24 16:11:47,596 INFO sqlalchemy.engine.base.Engine ()\n"
     ]
    },
    {
     "name": "stderr",
     "output_type": "stream",
     "text": [
      "INFO:sqlalchemy.engine.base.Engine:()\n"
     ]
    },
    {
     "name": "stdout",
     "output_type": "stream",
     "text": [
      "2019-08-24 16:11:47,601 INFO sqlalchemy.engine.base.Engine PRAGMA table_info(\"user\")\n"
     ]
    },
    {
     "name": "stderr",
     "output_type": "stream",
     "text": [
      "INFO:sqlalchemy.engine.base.Engine:PRAGMA table_info(\"user\")\n"
     ]
    },
    {
     "name": "stdout",
     "output_type": "stream",
     "text": [
      "2019-08-24 16:11:47,602 INFO sqlalchemy.engine.base.Engine ()\n"
     ]
    },
    {
     "name": "stderr",
     "output_type": "stream",
     "text": [
      "INFO:sqlalchemy.engine.base.Engine:()\n"
     ]
    },
    {
     "name": "stdout",
     "output_type": "stream",
     "text": [
      "2019-08-24 16:11:47,606 INFO sqlalchemy.engine.base.Engine PRAGMA table_info(\"packs\")\n"
     ]
    },
    {
     "name": "stderr",
     "output_type": "stream",
     "text": [
      "INFO:sqlalchemy.engine.base.Engine:PRAGMA table_info(\"packs\")\n"
     ]
    },
    {
     "name": "stdout",
     "output_type": "stream",
     "text": [
      "2019-08-24 16:11:47,608 INFO sqlalchemy.engine.base.Engine ()\n"
     ]
    },
    {
     "name": "stderr",
     "output_type": "stream",
     "text": [
      "INFO:sqlalchemy.engine.base.Engine:()\n"
     ]
    },
    {
     "name": "stdout",
     "output_type": "stream",
     "text": [
      "2019-08-24 16:11:47,611 INFO sqlalchemy.engine.base.Engine PRAGMA table_info(\"actions\")\n"
     ]
    },
    {
     "name": "stderr",
     "output_type": "stream",
     "text": [
      "INFO:sqlalchemy.engine.base.Engine:PRAGMA table_info(\"actions\")\n"
     ]
    },
    {
     "name": "stdout",
     "output_type": "stream",
     "text": [
      "2019-08-24 16:11:47,613 INFO sqlalchemy.engine.base.Engine ()\n"
     ]
    },
    {
     "name": "stderr",
     "output_type": "stream",
     "text": [
      "INFO:sqlalchemy.engine.base.Engine:()\n"
     ]
    },
    {
     "name": "stdout",
     "output_type": "stream",
     "text": [
      "2019-08-24 16:11:47,616 INFO sqlalchemy.engine.base.Engine PRAGMA table_info(\"sensors_trigger_types_association\")\n"
     ]
    },
    {
     "name": "stderr",
     "output_type": "stream",
     "text": [
      "INFO:sqlalchemy.engine.base.Engine:PRAGMA table_info(\"sensors_trigger_types_association\")\n"
     ]
    },
    {
     "name": "stdout",
     "output_type": "stream",
     "text": [
      "2019-08-24 16:11:47,618 INFO sqlalchemy.engine.base.Engine ()\n"
     ]
    },
    {
     "name": "stderr",
     "output_type": "stream",
     "text": [
      "INFO:sqlalchemy.engine.base.Engine:()\n"
     ]
    },
    {
     "name": "stdout",
     "output_type": "stream",
     "text": [
      "2019-08-24 16:11:47,621 INFO sqlalchemy.engine.base.Engine PRAGMA table_info(\"trigger_tags\")\n"
     ]
    },
    {
     "name": "stderr",
     "output_type": "stream",
     "text": [
      "INFO:sqlalchemy.engine.base.Engine:PRAGMA table_info(\"trigger_tags\")\n"
     ]
    },
    {
     "name": "stdout",
     "output_type": "stream",
     "text": [
      "2019-08-24 16:11:47,623 INFO sqlalchemy.engine.base.Engine ()\n"
     ]
    },
    {
     "name": "stderr",
     "output_type": "stream",
     "text": [
      "INFO:sqlalchemy.engine.base.Engine:()\n"
     ]
    },
    {
     "name": "stdout",
     "output_type": "stream",
     "text": [
      "2019-08-24 16:11:47,625 INFO sqlalchemy.engine.base.Engine PRAGMA table_info(\"trigger_types\")\n"
     ]
    },
    {
     "name": "stderr",
     "output_type": "stream",
     "text": [
      "INFO:sqlalchemy.engine.base.Engine:PRAGMA table_info(\"trigger_types\")\n"
     ]
    },
    {
     "name": "stdout",
     "output_type": "stream",
     "text": [
      "2019-08-24 16:11:47,627 INFO sqlalchemy.engine.base.Engine ()\n"
     ]
    },
    {
     "name": "stderr",
     "output_type": "stream",
     "text": [
      "INFO:sqlalchemy.engine.base.Engine:()\n"
     ]
    },
    {
     "name": "stdout",
     "output_type": "stream",
     "text": [
      "2019-08-24 16:11:47,630 INFO sqlalchemy.engine.base.Engine PRAGMA table_info(\"triggers\")\n"
     ]
    },
    {
     "name": "stderr",
     "output_type": "stream",
     "text": [
      "INFO:sqlalchemy.engine.base.Engine:PRAGMA table_info(\"triggers\")\n"
     ]
    },
    {
     "name": "stdout",
     "output_type": "stream",
     "text": [
      "2019-08-24 16:11:47,631 INFO sqlalchemy.engine.base.Engine ()\n"
     ]
    },
    {
     "name": "stderr",
     "output_type": "stream",
     "text": [
      "INFO:sqlalchemy.engine.base.Engine:()\n"
     ]
    },
    {
     "name": "stdout",
     "output_type": "stream",
     "text": [
      "2019-08-24 16:11:47,634 INFO sqlalchemy.engine.base.Engine PRAGMA table_info(\"trigger_events\")\n"
     ]
    },
    {
     "name": "stderr",
     "output_type": "stream",
     "text": [
      "INFO:sqlalchemy.engine.base.Engine:PRAGMA table_info(\"trigger_events\")\n"
     ]
    },
    {
     "name": "stdout",
     "output_type": "stream",
     "text": [
      "2019-08-24 16:11:47,635 INFO sqlalchemy.engine.base.Engine ()\n"
     ]
    },
    {
     "name": "stderr",
     "output_type": "stream",
     "text": [
      "INFO:sqlalchemy.engine.base.Engine:()\n"
     ]
    },
    {
     "name": "stdout",
     "output_type": "stream",
     "text": [
      "2019-08-24 16:11:47,638 INFO sqlalchemy.engine.base.Engine PRAGMA table_info(\"sensors\")\n"
     ]
    },
    {
     "name": "stderr",
     "output_type": "stream",
     "text": [
      "INFO:sqlalchemy.engine.base.Engine:PRAGMA table_info(\"sensors\")\n"
     ]
    },
    {
     "name": "stdout",
     "output_type": "stream",
     "text": [
      "2019-08-24 16:11:47,639 INFO sqlalchemy.engine.base.Engine ()\n"
     ]
    },
    {
     "name": "stderr",
     "output_type": "stream",
     "text": [
      "INFO:sqlalchemy.engine.base.Engine:()\n"
     ]
    },
    {
     "name": "stdout",
     "output_type": "stream",
     "text": [
      "2019-08-24 16:11:47,642 INFO sqlalchemy.engine.base.Engine PRAGMA table_info(\"guid_tracker\")\n"
     ]
    },
    {
     "name": "stderr",
     "output_type": "stream",
     "text": [
      "INFO:sqlalchemy.engine.base.Engine:PRAGMA table_info(\"guid_tracker\")\n"
     ]
    },
    {
     "name": "stdout",
     "output_type": "stream",
     "text": [
      "2019-08-24 16:11:47,643 INFO sqlalchemy.engine.base.Engine ()\n"
     ]
    },
    {
     "name": "stderr",
     "output_type": "stream",
     "text": [
      "INFO:sqlalchemy.engine.base.Engine:()\n"
     ]
    }
   ],
   "source": [
    "# Tables should be created with Alembic migrations\n",
    "# But if you don't want to use migrations, create\n",
    "# the tables un-commenting the next line\n",
    "# 2 - generate database schema\n",
    "Base.metadata.create_all(bind=engine)\n",
    "\n",
    "# 3 - create a new session\n",
    "session = Session()"
   ]
  },
  {
   "cell_type": "code",
   "execution_count": 7,
   "metadata": {},
   "outputs": [
    {
     "name": "stderr",
     "output_type": "stream",
     "text": [
      "INFO:__main__:Initializing service\n",
      "INFO:__main__:Starting call to '__main__.init', this is the 1st time calling it.\n"
     ]
    },
    {
     "name": "stdout",
     "output_type": "stream",
     "text": [
      "2019-08-24 16:11:47,683 INFO sqlalchemy.engine.base.Engine BEGIN (implicit)\n"
     ]
    },
    {
     "name": "stderr",
     "output_type": "stream",
     "text": [
      "INFO:sqlalchemy.engine.base.Engine:BEGIN (implicit)\n"
     ]
    },
    {
     "name": "stdout",
     "output_type": "stream",
     "text": [
      "2019-08-24 16:11:47,685 INFO sqlalchemy.engine.base.Engine SELECT 1\n"
     ]
    },
    {
     "name": "stderr",
     "output_type": "stream",
     "text": [
      "INFO:sqlalchemy.engine.base.Engine:SELECT 1\n"
     ]
    },
    {
     "name": "stdout",
     "output_type": "stream",
     "text": [
      "2019-08-24 16:11:47,688 INFO sqlalchemy.engine.base.Engine ()\n"
     ]
    },
    {
     "name": "stderr",
     "output_type": "stream",
     "text": [
      "INFO:sqlalchemy.engine.base.Engine:()\n",
      "INFO:__main__:Service finished initializing\n"
     ]
    }
   ],
   "source": [
    "# Try initializing everything now\n",
    "logger.info(\"Initializing service\")\n",
    "init()\n",
    "logger.info(\"Service finished initializing\")\n",
    "\n",
    "\n"
   ]
  },
  {
   "cell_type": "code",
   "execution_count": 8,
   "metadata": {},
   "outputs": [
    {
     "name": "stderr",
     "output_type": "stream",
     "text": [
      "INFO:__main__:Creating initial data\n"
     ]
    },
    {
     "name": "stdout",
     "output_type": "stream",
     "text": [
      "2019-08-24 16:11:47,737 INFO sqlalchemy.engine.base.Engine SELECT user.id AS user_id, user.full_name AS user_full_name, user.email AS user_email, user.hashed_password AS user_hashed_password, user.is_active AS user_is_active, user.is_superuser AS user_is_superuser \n",
      "FROM user \n",
      "WHERE user.email = ?\n",
      " LIMIT ? OFFSET ?\n"
     ]
    },
    {
     "name": "stderr",
     "output_type": "stream",
     "text": [
      "INFO:sqlalchemy.engine.base.Engine:SELECT user.id AS user_id, user.full_name AS user_full_name, user.email AS user_email, user.hashed_password AS user_hashed_password, user.is_active AS user_is_active, user.is_superuser AS user_is_superuser \n",
      "FROM user \n",
      "WHERE user.email = ?\n",
      " LIMIT ? OFFSET ?\n"
     ]
    },
    {
     "name": "stdout",
     "output_type": "stream",
     "text": [
      "2019-08-24 16:11:47,739 INFO sqlalchemy.engine.base.Engine ('admin@ultron8.com', 1, 0)\n"
     ]
    },
    {
     "name": "stderr",
     "output_type": "stream",
     "text": [
      "INFO:sqlalchemy.engine.base.Engine:('admin@ultron8.com', 1, 0)\n",
      "INFO:__main__:Initial data created\n"
     ]
    }
   ],
   "source": [
    "logger.info(\"Creating initial data\")\n",
    "init_db(db_session)\n",
    "logger.info(\"Initial data created\")"
   ]
  },
  {
   "cell_type": "code",
   "execution_count": 9,
   "metadata": {},
   "outputs": [],
   "source": [
    "# debug_dump(Action)"
   ]
  },
  {
   "cell_type": "markdown",
   "metadata": {},
   "source": [
    "# Step 2: Now That we have a working sqlite session, let's try playing w/ our various db_models classes etc"
   ]
  },
  {
   "cell_type": "code",
   "execution_count": 10,
   "metadata": {},
   "outputs": [],
   "source": [
    "# Step A. Create a pack ( which has actions, triggers, and sensors associated with it )"
   ]
  },
  {
   "cell_type": "markdown",
   "metadata": {},
   "source": [
    "# Step 3: Import each of the db_models"
   ]
  },
  {
   "cell_type": "code",
   "execution_count": 11,
   "metadata": {},
   "outputs": [],
   "source": [
    "# from ultron8.api.db_models.action import Action\n",
    "# from ultron8.api.db_models.guid import Guid\n",
    "# from ultron8.api.db_models.item import Item\n",
    "# from ultron8.api.db_models.packs import Packs\n",
    "# from ultron8.api.db_models.rule import RuleTypeParameter, RuleType, Rules\n",
    "# from ultron8.api.db_models.sensors import Sensors\n",
    "# # from ultron8.api.db_models.timer import TimeDB\n",
    "# from ultron8.api.db_models.trigger import TriggerType, Trigger, TriggerInstanceDB\n",
    "# from ultron8.api.db_models.user import User"
   ]
  },
  {
   "cell_type": "markdown",
   "metadata": {},
   "source": [
    "# Step 4: Ok, let us try inserting, and updating data in the database"
   ]
  },
  {
   "cell_type": "markdown",
   "metadata": {},
   "source": [
    "# PACKS"
   ]
  },
  {
   "cell_type": "code",
   "execution_count": 12,
   "metadata": {},
   "outputs": [
    {
     "data": {
      "text/plain": [
       "Packs<name=linux,ref=linux>"
      ]
     },
     "execution_count": 12,
     "metadata": {},
     "output_type": "execute_result"
    }
   ],
   "source": [
    "##########################################\n",
    "# packs\n",
    "##########################################\n",
    "\n",
    "# p = Packs(name='linux', description='Generic Linux actions', keywords='linux', version='0.1.0', python_versions='3', author='Jarvis', email='info@theblacktonystark.com', contributors='bossjones', files='./tests/fixtures/simple/packs/linux', path=\"./tests/fixtures/simple/packs/linux\", actions=[\n",
    "#     Action(name=\"check_loadavg\", runner_type=\"remote-shell-script\", description=\"Check CPU Load Average on a Host\", enabled=True, entry_point=\"checks/check_loadavg.py\", parameters='{\"period\": {\"enum\": [\"1\",\"5\",\"15\",\"all\"], \"type\": \"string\", \"description\": \"Time period for load avg: 1,5,15 minutes, or \\'all\\'\", \"default\": \"all\", \"position\": 0}}')\n",
    "# ])\n",
    "\n",
    "# Create - packs\n",
    "pack_linux = Packs(\n",
    "    name=\"linux\",\n",
    "    description=\"Generic Linux actions\",\n",
    "    keywords=\"linux\",\n",
    "    version=\"0.1.0\",\n",
    "    python_versions=\"3\",\n",
    "    author=\"Jarvis\",\n",
    "    email=\"info@theblacktonystark.com\",\n",
    "    contributors=\"bossjones\",\n",
    "    files=\"./tests/fixtures/simple/packs/linux\",\n",
    "    path=\"./tests/fixtures/simple/packs/linux\",\n",
    "    ref=\"linux\"\n",
    ")\n",
    "\n",
    "pack_linux"
   ]
  },
  {
   "cell_type": "code",
   "execution_count": 13,
   "metadata": {},
   "outputs": [],
   "source": [
    "# Create - actions\n",
    "\n",
    "# action_check_loadavg = Action(\n",
    "#     name=\"check_loadavg\",\n",
    "#     runner_type=\"remote-shell-script\",\n",
    "#     description=\"Check CPU Load Average on a Host\",\n",
    "#     enabled=True,\n",
    "#     entry_point=\"checks/check_loadavg.py\",\n",
    "#     parameters='{\"period\": {\"enum\": [\"1\",\"5\",\"15\",\"all\"], \"type\": \"string\", \"description\": \"Time period for load avg: 1,5,15 minutes, or \\'all\\'\", \"default\": \"all\", \"position\": 0}}',\n",
    "#     pack=pack_linux\n",
    "# )"
   ]
  },
  {
   "cell_type": "code",
   "execution_count": 14,
   "metadata": {},
   "outputs": [],
   "source": [
    "from ultron8.api.models.trigger import TriggerTypeCreate\n",
    "\n",
    "trigger_type_dict = {\n",
    "    \"name\": \"file_watch.line\",\n",
    "    \"packs_name\": \"linux\",\n",
    "    \"description\": \"Trigger which indicates a new line has been detected\",\n",
    "    \"parameters_schema\": {\n",
    "        \"type\": \"object\",\n",
    "        \"properties\": {\n",
    "            \"file_path\": {\n",
    "                \"description\": \"Path to the file to monitor\",\n",
    "                \"type\": \"string\",\n",
    "                \"required\": True\n",
    "            }\n",
    "        },\n",
    "        \"additionalProperties\": False\n",
    "    },\n",
    "    \"payload_schema\": {\n",
    "        \"type\": \"object\",\n",
    "        \"properties\": {\n",
    "            \"file_path\": {\n",
    "                \"type\": \"string\"\n",
    "            },\n",
    "            \"file_name\": {\n",
    "                \"type\": \"string\"\n",
    "            },\n",
    "            \"line\": {\n",
    "                \"type\": \"string\"\n",
    "            }\n",
    "        }\n",
    "    }\n",
    "}\n",
    "\n",
    "trigger_type_obj = TriggerTypeCreate(**trigger_type_dict)"
   ]
  },
  {
   "cell_type": "code",
   "execution_count": 20,
   "metadata": {},
   "outputs": [
    {
     "name": "stdout",
     "output_type": "stream",
     "text": [
      "obj.Config = <class 'ultron8.api.models.trigger.TriggerTypeBase.Config'>\n",
      "obj.__abstractmethods__ = frozenset()\n",
      "obj.__annotations__ = {'id': <class 'int'>, 'uid': <class 'str'>, 'name': <class 'str'>, 'packs_name': <class 'str'>, 'parameters_schema': typing.Union[typing.Any, NoneType], 'payload_schema': typing.Union[typing.Any, NoneType], 'metadata_file': typing.Union[str, NoneType]}\n",
      "obj.__class__ = <class 'ultron8.api.models.trigger.TriggerTypeCreate'>\n",
      "obj.__config__ = <class 'pydantic.main.Config'>\n",
      "obj.__delattr__ = <method-wrapper '__delattr__' of TriggerTypeCreate object at 0x11af1fb40>\n",
      "obj.__dict__ = {}\n",
      "obj.__dir__ = <bound method BaseModel.__dir__ of <TriggerTypeCreate uid=None name='file_watch.line' ref=None packs_name='linux' description='Trigger which indicates a new line has been detected' parameters_schema={'type': 'object', 'properties': {'file_path': {'description': 'Path to the fil… payload_schema={'type': 'object', 'properties': {'file_path': {'type': 'string'}, 'file_name':… id=None metadata_file=None>>\n",
      "obj.__eq__ = <bound method BaseModel.__eq__ of <TriggerTypeCreate uid=None name='file_watch.line' ref=None packs_name='linux' description='Trigger which indicates a new line has been detected' parameters_schema={'type': 'object', 'properties': {'file_path': {'description': 'Path to the fil… payload_schema={'type': 'object', 'properties': {'file_path': {'type': 'string'}, 'file_name':… id=None metadata_file=None>>\n",
      "obj.__fields__ = {'uid': <Field(uid type=str default=None)>, 'name': <Field(name type=str required)>, 'ref': <Field(ref type=typing.Union[str, NoneType] default=None)>, 'packs_name': <Field(packs_name type=str required)>, 'description': <Field(description type=typing.Union[str, NoneType] default=None)>, 'parameters_schema': <Field(parameters_schema type=typing.Union[typing.Any, NoneType] default=None)>, 'payload_schema': <Field(payload_schema type=typing.Union[typing.Any, NoneType] default=None)>, 'id': <Field(id type=int default=None)>, 'metadata_file': <Field(metadata_file type=typing.Union[str, NoneType] default=None)>}\n",
      "obj.__fields_set__ = {'description', 'parameters_schema', 'name', 'packs_name', 'payload_schema'}\n",
      "obj.__format__ = <built-in method __format__ of TriggerTypeCreate object at 0x11af1fb40>\n",
      "obj.__ge__ = <method-wrapper '__ge__' of TriggerTypeCreate object at 0x11af1fb40>\n",
      "obj.__get_validators__ = <bound method BaseModel.__get_validators__ of <class 'ultron8.api.models.trigger.TriggerTypeCreate'>>\n",
      "obj.__getattr__ = <bound method BaseModel.__getattr__ of <TriggerTypeCreate uid=None name='file_watch.line' ref=None packs_name='linux' description='Trigger which indicates a new line has been detected' parameters_schema={'type': 'object', 'properties': {'file_path': {'description': 'Path to the fil… payload_schema={'type': 'object', 'properties': {'file_path': {'type': 'string'}, 'file_name':… id=None metadata_file=None>>\n",
      "obj.__getattribute__ = <method-wrapper '__getattribute__' of TriggerTypeCreate object at 0x11af1fb40>\n",
      "obj.__getstate__ = <bound method BaseModel.__getstate__ of <TriggerTypeCreate uid=None name='file_watch.line' ref=None packs_name='linux' description='Trigger which indicates a new line has been detected' parameters_schema={'type': 'object', 'properties': {'file_path': {'description': 'Path to the fil… payload_schema={'type': 'object', 'properties': {'file_path': {'type': 'string'}, 'file_name':… id=None metadata_file=None>>\n",
      "obj.__gt__ = <method-wrapper '__gt__' of TriggerTypeCreate object at 0x11af1fb40>\n",
      "obj.__hash__ = None\n",
      "obj.__init__ = <bound method BaseModel.__init__ of <TriggerTypeCreate uid=None name='file_watch.line' ref=None packs_name='linux' description='Trigger which indicates a new line has been detected' parameters_schema={'type': 'object', 'properties': {'file_path': {'description': 'Path to the fil… payload_schema={'type': 'object', 'properties': {'file_path': {'type': 'string'}, 'file_name':… id=None metadata_file=None>>\n",
      "obj.__init_subclass__ = <built-in method __init_subclass__ of MetaModel object at 0x7f91d79c7688>\n",
      "obj.__iter__ = <bound method BaseModel.__iter__ of <TriggerTypeCreate uid=None name='file_watch.line' ref=None packs_name='linux' description='Trigger which indicates a new line has been detected' parameters_schema={'type': 'object', 'properties': {'file_path': {'description': 'Path to the fil… payload_schema={'type': 'object', 'properties': {'file_path': {'type': 'string'}, 'file_name':… id=None metadata_file=None>>\n",
      "obj.__le__ = <method-wrapper '__le__' of TriggerTypeCreate object at 0x11af1fb40>\n",
      "obj.__lt__ = <method-wrapper '__lt__' of TriggerTypeCreate object at 0x11af1fb40>\n",
      "obj.__module__ = ultron8.api.models.trigger\n",
      "obj.__ne__ = <method-wrapper '__ne__' of TriggerTypeCreate object at 0x11af1fb40>\n",
      "obj.__new__ = <built-in method __new__ of type object at 0x10ac09470>\n",
      "obj.__reduce__ = <built-in method __reduce__ of TriggerTypeCreate object at 0x11af1fb40>\n",
      "obj.__reduce_ex__ = <built-in method __reduce_ex__ of TriggerTypeCreate object at 0x11af1fb40>\n",
      "obj.__repr__ = <bound method BaseModel.__repr__ of <TriggerTypeCreate uid=None name='file_watch.line' ref=None packs_name='linux' description='Trigger which indicates a new line has been detected' parameters_schema={'type': 'object', 'properties': {'file_path': {'description': 'Path to the fil… payload_schema={'type': 'object', 'properties': {'file_path': {'type': 'string'}, 'file_name':… id=None metadata_file=None>>\n",
      "obj.__setattr__ = <bound method BaseModel.__setattr__ of <TriggerTypeCreate uid=None name='file_watch.line' ref=None packs_name='linux' description='Trigger which indicates a new line has been detected' parameters_schema={'type': 'object', 'properties': {'file_path': {'description': 'Path to the fil… payload_schema={'type': 'object', 'properties': {'file_path': {'type': 'string'}, 'file_name':… id=None metadata_file=None>>\n",
      "obj.__setstate__ = <bound method BaseModel.__setstate__ of <TriggerTypeCreate uid=None name='file_watch.line' ref=None packs_name='linux' description='Trigger which indicates a new line has been detected' parameters_schema={'type': 'object', 'properties': {'file_path': {'description': 'Path to the fil… payload_schema={'type': 'object', 'properties': {'file_path': {'type': 'string'}, 'file_name':… id=None metadata_file=None>>\n",
      "obj.__sizeof__ = <built-in method __sizeof__ of TriggerTypeCreate object at 0x11af1fb40>\n",
      "obj.__slots__ = ('__values__', '__fields_set__')\n",
      "obj.__str__ = <bound method BaseModel.__str__ of <TriggerTypeCreate uid=None name='file_watch.line' ref=None packs_name='linux' description='Trigger which indicates a new line has been detected' parameters_schema={'type': 'object', 'properties': {'file_path': {'description': 'Path to the fil… payload_schema={'type': 'object', 'properties': {'file_path': {'type': 'string'}, 'file_name':… id=None metadata_file=None>>\n",
      "obj.__subclasshook__ = <built-in method __subclasshook__ of MetaModel object at 0x7f91d79c7688>\n",
      "obj.__validators__ = {}\n",
      "obj.__values__ = {'uid': None, 'name': 'file_watch.line', 'ref': None, 'packs_name': 'linux', 'description': 'Trigger which indicates a new line has been detected', 'parameters_schema': {'type': 'object', 'properties': {'file_path': {'description': 'Path to the file to monitor', 'type': 'string', 'required': True}}, 'additionalProperties': False}, 'payload_schema': {'type': 'object', 'properties': {'file_path': {'type': 'string'}, 'file_name': {'type': 'string'}, 'line': {'type': 'string'}}}, 'id': None, 'metadata_file': None}\n",
      "obj.__weakref__ = None\n",
      "obj._abc_cache = <_weakrefset.WeakSet object at 0x10e5f7b00>\n",
      "obj._abc_negative_cache = <_weakrefset.WeakSet object at 0x10e5f7b38>\n",
      "obj._abc_negative_cache_version = 47\n",
      "obj._abc_registry = <_weakrefset.WeakSet object at 0x10e5f79e8>\n",
      "obj._calculate_keys = <bound method BaseModel._calculate_keys of <TriggerTypeCreate uid=None name='file_watch.line' ref=None packs_name='linux' description='Trigger which indicates a new line has been detected' parameters_schema={'type': 'object', 'properties': {'file_path': {'description': 'Path to the fil… payload_schema={'type': 'object', 'properties': {'file_path': {'type': 'string'}, 'file_name':… id=None metadata_file=None>>\n",
      "obj._custom_root_type = False\n",
      "obj._decompose_class = <bound method BaseModel._decompose_class of <class 'ultron8.api.models.trigger.TriggerTypeCreate'>>\n",
      "obj._get_key_factory = <bound method BaseModel._get_key_factory of <TriggerTypeCreate uid=None name='file_watch.line' ref=None packs_name='linux' description='Trigger which indicates a new line has been detected' parameters_schema={'type': 'object', 'properties': {'file_path': {'description': 'Path to the fil… payload_schema={'type': 'object', 'properties': {'file_path': {'type': 'string'}, 'file_name':… id=None metadata_file=None>>\n",
      "obj._get_value = <bound method BaseModel._get_value of <class 'ultron8.api.models.trigger.TriggerTypeCreate'>>\n",
      "obj._iter = <bound method BaseModel._iter of <TriggerTypeCreate uid=None name='file_watch.line' ref=None packs_name='linux' description='Trigger which indicates a new line has been detected' parameters_schema={'type': 'object', 'properties': {'file_path': {'description': 'Path to the fil… payload_schema={'type': 'object', 'properties': {'file_path': {'type': 'string'}, 'file_name':… id=None metadata_file=None>>\n",
      "obj._json_encoder = <function pydantic_encoder at 0x10e1ddea0>\n",
      "obj._schema_cache = {}\n",
      "obj.construct = <bound method BaseModel.construct of <class 'ultron8.api.models.trigger.TriggerTypeCreate'>>\n",
      "obj.copy = <bound method BaseModel.copy of <TriggerTypeCreate uid=None name='file_watch.line' ref=None packs_name='linux' description='Trigger which indicates a new line has been detected' parameters_schema={'type': 'object', 'properties': {'file_path': {'description': 'Path to the fil… payload_schema={'type': 'object', 'properties': {'file_path': {'type': 'string'}, 'file_name':… id=None metadata_file=None>>\n",
      "obj.description = Trigger which indicates a new line has been detected\n",
      "obj.dict = <bound method BaseModel.dict of <TriggerTypeCreate uid=None name='file_watch.line' ref=None packs_name='linux' description='Trigger which indicates a new line has been detected' parameters_schema={'type': 'object', 'properties': {'file_path': {'description': 'Path to the fil… payload_schema={'type': 'object', 'properties': {'file_path': {'type': 'string'}, 'file_name':… id=None metadata_file=None>>\n",
      "obj.fields = {'uid': <Field(uid type=str default=None)>, 'name': <Field(name type=str required)>, 'ref': <Field(ref type=typing.Union[str, NoneType] default=None)>, 'packs_name': <Field(packs_name type=str required)>, 'description': <Field(description type=typing.Union[str, NoneType] default=None)>, 'parameters_schema': <Field(parameters_schema type=typing.Union[typing.Any, NoneType] default=None)>, 'payload_schema': <Field(payload_schema type=typing.Union[typing.Any, NoneType] default=None)>, 'id': <Field(id type=int default=None)>, 'metadata_file': <Field(metadata_file type=typing.Union[str, NoneType] default=None)>}\n",
      "obj.from_orm = <bound method BaseModel.from_orm of <class 'ultron8.api.models.trigger.TriggerTypeCreate'>>\n",
      "obj.id = None\n",
      "obj.json = <bound method BaseModel.json of <TriggerTypeCreate uid=None name='file_watch.line' ref=None packs_name='linux' description='Trigger which indicates a new line has been detected' parameters_schema={'type': 'object', 'properties': {'file_path': {'description': 'Path to the fil… payload_schema={'type': 'object', 'properties': {'file_path': {'type': 'string'}, 'file_name':… id=None metadata_file=None>>\n",
      "obj.metadata_file = None\n",
      "obj.name = file_watch.line\n",
      "obj.packs_name = linux\n",
      "obj.parameters_schema = {'type': 'object', 'properties': {'file_path': {'description': 'Path to the file to monitor', 'type': 'string', 'required': True}}, 'additionalProperties': False}\n",
      "obj.parse_file = <bound method BaseModel.parse_file of <class 'ultron8.api.models.trigger.TriggerTypeCreate'>>\n",
      "obj.parse_obj = <bound method BaseModel.parse_obj of <class 'ultron8.api.models.trigger.TriggerTypeCreate'>>\n",
      "obj.parse_raw = <bound method BaseModel.parse_raw of <class 'ultron8.api.models.trigger.TriggerTypeCreate'>>\n",
      "obj.payload_schema = {'type': 'object', 'properties': {'file_path': {'type': 'string'}, 'file_name': {'type': 'string'}, 'line': {'type': 'string'}}}\n",
      "obj.ref = None\n",
      "obj.schema = <bound method BaseModel.schema of <class 'ultron8.api.models.trigger.TriggerTypeCreate'>>\n",
      "obj.schema_json = <bound method BaseModel.schema_json of <class 'ultron8.api.models.trigger.TriggerTypeCreate'>>\n",
      "obj.to_string = <bound method BaseModel.to_string of <TriggerTypeCreate uid=None name='file_watch.line' ref=None packs_name='linux' description='Trigger which indicates a new line has been detected' parameters_schema={'type': 'object', 'properties': {'file_path': {'description': 'Path to the fil… payload_schema={'type': 'object', 'properties': {'file_path': {'type': 'string'}, 'file_name':… id=None metadata_file=None>>\n",
      "obj.uid = None\n",
      "obj.update_forward_refs = <bound method BaseModel.update_forward_refs of <class 'ultron8.api.models.trigger.TriggerTypeCreate'>>\n",
      "obj.validate = <bound method BaseModel.validate of <class 'ultron8.api.models.trigger.TriggerTypeCreate'>>\n"
     ]
    }
   ],
   "source": [
    "debug_dump_exclude(trigger_type_obj)"
   ]
  },
  {
   "cell_type": "code",
   "execution_count": 21,
   "metadata": {},
   "outputs": [
    {
     "data": {
      "text/plain": [
       "{'uid': None,\n",
       " 'name': 'file_watch.line',\n",
       " 'ref': None,\n",
       " 'packs_name': 'linux',\n",
       " 'description': 'Trigger which indicates a new line has been detected',\n",
       " 'parameters_schema': {'type': 'object',\n",
       "  'properties': {'file_path': {'description': 'Path to the file to monitor',\n",
       "    'type': 'string',\n",
       "    'required': True}},\n",
       "  'additionalProperties': False},\n",
       " 'payload_schema': {'type': 'object',\n",
       "  'properties': {'file_path': {'type': 'string'},\n",
       "   'file_name': {'type': 'string'},\n",
       "   'line': {'type': 'string'}}},\n",
       " 'id': None,\n",
       " 'metadata_file': None}"
      ]
     },
     "execution_count": 21,
     "metadata": {},
     "output_type": "execute_result"
    }
   ],
   "source": [
    "dict(trigger_type_obj)"
   ]
  },
  {
   "cell_type": "code",
   "execution_count": 16,
   "metadata": {},
   "outputs": [],
   "source": [
    "# action_check_loadavg\n"
   ]
  },
  {
   "cell_type": "code",
   "execution_count": 17,
   "metadata": {},
   "outputs": [
    {
     "name": "stdout",
     "output_type": "stream",
     "text": [
      "Base\t InteractiveShell\t Packs\t Sensors\t Session\t Tracer\t TriggerTypeCreate\t TriggerTypeDB\t after_log\t \n",
      "before_log\t db_session\t debug_dump\t debug_dump_exclude\t engine\t init\t init_db\t inspect\t logger\t \n",
      "logging\t max_tries\t os\t pack_linux\t pd\t retry\t session\t stop_after_attempt\t sys\t \n",
      "trigger_type_dict\t trigger_type_obj\t ultratb\t wait_fixed\t wait_seconds\t \n"
     ]
    }
   ],
   "source": [
    "# list all variables of global scope\n",
    "# SOURCE: https://www.dataquest.io/blog/jupyter-notebook-tips-tricks-shortcuts/\n",
    "%who"
   ]
  },
  {
   "cell_type": "code",
   "execution_count": null,
   "metadata": {},
   "outputs": [],
   "source": []
  },
  {
   "cell_type": "markdown",
   "metadata": {},
   "source": [
    "# SENSORS"
   ]
  },
  {
   "cell_type": "code",
   "execution_count": 18,
   "metadata": {},
   "outputs": [],
   "source": [
    "# sensors_obj = Sensors(\n",
    "#         class_name=\"FileWatchSensor\",\n",
    "#         enabled=True,\n",
    "#         entry_point=\"file_watch_sensor.py\",\n",
    "#         description=\"Sensor which monitors files for new lines\",\n",
    "#         trigger_types=[\n",
    "#             {\n",
    "#                 \"name\": \"file_watch.line\",\n",
    "#                 \"pack\": \"linux\",\n",
    "#                 \"description\": \"Trigger which indicates a new line has been detected\",\n",
    "#                 \"parameters_schema\": {\n",
    "#                     \"type\": \"object\",\n",
    "#                     \"properties\": {\n",
    "#                         \"file_path\": {\n",
    "#                             \"description\": \"Path to the file to monitor\",\n",
    "#                             \"type\": \"string\",\n",
    "#                             \"required\": True\n",
    "#                         }\n",
    "#                     },\n",
    "#                     \"additionalProperties\": False\n",
    "#                 },\n",
    "#                 \"payload_schema\": {\n",
    "#                     \"type\": \"object\",\n",
    "#                     \"properties\": {\n",
    "#                         \"file_path\": {\n",
    "#                             \"type\": \"string\"\n",
    "#                         },\n",
    "#                         \"file_name\": {\n",
    "#                             \"type\": \"string\"\n",
    "#                         },\n",
    "#                         \"line\": {\n",
    "#                             \"type\": \"string\"\n",
    "#                         }\n",
    "#                     }\n",
    "#                 }\n",
    "#             }\n",
    "#         ],\n",
    "#         pack=pack_linux\n",
    "#     )"
   ]
  },
  {
   "cell_type": "code",
   "execution_count": 19,
   "metadata": {},
   "outputs": [],
   "source": [
    "# sensors_obj"
   ]
  },
  {
   "cell_type": "code",
   "execution_count": null,
   "metadata": {},
   "outputs": [],
   "source": []
  }
 ],
 "metadata": {
  "kernelspec": {
   "display_name": "Python 3",
   "language": "python",
   "name": "python3"
  },
  "language_info": {
   "codemirror_mode": {
    "name": "ipython",
    "version": 3
   },
   "file_extension": ".py",
   "mimetype": "text/x-python",
   "name": "python",
   "nbconvert_exporter": "python",
   "pygments_lexer": "ipython3",
   "version": "3.7.4"
  },
  "toc": {
   "base_numbering": 1,
   "nav_menu": {},
   "number_sections": true,
   "sideBar": true,
   "skip_h1_title": false,
   "title_cell": "Table of Contents",
   "title_sidebar": "Contents",
   "toc_cell": false,
   "toc_position": {},
   "toc_section_display": true,
   "toc_window_display": false
  },
  "varInspector": {
   "cols": {
    "lenName": 16,
    "lenType": 16,
    "lenVar": 40
   },
   "kernels_config": {
    "python": {
     "delete_cmd_postfix": "",
     "delete_cmd_prefix": "del ",
     "library": "var_list.py",
     "varRefreshCmd": "print(var_dic_list())"
    },
    "r": {
     "delete_cmd_postfix": ") ",
     "delete_cmd_prefix": "rm(",
     "library": "var_list.r",
     "varRefreshCmd": "cat(var_dic_list()) "
    }
   },
   "types_to_exclude": [
    "module",
    "function",
    "builtin_function_or_method",
    "instance",
    "_Feature"
   ],
   "window_display": false
  }
 },
 "nbformat": 4,
 "nbformat_minor": 2
}
