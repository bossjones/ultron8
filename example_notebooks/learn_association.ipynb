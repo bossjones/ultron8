{
 "cells": [
  {
   "cell_type": "markdown",
   "metadata": {},
   "source": [
    "# Creating Database and Table"
   ]
  },
  {
   "cell_type": "code",
   "execution_count": 1,
   "metadata": {},
   "outputs": [
    {
     "name": "stderr",
     "output_type": "stream",
     "text": [
      "2019-08-09 19:57:42,473 __main__ INFO     \n"
     ]
    }
   ],
   "source": [
    "\"\"\"Illustrate a many-to-many relationship between an\n",
    "\"Order\" and a collection of \"Item\" objects, associating a purchase price\n",
    "with each via an association object called \"OrderItem\"\n",
    "\n",
    "The association object pattern is a form of many-to-many which\n",
    "associates additional data with each association between parent/child.\n",
    "\n",
    "The example illustrates an \"order\", referencing a collection\n",
    "of \"items\", with a particular price paid associated with each \"item\".\n",
    "\n",
    "\"\"\"\n",
    "\n",
    "import sqlalchemy as db\n",
    "import pandas as pd\n",
    "\n",
    "# from datetime import datetime\n",
    "\n",
    "import datetime\n",
    "\n",
    "from sqlalchemy import and_\n",
    "\n",
    "from sqlalchemy.ext.declarative import declarative_base\n",
    "from sqlalchemy.orm import sessionmaker\n",
    "from sqlalchemy import Column, String, Integer, Date, Table, ForeignKey, Boolean\n",
    "from sqlalchemy.orm import relationship, backref\n",
    "from sqlalchemy import DateTime\n",
    "from sqlalchemy import Column\n",
    "from sqlalchemy import create_engine\n",
    "from sqlalchemy import DateTime\n",
    "from sqlalchemy import Float\n",
    "from sqlalchemy import ForeignKey\n",
    "from sqlalchemy import Integer\n",
    "from sqlalchemy import String\n",
    "\n",
    "import daiquiri\n",
    "import daiquiri.formatter\n",
    "\n",
    "import logging\n",
    "# logging.basicConfig(level=logging.DEBUG)\n",
    "\n",
    "FMT_SIMPLE = \"%(asctime)-15s %(name)-5s %(levelname)-8s \"\n",
    "\"PID: %(process)d THREAD: %(threadName)s ProcessName: %(processName)s \"\n",
    "\"FILE: %(filename)s:%(lineno)s FUNCTION: %(funcName)s %(message)s\"\n",
    "\n",
    "def setup_logging(level=None, outputs=None, fmt=FMT_SIMPLE):\n",
    "    \"\"\"Configure logging.\"\"\"\n",
    "    if not level:\n",
    "        level = logging.DEBUG\n",
    "    if not outputs:\n",
    "        # outputs = (daiquiri.output.STDOUT,)\n",
    "        outputs = (\n",
    "            daiquiri.output.Stream(\n",
    "                formatter=daiquiri.formatter.ColorFormatter(fmt=fmt)\n",
    "            ),\n",
    "        )\n",
    "    daiquiri.setup(level=level, outputs=outputs)\n",
    "\n",
    "\n",
    "# datefmt='%Y-%m-%d %H:%M:%S'\n",
    "\n",
    "\n",
    "\n",
    "SQLALCHEMY_POOL_LOGGER = logging.getLogger(\"sqlalchemy.pool\")\n",
    "SQLALCHEMY_ENGINE_LOGGER = logging.getLogger(\"sqlalchemy.engine\")\n",
    "SQLALCHEMY_ORM_LOGGER = logging.getLogger(\"sqlalchemy.orm\")\n",
    "SQLALCHEMY_DIALECTS_LOGGER = logging.getLogger(\"sqlalchemy.dialects\")\n",
    "SQLALCHEMY_POOL_LOGGER.setLevel(logging.DEBUG)\n",
    "SQLALCHEMY_ENGINE_LOGGER.setLevel(logging.DEBUG)\n",
    "SQLALCHEMY_ORM_LOGGER.setLevel(logging.DEBUG)\n",
    "SQLALCHEMY_DIALECTS_LOGGER.setLevel(logging.DEBUG)\n",
    "\n",
    "\n",
    "# logger = logging.getLogger(__name__)\n",
    "\n",
    "setup_logging()\n",
    "\n",
    "logger = daiquiri.getLogger(__name__)\n",
    "logger.info(\"It works with a custom format!\")\n",
    "\n",
    "def debug_dump_exclude(obj, exclude=[\"__builtins__\", \"__doc__\"]):\n",
    "    for attr in dir(obj):\n",
    "        if hasattr(obj, attr):\n",
    "            if attr not in exclude:\n",
    "                print(\"obj.%s = %s\" % (attr, getattr(obj, attr)))"
   ]
  },
  {
   "cell_type": "code",
   "execution_count": 2,
   "metadata": {},
   "outputs": [
    {
     "name": "stderr",
     "output_type": "stream",
     "text": [
      "2019-08-09 19:57:42,507 sqlalchemy.pool.impl.NullPool DEBUG    \n",
      "2019-08-09 19:57:42,510 sqlalchemy.engine.base.Engine INFO     \n",
      "2019-08-09 19:57:42,513 sqlalchemy.engine.base.Engine INFO     \n",
      "2019-08-09 19:57:42,520 sqlalchemy.engine.base.Engine INFO     \n",
      "2019-08-09 19:57:42,522 sqlalchemy.engine.base.Engine INFO     \n",
      "2019-08-09 19:57:42,525 sqlalchemy.pool.impl.NullPool DEBUG    \n"
     ]
    }
   ],
   "source": [
    "# Creates: a SQLAlchemy Engine that will interact with our sqlite database,\n",
    "engine = db.create_engine('sqlite:///learn.sqlite')\n",
    "\n",
    "# Creates: a SQLAlchemy ORM session factory bound to this engine\n",
    "Session = sessionmaker(bind=engine)\n",
    "\n",
    "# Creates: a base class for our classes definition\n",
    "Base = declarative_base()\n",
    "\n",
    "\n",
    "connection = engine.connect()\n",
    "metadata = db.MetaData()\n",
    "# census = db.Table('census', metadata, autoload=True, autoload_with=engine)"
   ]
  },
  {
   "cell_type": "code",
   "execution_count": 3,
   "metadata": {},
   "outputs": [],
   "source": [
    "# emp = db.Table('emp', metadata,\n",
    "#               db.Column('Id', db.Integer()),\n",
    "#               db.Column('name', db.String(255), nullable=False),\n",
    "#               db.Column('salary', db.Float(), default=100.0),\n",
    "#               db.Column('active', db.Boolean(), default=True)\n",
    "#               )\n",
    "\n",
    "# metadata.create_all(engine) #Creates the table"
   ]
  },
  {
   "cell_type": "code",
   "execution_count": 4,
   "metadata": {},
   "outputs": [
    {
     "name": "stderr",
     "output_type": "stream",
     "text": [
      "2019-08-09 19:57:42,580 sqlalchemy.orm.mapper.Mapper INFO     \n",
      "2019-08-09 19:57:42,581 sqlalchemy.orm.mapper.Mapper INFO     \n",
      "2019-08-09 19:57:42,591 sqlalchemy.orm.mapper.Mapper INFO     \n",
      "2019-08-09 19:57:42,593 sqlalchemy.orm.mapper.Mapper INFO     \n",
      "2019-08-09 19:57:42,596 sqlalchemy.orm.mapper.Mapper INFO     \n",
      "2019-08-09 19:57:42,601 sqlalchemy.orm.mapper.Mapper INFO     \n",
      "2019-08-09 19:57:42,606 sqlalchemy.orm.mapper.Mapper INFO     \n",
      "2019-08-09 19:57:42,608 sqlalchemy.orm.mapper.Mapper INFO     \n",
      "2019-08-09 19:57:42,612 sqlalchemy.orm.mapper.Mapper INFO     \n",
      "2019-08-09 19:57:42,621 sqlalchemy.orm.mapper.Mapper INFO     \n",
      "2019-08-09 19:57:42,629 sqlalchemy.orm.mapper.Mapper INFO     \n",
      "2019-08-09 19:57:42,639 sqlalchemy.orm.mapper.Mapper INFO     \n",
      "2019-08-09 19:57:42,649 sqlalchemy.orm.mapper.Mapper INFO     \n",
      "2019-08-09 19:57:42,657 sqlalchemy.orm.mapper.Mapper INFO     \n",
      "2019-08-09 19:57:42,661 sqlalchemy.orm.mapper.Mapper INFO     \n",
      "2019-08-09 19:57:42,670 sqlalchemy.orm.mapper.Mapper INFO     \n",
      "2019-08-09 19:57:42,681 sqlalchemy.orm.mapper.Mapper INFO     \n"
     ]
    }
   ],
   "source": [
    "class Order(Base):\n",
    "    __tablename__ = \"order\"\n",
    "\n",
    "    order_id = Column(Integer, primary_key=True)\n",
    "    customer_name = Column(String(30), nullable=False)\n",
    "    order_date = Column(String(255), nullable=False)\n",
    "    order_items = relationship(\n",
    "        \"OrderItem\", cascade=\"all, delete-orphan\", backref=\"order\"\n",
    "    )\n",
    "\n",
    "    def __init__(self, customer_name):\n",
    "        self.customer_name = customer_name\n",
    "        self.order_date = str(datetime.datetime.utcnow())\n",
    "\n",
    "\n",
    "class Item(Base):\n",
    "    __tablename__ = \"item\"\n",
    "    item_id = Column(Integer, primary_key=True)\n",
    "    description = Column(String(30), nullable=False)\n",
    "    price = Column(Float, nullable=False)\n",
    "\n",
    "    def __init__(self, description, price):\n",
    "        self.description = description\n",
    "        self.price = price\n",
    "\n",
    "    def __repr__(self):\n",
    "        return \"Item(%r, %r)\" % (self.description, self.price)\n",
    "\n",
    "\n",
    "class OrderItem(Base):\n",
    "    __tablename__ = \"orderitem\"\n",
    "    order_id = Column(Integer, ForeignKey(\"order.order_id\"), primary_key=True)\n",
    "    item_id = Column(Integer, ForeignKey(\"item.item_id\"), primary_key=True)\n",
    "    price = Column(Float, nullable=False)\n",
    "\n",
    "    def __init__(self, item, price=None):\n",
    "        self.item = item\n",
    "        self.price = price or item.price\n",
    "\n",
    "    item = relationship(Item, lazy=\"joined\")\n",
    "    \n",
    "    \n"
   ]
  },
  {
   "cell_type": "code",
   "execution_count": 5,
   "metadata": {},
   "outputs": [],
   "source": [
    "# # Print the column names\n",
    "# print(emp.columns.keys())"
   ]
  },
  {
   "cell_type": "code",
   "execution_count": 6,
   "metadata": {},
   "outputs": [],
   "source": [
    "# # Print full table metadata\n",
    "# print(repr(metadata.tables['emp']))"
   ]
  },
  {
   "cell_type": "markdown",
   "metadata": {},
   "source": [
    "# Inserting Data"
   ]
  },
  {
   "cell_type": "code",
   "execution_count": 7,
   "metadata": {},
   "outputs": [],
   "source": [
    "# #Inserting record one by one\n",
    "# query = db.insert(emp).values(Id=1, name='naveen', salary=60000.00, active=True) \n",
    "# ResultProxy = connection.execute(query)\n",
    "\n"
   ]
  },
  {
   "cell_type": "code",
   "execution_count": 8,
   "metadata": {},
   "outputs": [],
   "source": [
    "# #Inserting many records at ones\n",
    "# query = db.insert(emp) \n",
    "# values_list = [{'Id':'2', 'name':'ram', 'salary':80000, 'active':False},\n",
    "#                {'Id':'3', 'name':'ramesh', 'salary':70000, 'active':True}]\n",
    "# ResultProxy = connection.execute(query,values_list)"
   ]
  },
  {
   "cell_type": "code",
   "execution_count": 9,
   "metadata": {},
   "outputs": [],
   "source": [
    "# results = connection.execute(db.select([emp])).fetchall()\n",
    "# df = pd.DataFrame(results)\n",
    "# df.columns = results[0].keys()\n",
    "# df.head(4)"
   ]
  },
  {
   "cell_type": "code",
   "execution_count": null,
   "metadata": {},
   "outputs": [],
   "source": []
  },
  {
   "cell_type": "code",
   "execution_count": 10,
   "metadata": {},
   "outputs": [],
   "source": [
    "# Print the column names\n",
    "# print(census.columns.keys())"
   ]
  },
  {
   "cell_type": "code",
   "execution_count": 11,
   "metadata": {},
   "outputs": [],
   "source": [
    "# Print full table metadata\n",
    "# print(repr(metadata.tables['census']))"
   ]
  },
  {
   "cell_type": "markdown",
   "metadata": {},
   "source": [
    "# Querying"
   ]
  },
  {
   "cell_type": "code",
   "execution_count": 12,
   "metadata": {},
   "outputs": [],
   "source": [
    "#Equivalent to 'SELECT * FROM census'\n",
    "# query = db.select([census])"
   ]
  },
  {
   "cell_type": "code",
   "execution_count": 13,
   "metadata": {},
   "outputs": [],
   "source": [
    "# ResultProxy = connection.execute(query)"
   ]
  },
  {
   "cell_type": "code",
   "execution_count": 14,
   "metadata": {},
   "outputs": [],
   "source": [
    "# ResultSet = ResultProxy.fetchall()"
   ]
  },
  {
   "cell_type": "code",
   "execution_count": 15,
   "metadata": {},
   "outputs": [],
   "source": [
    "# ResultSet[:3]"
   ]
  },
  {
   "cell_type": "markdown",
   "metadata": {},
   "source": [
    "# Class: Movie"
   ]
  },
  {
   "cell_type": "code",
   "execution_count": 16,
   "metadata": {},
   "outputs": [],
   "source": [
    "# # Source: https://auth0.com/blog/sqlalchemy-orm-tutorial-for-python-developers/\n",
    "\n",
    "# # As many movies can have many actors and vice-versa, \n",
    "# # we will need to create a Many To Many relationship between these two classes.\n",
    "\n",
    "# # we created a movies_actors_association table that connects rows of actors and rows of movies\n",
    "# movies_actors_association = Table(\n",
    "#     'movies_actors', Base.metadata,\n",
    "#     Column('movie_id', Integer, ForeignKey('movies.id')),\n",
    "#     Column('actor_id', Integer, ForeignKey('actors.id'))\n",
    "# )\n",
    "\n",
    "\n",
    "# class Movie(Base):\n",
    "#     __tablename__ = 'movies'\n",
    "\n",
    "#     id = Column(Integer, primary_key=True)\n",
    "#     title = Column(String)\n",
    "#     release_date = Column(Date)\n",
    "#     # and we added the actors property to Movie and configured the \n",
    "#     # movies_actors_association as the intermediary table.\n",
    "#     actors = relationship(\"Actor\", secondary=movies_actors_association)\n",
    "\n",
    "#     def __init__(self, title, release_date):\n",
    "#         self.title = title\n",
    "#         self.release_date = release_date"
   ]
  },
  {
   "cell_type": "markdown",
   "metadata": {},
   "source": [
    "# Class: Actor"
   ]
  },
  {
   "cell_type": "code",
   "execution_count": 17,
   "metadata": {},
   "outputs": [],
   "source": [
    "# class Actor(Base):\n",
    "#     __tablename__ = 'actors'\n",
    "\n",
    "#     id = Column(Integer, primary_key=True)\n",
    "#     name = Column(String)\n",
    "#     birthday = Column(Date)\n",
    "\n",
    "#     def __init__(self, name, birthday):\n",
    "#         self.name = name\n",
    "#         self.birthday = birthday"
   ]
  },
  {
   "cell_type": "markdown",
   "metadata": {},
   "source": [
    "# Class: Stuntman"
   ]
  },
  {
   "cell_type": "code",
   "execution_count": 18,
   "metadata": {},
   "outputs": [],
   "source": [
    "# # In this class, we have defined that the actor property references an \n",
    "# # instance of Actor and that this actor will get a property called stuntman that is not a list (uselist=False). \n",
    "# # That is, whenever we load an instance of Stuntman, \n",
    "# # SQLAlchemy will also load and populate the Actor associated with this stuntman.\n",
    "\n",
    "# class Stuntman(Base):\n",
    "#     __tablename__ = 'stuntmen'\n",
    "\n",
    "#     id = Column(Integer, primary_key=True)\n",
    "#     name = Column(String)\n",
    "#     active = Column(Boolean)\n",
    "#     actor_id = Column(Integer, ForeignKey('actors.id'))\n",
    "#     actor = relationship(\"Actor\", backref=backref(\"stuntman\", uselist=False))\n",
    "\n",
    "#     def __init__(self, name, active, actor):\n",
    "#         self.name = name\n",
    "#         self.active = active\n",
    "#         self.actor = actor"
   ]
  },
  {
   "cell_type": "markdown",
   "metadata": {},
   "source": [
    "# Class: ContactDetails"
   ]
  },
  {
   "cell_type": "code",
   "execution_count": 19,
   "metadata": {},
   "outputs": [],
   "source": [
    "# class ContactDetails(Base):\n",
    "#     __tablename__ = 'contact_details'\n",
    "\n",
    "#     id = Column(Integer, primary_key=True)\n",
    "#     phone_number = Column(String)\n",
    "#     address = Column(String)\n",
    "#     actor_id = Column(Integer, ForeignKey('actors.id'))\n",
    "#     actor = relationship(\"Actor\", backref=\"contact_details\")\n",
    "\n",
    "#     def __init__(self, phone_number, address, actor):\n",
    "#         self.phone_number = phone_number\n",
    "#         self.address = address\n",
    "#         self.actor = actor"
   ]
  },
  {
   "cell_type": "markdown",
   "metadata": {},
   "source": [
    "# Persisting Data with SQLAlchemy ORM"
   ]
  },
  {
   "cell_type": "code",
   "execution_count": 20,
   "metadata": {},
   "outputs": [
    {
     "name": "stderr",
     "output_type": "stream",
     "text": [
      "2019-08-09 19:57:43,242 sqlalchemy.pool.impl.NullPool DEBUG    \n",
      "2019-08-09 19:57:43,245 sqlalchemy.pool.impl.NullPool DEBUG    \n",
      "2019-08-09 19:57:43,247 sqlalchemy.engine.base.Engine INFO     \n",
      "2019-08-09 19:57:43,250 sqlalchemy.engine.base.Engine INFO     \n",
      "2019-08-09 19:57:43,256 sqlalchemy.engine.base.Engine DEBUG    \n",
      "2019-08-09 19:57:43,257 sqlalchemy.engine.base.Engine DEBUG    \n",
      "2019-08-09 19:57:43,261 sqlalchemy.engine.base.Engine DEBUG    \n",
      "2019-08-09 19:57:43,267 sqlalchemy.engine.base.Engine DEBUG    \n",
      "2019-08-09 19:57:43,307 sqlalchemy.engine.base.Engine INFO     \n",
      "2019-08-09 19:57:43,309 sqlalchemy.engine.base.Engine INFO     \n",
      "2019-08-09 19:57:43,311 sqlalchemy.engine.base.Engine DEBUG    \n",
      "2019-08-09 19:57:43,313 sqlalchemy.engine.base.Engine DEBUG    \n",
      "2019-08-09 19:57:43,315 sqlalchemy.engine.base.Engine DEBUG    \n",
      "2019-08-09 19:57:43,317 sqlalchemy.engine.base.Engine DEBUG    \n",
      "2019-08-09 19:57:43,319 sqlalchemy.engine.base.Engine INFO     \n",
      "2019-08-09 19:57:43,321 sqlalchemy.engine.base.Engine INFO     \n",
      "2019-08-09 19:57:43,324 sqlalchemy.engine.base.Engine DEBUG    \n",
      "2019-08-09 19:57:43,325 sqlalchemy.engine.base.Engine DEBUG    \n",
      "2019-08-09 19:57:43,326 sqlalchemy.engine.base.Engine DEBUG    \n",
      "2019-08-09 19:57:43,328 sqlalchemy.engine.base.Engine DEBUG    \n",
      "2019-08-09 19:57:43,330 sqlalchemy.pool.impl.NullPool DEBUG    \n",
      "2019-08-09 19:57:43,332 sqlalchemy.pool.impl.NullPool DEBUG    \n",
      "2019-08-09 19:57:43,334 sqlalchemy.pool.impl.NullPool DEBUG    \n"
     ]
    }
   ],
   "source": [
    "# from datetime import date\n",
    "\n",
    "# # 2 - generate database schema\n",
    "Base.metadata.create_all(engine)\n",
    "\n",
    "# # 3 - create a new session\n",
    "session = Session()\n"
   ]
  },
  {
   "cell_type": "code",
   "execution_count": 21,
   "metadata": {},
   "outputs": [],
   "source": [
    "# # 4 - create movies\n",
    "# bourne_identity = Movie(\"The Bourne Identity\", date(2002, 10, 11))\n",
    "# furious_7 = Movie(\"Furious 7\", date(2015, 4, 2))\n",
    "# pain_and_gain = Movie(\"Pain & Gain\", date(2013, 8, 23))\n"
   ]
  },
  {
   "cell_type": "code",
   "execution_count": 22,
   "metadata": {},
   "outputs": [],
   "source": [
    "# # 5 - creates actors\n",
    "# matt_damon = Actor(\"Matt Damon\", date(1970, 10, 8))\n",
    "# dwayne_johnson = Actor(\"Dwayne Johnson\", date(1972, 5, 2))\n",
    "# mark_wahlberg = Actor(\"Mark Wahlberg\", date(1971, 6, 5))\n"
   ]
  },
  {
   "cell_type": "code",
   "execution_count": 23,
   "metadata": {},
   "outputs": [],
   "source": [
    "# # 6 - add actors to movies\n",
    "# bourne_identity.actors = [matt_damon]\n",
    "# furious_7.actors = [dwayne_johnson]\n",
    "# pain_and_gain.actors = [dwayne_johnson, mark_wahlberg]\n"
   ]
  },
  {
   "cell_type": "code",
   "execution_count": 24,
   "metadata": {},
   "outputs": [],
   "source": [
    "# # 7 - add contact details to actors\n",
    "# matt_contact = ContactDetails(\"415 555 2671\", \"Burbank, CA\", matt_damon)\n",
    "# dwayne_contact = ContactDetails(\"423 555 5623\", \"Glendale, CA\", dwayne_johnson)\n",
    "# dwayne_contact_2 = ContactDetails(\"421 444 2323\", \"West Hollywood, CA\", dwayne_johnson)\n",
    "# mark_contact = ContactDetails(\"421 333 9428\", \"Glendale, CA\", mark_wahlberg)\n"
   ]
  },
  {
   "cell_type": "code",
   "execution_count": 25,
   "metadata": {},
   "outputs": [],
   "source": [
    "# # 8 - create stuntmen\n",
    "# matt_stuntman = Stuntman(\"John Doe\", True, matt_damon)\n",
    "# dwayne_stuntman = Stuntman(\"John Roe\", True, dwayne_johnson)\n",
    "# mark_stuntman = Stuntman(\"Richard Roe\", True, mark_wahlberg)\n"
   ]
  },
  {
   "cell_type": "code",
   "execution_count": 26,
   "metadata": {},
   "outputs": [],
   "source": [
    "# # 9 - persists data\n",
    "# session.add(bourne_identity)\n",
    "# session.add(furious_7)\n",
    "# session.add(pain_and_gain)\n",
    "\n",
    "# session.add(matt_contact)\n",
    "# session.add(dwayne_contact)\n",
    "# session.add(dwayne_contact_2)\n",
    "# session.add(mark_contact)\n",
    "\n",
    "# session.add(matt_stuntman)\n",
    "# session.add(dwayne_stuntman)\n",
    "# session.add(mark_stuntman)\n"
   ]
  },
  {
   "cell_type": "code",
   "execution_count": 27,
   "metadata": {},
   "outputs": [],
   "source": [
    "# display data\n",
    "# results = connection.execute(db.select([emp])).fetchall()\n",
    "# df = pd.DataFrame(results)\n",
    "# df.columns = results[0].keys()\n",
    "# df.head(4)"
   ]
  },
  {
   "cell_type": "code",
   "execution_count": 28,
   "metadata": {},
   "outputs": [],
   "source": [
    "# 10 - commit and close session\n",
    "# session.commit()\n",
    "# session.close()"
   ]
  },
  {
   "cell_type": "code",
   "execution_count": 29,
   "metadata": {},
   "outputs": [
    {
     "name": "stdout",
     "output_type": "stream",
     "text": [
      "obj.__class__ = <class 'sqlalchemy.ext.declarative.api.DeclarativeMeta'>\n",
      "obj.__delattr__ = <slot wrapper '__delattr__' of 'object' objects>\n",
      "obj.__dict__ = {'_decl_class_registry': <WeakValueDictionary at 0x1157ce5f8>, 'metadata': MetaData(bind=None), '__doc__': 'The most base type', '__init__': <function _declarative_constructor at 0x11565a7b8>, '__module__': 'sqlalchemy.ext.declarative.api', '__dict__': <attribute '__dict__' of 'Base' objects>, '__weakref__': <attribute '__weakref__' of 'Base' objects>}\n",
      "obj.__dir__ = <method '__dir__' of 'object' objects>\n",
      "obj.__eq__ = <slot wrapper '__eq__' of 'object' objects>\n",
      "obj.__format__ = <method '__format__' of 'object' objects>\n",
      "obj.__ge__ = <slot wrapper '__ge__' of 'object' objects>\n",
      "obj.__getattribute__ = <slot wrapper '__getattribute__' of 'object' objects>\n",
      "obj.__gt__ = <slot wrapper '__gt__' of 'object' objects>\n",
      "obj.__hash__ = <slot wrapper '__hash__' of 'object' objects>\n",
      "obj.__init__ = <function _declarative_constructor at 0x11565a7b8>\n",
      "obj.__init_subclass__ = <built-in method __init_subclass__ of DeclarativeMeta object at 0x7f85207f1528>\n",
      "obj.__le__ = <slot wrapper '__le__' of 'object' objects>\n",
      "obj.__lt__ = <slot wrapper '__lt__' of 'object' objects>\n",
      "obj.__module__ = sqlalchemy.ext.declarative.api\n",
      "obj.__ne__ = <slot wrapper '__ne__' of 'object' objects>\n",
      "obj.__new__ = <built-in method __new__ of type object at 0x109879470>\n",
      "obj.__reduce__ = <method '__reduce__' of 'object' objects>\n",
      "obj.__reduce_ex__ = <method '__reduce_ex__' of 'object' objects>\n",
      "obj.__repr__ = <slot wrapper '__repr__' of 'object' objects>\n",
      "obj.__setattr__ = <slot wrapper '__setattr__' of 'object' objects>\n",
      "obj.__sizeof__ = <method '__sizeof__' of 'object' objects>\n",
      "obj.__str__ = <slot wrapper '__str__' of 'object' objects>\n",
      "obj.__subclasshook__ = <built-in method __subclasshook__ of DeclarativeMeta object at 0x7f85207f1528>\n",
      "obj.__weakref__ = <attribute '__weakref__' of 'Base' objects>\n",
      "obj._decl_class_registry = <WeakValueDictionary at 0x1157ce5f8>\n",
      "obj.metadata = MetaData(bind=None)\n"
     ]
    }
   ],
   "source": [
    "debug_dump_exclude(Base)"
   ]
  },
  {
   "cell_type": "code",
   "execution_count": 30,
   "metadata": {},
   "outputs": [],
   "source": [
    "# metadata.create_all(engine) #Creates the table"
   ]
  },
  {
   "cell_type": "code",
   "execution_count": 31,
   "metadata": {},
   "outputs": [
    {
     "name": "stderr",
     "output_type": "stream",
     "text": [
      "2019-08-09 19:57:43,580 sqlalchemy.orm.mapper.Mapper INFO     \n",
      "2019-08-09 19:57:43,584 sqlalchemy.orm.mapper.Mapper INFO     \n",
      "2019-08-09 19:57:43,591 sqlalchemy.orm.relationships.RelationshipProperty INFO     \n",
      "2019-08-09 19:57:43,594 sqlalchemy.orm.relationships.RelationshipProperty INFO     \n",
      "2019-08-09 19:57:43,597 sqlalchemy.orm.relationships.RelationshipProperty INFO     \n",
      "2019-08-09 19:57:43,598 sqlalchemy.orm.relationships.RelationshipProperty INFO     \n",
      "2019-08-09 19:57:43,602 sqlalchemy.orm.relationships.RelationshipProperty INFO     \n",
      "2019-08-09 19:57:43,605 sqlalchemy.orm.relationships.RelationshipProperty INFO     \n",
      "2019-08-09 19:57:43,607 sqlalchemy.orm.relationships.RelationshipProperty INFO     \n",
      "2019-08-09 19:57:43,609 sqlalchemy.orm.relationships.RelationshipProperty INFO     \n",
      "2019-08-09 19:57:43,611 sqlalchemy.orm.mapper.Mapper INFO     \n",
      "2019-08-09 19:57:43,614 sqlalchemy.orm.relationships.RelationshipProperty INFO     \n",
      "2019-08-09 19:57:43,616 sqlalchemy.orm.relationships.RelationshipProperty INFO     \n",
      "2019-08-09 19:57:43,621 sqlalchemy.orm.relationships.RelationshipProperty INFO     \n",
      "2019-08-09 19:57:43,622 sqlalchemy.orm.relationships.RelationshipProperty INFO     \n",
      "2019-08-09 19:57:43,624 sqlalchemy.orm.relationships.RelationshipProperty INFO     \n",
      "2019-08-09 19:57:43,626 sqlalchemy.orm.relationships.RelationshipProperty INFO     \n",
      "2019-08-09 19:57:43,628 sqlalchemy.orm.relationships.RelationshipProperty INFO     \n",
      "2019-08-09 19:57:43,630 sqlalchemy.orm.relationships.RelationshipProperty INFO     \n",
      "2019-08-09 19:57:43,631 sqlalchemy.orm.strategies.LazyLoader INFO     \n",
      "2019-08-09 19:57:43,633 sqlalchemy.orm.strategies.LazyLoader INFO     \n",
      "2019-08-09 19:57:43,639 sqlalchemy.orm.strategies.LazyLoader INFO     \n",
      "2019-08-09 19:57:43,641 sqlalchemy.orm.mapper.Mapper INFO     \n",
      "2019-08-09 19:57:43,644 sqlalchemy.orm.mapper.Mapper INFO     \n",
      "2019-08-09 19:57:43,647 sqlalchemy.orm.mapper.Mapper INFO     \n",
      "2019-08-09 19:57:43,649 sqlalchemy.orm.mapper.Mapper INFO     \n",
      "2019-08-09 19:57:43,651 sqlalchemy.orm.mapper.Mapper INFO     \n",
      "2019-08-09 19:57:43,655 sqlalchemy.orm.mapper.Mapper INFO     \n",
      "2019-08-09 19:57:43,657 sqlalchemy.orm.mapper.Mapper INFO     \n",
      "2019-08-09 19:57:43,658 sqlalchemy.orm.mapper.Mapper INFO     \n",
      "2019-08-09 19:57:43,660 sqlalchemy.orm.mapper.Mapper INFO     \n",
      "2019-08-09 19:57:43,662 sqlalchemy.orm.mapper.Mapper INFO     \n",
      "2019-08-09 19:57:43,664 sqlalchemy.orm.mapper.Mapper INFO     \n",
      "2019-08-09 19:57:43,667 sqlalchemy.orm.relationships.RelationshipProperty INFO     \n",
      "2019-08-09 19:57:43,668 sqlalchemy.orm.relationships.RelationshipProperty INFO     \n",
      "2019-08-09 19:57:43,669 sqlalchemy.orm.relationships.RelationshipProperty INFO     \n",
      "2019-08-09 19:57:43,671 sqlalchemy.orm.relationships.RelationshipProperty INFO     \n",
      "2019-08-09 19:57:43,673 sqlalchemy.orm.relationships.RelationshipProperty INFO     \n",
      "2019-08-09 19:57:43,675 sqlalchemy.orm.relationships.RelationshipProperty INFO     \n",
      "2019-08-09 19:57:43,677 sqlalchemy.orm.relationships.RelationshipProperty INFO     \n",
      "2019-08-09 19:57:43,678 sqlalchemy.orm.relationships.RelationshipProperty INFO     \n",
      "2019-08-09 19:57:43,680 sqlalchemy.orm.strategies.LazyLoader INFO     \n",
      "2019-08-09 19:57:43,683 sqlalchemy.orm.strategies.LazyLoader INFO     \n",
      "2019-08-09 19:57:43,686 sqlalchemy.orm.mapper.Mapper INFO     \n",
      "2019-08-09 19:57:43,688 sqlalchemy.orm.mapper.Mapper INFO     \n",
      "2019-08-09 19:57:43,689 sqlalchemy.orm.mapper.Mapper INFO     \n",
      "2019-08-09 19:57:43,691 sqlalchemy.orm.mapper.Mapper INFO     \n",
      "2019-08-09 19:57:43,693 sqlalchemy.orm.mapper.Mapper INFO     \n",
      "2019-08-09 19:57:43,695 sqlalchemy.pool.impl.NullPool DEBUG    \n",
      "2019-08-09 19:57:43,696 sqlalchemy.pool.impl.NullPool DEBUG    \n",
      "2019-08-09 19:57:43,698 sqlalchemy.engine.base.Engine INFO     \n",
      "2019-08-09 19:57:43,700 sqlalchemy.engine.base.Engine INFO     \n",
      "2019-08-09 19:57:43,702 sqlalchemy.engine.base.Engine INFO     \n",
      "2019-08-09 19:57:43,704 sqlalchemy.engine.base.Engine INFO     \n",
      "2019-08-09 19:57:43,706 sqlalchemy.engine.base.Engine INFO     \n",
      "2019-08-09 19:57:43,709 sqlalchemy.engine.base.Engine INFO     \n",
      "2019-08-09 19:57:43,711 sqlalchemy.engine.base.Engine INFO     \n",
      "2019-08-09 19:57:43,712 sqlalchemy.engine.base.Engine INFO     \n",
      "2019-08-09 19:57:43,713 sqlalchemy.engine.base.Engine INFO     \n",
      "2019-08-09 19:57:43,716 sqlalchemy.engine.base.Engine INFO     \n",
      "2019-08-09 19:57:43,719 sqlalchemy.pool.impl.NullPool DEBUG    \n",
      "2019-08-09 19:57:43,720 sqlalchemy.pool.impl.NullPool DEBUG    \n",
      "2019-08-09 19:57:43,721 sqlalchemy.pool.impl.NullPool DEBUG    \n"
     ]
    }
   ],
   "source": [
    "# create catalog\n",
    "tshirt, mug, hat, crowbar = (\n",
    "    Item(\"SA T-Shirt\", 10.99),\n",
    "    Item(\"SA Mug\", 6.50),\n",
    "    Item(\"SA Hat\", 8.99),\n",
    "    Item(\"MySQL Crowbar\", 16.99),\n",
    ")\n",
    "session.add_all([tshirt, mug, hat, crowbar])\n",
    "session.commit()\n",
    "\n",
    "# create an order\n",
    "order = Order(\"john smith\")"
   ]
  },
  {
   "cell_type": "code",
   "execution_count": 34,
   "metadata": {},
   "outputs": [
    {
     "name": "stdout",
     "output_type": "stream",
     "text": [
      "obj.__class__ = <class '__main__.Order'>\n",
      "obj.__delattr__ = <method-wrapper '__delattr__' of Order object at 0x115832fd0>\n",
      "obj.__dict__ = {'_sa_instance_state': <sqlalchemy.orm.state.InstanceState object at 0x115832b70>, 'customer_name': 'john smith', 'order_id': 1, 'order_date': '2019-08-09 23:57:43.724492', 'order_items': [<__main__.OrderItem object at 0x1158ce6d8>, <__main__.OrderItem object at 0x1158ce898>, <__main__.OrderItem object at 0x1158ce9b0>]}\n",
      "obj.__dir__ = <built-in method __dir__ of Order object at 0x115832fd0>\n",
      "obj.__eq__ = <method-wrapper '__eq__' of Order object at 0x115832fd0>\n",
      "obj.__format__ = <built-in method __format__ of Order object at 0x115832fd0>\n",
      "obj.__ge__ = <method-wrapper '__ge__' of Order object at 0x115832fd0>\n",
      "obj.__getattribute__ = <method-wrapper '__getattribute__' of Order object at 0x115832fd0>\n",
      "obj.__gt__ = <method-wrapper '__gt__' of Order object at 0x115832fd0>\n",
      "obj.__hash__ = <method-wrapper '__hash__' of Order object at 0x115832fd0>\n",
      "obj.__init__ = <bound method __init__ of <__main__.Order object at 0x115832fd0>>\n",
      "obj.__init_subclass__ = <built-in method __init_subclass__ of DeclarativeMeta object at 0x7f85206d8818>\n",
      "obj.__le__ = <method-wrapper '__le__' of Order object at 0x115832fd0>\n",
      "obj.__lt__ = <method-wrapper '__lt__' of Order object at 0x115832fd0>\n",
      "obj.__mapper__ = mapped class Order->order\n",
      "obj.__module__ = __main__\n",
      "obj.__ne__ = <method-wrapper '__ne__' of Order object at 0x115832fd0>\n",
      "obj.__new__ = <built-in method __new__ of type object at 0x109879470>\n",
      "obj.__reduce__ = <built-in method __reduce__ of Order object at 0x115832fd0>\n",
      "obj.__reduce_ex__ = <built-in method __reduce_ex__ of Order object at 0x115832fd0>\n",
      "obj.__repr__ = <method-wrapper '__repr__' of Order object at 0x115832fd0>\n",
      "obj.__setattr__ = <method-wrapper '__setattr__' of Order object at 0x115832fd0>\n",
      "obj.__sizeof__ = <built-in method __sizeof__ of Order object at 0x115832fd0>\n",
      "obj.__str__ = <method-wrapper '__str__' of Order object at 0x115832fd0>\n",
      "obj.__subclasshook__ = <built-in method __subclasshook__ of DeclarativeMeta object at 0x7f85206d8818>\n",
      "obj.__table__ = order\n",
      "obj.__tablename__ = order\n",
      "obj.__weakref__ = <weakref at 0x11585b098; to 'Order' at 0x115832fd0>\n",
      "obj._decl_class_registry = <WeakValueDictionary at 0x1157ce5f8>\n",
      "obj._sa_class_manager = <ClassManager of <class '__main__.Order'> at 115801200>\n",
      "obj._sa_instance_state = <sqlalchemy.orm.state.InstanceState object at 0x115832b70>\n",
      "obj.customer_name = john smith\n",
      "obj.metadata = MetaData(bind=None)\n",
      "obj.order_date = 2019-08-09 23:57:43.724492\n",
      "obj.order_id = 1\n",
      "obj.order_items = [<__main__.OrderItem object at 0x1158ce6d8>, <__main__.OrderItem object at 0x1158ce898>, <__main__.OrderItem object at 0x1158ce9b0>]\n"
     ]
    }
   ],
   "source": [
    "debug_dump_exclude(order)"
   ]
  },
  {
   "cell_type": "code",
   "execution_count": 32,
   "metadata": {},
   "outputs": [
    {
     "name": "stderr",
     "output_type": "stream",
     "text": [
      "2019-08-09 19:57:43,732 sqlalchemy.orm.path_registry DEBUG    \n",
      "2019-08-09 19:57:43,736 sqlalchemy.pool.impl.NullPool DEBUG    \n",
      "2019-08-09 19:57:43,738 sqlalchemy.pool.impl.NullPool DEBUG    \n",
      "2019-08-09 19:57:43,741 sqlalchemy.engine.base.Engine INFO     \n",
      "2019-08-09 19:57:43,744 sqlalchemy.engine.base.Engine INFO     \n",
      "2019-08-09 19:57:43,745 sqlalchemy.engine.base.Engine INFO     \n",
      "2019-08-09 19:57:43,747 sqlalchemy.engine.base.Engine DEBUG    \n",
      "2019-08-09 19:57:43,749 sqlalchemy.engine.base.Engine DEBUG    \n",
      "2019-08-09 19:57:43,751 sqlalchemy.orm.path_registry DEBUG    \n",
      "2019-08-09 19:57:43,753 sqlalchemy.engine.base.Engine INFO     \n",
      "2019-08-09 19:57:43,754 sqlalchemy.engine.base.Engine INFO     \n",
      "2019-08-09 19:57:43,755 sqlalchemy.engine.base.Engine DEBUG    \n",
      "2019-08-09 19:57:43,758 sqlalchemy.engine.base.Engine DEBUG    \n",
      "2019-08-09 19:57:43,762 sqlalchemy.engine.base.Engine INFO     \n",
      "2019-08-09 19:57:43,763 sqlalchemy.engine.base.Engine INFO     \n",
      "2019-08-09 19:57:43,766 sqlalchemy.orm.path_registry DEBUG    \n",
      "2019-08-09 19:57:43,767 sqlalchemy.engine.base.Engine INFO     \n",
      "2019-08-09 19:57:43,770 sqlalchemy.engine.base.Engine INFO     \n",
      "2019-08-09 19:57:43,771 sqlalchemy.engine.base.Engine DEBUG    \n",
      "2019-08-09 19:57:43,772 sqlalchemy.engine.base.Engine DEBUG    \n",
      "2019-08-09 19:57:43,775 sqlalchemy.engine.base.Engine INFO     \n",
      "2019-08-09 19:57:43,778 sqlalchemy.engine.base.Engine INFO     \n",
      "2019-08-09 19:57:43,781 sqlalchemy.engine.base.Engine INFO     \n",
      "2019-08-09 19:57:43,784 sqlalchemy.pool.impl.NullPool DEBUG    \n",
      "2019-08-09 19:57:43,785 sqlalchemy.pool.impl.NullPool DEBUG    \n",
      "2019-08-09 19:57:43,786 sqlalchemy.pool.impl.NullPool DEBUG    \n"
     ]
    }
   ],
   "source": [
    "# add three OrderItem associations to the Order and save\n",
    "order.order_items.append(OrderItem(mug))\n",
    "order.order_items.append(OrderItem(crowbar, 10.99))\n",
    "order.order_items.append(OrderItem(hat))\n",
    "session.add(order)\n",
    "session.commit()"
   ]
  },
  {
   "cell_type": "code",
   "execution_count": null,
   "metadata": {},
   "outputs": [],
   "source": []
  },
  {
   "cell_type": "code",
   "execution_count": 33,
   "metadata": {},
   "outputs": [
    {
     "name": "stderr",
     "output_type": "stream",
     "text": [
      "2019-08-09 19:57:43,805 sqlalchemy.orm.path_registry DEBUG    \n",
      "2019-08-09 19:57:43,809 sqlalchemy.pool.impl.NullPool DEBUG    \n",
      "2019-08-09 19:57:43,814 sqlalchemy.pool.impl.NullPool DEBUG    \n",
      "2019-08-09 19:57:43,816 sqlalchemy.engine.base.Engine INFO     \n",
      "2019-08-09 19:57:43,819 sqlalchemy.engine.base.Engine INFO     \n",
      "2019-08-09 19:57:43,821 sqlalchemy.engine.base.Engine INFO     \n",
      "2019-08-09 19:57:43,825 sqlalchemy.engine.base.Engine DEBUG    \n",
      "2019-08-09 19:57:43,827 sqlalchemy.engine.base.Engine DEBUG    \n",
      "2019-08-09 19:57:43,829 sqlalchemy.orm.path_registry DEBUG    \n",
      "2019-08-09 19:57:43,832 sqlalchemy.orm.path_registry DEBUG    \n",
      "2019-08-09 19:57:43,852 sqlalchemy.orm.path_registry DEBUG    \n",
      "2019-08-09 19:57:43,860 sqlalchemy.engine.base.Engine INFO     \n",
      "2019-08-09 19:57:43,863 sqlalchemy.engine.base.Engine INFO     \n",
      "2019-08-09 19:57:43,867 sqlalchemy.engine.base.Engine DEBUG    \n",
      "2019-08-09 19:57:43,877 sqlalchemy.engine.base.Engine DEBUG    \n",
      "2019-08-09 19:57:43,880 sqlalchemy.engine.base.Engine DEBUG    \n",
      "2019-08-09 19:57:43,881 sqlalchemy.engine.base.Engine DEBUG    \n",
      "2019-08-09 19:57:43,885 sqlalchemy.orm.path_registry DEBUG    \n",
      "2019-08-09 19:57:43,891 sqlalchemy.engine.base.Engine INFO     \n",
      "2019-08-09 19:57:43,893 sqlalchemy.engine.base.Engine INFO     \n",
      "2019-08-09 19:57:43,895 sqlalchemy.engine.base.Engine DEBUG    \n",
      "2019-08-09 19:57:43,897 sqlalchemy.engine.base.Engine DEBUG    \n"
     ]
    },
    {
     "name": "stdout",
     "output_type": "stream",
     "text": [
      "[('SA Mug', 6.5), ('SA Hat', 8.99), ('MySQL Crowbar', 10.99)]\n",
      "['john smith']\n"
     ]
    }
   ],
   "source": [
    "# query the order, print items\n",
    "order = session.query(Order).filter_by(customer_name=\"john smith\").one()\n",
    "print(\n",
    "    [\n",
    "        (order_item.item.description, order_item.price)\n",
    "        for order_item in order.order_items\n",
    "    ]\n",
    ")\n",
    "\n",
    "# print customers who bought 'MySQL Crowbar' on sale\n",
    "q = session.query(Order).join(\"order_items\", \"item\")\n",
    "q = q.filter(\n",
    "    and_(Item.description == \"MySQL Crowbar\", Item.price > OrderItem.price)\n",
    ")\n",
    "\n",
    "print([order.customer_name for order in q])"
   ]
  }
 ],
 "metadata": {
  "kernelspec": {
   "display_name": "Python 3",
   "language": "python",
   "name": "python3"
  },
  "language_info": {
   "codemirror_mode": {
    "name": "ipython",
    "version": 3
   },
   "file_extension": ".py",
   "mimetype": "text/x-python",
   "name": "python",
   "nbconvert_exporter": "python",
   "pygments_lexer": "ipython3",
   "version": "3.7.4"
  }
 },
 "nbformat": 4,
 "nbformat_minor": 2
}
