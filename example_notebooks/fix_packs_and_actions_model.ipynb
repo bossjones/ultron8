{
 "cells": [
  {
   "cell_type": "markdown",
   "metadata": {},
   "source": [
    "# Step 1: Inital db setup"
   ]
  },
  {
   "cell_type": "code",
   "execution_count": 1,
   "metadata": {},
   "outputs": [],
   "source": [
    "# SOURCE: https://ndres.me/post/best-jupyter-notebook-extensions/\n",
    "# autoreload: Autoreloads external files without having to restart the notebook. To enable it:\n",
    "\n",
    "%load_ext autoreload\n",
    "%autoreload 2\n",
    "\n",
    "from IPython.core.interactiveshell import InteractiveShell\n",
    "InteractiveShell.ast_node_interactivity = \"all\""
   ]
  },
  {
   "cell_type": "code",
   "execution_count": 2,
   "metadata": {},
   "outputs": [],
   "source": [
    "# Initial - Setup environment vars before testing anything\n",
    "import os\n",
    "from sqlalchemy import inspect\n",
    "\n",
    "# import better_exceptions; better_exceptions.hook()\n",
    "\n",
    "import sys\n",
    "\n",
    "from IPython.core.debugger import Tracer  # noqa\n",
    "from IPython.core import ultratb\n",
    "\n",
    "sys.excepthook = ultratb.FormattedTB(\n",
    "    mode=\"Verbose\", color_scheme=\"Linux\", call_pdb=True, ostream=sys.__stdout__\n",
    ")\n",
    "\n",
    "os.environ[\"DEBUG\"] = \"1\"\n",
    "os.environ[\"TESTING\"] = \"0\"\n",
    "os.environ[\"BETTER_EXCEPTIONS\"] = \"1\"\n",
    "\n",
    "# os.environ[\"DATABASE_URL\"] = \"sqlite:///:memory:\"\n",
    "# os.environ[\"TEST_DATABASE_URL\"] = \"sqlite:///:memory:\"\n",
    "\n",
    "os.environ[\"DATABASE_URL\"] = \"sqlite:///test.db\"\n",
    "os.environ[\"TEST_DATABASE_URL\"] = \"sqlite:///test.db\"\n",
    "\n",
    "def debug_dump(obj):\n",
    "    for attr in dir(obj):\n",
    "        if hasattr(obj, attr):\n",
    "            print(\"obj.%s = %s\" % (attr, getattr(obj, attr)))"
   ]
  },
  {
   "cell_type": "code",
   "execution_count": null,
   "metadata": {},
   "outputs": [],
   "source": []
  },
  {
   "cell_type": "code",
   "execution_count": null,
   "metadata": {},
   "outputs": [],
   "source": []
  },
  {
   "cell_type": "code",
   "execution_count": 3,
   "metadata": {},
   "outputs": [],
   "source": [
    "# Initalize database and create schema etc\n",
    "\n",
    "import logging\n",
    "\n",
    "from tenacity import after_log, before_log, retry, stop_after_attempt, wait_fixed\n",
    "\n",
    "from ultron8.api.db.u_sqlite.session import db_session\n",
    "\n",
    "logging.basicConfig(level=logging.INFO)\n",
    "logger = logging.getLogger(__name__)\n",
    "\n",
    "max_tries = 60 * 5  # 5 minutes\n",
    "wait_seconds = 1\n",
    "\n",
    "@retry(\n",
    "    stop=stop_after_attempt(max_tries),\n",
    "    wait=wait_fixed(wait_seconds),\n",
    "    before=before_log(logger, logging.INFO),\n",
    "    after=after_log(logger, logging.WARN),\n",
    ")\n",
    "def init():\n",
    "    try:\n",
    "        # Try to create session to check if DB is awake\n",
    "        db_session.execute(\"SELECT 1\")\n",
    "    except Exception as e:\n",
    "        logger.error(e)\n",
    "        raise e\n"
   ]
  },
  {
   "cell_type": "code",
   "execution_count": 4,
   "metadata": {},
   "outputs": [],
   "source": [
    "# Get sqlalchemy classes/objects\n",
    "\n",
    "from ultron8.api.db.u_sqlite.init_db import init_db\n",
    "from ultron8.api.db.u_sqlite.session import db_session, engine, Session\n",
    "\n",
    "# make sure all SQL Alchemy models are imported before initializing DB\n",
    "# otherwise, SQL Alchemy might fail to initialize properly relationships\n",
    "# for more details: https://github.com/tiangolo/full-stack-fastapi-postgresql/issues/28\n",
    "from ultron8.api.db.u_sqlite.base import Base\n",
    "\n",
    "import pandas as pd"
   ]
  },
  {
   "cell_type": "markdown",
   "metadata": {},
   "source": [
    "# Import SQLAlchemy data classes"
   ]
  },
  {
   "cell_type": "code",
   "execution_count": 5,
   "metadata": {},
   "outputs": [],
   "source": [
    "from ultron8.api.db_models.packs import Packs\n",
    "from ultron8.api.db_models.action import Action"
   ]
  },
  {
   "cell_type": "code",
   "execution_count": 6,
   "metadata": {},
   "outputs": [
    {
     "name": "stdout",
     "output_type": "stream",
     "text": [
      "2019-07-21 22:30:36,489 INFO sqlalchemy.engine.base.Engine SELECT CAST('test plain returns' AS VARCHAR(60)) AS anon_1\n"
     ]
    },
    {
     "name": "stderr",
     "output_type": "stream",
     "text": [
      "INFO:sqlalchemy.engine.base.Engine:SELECT CAST('test plain returns' AS VARCHAR(60)) AS anon_1\n"
     ]
    },
    {
     "name": "stdout",
     "output_type": "stream",
     "text": [
      "2019-07-21 22:30:36,492 INFO sqlalchemy.engine.base.Engine ()\n"
     ]
    },
    {
     "name": "stderr",
     "output_type": "stream",
     "text": [
      "INFO:sqlalchemy.engine.base.Engine:()\n"
     ]
    },
    {
     "name": "stdout",
     "output_type": "stream",
     "text": [
      "2019-07-21 22:30:36,498 INFO sqlalchemy.engine.base.Engine SELECT CAST('test unicode returns' AS VARCHAR(60)) AS anon_1\n"
     ]
    },
    {
     "name": "stderr",
     "output_type": "stream",
     "text": [
      "INFO:sqlalchemy.engine.base.Engine:SELECT CAST('test unicode returns' AS VARCHAR(60)) AS anon_1\n"
     ]
    },
    {
     "name": "stdout",
     "output_type": "stream",
     "text": [
      "2019-07-21 22:30:36,504 INFO sqlalchemy.engine.base.Engine ()\n"
     ]
    },
    {
     "name": "stderr",
     "output_type": "stream",
     "text": [
      "INFO:sqlalchemy.engine.base.Engine:()\n"
     ]
    },
    {
     "name": "stdout",
     "output_type": "stream",
     "text": [
      "2019-07-21 22:30:36,508 INFO sqlalchemy.engine.base.Engine PRAGMA table_info(\"item\")\n"
     ]
    },
    {
     "name": "stderr",
     "output_type": "stream",
     "text": [
      "INFO:sqlalchemy.engine.base.Engine:PRAGMA table_info(\"item\")\n"
     ]
    },
    {
     "name": "stdout",
     "output_type": "stream",
     "text": [
      "2019-07-21 22:30:36,512 INFO sqlalchemy.engine.base.Engine ()\n"
     ]
    },
    {
     "name": "stderr",
     "output_type": "stream",
     "text": [
      "INFO:sqlalchemy.engine.base.Engine:()\n"
     ]
    },
    {
     "name": "stdout",
     "output_type": "stream",
     "text": [
      "2019-07-21 22:30:36,517 INFO sqlalchemy.engine.base.Engine PRAGMA table_info(\"user\")\n"
     ]
    },
    {
     "name": "stderr",
     "output_type": "stream",
     "text": [
      "INFO:sqlalchemy.engine.base.Engine:PRAGMA table_info(\"user\")\n"
     ]
    },
    {
     "name": "stdout",
     "output_type": "stream",
     "text": [
      "2019-07-21 22:30:36,524 INFO sqlalchemy.engine.base.Engine ()\n"
     ]
    },
    {
     "name": "stderr",
     "output_type": "stream",
     "text": [
      "INFO:sqlalchemy.engine.base.Engine:()\n"
     ]
    },
    {
     "name": "stdout",
     "output_type": "stream",
     "text": [
      "2019-07-21 22:30:36,536 INFO sqlalchemy.engine.base.Engine PRAGMA table_info(\"packs\")\n"
     ]
    },
    {
     "name": "stderr",
     "output_type": "stream",
     "text": [
      "INFO:sqlalchemy.engine.base.Engine:PRAGMA table_info(\"packs\")\n"
     ]
    },
    {
     "name": "stdout",
     "output_type": "stream",
     "text": [
      "2019-07-21 22:30:36,543 INFO sqlalchemy.engine.base.Engine ()\n"
     ]
    },
    {
     "name": "stderr",
     "output_type": "stream",
     "text": [
      "INFO:sqlalchemy.engine.base.Engine:()\n"
     ]
    },
    {
     "name": "stdout",
     "output_type": "stream",
     "text": [
      "2019-07-21 22:30:36,553 INFO sqlalchemy.engine.base.Engine PRAGMA table_info(\"actions\")\n"
     ]
    },
    {
     "name": "stderr",
     "output_type": "stream",
     "text": [
      "INFO:sqlalchemy.engine.base.Engine:PRAGMA table_info(\"actions\")\n"
     ]
    },
    {
     "name": "stdout",
     "output_type": "stream",
     "text": [
      "2019-07-21 22:30:36,555 INFO sqlalchemy.engine.base.Engine ()\n"
     ]
    },
    {
     "name": "stderr",
     "output_type": "stream",
     "text": [
      "INFO:sqlalchemy.engine.base.Engine:()\n"
     ]
    },
    {
     "name": "stdout",
     "output_type": "stream",
     "text": [
      "2019-07-21 22:30:36,559 INFO sqlalchemy.engine.base.Engine PRAGMA table_info(\"guid_tracker\")\n"
     ]
    },
    {
     "name": "stderr",
     "output_type": "stream",
     "text": [
      "INFO:sqlalchemy.engine.base.Engine:PRAGMA table_info(\"guid_tracker\")\n"
     ]
    },
    {
     "name": "stdout",
     "output_type": "stream",
     "text": [
      "2019-07-21 22:30:36,561 INFO sqlalchemy.engine.base.Engine ()\n"
     ]
    },
    {
     "name": "stderr",
     "output_type": "stream",
     "text": [
      "INFO:sqlalchemy.engine.base.Engine:()\n"
     ]
    },
    {
     "name": "stdout",
     "output_type": "stream",
     "text": [
      "2019-07-21 22:30:36,567 INFO sqlalchemy.engine.base.Engine \n",
      "CREATE TABLE user (\n",
      "\tid INTEGER NOT NULL, \n",
      "\tfull_name VARCHAR, \n",
      "\temail VARCHAR, \n",
      "\thashed_password VARCHAR, \n",
      "\tis_active BOOLEAN, \n",
      "\tis_superuser BOOLEAN, \n",
      "\tPRIMARY KEY (id), \n",
      "\tCHECK (is_active IN (0, 1)), \n",
      "\tCHECK (is_superuser IN (0, 1))\n",
      ")\n",
      "\n",
      "\n"
     ]
    },
    {
     "name": "stderr",
     "output_type": "stream",
     "text": [
      "INFO:sqlalchemy.engine.base.Engine:\n",
      "CREATE TABLE user (\n",
      "\tid INTEGER NOT NULL, \n",
      "\tfull_name VARCHAR, \n",
      "\temail VARCHAR, \n",
      "\thashed_password VARCHAR, \n",
      "\tis_active BOOLEAN, \n",
      "\tis_superuser BOOLEAN, \n",
      "\tPRIMARY KEY (id), \n",
      "\tCHECK (is_active IN (0, 1)), \n",
      "\tCHECK (is_superuser IN (0, 1))\n",
      ")\n",
      "\n",
      "\n"
     ]
    },
    {
     "name": "stdout",
     "output_type": "stream",
     "text": [
      "2019-07-21 22:30:36,572 INFO sqlalchemy.engine.base.Engine ()\n"
     ]
    },
    {
     "name": "stderr",
     "output_type": "stream",
     "text": [
      "INFO:sqlalchemy.engine.base.Engine:()\n"
     ]
    },
    {
     "name": "stdout",
     "output_type": "stream",
     "text": [
      "2019-07-21 22:30:36,581 INFO sqlalchemy.engine.base.Engine COMMIT\n"
     ]
    },
    {
     "name": "stderr",
     "output_type": "stream",
     "text": [
      "INFO:sqlalchemy.engine.base.Engine:COMMIT\n"
     ]
    },
    {
     "name": "stdout",
     "output_type": "stream",
     "text": [
      "2019-07-21 22:30:36,586 INFO sqlalchemy.engine.base.Engine CREATE INDEX ix_user_id ON user (id)\n"
     ]
    },
    {
     "name": "stderr",
     "output_type": "stream",
     "text": [
      "INFO:sqlalchemy.engine.base.Engine:CREATE INDEX ix_user_id ON user (id)\n"
     ]
    },
    {
     "name": "stdout",
     "output_type": "stream",
     "text": [
      "2019-07-21 22:30:36,594 INFO sqlalchemy.engine.base.Engine ()\n"
     ]
    },
    {
     "name": "stderr",
     "output_type": "stream",
     "text": [
      "INFO:sqlalchemy.engine.base.Engine:()\n"
     ]
    },
    {
     "name": "stdout",
     "output_type": "stream",
     "text": [
      "2019-07-21 22:30:36,599 INFO sqlalchemy.engine.base.Engine COMMIT\n"
     ]
    },
    {
     "name": "stderr",
     "output_type": "stream",
     "text": [
      "INFO:sqlalchemy.engine.base.Engine:COMMIT\n"
     ]
    },
    {
     "name": "stdout",
     "output_type": "stream",
     "text": [
      "2019-07-21 22:30:36,601 INFO sqlalchemy.engine.base.Engine CREATE UNIQUE INDEX ix_user_email ON user (email)\n"
     ]
    },
    {
     "name": "stderr",
     "output_type": "stream",
     "text": [
      "INFO:sqlalchemy.engine.base.Engine:CREATE UNIQUE INDEX ix_user_email ON user (email)\n"
     ]
    },
    {
     "name": "stdout",
     "output_type": "stream",
     "text": [
      "2019-07-21 22:30:36,605 INFO sqlalchemy.engine.base.Engine ()\n"
     ]
    },
    {
     "name": "stderr",
     "output_type": "stream",
     "text": [
      "INFO:sqlalchemy.engine.base.Engine:()\n"
     ]
    },
    {
     "name": "stdout",
     "output_type": "stream",
     "text": [
      "2019-07-21 22:30:36,613 INFO sqlalchemy.engine.base.Engine COMMIT\n"
     ]
    },
    {
     "name": "stderr",
     "output_type": "stream",
     "text": [
      "INFO:sqlalchemy.engine.base.Engine:COMMIT\n"
     ]
    },
    {
     "name": "stdout",
     "output_type": "stream",
     "text": [
      "2019-07-21 22:30:36,616 INFO sqlalchemy.engine.base.Engine CREATE INDEX ix_user_full_name ON user (full_name)\n"
     ]
    },
    {
     "name": "stderr",
     "output_type": "stream",
     "text": [
      "INFO:sqlalchemy.engine.base.Engine:CREATE INDEX ix_user_full_name ON user (full_name)\n"
     ]
    },
    {
     "name": "stdout",
     "output_type": "stream",
     "text": [
      "2019-07-21 22:30:36,620 INFO sqlalchemy.engine.base.Engine ()\n"
     ]
    },
    {
     "name": "stderr",
     "output_type": "stream",
     "text": [
      "INFO:sqlalchemy.engine.base.Engine:()\n"
     ]
    },
    {
     "name": "stdout",
     "output_type": "stream",
     "text": [
      "2019-07-21 22:30:36,625 INFO sqlalchemy.engine.base.Engine COMMIT\n"
     ]
    },
    {
     "name": "stderr",
     "output_type": "stream",
     "text": [
      "INFO:sqlalchemy.engine.base.Engine:COMMIT\n"
     ]
    },
    {
     "name": "stdout",
     "output_type": "stream",
     "text": [
      "2019-07-21 22:30:36,628 INFO sqlalchemy.engine.base.Engine \n",
      "CREATE TABLE packs (\n",
      "\tid INTEGER NOT NULL, \n",
      "\tref VARCHAR(255) NOT NULL, \n",
      "\tuid VARCHAR(255), \n",
      "\tname VARCHAR(255) NOT NULL, \n",
      "\tdescription VARCHAR(255) NOT NULL, \n",
      "\tkeywords VARCHAR(255), \n",
      "\tversion VARCHAR(255) NOT NULL, \n",
      "\tpython_versions VARCHAR(255), \n",
      "\tauthor VARCHAR(255) NOT NULL, \n",
      "\temail VARCHAR(255) NOT NULL, \n",
      "\tcontributors VARCHAR(255), \n",
      "\tfiles VARCHAR(255), \n",
      "\tpath VARCHAR(255), \n",
      "\tdependencies VARCHAR(255), \n",
      "\tsystem VARCHAR(255), \n",
      "\tcreated_at DATETIME DEFAULT (utcnow()), \n",
      "\tupdated_at DATETIME, \n",
      "\tPRIMARY KEY (id)\n",
      ")\n",
      "\n",
      "\n"
     ]
    },
    {
     "name": "stderr",
     "output_type": "stream",
     "text": [
      "INFO:sqlalchemy.engine.base.Engine:\n",
      "CREATE TABLE packs (\n",
      "\tid INTEGER NOT NULL, \n",
      "\tref VARCHAR(255) NOT NULL, \n",
      "\tuid VARCHAR(255), \n",
      "\tname VARCHAR(255) NOT NULL, \n",
      "\tdescription VARCHAR(255) NOT NULL, \n",
      "\tkeywords VARCHAR(255), \n",
      "\tversion VARCHAR(255) NOT NULL, \n",
      "\tpython_versions VARCHAR(255), \n",
      "\tauthor VARCHAR(255) NOT NULL, \n",
      "\temail VARCHAR(255) NOT NULL, \n",
      "\tcontributors VARCHAR(255), \n",
      "\tfiles VARCHAR(255), \n",
      "\tpath VARCHAR(255), \n",
      "\tdependencies VARCHAR(255), \n",
      "\tsystem VARCHAR(255), \n",
      "\tcreated_at DATETIME DEFAULT (utcnow()), \n",
      "\tupdated_at DATETIME, \n",
      "\tPRIMARY KEY (id)\n",
      ")\n",
      "\n",
      "\n"
     ]
    },
    {
     "name": "stdout",
     "output_type": "stream",
     "text": [
      "2019-07-21 22:30:36,632 INFO sqlalchemy.engine.base.Engine ()\n"
     ]
    },
    {
     "name": "stderr",
     "output_type": "stream",
     "text": [
      "INFO:sqlalchemy.engine.base.Engine:()\n"
     ]
    },
    {
     "name": "stdout",
     "output_type": "stream",
     "text": [
      "2019-07-21 22:30:36,641 INFO sqlalchemy.engine.base.Engine COMMIT\n"
     ]
    },
    {
     "name": "stderr",
     "output_type": "stream",
     "text": [
      "INFO:sqlalchemy.engine.base.Engine:COMMIT\n"
     ]
    },
    {
     "name": "stdout",
     "output_type": "stream",
     "text": [
      "2019-07-21 22:30:36,650 INFO sqlalchemy.engine.base.Engine CREATE INDEX ix_packs_id ON packs (id)\n"
     ]
    },
    {
     "name": "stderr",
     "output_type": "stream",
     "text": [
      "INFO:sqlalchemy.engine.base.Engine:CREATE INDEX ix_packs_id ON packs (id)\n"
     ]
    },
    {
     "name": "stdout",
     "output_type": "stream",
     "text": [
      "2019-07-21 22:30:36,653 INFO sqlalchemy.engine.base.Engine ()\n"
     ]
    },
    {
     "name": "stderr",
     "output_type": "stream",
     "text": [
      "INFO:sqlalchemy.engine.base.Engine:()\n"
     ]
    },
    {
     "name": "stdout",
     "output_type": "stream",
     "text": [
      "2019-07-21 22:30:36,657 INFO sqlalchemy.engine.base.Engine COMMIT\n"
     ]
    },
    {
     "name": "stderr",
     "output_type": "stream",
     "text": [
      "INFO:sqlalchemy.engine.base.Engine:COMMIT\n"
     ]
    },
    {
     "name": "stdout",
     "output_type": "stream",
     "text": [
      "2019-07-21 22:30:36,665 INFO sqlalchemy.engine.base.Engine \n",
      "CREATE TABLE guid_tracker (\n",
      "\tid VARCHAR NOT NULL, \n",
      "\tname VARCHAR, \n",
      "\texpire DATETIME, \n",
      "\tPRIMARY KEY (id)\n",
      ")\n",
      "\n",
      "\n"
     ]
    },
    {
     "name": "stderr",
     "output_type": "stream",
     "text": [
      "INFO:sqlalchemy.engine.base.Engine:\n",
      "CREATE TABLE guid_tracker (\n",
      "\tid VARCHAR NOT NULL, \n",
      "\tname VARCHAR, \n",
      "\texpire DATETIME, \n",
      "\tPRIMARY KEY (id)\n",
      ")\n",
      "\n",
      "\n"
     ]
    },
    {
     "name": "stdout",
     "output_type": "stream",
     "text": [
      "2019-07-21 22:30:36,667 INFO sqlalchemy.engine.base.Engine ()\n"
     ]
    },
    {
     "name": "stderr",
     "output_type": "stream",
     "text": [
      "INFO:sqlalchemy.engine.base.Engine:()\n"
     ]
    },
    {
     "name": "stdout",
     "output_type": "stream",
     "text": [
      "2019-07-21 22:30:36,672 INFO sqlalchemy.engine.base.Engine COMMIT\n"
     ]
    },
    {
     "name": "stderr",
     "output_type": "stream",
     "text": [
      "INFO:sqlalchemy.engine.base.Engine:COMMIT\n"
     ]
    },
    {
     "name": "stdout",
     "output_type": "stream",
     "text": [
      "2019-07-21 22:30:36,676 INFO sqlalchemy.engine.base.Engine CREATE INDEX ix_guid_tracker_name ON guid_tracker (name)\n"
     ]
    },
    {
     "name": "stderr",
     "output_type": "stream",
     "text": [
      "INFO:sqlalchemy.engine.base.Engine:CREATE INDEX ix_guid_tracker_name ON guid_tracker (name)\n"
     ]
    },
    {
     "name": "stdout",
     "output_type": "stream",
     "text": [
      "2019-07-21 22:30:36,679 INFO sqlalchemy.engine.base.Engine ()\n"
     ]
    },
    {
     "name": "stderr",
     "output_type": "stream",
     "text": [
      "INFO:sqlalchemy.engine.base.Engine:()\n"
     ]
    },
    {
     "name": "stdout",
     "output_type": "stream",
     "text": [
      "2019-07-21 22:30:36,683 INFO sqlalchemy.engine.base.Engine COMMIT\n"
     ]
    },
    {
     "name": "stderr",
     "output_type": "stream",
     "text": [
      "INFO:sqlalchemy.engine.base.Engine:COMMIT\n"
     ]
    },
    {
     "name": "stdout",
     "output_type": "stream",
     "text": [
      "2019-07-21 22:30:36,686 INFO sqlalchemy.engine.base.Engine CREATE INDEX ix_guid_tracker_expire ON guid_tracker (expire)\n"
     ]
    },
    {
     "name": "stderr",
     "output_type": "stream",
     "text": [
      "INFO:sqlalchemy.engine.base.Engine:CREATE INDEX ix_guid_tracker_expire ON guid_tracker (expire)\n"
     ]
    },
    {
     "name": "stdout",
     "output_type": "stream",
     "text": [
      "2019-07-21 22:30:36,690 INFO sqlalchemy.engine.base.Engine ()\n"
     ]
    },
    {
     "name": "stderr",
     "output_type": "stream",
     "text": [
      "INFO:sqlalchemy.engine.base.Engine:()\n"
     ]
    },
    {
     "name": "stdout",
     "output_type": "stream",
     "text": [
      "2019-07-21 22:30:36,701 INFO sqlalchemy.engine.base.Engine COMMIT\n"
     ]
    },
    {
     "name": "stderr",
     "output_type": "stream",
     "text": [
      "INFO:sqlalchemy.engine.base.Engine:COMMIT\n"
     ]
    },
    {
     "name": "stdout",
     "output_type": "stream",
     "text": [
      "2019-07-21 22:30:36,705 INFO sqlalchemy.engine.base.Engine \n",
      "CREATE TABLE item (\n",
      "\tid INTEGER NOT NULL, \n",
      "\ttitle VARCHAR, \n",
      "\tdescription VARCHAR, \n",
      "\towner_id INTEGER, \n",
      "\tPRIMARY KEY (id), \n",
      "\tFOREIGN KEY(owner_id) REFERENCES user (id)\n",
      ")\n",
      "\n",
      "\n"
     ]
    },
    {
     "name": "stderr",
     "output_type": "stream",
     "text": [
      "INFO:sqlalchemy.engine.base.Engine:\n",
      "CREATE TABLE item (\n",
      "\tid INTEGER NOT NULL, \n",
      "\ttitle VARCHAR, \n",
      "\tdescription VARCHAR, \n",
      "\towner_id INTEGER, \n",
      "\tPRIMARY KEY (id), \n",
      "\tFOREIGN KEY(owner_id) REFERENCES user (id)\n",
      ")\n",
      "\n",
      "\n"
     ]
    },
    {
     "name": "stdout",
     "output_type": "stream",
     "text": [
      "2019-07-21 22:30:36,708 INFO sqlalchemy.engine.base.Engine ()\n"
     ]
    },
    {
     "name": "stderr",
     "output_type": "stream",
     "text": [
      "INFO:sqlalchemy.engine.base.Engine:()\n"
     ]
    },
    {
     "name": "stdout",
     "output_type": "stream",
     "text": [
      "2019-07-21 22:30:36,713 INFO sqlalchemy.engine.base.Engine COMMIT\n"
     ]
    },
    {
     "name": "stderr",
     "output_type": "stream",
     "text": [
      "INFO:sqlalchemy.engine.base.Engine:COMMIT\n"
     ]
    },
    {
     "name": "stdout",
     "output_type": "stream",
     "text": [
      "2019-07-21 22:30:36,716 INFO sqlalchemy.engine.base.Engine CREATE INDEX ix_item_title ON item (title)\n"
     ]
    },
    {
     "name": "stderr",
     "output_type": "stream",
     "text": [
      "INFO:sqlalchemy.engine.base.Engine:CREATE INDEX ix_item_title ON item (title)\n"
     ]
    },
    {
     "name": "stdout",
     "output_type": "stream",
     "text": [
      "2019-07-21 22:30:36,720 INFO sqlalchemy.engine.base.Engine ()\n"
     ]
    },
    {
     "name": "stderr",
     "output_type": "stream",
     "text": [
      "INFO:sqlalchemy.engine.base.Engine:()\n"
     ]
    },
    {
     "name": "stdout",
     "output_type": "stream",
     "text": [
      "2019-07-21 22:30:36,733 INFO sqlalchemy.engine.base.Engine COMMIT\n"
     ]
    },
    {
     "name": "stderr",
     "output_type": "stream",
     "text": [
      "INFO:sqlalchemy.engine.base.Engine:COMMIT\n"
     ]
    },
    {
     "name": "stdout",
     "output_type": "stream",
     "text": [
      "2019-07-21 22:30:36,737 INFO sqlalchemy.engine.base.Engine CREATE INDEX ix_item_description ON item (description)\n"
     ]
    },
    {
     "name": "stderr",
     "output_type": "stream",
     "text": [
      "INFO:sqlalchemy.engine.base.Engine:CREATE INDEX ix_item_description ON item (description)\n"
     ]
    },
    {
     "name": "stdout",
     "output_type": "stream",
     "text": [
      "2019-07-21 22:30:36,740 INFO sqlalchemy.engine.base.Engine ()\n"
     ]
    },
    {
     "name": "stderr",
     "output_type": "stream",
     "text": [
      "INFO:sqlalchemy.engine.base.Engine:()\n"
     ]
    },
    {
     "name": "stdout",
     "output_type": "stream",
     "text": [
      "2019-07-21 22:30:36,748 INFO sqlalchemy.engine.base.Engine COMMIT\n"
     ]
    },
    {
     "name": "stderr",
     "output_type": "stream",
     "text": [
      "INFO:sqlalchemy.engine.base.Engine:COMMIT\n"
     ]
    },
    {
     "name": "stdout",
     "output_type": "stream",
     "text": [
      "2019-07-21 22:30:36,751 INFO sqlalchemy.engine.base.Engine CREATE INDEX ix_item_id ON item (id)\n"
     ]
    },
    {
     "name": "stderr",
     "output_type": "stream",
     "text": [
      "INFO:sqlalchemy.engine.base.Engine:CREATE INDEX ix_item_id ON item (id)\n"
     ]
    },
    {
     "name": "stdout",
     "output_type": "stream",
     "text": [
      "2019-07-21 22:30:36,752 INFO sqlalchemy.engine.base.Engine ()\n"
     ]
    },
    {
     "name": "stderr",
     "output_type": "stream",
     "text": [
      "INFO:sqlalchemy.engine.base.Engine:()\n"
     ]
    },
    {
     "name": "stdout",
     "output_type": "stream",
     "text": [
      "2019-07-21 22:30:36,758 INFO sqlalchemy.engine.base.Engine COMMIT\n"
     ]
    },
    {
     "name": "stderr",
     "output_type": "stream",
     "text": [
      "INFO:sqlalchemy.engine.base.Engine:COMMIT\n"
     ]
    },
    {
     "name": "stdout",
     "output_type": "stream",
     "text": [
      "2019-07-21 22:30:36,761 INFO sqlalchemy.engine.base.Engine \n",
      "CREATE TABLE actions (\n",
      "\tid INTEGER NOT NULL, \n",
      "\tref VARCHAR(255), \n",
      "\tuid VARCHAR(255), \n",
      "\tmetadata_file VARCHAR(255), \n",
      "\tname VARCHAR(255), \n",
      "\tdescription VARCHAR(255), \n",
      "\trunner_type VARCHAR(255), \n",
      "\tenabled VARCHAR(255), \n",
      "\tentry_point VARCHAR(255), \n",
      "\tparameters JSON, \n",
      "\ttags VARCHAR(255), \n",
      "\tcreated_at DATETIME DEFAULT (utcnow()), \n",
      "\tupdated_at DATETIME, \n",
      "\tpacks_id INTEGER, \n",
      "\tPRIMARY KEY (id), \n",
      "\tFOREIGN KEY(packs_id) REFERENCES packs (id)\n",
      ")\n",
      "\n",
      "\n"
     ]
    },
    {
     "name": "stderr",
     "output_type": "stream",
     "text": [
      "INFO:sqlalchemy.engine.base.Engine:\n",
      "CREATE TABLE actions (\n",
      "\tid INTEGER NOT NULL, \n",
      "\tref VARCHAR(255), \n",
      "\tuid VARCHAR(255), \n",
      "\tmetadata_file VARCHAR(255), \n",
      "\tname VARCHAR(255), \n",
      "\tdescription VARCHAR(255), \n",
      "\trunner_type VARCHAR(255), \n",
      "\tenabled VARCHAR(255), \n",
      "\tentry_point VARCHAR(255), \n",
      "\tparameters JSON, \n",
      "\ttags VARCHAR(255), \n",
      "\tcreated_at DATETIME DEFAULT (utcnow()), \n",
      "\tupdated_at DATETIME, \n",
      "\tpacks_id INTEGER, \n",
      "\tPRIMARY KEY (id), \n",
      "\tFOREIGN KEY(packs_id) REFERENCES packs (id)\n",
      ")\n",
      "\n",
      "\n"
     ]
    },
    {
     "name": "stdout",
     "output_type": "stream",
     "text": [
      "2019-07-21 22:30:36,764 INFO sqlalchemy.engine.base.Engine ()\n"
     ]
    },
    {
     "name": "stderr",
     "output_type": "stream",
     "text": [
      "INFO:sqlalchemy.engine.base.Engine:()\n"
     ]
    },
    {
     "name": "stdout",
     "output_type": "stream",
     "text": [
      "2019-07-21 22:30:36,769 INFO sqlalchemy.engine.base.Engine COMMIT\n"
     ]
    },
    {
     "name": "stderr",
     "output_type": "stream",
     "text": [
      "INFO:sqlalchemy.engine.base.Engine:COMMIT\n"
     ]
    },
    {
     "name": "stdout",
     "output_type": "stream",
     "text": [
      "2019-07-21 22:30:36,772 INFO sqlalchemy.engine.base.Engine CREATE INDEX ix_actions_id ON actions (id)\n"
     ]
    },
    {
     "name": "stderr",
     "output_type": "stream",
     "text": [
      "INFO:sqlalchemy.engine.base.Engine:CREATE INDEX ix_actions_id ON actions (id)\n"
     ]
    },
    {
     "name": "stdout",
     "output_type": "stream",
     "text": [
      "2019-07-21 22:30:36,777 INFO sqlalchemy.engine.base.Engine ()\n"
     ]
    },
    {
     "name": "stderr",
     "output_type": "stream",
     "text": [
      "INFO:sqlalchemy.engine.base.Engine:()\n"
     ]
    },
    {
     "name": "stdout",
     "output_type": "stream",
     "text": [
      "2019-07-21 22:30:36,783 INFO sqlalchemy.engine.base.Engine COMMIT\n"
     ]
    },
    {
     "name": "stderr",
     "output_type": "stream",
     "text": [
      "INFO:sqlalchemy.engine.base.Engine:COMMIT\n"
     ]
    }
   ],
   "source": [
    "# Tables should be created with Alembic migrations\n",
    "# But if you don't want to use migrations, create\n",
    "# the tables un-commenting the next line\n",
    "# 2 - generate database schema\n",
    "Base.metadata.create_all(bind=engine)\n",
    "\n",
    "# 3 - create a new session\n",
    "session = Session()"
   ]
  },
  {
   "cell_type": "code",
   "execution_count": 7,
   "metadata": {},
   "outputs": [
    {
     "name": "stderr",
     "output_type": "stream",
     "text": [
      "INFO:__main__:Initializing service\n",
      "INFO:__main__:Starting call to '__main__.init', this is the 1st time calling it.\n"
     ]
    },
    {
     "name": "stdout",
     "output_type": "stream",
     "text": [
      "2019-07-21 22:30:36,831 INFO sqlalchemy.engine.base.Engine BEGIN (implicit)\n"
     ]
    },
    {
     "name": "stderr",
     "output_type": "stream",
     "text": [
      "INFO:sqlalchemy.engine.base.Engine:BEGIN (implicit)\n"
     ]
    },
    {
     "name": "stdout",
     "output_type": "stream",
     "text": [
      "2019-07-21 22:30:36,834 INFO sqlalchemy.engine.base.Engine SELECT 1\n"
     ]
    },
    {
     "name": "stderr",
     "output_type": "stream",
     "text": [
      "INFO:sqlalchemy.engine.base.Engine:SELECT 1\n"
     ]
    },
    {
     "name": "stdout",
     "output_type": "stream",
     "text": [
      "2019-07-21 22:30:36,839 INFO sqlalchemy.engine.base.Engine ()\n"
     ]
    },
    {
     "name": "stderr",
     "output_type": "stream",
     "text": [
      "INFO:sqlalchemy.engine.base.Engine:()\n",
      "INFO:__main__:Service finished initializing\n"
     ]
    }
   ],
   "source": [
    "# Try initializing everything now\n",
    "logger.info(\"Initializing service\")\n",
    "init()\n",
    "logger.info(\"Service finished initializing\")\n",
    "\n",
    "\n"
   ]
  },
  {
   "cell_type": "code",
   "execution_count": 8,
   "metadata": {},
   "outputs": [
    {
     "name": "stderr",
     "output_type": "stream",
     "text": [
      "INFO:__main__:Creating initial data\n"
     ]
    },
    {
     "name": "stdout",
     "output_type": "stream",
     "text": [
      "2019-07-21 22:30:36,899 INFO sqlalchemy.engine.base.Engine SELECT user.id AS user_id, user.full_name AS user_full_name, user.email AS user_email, user.hashed_password AS user_hashed_password, user.is_active AS user_is_active, user.is_superuser AS user_is_superuser \n",
      "FROM user \n",
      "WHERE user.email = ?\n",
      " LIMIT ? OFFSET ?\n"
     ]
    },
    {
     "name": "stderr",
     "output_type": "stream",
     "text": [
      "INFO:sqlalchemy.engine.base.Engine:SELECT user.id AS user_id, user.full_name AS user_full_name, user.email AS user_email, user.hashed_password AS user_hashed_password, user.is_active AS user_is_active, user.is_superuser AS user_is_superuser \n",
      "FROM user \n",
      "WHERE user.email = ?\n",
      " LIMIT ? OFFSET ?\n"
     ]
    },
    {
     "name": "stdout",
     "output_type": "stream",
     "text": [
      "2019-07-21 22:30:36,902 INFO sqlalchemy.engine.base.Engine ('admin', 1, 0)\n"
     ]
    },
    {
     "name": "stderr",
     "output_type": "stream",
     "text": [
      "INFO:sqlalchemy.engine.base.Engine:('admin', 1, 0)\n"
     ]
    },
    {
     "name": "stdout",
     "output_type": "stream",
     "text": [
      "2019-07-21 22:30:37,249 INFO sqlalchemy.engine.base.Engine INSERT INTO user (full_name, email, hashed_password, is_active, is_superuser) VALUES (?, ?, ?, ?, ?)\n"
     ]
    },
    {
     "name": "stderr",
     "output_type": "stream",
     "text": [
      "INFO:sqlalchemy.engine.base.Engine:INSERT INTO user (full_name, email, hashed_password, is_active, is_superuser) VALUES (?, ?, ?, ?, ?)\n"
     ]
    },
    {
     "name": "stdout",
     "output_type": "stream",
     "text": [
      "2019-07-21 22:30:37,251 INFO sqlalchemy.engine.base.Engine (None, 'admin', '$2b$12$wFUpDkqq9IC5NF29qa/Az.hqS3ZnYEj9LjkjGLDooxGl6tT.vDQoS', 1, 1)\n"
     ]
    },
    {
     "name": "stderr",
     "output_type": "stream",
     "text": [
      "INFO:sqlalchemy.engine.base.Engine:(None, 'admin', '$2b$12$wFUpDkqq9IC5NF29qa/Az.hqS3ZnYEj9LjkjGLDooxGl6tT.vDQoS', 1, 1)\n"
     ]
    },
    {
     "name": "stdout",
     "output_type": "stream",
     "text": [
      "2019-07-21 22:30:37,256 INFO sqlalchemy.engine.base.Engine COMMIT\n"
     ]
    },
    {
     "name": "stderr",
     "output_type": "stream",
     "text": [
      "INFO:sqlalchemy.engine.base.Engine:COMMIT\n"
     ]
    },
    {
     "name": "stdout",
     "output_type": "stream",
     "text": [
      "2019-07-21 22:30:37,262 INFO sqlalchemy.engine.base.Engine BEGIN (implicit)\n"
     ]
    },
    {
     "name": "stderr",
     "output_type": "stream",
     "text": [
      "INFO:sqlalchemy.engine.base.Engine:BEGIN (implicit)\n"
     ]
    },
    {
     "name": "stdout",
     "output_type": "stream",
     "text": [
      "2019-07-21 22:30:37,266 INFO sqlalchemy.engine.base.Engine SELECT user.id AS user_id, user.full_name AS user_full_name, user.email AS user_email, user.hashed_password AS user_hashed_password, user.is_active AS user_is_active, user.is_superuser AS user_is_superuser \n",
      "FROM user \n",
      "WHERE user.id = ?\n"
     ]
    },
    {
     "name": "stderr",
     "output_type": "stream",
     "text": [
      "INFO:sqlalchemy.engine.base.Engine:SELECT user.id AS user_id, user.full_name AS user_full_name, user.email AS user_email, user.hashed_password AS user_hashed_password, user.is_active AS user_is_active, user.is_superuser AS user_is_superuser \n",
      "FROM user \n",
      "WHERE user.id = ?\n"
     ]
    },
    {
     "name": "stdout",
     "output_type": "stream",
     "text": [
      "2019-07-21 22:30:37,269 INFO sqlalchemy.engine.base.Engine (1,)\n"
     ]
    },
    {
     "name": "stderr",
     "output_type": "stream",
     "text": [
      "INFO:sqlalchemy.engine.base.Engine:(1,)\n",
      "INFO:__main__:Initial data created\n"
     ]
    }
   ],
   "source": [
    "logger.info(\"Creating initial data\")\n",
    "init_db(db_session)\n",
    "logger.info(\"Initial data created\")"
   ]
  },
  {
   "cell_type": "code",
   "execution_count": 9,
   "metadata": {},
   "outputs": [
    {
     "name": "stdout",
     "output_type": "stream",
     "text": [
      "obj.RESOURCE_TYPE = ResourceType.ACTION\n",
      "obj.UID_FIELDS = ['metadata_file', 'name']\n",
      "obj.UID_SEPARATOR = :\n",
      "obj.__class__ = <class 'sqlalchemy.ext.declarative.api.DeclarativeMeta'>\n",
      "obj.__delattr__ = <slot wrapper '__delattr__' of 'object' objects>\n",
      "obj.__dict__ = {'__module__': 'ultron8.api.db_models.action', '__doc__': 'Db Schema for Action table.', 'RESOURCE_TYPE': <ResourceType.ACTION: 'action'>, 'UID_FIELDS': ['metadata_file', 'name'], '__tablename__': 'actions', 'id': <sqlalchemy.orm.attributes.InstrumentedAttribute object at 0x10e374bf8>, 'ref': <sqlalchemy.orm.attributes.InstrumentedAttribute object at 0x10e374d58>, 'uid': <sqlalchemy.orm.attributes.InstrumentedAttribute object at 0x10e374e08>, 'metadata_file': <sqlalchemy.orm.attributes.InstrumentedAttribute object at 0x10e374eb8>, 'name': <sqlalchemy.orm.attributes.InstrumentedAttribute object at 0x10e374f68>, 'description': <sqlalchemy.orm.attributes.InstrumentedAttribute object at 0x10e3aa048>, 'runner_type': <sqlalchemy.orm.attributes.InstrumentedAttribute object at 0x10e3aa0f8>, 'enabled': <sqlalchemy.orm.attributes.InstrumentedAttribute object at 0x10e3aa1a8>, 'entry_point': <sqlalchemy.orm.attributes.InstrumentedAttribute object at 0x10e3aa258>, 'parameters': <sqlalchemy.orm.attributes.InstrumentedAttribute object at 0x10e3aa308>, 'tags': <sqlalchemy.orm.attributes.InstrumentedAttribute object at 0x10e3aa3b8>, 'created_at': <sqlalchemy.orm.attributes.InstrumentedAttribute object at 0x10e3aa468>, 'updated_at': <sqlalchemy.orm.attributes.InstrumentedAttribute object at 0x10e3aa518>, 'packs_id': <sqlalchemy.orm.attributes.InstrumentedAttribute object at 0x10e3aa570>, '__init__': <function __init__ at 0x10e39ea60>, 'get_packs_name': <function Action.get_packs_name at 0x10e39e598>, 'get_reference': <function Action.get_reference at 0x10e39e6a8>, '__repr__': <function Action.__repr__ at 0x10e39e730>, '__table__': Table('actions', MetaData(bind=None), Column('id', Integer(), table=<actions>, primary_key=True, nullable=False), Column('ref', String(length=255), table=<actions>), Column('uid', String(length=255), table=<actions>), Column('metadata_file', String(length=255), table=<actions>), Column('name', String(length=255), table=<actions>), Column('description', String(length=255), table=<actions>), Column('runner_type', String(length=255), table=<actions>), Column('enabled', String(length=255), table=<actions>), Column('entry_point', String(length=255), table=<actions>), Column('parameters', JSON(), table=<actions>), Column('tags', String(length=255), table=<actions>), Column('created_at', DateTime(timezone=True), table=<actions>, server_default=DefaultClause(<sqlalchemy.sql.functions.Function at 0x10e3a14e0; utcnow>, for_update=False)), Column('updated_at', DateTime(timezone=True), table=<actions>, onupdate=ColumnDefault(<sqlalchemy.sql.functions.Function at 0x10e3a1630; utcnow>)), Column('packs_id', Integer(), ForeignKey('packs.id'), table=<actions>), schema=None), '_sa_class_manager': <ClassManager of <class 'ultron8.api.db_models.action.Action'> at 10e374ba0>, '__mapper__': <Mapper at 0x10e3a1908; Action>, 'pack': <sqlalchemy.orm.attributes.InstrumentedAttribute object at 0x116a08d58>}\n",
      "obj.__dir__ = <method '__dir__' of 'object' objects>\n",
      "obj.__doc__ = Db Schema for Action table.\n",
      "obj.__eq__ = <slot wrapper '__eq__' of 'object' objects>\n",
      "obj.__format__ = <method '__format__' of 'object' objects>\n",
      "obj.__ge__ = <slot wrapper '__ge__' of 'object' objects>\n",
      "obj.__getattribute__ = <slot wrapper '__getattribute__' of 'object' objects>\n",
      "obj.__gt__ = <slot wrapper '__gt__' of 'object' objects>\n",
      "obj.__hash__ = <slot wrapper '__hash__' of 'object' objects>\n",
      "obj.__init__ = <function __init__ at 0x10e39ea60>\n",
      "obj.__init_subclass__ = <built-in method __init_subclass__ of DeclarativeMeta object at 0x7fcf26cd9638>\n",
      "obj.__le__ = <slot wrapper '__le__' of 'object' objects>\n",
      "obj.__lt__ = <slot wrapper '__lt__' of 'object' objects>\n",
      "obj.__mapper__ = mapped class Action->actions\n",
      "obj.__module__ = ultron8.api.db_models.action\n",
      "obj.__ne__ = <slot wrapper '__ne__' of 'object' objects>\n",
      "obj.__new__ = <built-in method __new__ of type object at 0x10a4cb470>\n",
      "obj.__reduce__ = <method '__reduce__' of 'object' objects>\n",
      "obj.__reduce_ex__ = <method '__reduce_ex__' of 'object' objects>\n",
      "obj.__repr__ = <function Action.__repr__ at 0x10e39e730>\n",
      "obj.__setattr__ = <slot wrapper '__setattr__' of 'object' objects>\n",
      "obj.__sizeof__ = <method '__sizeof__' of 'object' objects>\n",
      "obj.__str__ = <slot wrapper '__str__' of 'object' objects>\n",
      "obj.__subclasshook__ = <built-in method __subclasshook__ of DeclarativeMeta object at 0x7fcf26cd9638>\n",
      "obj.__table__ = actions\n",
      "obj.__tablename__ = actions\n",
      "obj.__weakref__ = <attribute '__weakref__' of 'UIDFieldMixin' objects>\n",
      "obj._decl_class_registry = <WeakValueDictionary at 0x10db54d30>\n",
      "obj._sa_class_manager = <ClassManager of <class 'ultron8.api.db_models.action.Action'> at 10e374ba0>\n",
      "obj.created_at = Action.created_at\n",
      "obj.description = Action.description\n",
      "obj.enabled = Action.enabled\n",
      "obj.entry_point = Action.entry_point\n",
      "obj.get_packs_name = <function Action.get_packs_name at 0x10e39e598>\n",
      "obj.get_reference = <function Action.get_reference at 0x10e39e6a8>\n",
      "obj.get_uid = <function UIDFieldMixin.get_uid at 0x10e373bf8>\n",
      "obj.get_uid_parts = <function UIDFieldMixin.get_uid_parts at 0x10e373c80>\n",
      "obj.has_valid_uid = <function UIDFieldMixin.has_valid_uid at 0x10e373d08>\n",
      "obj.id = Action.id\n",
      "obj.metadata = MetaData(bind=None)\n",
      "obj.metadata_file = Action.metadata_file\n",
      "obj.name = Action.name\n",
      "obj.pack = Action.pack\n",
      "obj.packs_id = Action.packs_id\n",
      "obj.parameters = Action.parameters\n",
      "obj.ref = Action.ref\n",
      "obj.runner_type = Action.runner_type\n",
      "obj.tags = Action.tags\n",
      "obj.uid = Action.uid\n",
      "obj.updated_at = Action.updated_at\n"
     ]
    }
   ],
   "source": [
    "debug_dump(Action)"
   ]
  },
  {
   "cell_type": "markdown",
   "metadata": {},
   "source": [
    "# Step 2: Now That we have a working sqlite session, let's try playing w/ our various db_models classes etc"
   ]
  },
  {
   "cell_type": "code",
   "execution_count": 10,
   "metadata": {},
   "outputs": [],
   "source": [
    "# Step A. Create a pack ( which has actions, triggers, and sensors associated with it )"
   ]
  },
  {
   "cell_type": "markdown",
   "metadata": {},
   "source": [
    "# Step 3: Import each of the db_models"
   ]
  },
  {
   "cell_type": "code",
   "execution_count": 11,
   "metadata": {},
   "outputs": [],
   "source": [
    "# from ultron8.api.db_models.action import Action\n",
    "# from ultron8.api.db_models.guid import Guid\n",
    "# from ultron8.api.db_models.item import Item\n",
    "# from ultron8.api.db_models.packs import Packs\n",
    "# from ultron8.api.db_models.rule import RuleTypeParameter, RuleType, Rules\n",
    "# from ultron8.api.db_models.sensors import Sensors\n",
    "# # from ultron8.api.db_models.timer import TimeDB\n",
    "# from ultron8.api.db_models.trigger import TriggerType, Trigger, TriggerInstanceDB\n",
    "# from ultron8.api.db_models.user import User"
   ]
  },
  {
   "cell_type": "markdown",
   "metadata": {},
   "source": [
    "# Step 4: Ok, let us try inserting, and updating data in the database"
   ]
  },
  {
   "cell_type": "markdown",
   "metadata": {},
   "source": [
    "# PACKS"
   ]
  },
  {
   "cell_type": "code",
   "execution_count": 12,
   "metadata": {},
   "outputs": [
    {
     "data": {
      "text/plain": [
       "Packs<name=linux,ref=linux>"
      ]
     },
     "execution_count": 12,
     "metadata": {},
     "output_type": "execute_result"
    },
    {
     "name": "stdout",
     "output_type": "stream",
     "text": [
      "obj.RESOURCE_TYPE = ResourceType.PACK\n",
      "obj.UID_FIELDS = ['ref']\n",
      "obj.UID_SEPARATOR = :\n",
      "obj.__class__ = <class 'ultron8.api.db_models.packs.Packs'>\n",
      "obj.__delattr__ = <method-wrapper '__delattr__' of Packs object at 0x116b377f0>\n",
      "obj.__dict__ = {'_sa_instance_state': <sqlalchemy.orm.state.InstanceState object at 0x116b37828>, 'name': 'linux', 'description': 'Generic Linux actions', 'keywords': 'linux', 'version': '0.1.0', 'python_versions': '3', 'author': 'Jarvis', 'email': 'info@theblacktonystark.com', 'contributors': 'bossjones', 'files': './tests/fixtures/simple/packs/linux', 'path': './tests/fixtures/simple/packs/linux', 'ref': 'linux', 'uid': 'pack:linux'}\n",
      "obj.__dir__ = <built-in method __dir__ of Packs object at 0x116b377f0>\n",
      "obj.__doc__ = Db Schema for Packs table.\n",
      "obj.__eq__ = <method-wrapper '__eq__' of Packs object at 0x116b377f0>\n",
      "obj.__format__ = <built-in method __format__ of Packs object at 0x116b377f0>\n",
      "obj.__ge__ = <method-wrapper '__ge__' of Packs object at 0x116b377f0>\n",
      "obj.__getattribute__ = <method-wrapper '__getattribute__' of Packs object at 0x116b377f0>\n",
      "obj.__gt__ = <method-wrapper '__gt__' of Packs object at 0x116b377f0>\n",
      "obj.__hash__ = <method-wrapper '__hash__' of Packs object at 0x116b377f0>\n",
      "obj.__init__ = <bound method __init__ of Packs<name=linux,ref=linux>>\n",
      "obj.__init_subclass__ = <built-in method __init_subclass__ of DeclarativeMeta object at 0x7fcf28b64b18>\n",
      "obj.__le__ = <method-wrapper '__le__' of Packs object at 0x116b377f0>\n",
      "obj.__lt__ = <method-wrapper '__lt__' of Packs object at 0x116b377f0>\n",
      "obj.__mapper__ = mapped class Packs->packs\n",
      "obj.__module__ = ultron8.api.db_models.packs\n",
      "obj.__ne__ = <method-wrapper '__ne__' of Packs object at 0x116b377f0>\n",
      "obj.__new__ = <built-in method __new__ of type object at 0x10a4cb470>\n",
      "obj.__reduce__ = <built-in method __reduce__ of Packs object at 0x116b377f0>\n",
      "obj.__reduce_ex__ = <built-in method __reduce_ex__ of Packs object at 0x116b377f0>\n",
      "obj.__repr__ = <bound method Packs.__repr__ of Packs<name=linux,ref=linux>>\n",
      "obj.__setattr__ = <method-wrapper '__setattr__' of Packs object at 0x116b377f0>\n",
      "obj.__sizeof__ = <built-in method __sizeof__ of Packs object at 0x116b377f0>\n",
      "obj.__str__ = <method-wrapper '__str__' of Packs object at 0x116b377f0>\n",
      "obj.__subclasshook__ = <built-in method __subclasshook__ of DeclarativeMeta object at 0x7fcf28b64b18>\n",
      "obj.__table__ = packs\n",
      "obj.__tablename__ = packs\n",
      "obj.__weakref__ = <weakref at 0x116a0d368; to 'Packs' at 0x116b377f0>\n",
      "obj._decl_class_registry = <WeakValueDictionary at 0x10db54d30>\n",
      "obj._sa_class_manager = <ClassManager of <class 'ultron8.api.db_models.packs.Packs'> at 10e35b5c8>\n",
      "obj._sa_instance_state = <sqlalchemy.orm.state.InstanceState object at 0x116b37828>\n",
      "obj.actions = []\n",
      "obj.author = Jarvis\n",
      "obj.contributors = bossjones\n",
      "obj.created_at = None\n",
      "obj.dependencies = None\n",
      "obj.description = Generic Linux actions\n",
      "obj.email = info@theblacktonystark.com\n",
      "obj.files = ./tests/fixtures/simple/packs/linux\n",
      "obj.get_uid = <bound method UIDFieldMixin.get_uid of Packs<name=linux,ref=linux>>\n",
      "obj.get_uid_parts = <bound method UIDFieldMixin.get_uid_parts of Packs<name=linux,ref=linux>>\n",
      "obj.has_valid_uid = <bound method UIDFieldMixin.has_valid_uid of Packs<name=linux,ref=linux>>\n",
      "obj.id = None\n",
      "obj.keywords = linux\n",
      "obj.metadata = MetaData(bind=None)\n",
      "obj.name = linux\n",
      "obj.path = ./tests/fixtures/simple/packs/linux\n",
      "obj.python_versions = 3\n",
      "obj.ref = linux\n",
      "obj.system = None\n",
      "obj.uid = pack:linux\n",
      "obj.updated_at = None\n",
      "obj.version = 0.1.0\n"
     ]
    }
   ],
   "source": [
    "##########################################\n",
    "# packs\n",
    "##########################################\n",
    "\n",
    "# p = Packs(name='linux', description='Generic Linux actions', keywords='linux', version='0.1.0', python_versions='3', author='Jarvis', email='info@theblacktonystark.com', contributors='bossjones', files='./tests/fixtures/simple/packs/linux', path=\"./tests/fixtures/simple/packs/linux\", actions=[\n",
    "#     Action(name=\"check_loadavg\", runner_type=\"remote-shell-script\", description=\"Check CPU Load Average on a Host\", enabled=True, entry_point=\"checks/check_loadavg.py\", parameters='{\"period\": {\"enum\": [\"1\",\"5\",\"15\",\"all\"], \"type\": \"string\", \"description\": \"Time period for load avg: 1,5,15 minutes, or \\'all\\'\", \"default\": \"all\", \"position\": 0}}')\n",
    "# ])\n",
    "\n",
    "# Create - packs\n",
    "pack_linux = Packs(\n",
    "    name=\"linux\",\n",
    "    description=\"Generic Linux actions\",\n",
    "    keywords=\"linux\",\n",
    "    version=\"0.1.0\",\n",
    "    python_versions=\"3\",\n",
    "    author=\"Jarvis\",\n",
    "    email=\"info@theblacktonystark.com\",\n",
    "    contributors=\"bossjones\",\n",
    "    files=\"./tests/fixtures/simple/packs/linux\",\n",
    "    path=\"./tests/fixtures/simple/packs/linux\",\n",
    "    ref=\"linux\"\n",
    ")\n",
    "\n",
    "pack_linux\n",
    "\n",
    "# inspect pack\n",
    "# insp = inspect(pack_linux)\n",
    "# insp\n",
    "\n",
    "debug_dump(pack_linux)"
   ]
  },
  {
   "cell_type": "code",
   "execution_count": 13,
   "metadata": {},
   "outputs": [
    {
     "data": {
      "text/plain": [
       "Action<name=check_loadavg,ref=linux.check_loadavg,runner_type=remote-shell-script,entry_point=checks/check_loadavg.py>"
      ]
     },
     "execution_count": 13,
     "metadata": {},
     "output_type": "execute_result"
    },
    {
     "name": "stdout",
     "output_type": "stream",
     "text": [
      "obj.RESOURCE_TYPE = ResourceType.ACTION\n",
      "obj.UID_FIELDS = ['metadata_file', 'name']\n",
      "obj.UID_SEPARATOR = :\n",
      "obj.__class__ = <class 'ultron8.api.db_models.action.Action'>\n",
      "obj.__delattr__ = <method-wrapper '__delattr__' of Action object at 0x116b37748>\n",
      "obj.__dict__ = {'_sa_instance_state': <sqlalchemy.orm.state.InstanceState object at 0x116b37710>, 'name': 'check_loadavg', 'runner_type': 'remote-shell-script', 'description': 'Check CPU Load Average on a Host', 'enabled': True, 'entry_point': 'checks/check_loadavg.py', 'parameters': '{\"period\": {\"enum\": [\"1\",\"5\",\"15\",\"all\"], \"type\": \"string\", \"description\": \"Time period for load avg: 1,5,15 minutes, or \\'all\\'\", \"default\": \"all\", \"position\": 0}}', 'pack': Packs<name=linux,ref=linux>, 'ref': 'linux.check_loadavg', 'uid': 'action::check_loadavg'}\n",
      "obj.__dir__ = <built-in method __dir__ of Action object at 0x116b37748>\n",
      "obj.__doc__ = Db Schema for Action table.\n",
      "obj.__eq__ = <method-wrapper '__eq__' of Action object at 0x116b37748>\n",
      "obj.__format__ = <built-in method __format__ of Action object at 0x116b37748>\n",
      "obj.__ge__ = <method-wrapper '__ge__' of Action object at 0x116b37748>\n",
      "obj.__getattribute__ = <method-wrapper '__getattribute__' of Action object at 0x116b37748>\n",
      "obj.__gt__ = <method-wrapper '__gt__' of Action object at 0x116b37748>\n",
      "obj.__hash__ = <method-wrapper '__hash__' of Action object at 0x116b37748>\n",
      "obj.__init__ = <bound method __init__ of Action<name=check_loadavg,ref=linux.check_loadavg,runner_type=remote-shell-script,entry_point=checks/check_loadavg.py>>\n",
      "obj.__init_subclass__ = <built-in method __init_subclass__ of DeclarativeMeta object at 0x7fcf26cd9638>\n",
      "obj.__le__ = <method-wrapper '__le__' of Action object at 0x116b37748>\n",
      "obj.__lt__ = <method-wrapper '__lt__' of Action object at 0x116b37748>\n",
      "obj.__mapper__ = mapped class Action->actions\n",
      "obj.__module__ = ultron8.api.db_models.action\n",
      "obj.__ne__ = <method-wrapper '__ne__' of Action object at 0x116b37748>\n",
      "obj.__new__ = <built-in method __new__ of type object at 0x10a4cb470>\n",
      "obj.__reduce__ = <built-in method __reduce__ of Action object at 0x116b37748>\n",
      "obj.__reduce_ex__ = <built-in method __reduce_ex__ of Action object at 0x116b37748>\n",
      "obj.__repr__ = <bound method Action.__repr__ of Action<name=check_loadavg,ref=linux.check_loadavg,runner_type=remote-shell-script,entry_point=checks/check_loadavg.py>>\n",
      "obj.__setattr__ = <method-wrapper '__setattr__' of Action object at 0x116b37748>\n",
      "obj.__sizeof__ = <built-in method __sizeof__ of Action object at 0x116b37748>\n",
      "obj.__str__ = <method-wrapper '__str__' of Action object at 0x116b37748>\n",
      "obj.__subclasshook__ = <built-in method __subclasshook__ of DeclarativeMeta object at 0x7fcf26cd9638>\n",
      "obj.__table__ = actions\n",
      "obj.__tablename__ = actions\n",
      "obj.__weakref__ = <weakref at 0x116a3ff48; to 'Action' at 0x116b37748>\n",
      "obj._decl_class_registry = <WeakValueDictionary at 0x10db54d30>\n",
      "obj._sa_class_manager = <ClassManager of <class 'ultron8.api.db_models.action.Action'> at 10e374ba0>\n",
      "obj._sa_instance_state = <sqlalchemy.orm.state.InstanceState object at 0x116b37710>\n",
      "obj.created_at = None\n",
      "obj.description = Check CPU Load Average on a Host\n",
      "obj.enabled = True\n",
      "obj.entry_point = checks/check_loadavg.py\n",
      "obj.get_packs_name = <bound method Action.get_packs_name of Action<name=check_loadavg,ref=linux.check_loadavg,runner_type=remote-shell-script,entry_point=checks/check_loadavg.py>>\n",
      "obj.get_reference = <bound method Action.get_reference of Action<name=check_loadavg,ref=linux.check_loadavg,runner_type=remote-shell-script,entry_point=checks/check_loadavg.py>>\n",
      "obj.get_uid = <bound method UIDFieldMixin.get_uid of Action<name=check_loadavg,ref=linux.check_loadavg,runner_type=remote-shell-script,entry_point=checks/check_loadavg.py>>\n",
      "obj.get_uid_parts = <bound method UIDFieldMixin.get_uid_parts of Action<name=check_loadavg,ref=linux.check_loadavg,runner_type=remote-shell-script,entry_point=checks/check_loadavg.py>>\n",
      "obj.has_valid_uid = <bound method UIDFieldMixin.has_valid_uid of Action<name=check_loadavg,ref=linux.check_loadavg,runner_type=remote-shell-script,entry_point=checks/check_loadavg.py>>\n",
      "obj.id = None\n",
      "obj.metadata = MetaData(bind=None)\n",
      "obj.metadata_file = None\n",
      "obj.name = check_loadavg\n",
      "obj.pack = Packs<name=linux,ref=linux>\n",
      "obj.packs_id = None\n",
      "obj.parameters = {\"period\": {\"enum\": [\"1\",\"5\",\"15\",\"all\"], \"type\": \"string\", \"description\": \"Time period for load avg: 1,5,15 minutes, or 'all'\", \"default\": \"all\", \"position\": 0}}\n",
      "obj.ref = linux.check_loadavg\n",
      "obj.runner_type = remote-shell-script\n",
      "obj.tags = None\n",
      "obj.uid = action::check_loadavg\n",
      "obj.updated_at = None\n"
     ]
    }
   ],
   "source": [
    "# Create - actions\n",
    "\n",
    "action_check_loadavg = Action(\n",
    "    name=\"check_loadavg\",\n",
    "    runner_type=\"remote-shell-script\",\n",
    "    description=\"Check CPU Load Average on a Host\",\n",
    "    enabled=True,\n",
    "    entry_point=\"checks/check_loadavg.py\",\n",
    "    parameters='{\"period\": {\"enum\": [\"1\",\"5\",\"15\",\"all\"], \"type\": \"string\", \"description\": \"Time period for load avg: 1,5,15 minutes, or \\'all\\'\", \"default\": \"all\", \"position\": 0}}',\n",
    "    pack=pack_linux\n",
    ")\n",
    "\n",
    "action_check_loadavg\n",
    "\n",
    "# action_check_loadavg.dump()\n",
    "\n",
    "debug_dump(action_check_loadavg)"
   ]
  },
  {
   "cell_type": "code",
   "execution_count": 14,
   "metadata": {},
   "outputs": [],
   "source": [
    "# %debug\n",
    "# committing pack to db\n",
    "\n",
    "# session.add(p)\n",
    "\n",
    "# session.commit()"
   ]
  },
  {
   "cell_type": "code",
   "execution_count": 15,
   "metadata": {},
   "outputs": [],
   "source": [
    "# p = session.query(Packs).get(1)\n",
    "# for a in p.actions:\n",
    "#     print(a, inspect(e).key, a.pack)\n",
    "# assert set([a.name for e in c.actions]) == set(\n",
    "#     [\"linux\"]\n",
    "# )\n",
    "# print(\"\\n\")"
   ]
  },
  {
   "cell_type": "code",
   "execution_count": 16,
   "metadata": {},
   "outputs": [
    {
     "data": {
      "text/plain": [
       "Action<name=check_loadavg,ref=linux.check_loadavg,runner_type=remote-shell-script,entry_point=checks/check_loadavg.py>"
      ]
     },
     "execution_count": 16,
     "metadata": {},
     "output_type": "execute_result"
    }
   ],
   "source": [
    "action_check_loadavg"
   ]
  },
  {
   "cell_type": "code",
   "execution_count": 17,
   "metadata": {},
   "outputs": [
    {
     "name": "stdout",
     "output_type": "stream",
     "text": [
      "Action\t Base\t InteractiveShell\t Packs\t Session\t Tracer\t action_check_loadavg\t after_log\t before_log\t \n",
      "db_session\t debug_dump\t engine\t init\t init_db\t inspect\t logger\t logging\t max_tries\t \n",
      "os\t pack_linux\t pd\t retry\t session\t stop_after_attempt\t sys\t ultratb\t wait_fixed\t \n",
      "wait_seconds\t \n"
     ]
    }
   ],
   "source": [
    "# list all variables of global scope\n",
    "# SOURCE: https://www.dataquest.io/blog/jupyter-notebook-tips-tricks-shortcuts/\n",
    "%who"
   ]
  },
  {
   "cell_type": "code",
   "execution_count": 18,
   "metadata": {},
   "outputs": [],
   "source": [
    "# Jupyter-contrib extensions ( MUST HAVE )\n",
    "\n",
    "# !pip install https://github.com/ipython-contrib/jupyter_contrib_nbextensions/tarball/master\n",
    "# !pip install jupyter_nbextensions_configurator\n",
    "# !jupyter contrib nbextension install --user\n",
    "# !jupyter nbextensions_configurator enable --user"
   ]
  },
  {
   "cell_type": "code",
   "execution_count": 19,
   "metadata": {},
   "outputs": [],
   "source": [
    "session.commit()"
   ]
  },
  {
   "cell_type": "code",
   "execution_count": null,
   "metadata": {},
   "outputs": [],
   "source": []
  }
 ],
 "metadata": {
  "kernelspec": {
   "display_name": "Python 3",
   "language": "python",
   "name": "python3"
  },
  "language_info": {
   "codemirror_mode": {
    "name": "ipython",
    "version": 3
   },
   "file_extension": ".py",
   "mimetype": "text/x-python",
   "name": "python",
   "nbconvert_exporter": "python",
   "pygments_lexer": "ipython3",
   "version": "3.6.8"
  },
  "toc": {
   "base_numbering": 1,
   "nav_menu": {},
   "number_sections": true,
   "sideBar": true,
   "skip_h1_title": false,
   "title_cell": "Table of Contents",
   "title_sidebar": "Contents",
   "toc_cell": false,
   "toc_position": {},
   "toc_section_display": true,
   "toc_window_display": false
  },
  "varInspector": {
   "cols": {
    "lenName": 16,
    "lenType": 16,
    "lenVar": 40
   },
   "kernels_config": {
    "python": {
     "delete_cmd_postfix": "",
     "delete_cmd_prefix": "del ",
     "library": "var_list.py",
     "varRefreshCmd": "print(var_dic_list())"
    },
    "r": {
     "delete_cmd_postfix": ") ",
     "delete_cmd_prefix": "rm(",
     "library": "var_list.r",
     "varRefreshCmd": "cat(var_dic_list()) "
    }
   },
   "types_to_exclude": [
    "module",
    "function",
    "builtin_function_or_method",
    "instance",
    "_Feature"
   ],
   "window_display": false
  }
 },
 "nbformat": 4,
 "nbformat_minor": 2
}
