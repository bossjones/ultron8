{
 "cells": [
  {
   "cell_type": "markdown",
   "metadata": {},
   "source": [
    "# Step 1: Inital db setup"
   ]
  },
  {
   "cell_type": "code",
   "execution_count": 17,
   "metadata": {},
   "outputs": [
    {
     "name": "stdout",
     "output_type": "stream",
     "text": [
      "The autoreload extension is already loaded. To reload it, use:\n",
      "  %reload_ext autoreload\n"
     ]
    }
   ],
   "source": [
    "# SOURCE: https://ndres.me/post/best-jupyter-notebook-extensions/\n",
    "# autoreload: Autoreloads external files without having to restart the notebook. To enable it:\n",
    "\n",
    "%load_ext autoreload\n",
    "%autoreload 2\n",
    "\n",
    "from IPython.core.interactiveshell import InteractiveShell\n",
    "InteractiveShell.ast_node_interactivity = \"all\""
   ]
  },
  {
   "cell_type": "code",
   "execution_count": 2,
   "metadata": {},
   "outputs": [],
   "source": [
    "# Initial - Setup environment vars before testing anything\n",
    "import os\n",
    "from sqlalchemy import inspect\n",
    "\n",
    "# import better_exceptions; better_exceptions.hook()\n",
    "\n",
    "import sys\n",
    "\n",
    "from IPython.core.debugger import Tracer  # noqa\n",
    "from IPython.core import ultratb\n",
    "\n",
    "sys.excepthook = ultratb.FormattedTB(\n",
    "    mode=\"Verbose\", color_scheme=\"Linux\", call_pdb=True, ostream=sys.__stdout__\n",
    ")\n",
    "\n",
    "os.environ[\"DEBUG\"] = \"1\"\n",
    "os.environ[\"TESTING\"] = \"0\"\n",
    "os.environ[\"BETTER_EXCEPTIONS\"] = \"1\"\n",
    "\n",
    "# os.environ[\"DATABASE_URL\"] = \"sqlite:///:memory:\"\n",
    "# os.environ[\"TEST_DATABASE_URL\"] = \"sqlite:///:memory:\"\n",
    "\n",
    "os.environ[\"DATABASE_URL\"] = \"sqlite:///test.db\"\n",
    "os.environ[\"TEST_DATABASE_URL\"] = \"sqlite:///test.db\"\n",
    "\n",
    "def debug_dump(obj):\n",
    "    for attr in dir(obj):\n",
    "        if hasattr(obj, attr):\n",
    "            print(\"obj.%s = %s\" % (attr, getattr(obj, attr)))"
   ]
  },
  {
   "cell_type": "code",
   "execution_count": null,
   "metadata": {},
   "outputs": [],
   "source": []
  },
  {
   "cell_type": "code",
   "execution_count": null,
   "metadata": {},
   "outputs": [],
   "source": []
  },
  {
   "cell_type": "code",
   "execution_count": 3,
   "metadata": {},
   "outputs": [],
   "source": [
    "# Initalize database and create schema etc\n",
    "\n",
    "import logging\n",
    "\n",
    "from tenacity import after_log, before_log, retry, stop_after_attempt, wait_fixed\n",
    "\n",
    "from ultron8.api.db.u_sqlite.session import db_session\n",
    "\n",
    "logging.basicConfig(level=logging.INFO)\n",
    "logger = logging.getLogger(__name__)\n",
    "\n",
    "max_tries = 60 * 5  # 5 minutes\n",
    "wait_seconds = 1\n",
    "\n",
    "@retry(\n",
    "    stop=stop_after_attempt(max_tries),\n",
    "    wait=wait_fixed(wait_seconds),\n",
    "    before=before_log(logger, logging.INFO),\n",
    "    after=after_log(logger, logging.WARN),\n",
    ")\n",
    "def init():\n",
    "    try:\n",
    "        # Try to create session to check if DB is awake\n",
    "        db_session.execute(\"SELECT 1\")\n",
    "    except Exception as e:\n",
    "        logger.error(e)\n",
    "        raise e\n"
   ]
  },
  {
   "cell_type": "code",
   "execution_count": 4,
   "metadata": {},
   "outputs": [],
   "source": [
    "# Get sqlalchemy classes/objects\n",
    "\n",
    "from ultron8.api.db.u_sqlite.init_db import init_db\n",
    "from ultron8.api.db.u_sqlite.session import db_session, engine, Session\n",
    "\n",
    "# make sure all SQL Alchemy models are imported before initializing DB\n",
    "# otherwise, SQL Alchemy might fail to initialize properly relationships\n",
    "# for more details: https://github.com/tiangolo/full-stack-fastapi-postgresql/issues/28\n",
    "from ultron8.api.db.u_sqlite.base import Base\n",
    "\n",
    "import pandas as pd"
   ]
  },
  {
   "cell_type": "markdown",
   "metadata": {},
   "source": [
    "# Import SQLAlchemy data classes"
   ]
  },
  {
   "cell_type": "code",
   "execution_count": 5,
   "metadata": {},
   "outputs": [],
   "source": [
    "from ultron8.api.db_models.packs import Packs\n",
    "from ultron8.api.db_models.action import Action\n",
    "# from ultron8.api.db_models.guid import Guid\n",
    "# from ultron8.api.db_models.item import Item\n",
    "\n",
    "# from ultron8.api.db_models.rule import RuleTypeParameter, RuleType, Rules\n",
    "# from ultron8.api.db_models.sensors import Sensors\n",
    "# from ultron8.api.db_models.timer import TimeDB\n",
    "# from ultron8.api.db_models.trigger import TriggerType, Trigger, TriggerInstanceDB\n",
    "# from ultron8.api.db_models.user import User"
   ]
  },
  {
   "cell_type": "code",
   "execution_count": 6,
   "metadata": {},
   "outputs": [
    {
     "name": "stdout",
     "output_type": "stream",
     "text": [
      "2019-07-12 16:14:55,578 INFO sqlalchemy.engine.base.Engine SELECT CAST('test plain returns' AS VARCHAR(60)) AS anon_1\n"
     ]
    },
    {
     "name": "stderr",
     "output_type": "stream",
     "text": [
      "INFO:sqlalchemy.engine.base.Engine:SELECT CAST('test plain returns' AS VARCHAR(60)) AS anon_1\n"
     ]
    },
    {
     "name": "stdout",
     "output_type": "stream",
     "text": [
      "2019-07-12 16:14:55,581 INFO sqlalchemy.engine.base.Engine ()\n"
     ]
    },
    {
     "name": "stderr",
     "output_type": "stream",
     "text": [
      "INFO:sqlalchemy.engine.base.Engine:()\n"
     ]
    },
    {
     "name": "stdout",
     "output_type": "stream",
     "text": [
      "2019-07-12 16:14:55,594 INFO sqlalchemy.engine.base.Engine SELECT CAST('test unicode returns' AS VARCHAR(60)) AS anon_1\n"
     ]
    },
    {
     "name": "stderr",
     "output_type": "stream",
     "text": [
      "INFO:sqlalchemy.engine.base.Engine:SELECT CAST('test unicode returns' AS VARCHAR(60)) AS anon_1\n"
     ]
    },
    {
     "name": "stdout",
     "output_type": "stream",
     "text": [
      "2019-07-12 16:14:55,598 INFO sqlalchemy.engine.base.Engine ()\n"
     ]
    },
    {
     "name": "stderr",
     "output_type": "stream",
     "text": [
      "INFO:sqlalchemy.engine.base.Engine:()\n"
     ]
    },
    {
     "name": "stdout",
     "output_type": "stream",
     "text": [
      "2019-07-12 16:14:55,607 INFO sqlalchemy.engine.base.Engine PRAGMA table_info(\"item\")\n"
     ]
    },
    {
     "name": "stderr",
     "output_type": "stream",
     "text": [
      "INFO:sqlalchemy.engine.base.Engine:PRAGMA table_info(\"item\")\n"
     ]
    },
    {
     "name": "stdout",
     "output_type": "stream",
     "text": [
      "2019-07-12 16:14:55,718 INFO sqlalchemy.engine.base.Engine ()\n"
     ]
    },
    {
     "name": "stderr",
     "output_type": "stream",
     "text": [
      "INFO:sqlalchemy.engine.base.Engine:()\n"
     ]
    },
    {
     "name": "stdout",
     "output_type": "stream",
     "text": [
      "2019-07-12 16:14:55,726 INFO sqlalchemy.engine.base.Engine PRAGMA table_info(\"user\")\n"
     ]
    },
    {
     "name": "stderr",
     "output_type": "stream",
     "text": [
      "INFO:sqlalchemy.engine.base.Engine:PRAGMA table_info(\"user\")\n"
     ]
    },
    {
     "name": "stdout",
     "output_type": "stream",
     "text": [
      "2019-07-12 16:14:55,730 INFO sqlalchemy.engine.base.Engine ()\n"
     ]
    },
    {
     "name": "stderr",
     "output_type": "stream",
     "text": [
      "INFO:sqlalchemy.engine.base.Engine:()\n"
     ]
    },
    {
     "name": "stdout",
     "output_type": "stream",
     "text": [
      "2019-07-12 16:14:55,751 INFO sqlalchemy.engine.base.Engine PRAGMA table_info(\"guid_tracker\")\n"
     ]
    },
    {
     "name": "stderr",
     "output_type": "stream",
     "text": [
      "INFO:sqlalchemy.engine.base.Engine:PRAGMA table_info(\"guid_tracker\")\n"
     ]
    },
    {
     "name": "stdout",
     "output_type": "stream",
     "text": [
      "2019-07-12 16:14:55,755 INFO sqlalchemy.engine.base.Engine ()\n"
     ]
    },
    {
     "name": "stderr",
     "output_type": "stream",
     "text": [
      "INFO:sqlalchemy.engine.base.Engine:()\n"
     ]
    },
    {
     "name": "stdout",
     "output_type": "stream",
     "text": [
      "2019-07-12 16:14:55,762 INFO sqlalchemy.engine.base.Engine PRAGMA table_info(\"packs_actions\")\n"
     ]
    },
    {
     "name": "stderr",
     "output_type": "stream",
     "text": [
      "INFO:sqlalchemy.engine.base.Engine:PRAGMA table_info(\"packs_actions\")\n"
     ]
    },
    {
     "name": "stdout",
     "output_type": "stream",
     "text": [
      "2019-07-12 16:14:55,766 INFO sqlalchemy.engine.base.Engine ()\n"
     ]
    },
    {
     "name": "stderr",
     "output_type": "stream",
     "text": [
      "INFO:sqlalchemy.engine.base.Engine:()\n"
     ]
    },
    {
     "name": "stdout",
     "output_type": "stream",
     "text": [
      "2019-07-12 16:14:55,770 INFO sqlalchemy.engine.base.Engine PRAGMA table_info(\"packs\")\n"
     ]
    },
    {
     "name": "stderr",
     "output_type": "stream",
     "text": [
      "INFO:sqlalchemy.engine.base.Engine:PRAGMA table_info(\"packs\")\n"
     ]
    },
    {
     "name": "stdout",
     "output_type": "stream",
     "text": [
      "2019-07-12 16:14:55,773 INFO sqlalchemy.engine.base.Engine ()\n"
     ]
    },
    {
     "name": "stderr",
     "output_type": "stream",
     "text": [
      "INFO:sqlalchemy.engine.base.Engine:()\n"
     ]
    },
    {
     "name": "stdout",
     "output_type": "stream",
     "text": [
      "2019-07-12 16:14:55,780 INFO sqlalchemy.engine.base.Engine PRAGMA table_info(\"actions\")\n"
     ]
    },
    {
     "name": "stderr",
     "output_type": "stream",
     "text": [
      "INFO:sqlalchemy.engine.base.Engine:PRAGMA table_info(\"actions\")\n"
     ]
    },
    {
     "name": "stdout",
     "output_type": "stream",
     "text": [
      "2019-07-12 16:14:55,786 INFO sqlalchemy.engine.base.Engine ()\n"
     ]
    },
    {
     "name": "stderr",
     "output_type": "stream",
     "text": [
      "INFO:sqlalchemy.engine.base.Engine:()\n"
     ]
    }
   ],
   "source": [
    "# Tables should be created with Alembic migrations\n",
    "# But if you don't want to use migrations, create\n",
    "# the tables un-commenting the next line\n",
    "# 2 - generate database schema\n",
    "Base.metadata.create_all(bind=engine)\n",
    "\n",
    "# 3 - create a new session\n",
    "session = Session()"
   ]
  },
  {
   "cell_type": "code",
   "execution_count": 7,
   "metadata": {},
   "outputs": [
    {
     "name": "stderr",
     "output_type": "stream",
     "text": [
      "INFO:__main__:Initializing service\n",
      "INFO:__main__:Starting call to '__main__.init', this is the 1st time calling it.\n"
     ]
    },
    {
     "name": "stdout",
     "output_type": "stream",
     "text": [
      "2019-07-12 16:14:55,905 INFO sqlalchemy.engine.base.Engine BEGIN (implicit)\n"
     ]
    },
    {
     "name": "stderr",
     "output_type": "stream",
     "text": [
      "INFO:sqlalchemy.engine.base.Engine:BEGIN (implicit)\n"
     ]
    },
    {
     "name": "stdout",
     "output_type": "stream",
     "text": [
      "2019-07-12 16:14:55,929 INFO sqlalchemy.engine.base.Engine SELECT 1\n"
     ]
    },
    {
     "name": "stderr",
     "output_type": "stream",
     "text": [
      "INFO:sqlalchemy.engine.base.Engine:SELECT 1\n"
     ]
    },
    {
     "name": "stdout",
     "output_type": "stream",
     "text": [
      "2019-07-12 16:14:55,940 INFO sqlalchemy.engine.base.Engine ()\n"
     ]
    },
    {
     "name": "stderr",
     "output_type": "stream",
     "text": [
      "INFO:sqlalchemy.engine.base.Engine:()\n",
      "INFO:__main__:Service finished initializing\n"
     ]
    }
   ],
   "source": [
    "# Try initializing everything now\n",
    "logger.info(\"Initializing service\")\n",
    "init()\n",
    "logger.info(\"Service finished initializing\")\n",
    "\n",
    "\n"
   ]
  },
  {
   "cell_type": "code",
   "execution_count": 8,
   "metadata": {},
   "outputs": [
    {
     "name": "stderr",
     "output_type": "stream",
     "text": [
      "INFO:__main__:Creating initial data\n"
     ]
    },
    {
     "name": "stdout",
     "output_type": "stream",
     "text": [
      "2019-07-12 16:14:56,493 INFO sqlalchemy.engine.base.Engine SELECT user.id AS user_id, user.full_name AS user_full_name, user.email AS user_email, user.hashed_password AS user_hashed_password, user.is_active AS user_is_active, user.is_superuser AS user_is_superuser \n",
      "FROM user \n",
      "WHERE user.email = ?\n",
      " LIMIT ? OFFSET ?\n"
     ]
    },
    {
     "name": "stderr",
     "output_type": "stream",
     "text": [
      "INFO:sqlalchemy.engine.base.Engine:SELECT user.id AS user_id, user.full_name AS user_full_name, user.email AS user_email, user.hashed_password AS user_hashed_password, user.is_active AS user_is_active, user.is_superuser AS user_is_superuser \n",
      "FROM user \n",
      "WHERE user.email = ?\n",
      " LIMIT ? OFFSET ?\n"
     ]
    },
    {
     "name": "stdout",
     "output_type": "stream",
     "text": [
      "2019-07-12 16:14:56,497 INFO sqlalchemy.engine.base.Engine ('admin', 1, 0)\n"
     ]
    },
    {
     "name": "stderr",
     "output_type": "stream",
     "text": [
      "INFO:sqlalchemy.engine.base.Engine:('admin', 1, 0)\n",
      "INFO:__main__:Initial data created\n"
     ]
    }
   ],
   "source": [
    "logger.info(\"Creating initial data\")\n",
    "init_db(db_session)\n",
    "logger.info(\"Initial data created\")"
   ]
  },
  {
   "cell_type": "code",
   "execution_count": 9,
   "metadata": {},
   "outputs": [
    {
     "name": "stdout",
     "output_type": "stream",
     "text": [
      "obj.RESOURCE_TYPE = ResourceType.ACTION\n",
      "obj.UID_FIELDS = ['packs_name', 'name']\n",
      "obj.UID_SEPARATOR = :\n",
      "obj.__class__ = <class 'sqlalchemy.ext.declarative.api.DeclarativeMeta'>\n",
      "obj.__delattr__ = <slot wrapper '__delattr__' of 'object' objects>\n",
      "obj.__dict__ = {'__module__': 'ultron8.api.db_models.action', '__doc__': 'Db Schema for Action table.', 'RESOURCE_TYPE': <ResourceType.ACTION: 'action'>, 'UID_FIELDS': ['packs_name', 'name'], '__tablename__': 'actions', 'id': <sqlalchemy.orm.attributes.InstrumentedAttribute object at 0x11c002d58>, 'ref': <sqlalchemy.orm.attributes.InstrumentedAttribute object at 0x11c002e08>, 'uid': <sqlalchemy.orm.attributes.InstrumentedAttribute object at 0x11c002eb8>, 'metadata_file': <sqlalchemy.orm.attributes.InstrumentedAttribute object at 0x11c002f68>, 'name': <sqlalchemy.orm.attributes.InstrumentedAttribute object at 0x11c012048>, 'description': <sqlalchemy.orm.attributes.InstrumentedAttribute object at 0x11c0120f8>, 'runner_type': <sqlalchemy.orm.attributes.InstrumentedAttribute object at 0x11c0121a8>, 'enabled': <sqlalchemy.orm.attributes.InstrumentedAttribute object at 0x11c012258>, 'entry_point': <sqlalchemy.orm.attributes.InstrumentedAttribute object at 0x11c012308>, 'parameters': <sqlalchemy.orm.attributes.InstrumentedAttribute object at 0x11c0123b8>, 'tags': <sqlalchemy.orm.attributes.InstrumentedAttribute object at 0x11c012468>, 'created_at': <sqlalchemy.orm.attributes.InstrumentedAttribute object at 0x11c012518>, 'updated_at': <sqlalchemy.orm.attributes.InstrumentedAttribute object at 0x11c0125c8>, 'packs_id': <sqlalchemy.orm.attributes.InstrumentedAttribute object at 0x11c012620>, 'packs_name': <sqlalchemy.orm.attributes.InstrumentedAttribute object at 0x11c0126d0>, 'pack': <sqlalchemy.orm.attributes.InstrumentedAttribute object at 0x11c002ca8>, '__init__': <function __init__ at 0x11bffb378>, 'get_reference': <function Action.get_reference at 0x11bffb6a8>, '__table__': Table('actions', MetaData(bind=None), Column('id', Integer(), table=<actions>, primary_key=True, nullable=False), Column('ref', String(length=255), table=<actions>), Column('uid', String(length=255), table=<actions>), Column('metadata_file', String(length=255), table=<actions>), Column('name', String(length=255), table=<actions>), Column('description', String(length=255), table=<actions>), Column('runner_type', String(length=255), table=<actions>), Column('enabled', String(length=255), table=<actions>), Column('entry_point', String(length=255), table=<actions>), Column('parameters', String(length=255), table=<actions>), Column('tags', String(length=255), table=<actions>), Column('created_at', DateTime(timezone=True), table=<actions>, server_default=DefaultClause(<sqlalchemy.sql.functions.Function at 0x11c0478d0; utcnow>, for_update=False)), Column('updated_at', DateTime(timezone=True), table=<actions>, onupdate=ColumnDefault(<sqlalchemy.sql.functions.Function at 0x11c047a20; utcnow>)), Column('packs_id', Integer(), ForeignKey('packs.id'), table=<actions>), Column('packs_name', Integer(), ForeignKey('packs.name'), table=<actions>), schema=None), '_sa_class_manager': <ClassManager of <class 'ultron8.api.db_models.action.Action'> at 11c002bf8>, '__mapper__': <Mapper at 0x11c047e10; Action>}\n",
      "obj.__dir__ = <method '__dir__' of 'object' objects>\n",
      "obj.__doc__ = Db Schema for Action table.\n",
      "obj.__eq__ = <slot wrapper '__eq__' of 'object' objects>\n",
      "obj.__format__ = <method '__format__' of 'object' objects>\n",
      "obj.__ge__ = <slot wrapper '__ge__' of 'object' objects>\n",
      "obj.__getattribute__ = <slot wrapper '__getattribute__' of 'object' objects>\n",
      "obj.__gt__ = <slot wrapper '__gt__' of 'object' objects>\n",
      "obj.__hash__ = <slot wrapper '__hash__' of 'object' objects>\n",
      "obj.__init__ = <function __init__ at 0x11bffb378>\n",
      "obj.__init_subclass__ = <built-in method __init_subclass__ of DeclarativeMeta object at 0x7fe473542e38>\n",
      "obj.__le__ = <slot wrapper '__le__' of 'object' objects>\n",
      "obj.__lt__ = <slot wrapper '__lt__' of 'object' objects>\n",
      "obj.__mapper__ = mapped class Action->actions\n",
      "obj.__module__ = ultron8.api.db_models.action\n",
      "obj.__ne__ = <slot wrapper '__ne__' of 'object' objects>\n",
      "obj.__new__ = <built-in method __new__ of type object at 0x10fae6470>\n",
      "obj.__reduce__ = <method '__reduce__' of 'object' objects>\n",
      "obj.__reduce_ex__ = <method '__reduce_ex__' of 'object' objects>\n",
      "obj.__repr__ = <slot wrapper '__repr__' of 'object' objects>\n",
      "obj.__setattr__ = <slot wrapper '__setattr__' of 'object' objects>\n",
      "obj.__sizeof__ = <method '__sizeof__' of 'object' objects>\n",
      "obj.__str__ = <slot wrapper '__str__' of 'object' objects>\n",
      "obj.__subclasshook__ = <built-in method __subclasshook__ of DeclarativeMeta object at 0x7fe473542e38>\n",
      "obj.__table__ = actions\n",
      "obj.__tablename__ = actions\n",
      "obj.__weakref__ = <attribute '__weakref__' of 'UIDFieldMixin' objects>\n",
      "obj._decl_class_registry = <WeakValueDictionary at 0x113169e48>\n",
      "obj._sa_class_manager = <ClassManager of <class 'ultron8.api.db_models.action.Action'> at 11c002bf8>\n",
      "obj.created_at = Action.created_at\n",
      "obj.description = Action.description\n",
      "obj.enabled = Action.enabled\n",
      "obj.entry_point = Action.entry_point\n",
      "obj.get_reference = <function Action.get_reference at 0x11bffb6a8>\n",
      "obj.get_uid = <function UIDFieldMixin.get_uid at 0x11bfd4a60>\n",
      "obj.get_uid_parts = <function UIDFieldMixin.get_uid_parts at 0x11bfd4ae8>\n",
      "obj.has_valid_uid = <function UIDFieldMixin.has_valid_uid at 0x11bfd4b70>\n",
      "obj.id = Action.id\n",
      "obj.metadata = MetaData(bind=None)\n",
      "obj.metadata_file = Action.metadata_file\n",
      "obj.name = Action.name\n",
      "obj.pack = Action.pack\n",
      "obj.packs_id = Action.packs_id\n",
      "obj.packs_name = Action.packs_name\n",
      "obj.parameters = Action.parameters\n",
      "obj.ref = Action.ref\n",
      "obj.runner_type = Action.runner_type\n",
      "obj.tags = Action.tags\n",
      "obj.uid = Action.uid\n",
      "obj.updated_at = Action.updated_at\n"
     ]
    }
   ],
   "source": [
    "debug_dump(Action)"
   ]
  },
  {
   "cell_type": "markdown",
   "metadata": {},
   "source": [
    "# Step 2: Now That we have a working sqlite session, let's try playing w/ our various db_models classes etc"
   ]
  },
  {
   "cell_type": "code",
   "execution_count": 10,
   "metadata": {},
   "outputs": [],
   "source": [
    "# Step A. Create a pack ( which has actions, triggers, and sensors associated with it )"
   ]
  },
  {
   "cell_type": "markdown",
   "metadata": {},
   "source": [
    "# Step 3: Import each of the db_models"
   ]
  },
  {
   "cell_type": "code",
   "execution_count": 11,
   "metadata": {},
   "outputs": [],
   "source": [
    "# from ultron8.api.db_models.action import Action\n",
    "# from ultron8.api.db_models.guid import Guid\n",
    "# from ultron8.api.db_models.item import Item\n",
    "# from ultron8.api.db_models.packs import Packs\n",
    "# from ultron8.api.db_models.rule import RuleTypeParameter, RuleType, Rules\n",
    "# from ultron8.api.db_models.sensors import Sensors\n",
    "# # from ultron8.api.db_models.timer import TimeDB\n",
    "# from ultron8.api.db_models.trigger import TriggerType, Trigger, TriggerInstanceDB\n",
    "# from ultron8.api.db_models.user import User"
   ]
  },
  {
   "cell_type": "markdown",
   "metadata": {},
   "source": [
    "# Step 4: Ok, let us try inserting, and updating data in the database"
   ]
  },
  {
   "cell_type": "markdown",
   "metadata": {},
   "source": [
    "# PACKS"
   ]
  },
  {
   "cell_type": "code",
   "execution_count": 12,
   "metadata": {},
   "outputs": [
    {
     "data": {
      "text/plain": [
       "Packs(name=linux)"
      ]
     },
     "execution_count": 12,
     "metadata": {},
     "output_type": "execute_result"
    }
   ],
   "source": [
    "##########################################\n",
    "# packs\n",
    "##########################################\n",
    "\n",
    "# p = Packs(name='linux', description='Generic Linux actions', keywords='linux', version='0.1.0', python_versions='3', author='Jarvis', email='info@theblacktonystark.com', contributors='bossjones', files='./tests/fixtures/simple/packs/linux', path=\"./tests/fixtures/simple/packs/linux\", actions=[\n",
    "#     Action(name=\"check_loadavg\", runner_type=\"remote-shell-script\", description=\"Check CPU Load Average on a Host\", enabled=True, entry_point=\"checks/check_loadavg.py\", parameters='{\"period\": {\"enum\": [\"1\",\"5\",\"15\",\"all\"], \"type\": \"string\", \"description\": \"Time period for load avg: 1,5,15 minutes, or \\'all\\'\", \"default\": \"all\", \"position\": 0}}')\n",
    "# ])\n",
    "\n",
    "# Create - packs\n",
    "pack_linux = Packs(\n",
    "    name=\"linux\",\n",
    "    description=\"Generic Linux actions\",\n",
    "    keywords=\"linux\",\n",
    "    version=\"0.1.0\",\n",
    "    python_versions=\"3\",\n",
    "    author=\"Jarvis\",\n",
    "    email=\"info@theblacktonystark.com\",\n",
    "    contributors=\"bossjones\",\n",
    "    files=\"./tests/fixtures/simple/packs/linux\",\n",
    "    path=\"./tests/fixtures/simple/packs/linux\",\n",
    "    ref=\"linux\"\n",
    ")\n",
    "\n",
    "pack_linux"
   ]
  },
  {
   "cell_type": "code",
   "execution_count": 13,
   "metadata": {},
   "outputs": [],
   "source": [
    "# Create - actions\n",
    "\n",
    "action_check_loadavg = Action(\n",
    "    name=\"check_loadavg\",\n",
    "    runner_type=\"remote-shell-script\",\n",
    "    description=\"Check CPU Load Average on a Host\",\n",
    "    enabled=True,\n",
    "    entry_point=\"checks/check_loadavg.py\",\n",
    "    parameters='{\"period\": {\"enum\": [\"1\",\"5\",\"15\",\"all\"], \"type\": \"string\", \"description\": \"Time period for load avg: 1,5,15 minutes, or \\'all\\'\", \"default\": \"all\", \"position\": 0}}',\n",
    "    pack=pack_linux\n",
    ")"
   ]
  },
  {
   "cell_type": "code",
   "execution_count": 14,
   "metadata": {},
   "outputs": [
    {
     "name": "stderr",
     "output_type": "stream",
     "text": [
      "ERROR:root:No traceback has been produced, nothing to debug.\n"
     ]
    }
   ],
   "source": [
    "# %debug\n",
    "# committing pack to db\n",
    "\n",
    "# session.add(p)\n",
    "\n",
    "# session.commit()"
   ]
  },
  {
   "cell_type": "code",
   "execution_count": 15,
   "metadata": {},
   "outputs": [],
   "source": [
    "# p = session.query(Packs).get(1)\n",
    "# for a in p.actions:\n",
    "#     print(a, inspect(e).key, a.pack)\n",
    "# assert set([a.name for e in c.actions]) == set(\n",
    "#     [\"linux\"]\n",
    "# )\n",
    "# print(\"\\n\")"
   ]
  },
  {
   "cell_type": "code",
   "execution_count": 16,
   "metadata": {},
   "outputs": [
    {
     "data": {
      "text/plain": [
       "<ultron8.api.db_models.action.Action at 0x11c090710>"
      ]
     },
     "execution_count": 16,
     "metadata": {},
     "output_type": "execute_result"
    }
   ],
   "source": [
    "action_check_loadavg"
   ]
  },
  {
   "cell_type": "code",
   "execution_count": 18,
   "metadata": {},
   "outputs": [
    {
     "name": "stdout",
     "output_type": "stream",
     "text": [
      "Action\t Base\t InteractiveShell\t Packs\t Session\t Tracer\t action_check_loadavg\t after_log\t before_log\t \n",
      "db_session\t debug_dump\t engine\t init\t init_db\t inspect\t logger\t logging\t max_tries\t \n",
      "os\t pack_linux\t pd\t retry\t session\t stop_after_attempt\t sys\t ultratb\t wait_fixed\t \n",
      "wait_seconds\t \n"
     ]
    }
   ],
   "source": [
    "# list all variables of global scope\n",
    "# SOURCE: https://www.dataquest.io/blog/jupyter-notebook-tips-tricks-shortcuts/\n",
    "%who"
   ]
  },
  {
   "cell_type": "code",
   "execution_count": 19,
   "metadata": {},
   "outputs": [
    {
     "name": "stdout",
     "output_type": "stream",
     "text": [
      "Collecting https://github.com/ipython-contrib/jupyter_contrib_nbextensions/tarball/master\n",
      "\u001b[?25l  Downloading https://github.com/ipython-contrib/jupyter_contrib_nbextensions/tarball/master\n",
      "\u001b[K     \\ 28.2MB 2.3MB/s\n",
      "\u001b[?25hRequirement already satisfied (use --upgrade to upgrade): jupyter-contrib-nbextensions==0.5.1 from https://github.com/ipython-contrib/jupyter_contrib_nbextensions/tarball/master in /Users/malcolm/.virtualenvs/ultron8-cznMaMZB/lib/python3.6/site-packages\n",
      "Requirement already satisfied: ipython_genutils in /Users/malcolm/.virtualenvs/ultron8-cznMaMZB/lib/python3.6/site-packages (from jupyter-contrib-nbextensions==0.5.1) (0.2.0)\n",
      "Requirement already satisfied: jupyter_contrib_core>=0.3.3 in /Users/malcolm/.virtualenvs/ultron8-cznMaMZB/lib/python3.6/site-packages (from jupyter-contrib-nbextensions==0.5.1) (0.3.3)\n",
      "Requirement already satisfied: jupyter_core in /Users/malcolm/.virtualenvs/ultron8-cznMaMZB/lib/python3.6/site-packages (from jupyter-contrib-nbextensions==0.5.1) (4.4.0)\n",
      "Requirement already satisfied: jupyter_highlight_selected_word>=0.1.1 in /Users/malcolm/.virtualenvs/ultron8-cznMaMZB/lib/python3.6/site-packages (from jupyter-contrib-nbextensions==0.5.1) (0.2.0)\n",
      "Requirement already satisfied: jupyter_latex_envs>=1.3.8 in /Users/malcolm/.virtualenvs/ultron8-cznMaMZB/lib/python3.6/site-packages (from jupyter-contrib-nbextensions==0.5.1) (1.4.6)\n",
      "Requirement already satisfied: jupyter_nbextensions_configurator>=0.4.0 in /Users/malcolm/.virtualenvs/ultron8-cznMaMZB/lib/python3.6/site-packages (from jupyter-contrib-nbextensions==0.5.1) (0.4.1)\n",
      "Requirement already satisfied: nbconvert>=4.2 in /Users/malcolm/.virtualenvs/ultron8-cznMaMZB/lib/python3.6/site-packages (from jupyter-contrib-nbextensions==0.5.1) (5.5.0)\n",
      "Requirement already satisfied: notebook>=4.0 in /Users/malcolm/.virtualenvs/ultron8-cznMaMZB/lib/python3.6/site-packages (from jupyter-contrib-nbextensions==0.5.1) (5.7.8)\n",
      "Requirement already satisfied: pyyaml in /Users/malcolm/.virtualenvs/ultron8-cznMaMZB/lib/python3.6/site-packages (from jupyter-contrib-nbextensions==0.5.1) (5.1)\n",
      "Requirement already satisfied: tornado in /Users/malcolm/.virtualenvs/ultron8-cznMaMZB/lib/python3.6/site-packages (from jupyter-contrib-nbextensions==0.5.1) (6.0.2)\n",
      "Requirement already satisfied: traitlets>=4.1 in /Users/malcolm/.virtualenvs/ultron8-cznMaMZB/lib/python3.6/site-packages (from jupyter-contrib-nbextensions==0.5.1) (4.3.2)\n",
      "Requirement already satisfied: lxml in /Users/malcolm/.virtualenvs/ultron8-cznMaMZB/lib/python3.6/site-packages (from jupyter-contrib-nbextensions==0.5.1) (4.3.3)\n",
      "Requirement already satisfied: setuptools in /Users/malcolm/.virtualenvs/ultron8-cznMaMZB/lib/python3.6/site-packages (from jupyter_contrib_core>=0.3.3->jupyter-contrib-nbextensions==0.5.1) (41.0.1)\n",
      "Requirement already satisfied: ipython in /Users/malcolm/.virtualenvs/ultron8-cznMaMZB/lib/python3.6/site-packages (from jupyter_latex_envs>=1.3.8->jupyter-contrib-nbextensions==0.5.1) (7.5.0)\n",
      "Requirement already satisfied: bleach in /Users/malcolm/.virtualenvs/ultron8-cznMaMZB/lib/python3.6/site-packages (from nbconvert>=4.2->jupyter-contrib-nbextensions==0.5.1) (3.1.0)\n",
      "Requirement already satisfied: mistune>=0.8.1 in /Users/malcolm/.virtualenvs/ultron8-cznMaMZB/lib/python3.6/site-packages (from nbconvert>=4.2->jupyter-contrib-nbextensions==0.5.1) (0.8.4)\n",
      "Requirement already satisfied: nbformat>=4.4 in /Users/malcolm/.virtualenvs/ultron8-cznMaMZB/lib/python3.6/site-packages (from nbconvert>=4.2->jupyter-contrib-nbextensions==0.5.1) (4.4.0)\n",
      "Requirement already satisfied: testpath in /Users/malcolm/.virtualenvs/ultron8-cznMaMZB/lib/python3.6/site-packages (from nbconvert>=4.2->jupyter-contrib-nbextensions==0.5.1) (0.4.2)\n",
      "Requirement already satisfied: pandocfilters>=1.4.1 in /Users/malcolm/.virtualenvs/ultron8-cznMaMZB/lib/python3.6/site-packages (from nbconvert>=4.2->jupyter-contrib-nbextensions==0.5.1) (1.4.2)\n",
      "Requirement already satisfied: entrypoints>=0.2.2 in /Users/malcolm/.virtualenvs/ultron8-cznMaMZB/lib/python3.6/site-packages (from nbconvert>=4.2->jupyter-contrib-nbextensions==0.5.1) (0.3)\n",
      "Requirement already satisfied: jinja2>=2.4 in /Users/malcolm/.virtualenvs/ultron8-cznMaMZB/lib/python3.6/site-packages (from nbconvert>=4.2->jupyter-contrib-nbextensions==0.5.1) (2.10.1)\n",
      "Requirement already satisfied: defusedxml in /Users/malcolm/.virtualenvs/ultron8-cznMaMZB/lib/python3.6/site-packages (from nbconvert>=4.2->jupyter-contrib-nbextensions==0.5.1) (0.6.0)\n",
      "Requirement already satisfied: pygments in /Users/malcolm/.virtualenvs/ultron8-cznMaMZB/lib/python3.6/site-packages (from nbconvert>=4.2->jupyter-contrib-nbextensions==0.5.1) (2.4.2)\n",
      "Requirement already satisfied: pyzmq>=17 in /Users/malcolm/.virtualenvs/ultron8-cznMaMZB/lib/python3.6/site-packages (from notebook>=4.0->jupyter-contrib-nbextensions==0.5.1) (18.0.1)\n",
      "Requirement already satisfied: terminado>=0.8.1 in /Users/malcolm/.virtualenvs/ultron8-cznMaMZB/lib/python3.6/site-packages (from notebook>=4.0->jupyter-contrib-nbextensions==0.5.1) (0.8.2)\n",
      "Requirement already satisfied: prometheus-client in /Users/malcolm/.virtualenvs/ultron8-cznMaMZB/lib/python3.6/site-packages (from notebook>=4.0->jupyter-contrib-nbextensions==0.5.1) (0.5.0)\n",
      "Requirement already satisfied: ipykernel in /Users/malcolm/.virtualenvs/ultron8-cznMaMZB/lib/python3.6/site-packages (from notebook>=4.0->jupyter-contrib-nbextensions==0.5.1) (5.1.1)\n",
      "Requirement already satisfied: jupyter-client>=5.2.0 in /Users/malcolm/.virtualenvs/ultron8-cznMaMZB/lib/python3.6/site-packages (from notebook>=4.0->jupyter-contrib-nbextensions==0.5.1) (5.2.4)\n",
      "Requirement already satisfied: Send2Trash in /Users/malcolm/.virtualenvs/ultron8-cznMaMZB/lib/python3.6/site-packages (from notebook>=4.0->jupyter-contrib-nbextensions==0.5.1) (1.5.0)\n",
      "Requirement already satisfied: six in /Users/malcolm/.virtualenvs/ultron8-cznMaMZB/lib/python3.6/site-packages (from traitlets>=4.1->jupyter-contrib-nbextensions==0.5.1) (1.12.0)\n",
      "Requirement already satisfied: decorator in /Users/malcolm/.virtualenvs/ultron8-cznMaMZB/lib/python3.6/site-packages (from traitlets>=4.1->jupyter-contrib-nbextensions==0.5.1) (4.4.0)\n",
      "Requirement already satisfied: jedi>=0.10 in /Users/malcolm/.virtualenvs/ultron8-cznMaMZB/lib/python3.6/site-packages (from ipython->jupyter_latex_envs>=1.3.8->jupyter-contrib-nbextensions==0.5.1) (0.13.3)\n",
      "Requirement already satisfied: backcall in /Users/malcolm/.virtualenvs/ultron8-cznMaMZB/lib/python3.6/site-packages (from ipython->jupyter_latex_envs>=1.3.8->jupyter-contrib-nbextensions==0.5.1) (0.1.0)\n",
      "Requirement already satisfied: appnope; sys_platform == \"darwin\" in /Users/malcolm/.virtualenvs/ultron8-cznMaMZB/lib/python3.6/site-packages (from ipython->jupyter_latex_envs>=1.3.8->jupyter-contrib-nbextensions==0.5.1) (0.1.0)\n",
      "Requirement already satisfied: prompt-toolkit<2.1.0,>=2.0.0 in /Users/malcolm/.virtualenvs/ultron8-cznMaMZB/lib/python3.6/site-packages (from ipython->jupyter_latex_envs>=1.3.8->jupyter-contrib-nbextensions==0.5.1) (2.0.9)\n",
      "Requirement already satisfied: pexpect; sys_platform != \"win32\" in /Users/malcolm/.virtualenvs/ultron8-cznMaMZB/lib/python3.6/site-packages (from ipython->jupyter_latex_envs>=1.3.8->jupyter-contrib-nbextensions==0.5.1) (4.7.0)\n",
      "Requirement already satisfied: pickleshare in /Users/malcolm/.virtualenvs/ultron8-cznMaMZB/lib/python3.6/site-packages (from ipython->jupyter_latex_envs>=1.3.8->jupyter-contrib-nbextensions==0.5.1) (0.7.5)\n",
      "Requirement already satisfied: webencodings in /Users/malcolm/.virtualenvs/ultron8-cznMaMZB/lib/python3.6/site-packages (from bleach->nbconvert>=4.2->jupyter-contrib-nbextensions==0.5.1) (0.5.1)\n",
      "Requirement already satisfied: jsonschema!=2.5.0,>=2.4 in /Users/malcolm/.virtualenvs/ultron8-cznMaMZB/lib/python3.6/site-packages (from nbformat>=4.4->nbconvert>=4.2->jupyter-contrib-nbextensions==0.5.1) (3.0.1)\n",
      "Requirement already satisfied: MarkupSafe>=0.23 in /Users/malcolm/.virtualenvs/ultron8-cznMaMZB/lib/python3.6/site-packages (from jinja2>=2.4->nbconvert>=4.2->jupyter-contrib-nbextensions==0.5.1) (1.1.1)\n",
      "Requirement already satisfied: ptyprocess; os_name != \"nt\" in /Users/malcolm/.virtualenvs/ultron8-cznMaMZB/lib/python3.6/site-packages (from terminado>=0.8.1->notebook>=4.0->jupyter-contrib-nbextensions==0.5.1) (0.6.0)\n",
      "Requirement already satisfied: python-dateutil>=2.1 in /Users/malcolm/.virtualenvs/ultron8-cznMaMZB/lib/python3.6/site-packages (from jupyter-client>=5.2.0->notebook>=4.0->jupyter-contrib-nbextensions==0.5.1) (2.8.0)\n",
      "Requirement already satisfied: parso>=0.3.0 in /Users/malcolm/.virtualenvs/ultron8-cznMaMZB/lib/python3.6/site-packages (from jedi>=0.10->ipython->jupyter_latex_envs>=1.3.8->jupyter-contrib-nbextensions==0.5.1) (0.4.0)\n",
      "Requirement already satisfied: wcwidth in /Users/malcolm/.virtualenvs/ultron8-cznMaMZB/lib/python3.6/site-packages (from prompt-toolkit<2.1.0,>=2.0.0->ipython->jupyter_latex_envs>=1.3.8->jupyter-contrib-nbextensions==0.5.1) (0.1.7)\n",
      "Requirement already satisfied: pyrsistent>=0.14.0 in /Users/malcolm/.virtualenvs/ultron8-cznMaMZB/lib/python3.6/site-packages (from jsonschema!=2.5.0,>=2.4->nbformat>=4.4->nbconvert>=4.2->jupyter-contrib-nbextensions==0.5.1) (0.15.2)\n",
      "Requirement already satisfied: attrs>=17.4.0 in /Users/malcolm/.virtualenvs/ultron8-cznMaMZB/lib/python3.6/site-packages (from jsonschema!=2.5.0,>=2.4->nbformat>=4.4->nbconvert>=4.2->jupyter-contrib-nbextensions==0.5.1) (19.1.0)\n"
     ]
    },
    {
     "name": "stdout",
     "output_type": "stream",
     "text": [
      "Building wheels for collected packages: jupyter-contrib-nbextensions\n",
      "  Building wheel for jupyter-contrib-nbextensions (setup.py) ... \u001b[?25ldone\n",
      "\u001b[?25h  Stored in directory: /private/var/folders/cl/6vzf46790hb65pg97n500z4w0000gn/T/pip-ephem-wheel-cache-4pjys3es/wheels/22/4a/9f/df59e985684a10ea0e025300581870b5b3a300ee3525f0eef5\n",
      "Successfully built jupyter-contrib-nbextensions\n",
      "Requirement already satisfied: jupyter_nbextensions_configurator in /Users/malcolm/.virtualenvs/ultron8-cznMaMZB/lib/python3.6/site-packages (0.4.1)\n",
      "Requirement already satisfied: notebook>=4.0 in /Users/malcolm/.virtualenvs/ultron8-cznMaMZB/lib/python3.6/site-packages (from jupyter_nbextensions_configurator) (5.7.8)\n",
      "Requirement already satisfied: jupyter-core in /Users/malcolm/.virtualenvs/ultron8-cznMaMZB/lib/python3.6/site-packages (from jupyter_nbextensions_configurator) (4.4.0)\n",
      "Requirement already satisfied: pyyaml in /Users/malcolm/.virtualenvs/ultron8-cznMaMZB/lib/python3.6/site-packages (from jupyter_nbextensions_configurator) (5.1)\n",
      "Requirement already satisfied: traitlets in /Users/malcolm/.virtualenvs/ultron8-cznMaMZB/lib/python3.6/site-packages (from jupyter_nbextensions_configurator) (4.3.2)\n",
      "Requirement already satisfied: jupyter-contrib-core>=0.3.3 in /Users/malcolm/.virtualenvs/ultron8-cznMaMZB/lib/python3.6/site-packages (from jupyter_nbextensions_configurator) (0.3.3)\n",
      "Requirement already satisfied: tornado in /Users/malcolm/.virtualenvs/ultron8-cznMaMZB/lib/python3.6/site-packages (from jupyter_nbextensions_configurator) (6.0.2)\n",
      "Requirement already satisfied: jinja2 in /Users/malcolm/.virtualenvs/ultron8-cznMaMZB/lib/python3.6/site-packages (from notebook>=4.0->jupyter_nbextensions_configurator) (2.10.1)\n",
      "Requirement already satisfied: Send2Trash in /Users/malcolm/.virtualenvs/ultron8-cznMaMZB/lib/python3.6/site-packages (from notebook>=4.0->jupyter_nbextensions_configurator) (1.5.0)\n",
      "Requirement already satisfied: nbconvert in /Users/malcolm/.virtualenvs/ultron8-cznMaMZB/lib/python3.6/site-packages (from notebook>=4.0->jupyter_nbextensions_configurator) (5.5.0)\n",
      "Requirement already satisfied: pyzmq>=17 in /Users/malcolm/.virtualenvs/ultron8-cznMaMZB/lib/python3.6/site-packages (from notebook>=4.0->jupyter_nbextensions_configurator) (18.0.1)\n",
      "Requirement already satisfied: ipython-genutils in /Users/malcolm/.virtualenvs/ultron8-cznMaMZB/lib/python3.6/site-packages (from notebook>=4.0->jupyter_nbextensions_configurator) (0.2.0)\n",
      "Requirement already satisfied: terminado>=0.8.1 in /Users/malcolm/.virtualenvs/ultron8-cznMaMZB/lib/python3.6/site-packages (from notebook>=4.0->jupyter_nbextensions_configurator) (0.8.2)\n",
      "Requirement already satisfied: prometheus-client in /Users/malcolm/.virtualenvs/ultron8-cznMaMZB/lib/python3.6/site-packages (from notebook>=4.0->jupyter_nbextensions_configurator) (0.5.0)\n",
      "Requirement already satisfied: nbformat in /Users/malcolm/.virtualenvs/ultron8-cznMaMZB/lib/python3.6/site-packages (from notebook>=4.0->jupyter_nbextensions_configurator) (4.4.0)\n",
      "Requirement already satisfied: ipykernel in /Users/malcolm/.virtualenvs/ultron8-cznMaMZB/lib/python3.6/site-packages (from notebook>=4.0->jupyter_nbextensions_configurator) (5.1.1)\n",
      "Requirement already satisfied: jupyter-client>=5.2.0 in /Users/malcolm/.virtualenvs/ultron8-cznMaMZB/lib/python3.6/site-packages (from notebook>=4.0->jupyter_nbextensions_configurator) (5.2.4)\n",
      "Requirement already satisfied: six in /Users/malcolm/.virtualenvs/ultron8-cznMaMZB/lib/python3.6/site-packages (from traitlets->jupyter_nbextensions_configurator) (1.12.0)\n",
      "Requirement already satisfied: decorator in /Users/malcolm/.virtualenvs/ultron8-cznMaMZB/lib/python3.6/site-packages (from traitlets->jupyter_nbextensions_configurator) (4.4.0)\n",
      "Requirement already satisfied: setuptools in /Users/malcolm/.virtualenvs/ultron8-cznMaMZB/lib/python3.6/site-packages (from jupyter-contrib-core>=0.3.3->jupyter_nbextensions_configurator) (41.0.1)\n",
      "Requirement already satisfied: MarkupSafe>=0.23 in /Users/malcolm/.virtualenvs/ultron8-cznMaMZB/lib/python3.6/site-packages (from jinja2->notebook>=4.0->jupyter_nbextensions_configurator) (1.1.1)\n",
      "Requirement already satisfied: entrypoints>=0.2.2 in /Users/malcolm/.virtualenvs/ultron8-cznMaMZB/lib/python3.6/site-packages (from nbconvert->notebook>=4.0->jupyter_nbextensions_configurator) (0.3)\n",
      "Requirement already satisfied: defusedxml in /Users/malcolm/.virtualenvs/ultron8-cznMaMZB/lib/python3.6/site-packages (from nbconvert->notebook>=4.0->jupyter_nbextensions_configurator) (0.6.0)\n",
      "Requirement already satisfied: mistune>=0.8.1 in /Users/malcolm/.virtualenvs/ultron8-cznMaMZB/lib/python3.6/site-packages (from nbconvert->notebook>=4.0->jupyter_nbextensions_configurator) (0.8.4)\n",
      "Requirement already satisfied: testpath in /Users/malcolm/.virtualenvs/ultron8-cznMaMZB/lib/python3.6/site-packages (from nbconvert->notebook>=4.0->jupyter_nbextensions_configurator) (0.4.2)\n",
      "Requirement already satisfied: pandocfilters>=1.4.1 in /Users/malcolm/.virtualenvs/ultron8-cznMaMZB/lib/python3.6/site-packages (from nbconvert->notebook>=4.0->jupyter_nbextensions_configurator) (1.4.2)\n",
      "Requirement already satisfied: bleach in /Users/malcolm/.virtualenvs/ultron8-cznMaMZB/lib/python3.6/site-packages (from nbconvert->notebook>=4.0->jupyter_nbextensions_configurator) (3.1.0)\n",
      "Requirement already satisfied: pygments in /Users/malcolm/.virtualenvs/ultron8-cznMaMZB/lib/python3.6/site-packages (from nbconvert->notebook>=4.0->jupyter_nbextensions_configurator) (2.4.2)\n",
      "Requirement already satisfied: ptyprocess; os_name != \"nt\" in /Users/malcolm/.virtualenvs/ultron8-cznMaMZB/lib/python3.6/site-packages (from terminado>=0.8.1->notebook>=4.0->jupyter_nbextensions_configurator) (0.6.0)\n",
      "Requirement already satisfied: jsonschema!=2.5.0,>=2.4 in /Users/malcolm/.virtualenvs/ultron8-cznMaMZB/lib/python3.6/site-packages (from nbformat->notebook>=4.0->jupyter_nbextensions_configurator) (3.0.1)\n",
      "Requirement already satisfied: ipython>=5.0.0 in /Users/malcolm/.virtualenvs/ultron8-cznMaMZB/lib/python3.6/site-packages (from ipykernel->notebook>=4.0->jupyter_nbextensions_configurator) (7.5.0)\n",
      "Requirement already satisfied: python-dateutil>=2.1 in /Users/malcolm/.virtualenvs/ultron8-cznMaMZB/lib/python3.6/site-packages (from jupyter-client>=5.2.0->notebook>=4.0->jupyter_nbextensions_configurator) (2.8.0)\n",
      "Requirement already satisfied: webencodings in /Users/malcolm/.virtualenvs/ultron8-cznMaMZB/lib/python3.6/site-packages (from bleach->nbconvert->notebook>=4.0->jupyter_nbextensions_configurator) (0.5.1)\n",
      "Requirement already satisfied: attrs>=17.4.0 in /Users/malcolm/.virtualenvs/ultron8-cznMaMZB/lib/python3.6/site-packages (from jsonschema!=2.5.0,>=2.4->nbformat->notebook>=4.0->jupyter_nbextensions_configurator) (19.1.0)\n",
      "Requirement already satisfied: pyrsistent>=0.14.0 in /Users/malcolm/.virtualenvs/ultron8-cznMaMZB/lib/python3.6/site-packages (from jsonschema!=2.5.0,>=2.4->nbformat->notebook>=4.0->jupyter_nbextensions_configurator) (0.15.2)\n",
      "Requirement already satisfied: backcall in /Users/malcolm/.virtualenvs/ultron8-cznMaMZB/lib/python3.6/site-packages (from ipython>=5.0.0->ipykernel->notebook>=4.0->jupyter_nbextensions_configurator) (0.1.0)\n",
      "Requirement already satisfied: appnope; sys_platform == \"darwin\" in /Users/malcolm/.virtualenvs/ultron8-cznMaMZB/lib/python3.6/site-packages (from ipython>=5.0.0->ipykernel->notebook>=4.0->jupyter_nbextensions_configurator) (0.1.0)\n",
      "Requirement already satisfied: prompt-toolkit<2.1.0,>=2.0.0 in /Users/malcolm/.virtualenvs/ultron8-cznMaMZB/lib/python3.6/site-packages (from ipython>=5.0.0->ipykernel->notebook>=4.0->jupyter_nbextensions_configurator) (2.0.9)\n",
      "Requirement already satisfied: pickleshare in /Users/malcolm/.virtualenvs/ultron8-cznMaMZB/lib/python3.6/site-packages (from ipython>=5.0.0->ipykernel->notebook>=4.0->jupyter_nbextensions_configurator) (0.7.5)\n",
      "Requirement already satisfied: pexpect; sys_platform != \"win32\" in /Users/malcolm/.virtualenvs/ultron8-cznMaMZB/lib/python3.6/site-packages (from ipython>=5.0.0->ipykernel->notebook>=4.0->jupyter_nbextensions_configurator) (4.7.0)\n",
      "Requirement already satisfied: jedi>=0.10 in /Users/malcolm/.virtualenvs/ultron8-cznMaMZB/lib/python3.6/site-packages (from ipython>=5.0.0->ipykernel->notebook>=4.0->jupyter_nbextensions_configurator) (0.13.3)\n",
      "Requirement already satisfied: wcwidth in /Users/malcolm/.virtualenvs/ultron8-cznMaMZB/lib/python3.6/site-packages (from prompt-toolkit<2.1.0,>=2.0.0->ipython>=5.0.0->ipykernel->notebook>=4.0->jupyter_nbextensions_configurator) (0.1.7)\n",
      "Requirement already satisfied: parso>=0.3.0 in /Users/malcolm/.virtualenvs/ultron8-cznMaMZB/lib/python3.6/site-packages (from jedi>=0.10->ipython>=5.0.0->ipykernel->notebook>=4.0->jupyter_nbextensions_configurator) (0.4.0)\n"
     ]
    },
    {
     "name": "stdout",
     "output_type": "stream",
     "text": [
      "\u001b[32m[I 15:20:26 InstallContribNbextensionsApp]\u001b[m jupyter contrib nbextension install --user\n",
      "\u001b[32m[I 15:20:26 InstallContribNbextensionsApp]\u001b[m Installing jupyter_contrib_nbextensions nbextension files to jupyter data directory\n",
      "\u001b[32m[I 15:20:27 InstallContribNbextensionsApp]\u001b[m Installing /Users/malcolm/.virtualenvs/ultron8-cznMaMZB/lib/python3.6/site-packages/jupyter_contrib_nbextensions/nbextensions/rubberband -> rubberband\n",
      "\u001b[32m[I 15:20:27 InstallContribNbextensionsApp]\u001b[m Up to date: /Users/malcolm/Library/Jupyter/nbextensions/rubberband/icon.png\n",
      "\u001b[32m[I 15:20:27 InstallContribNbextensionsApp]\u001b[m Up to date: /Users/malcolm/Library/Jupyter/nbextensions/rubberband/main.css\n",
      "\u001b[32m[I 15:20:27 InstallContribNbextensionsApp]\u001b[m Up to date: /Users/malcolm/Library/Jupyter/nbextensions/rubberband/readme.md\n",
      "\u001b[32m[I 15:20:27 InstallContribNbextensionsApp]\u001b[m Up to date: /Users/malcolm/Library/Jupyter/nbextensions/rubberband/main.js\n",
      "\u001b[32m[I 15:20:27 InstallContribNbextensionsApp]\u001b[m Up to date: /Users/malcolm/Library/Jupyter/nbextensions/rubberband/rubberband.yaml\n",
      "\u001b[32m[I 15:20:27 InstallContribNbextensionsApp]\u001b[m - Validating: \u001b[32mOK\u001b[0m\n",
      "\u001b[32m[I 15:20:27 InstallContribNbextensionsApp]\u001b[m Installing /Users/malcolm/.virtualenvs/ultron8-cznMaMZB/lib/python3.6/site-packages/jupyter_contrib_nbextensions/nbextensions/scroll_down -> scroll_down\n",
      "\u001b[32m[I 15:20:27 InstallContribNbextensionsApp]\u001b[m Up to date: /Users/malcolm/Library/Jupyter/nbextensions/scroll_down/icon.png\n",
      "\u001b[32m[I 15:20:27 InstallContribNbextensionsApp]\u001b[m Up to date: /Users/malcolm/Library/Jupyter/nbextensions/scroll_down/config.yaml\n",
      "\u001b[32m[I 15:20:27 InstallContribNbextensionsApp]\u001b[m Up to date: /Users/malcolm/Library/Jupyter/nbextensions/scroll_down/readme.md\n",
      "\u001b[32m[I 15:20:27 InstallContribNbextensionsApp]\u001b[m Up to date: /Users/malcolm/Library/Jupyter/nbextensions/scroll_down/main.js\n",
      "\u001b[32m[I 15:20:27 InstallContribNbextensionsApp]\u001b[m - Validating: \u001b[32mOK\u001b[0m\n",
      "\u001b[32m[I 15:20:27 InstallContribNbextensionsApp]\u001b[m Installing /Users/malcolm/.virtualenvs/ultron8-cznMaMZB/lib/python3.6/site-packages/jupyter_contrib_nbextensions/nbextensions/hinterland -> hinterland\n",
      "\u001b[32m[I 15:20:27 InstallContribNbextensionsApp]\u001b[m Up to date: /Users/malcolm/Library/Jupyter/nbextensions/hinterland/hinterland.yaml\n",
      "\u001b[32m[I 15:20:27 InstallContribNbextensionsApp]\u001b[m Up to date: /Users/malcolm/Library/Jupyter/nbextensions/hinterland/hinterland.js\n",
      "\u001b[32m[I 15:20:27 InstallContribNbextensionsApp]\u001b[m Up to date: /Users/malcolm/Library/Jupyter/nbextensions/hinterland/README.md\n",
      "\u001b[32m[I 15:20:27 InstallContribNbextensionsApp]\u001b[m - Validating: \u001b[32mOK\u001b[0m\n",
      "\u001b[32m[I 15:20:27 InstallContribNbextensionsApp]\u001b[m Installing /Users/malcolm/.virtualenvs/ultron8-cznMaMZB/lib/python3.6/site-packages/jupyter_contrib_nbextensions/nbextensions/snippets -> snippets\n",
      "\u001b[32m[I 15:20:27 InstallContribNbextensionsApp]\u001b[m Up to date: /Users/malcolm/Library/Jupyter/nbextensions/snippets/snippets.yaml\n",
      "\u001b[32m[I 15:20:27 InstallContribNbextensionsApp]\u001b[m Up to date: /Users/malcolm/Library/Jupyter/nbextensions/snippets/snippets.json\n",
      "\u001b[32m[I 15:20:27 InstallContribNbextensionsApp]\u001b[m Up to date: /Users/malcolm/Library/Jupyter/nbextensions/snippets/README.md\n",
      "\u001b[32m[I 15:20:27 InstallContribNbextensionsApp]\u001b[m Up to date: /Users/malcolm/Library/Jupyter/nbextensions/snippets/main.js\n",
      "\u001b[32m[I 15:20:27 InstallContribNbextensionsApp]\u001b[m Up to date: /Users/malcolm/Library/Jupyter/nbextensions/snippets/snippets-demo.gif\n",
      "\u001b[32m[I 15:20:27 InstallContribNbextensionsApp]\u001b[m - Validating: \u001b[32mOK\u001b[0m\n",
      "\u001b[32m[I 15:20:27 InstallContribNbextensionsApp]\u001b[m Installing /Users/malcolm/.virtualenvs/ultron8-cznMaMZB/lib/python3.6/site-packages/jupyter_contrib_nbextensions/nbextensions/toggle_all_line_numbers -> toggle_all_line_numbers\n",
      "\u001b[32m[I 15:20:27 InstallContribNbextensionsApp]\u001b[m Up to date: /Users/malcolm/Library/Jupyter/nbextensions/toggle_all_line_numbers/icon.png\n",
      "\u001b[32m[I 15:20:27 InstallContribNbextensionsApp]\u001b[m Up to date: /Users/malcolm/Library/Jupyter/nbextensions/toggle_all_line_numbers/main.yaml\n",
      "\u001b[32m[I 15:20:27 InstallContribNbextensionsApp]\u001b[m Up to date: /Users/malcolm/Library/Jupyter/nbextensions/toggle_all_line_numbers/readme.md\n",
      "\u001b[32m[I 15:20:27 InstallContribNbextensionsApp]\u001b[m Up to date: /Users/malcolm/Library/Jupyter/nbextensions/toggle_all_line_numbers/main.js\n",
      "\u001b[32m[I 15:20:27 InstallContribNbextensionsApp]\u001b[m - Validating: \u001b[32mOK\u001b[0m\n",
      "\u001b[32m[I 15:20:27 InstallContribNbextensionsApp]\u001b[m Installing /Users/malcolm/.virtualenvs/ultron8-cznMaMZB/lib/python3.6/site-packages/jupyter_contrib_nbextensions/nbextensions/notify -> notify\n",
      "\u001b[32m[I 15:20:27 InstallContribNbextensionsApp]\u001b[m Up to date: /Users/malcolm/Library/Jupyter/nbextensions/notify/notify.js\n",
      "\u001b[32m[I 15:20:27 InstallContribNbextensionsApp]\u001b[m Up to date: /Users/malcolm/Library/Jupyter/nbextensions/notify/notify.mp3\n",
      "\u001b[32m[I 15:20:27 InstallContribNbextensionsApp]\u001b[m Up to date: /Users/malcolm/Library/Jupyter/nbextensions/notify/readme.md\n",
      "\u001b[32m[I 15:20:27 InstallContribNbextensionsApp]\u001b[m Up to date: /Users/malcolm/Library/Jupyter/nbextensions/notify/notify.yaml\n",
      "\u001b[32m[I 15:20:27 InstallContribNbextensionsApp]\u001b[m Up to date: /Users/malcolm/Library/Jupyter/nbextensions/notify/notification.png\n",
      "\u001b[32m[I 15:20:27 InstallContribNbextensionsApp]\u001b[m - Validating: \u001b[32mOK\u001b[0m\n",
      "\u001b[32m[I 15:20:27 InstallContribNbextensionsApp]\u001b[m Installing /Users/malcolm/.virtualenvs/ultron8-cznMaMZB/lib/python3.6/site-packages/jupyter_contrib_nbextensions/nbextensions/runtools -> runtools\n",
      "\u001b[32m[I 15:20:27 InstallContribNbextensionsApp]\u001b[m Up to date: /Users/malcolm/Library/Jupyter/nbextensions/runtools/cellstate.js\n",
      "\u001b[32m[I 15:20:27 InstallContribNbextensionsApp]\u001b[m Up to date: /Users/malcolm/Library/Jupyter/nbextensions/runtools/icon.png\n",
      "\u001b[32m[I 15:20:27 InstallContribNbextensionsApp]\u001b[m Up to date: /Users/malcolm/Library/Jupyter/nbextensions/runtools/runtools_execute.png\n",
      "\u001b[32m[I 15:20:27 InstallContribNbextensionsApp]\u001b[m Up to date: /Users/malcolm/Library/Jupyter/nbextensions/runtools/annotations.odg\n",
      "\u001b[32m[I 15:20:27 InstallContribNbextensionsApp]\u001b[m Up to date: /Users/malcolm/Library/Jupyter/nbextensions/runtools/runtools.yaml\n",
      "\u001b[32m[I 15:20:27 InstallContribNbextensionsApp]\u001b[m Up to date: /Users/malcolm/Library/Jupyter/nbextensions/runtools/main.css\n",
      "\u001b[32m[I 15:20:27 InstallContribNbextensionsApp]\u001b[m Up to date: /Users/malcolm/Library/Jupyter/nbextensions/runtools/runtools_nb.png\n",
      "\u001b[32m[I 15:20:27 InstallContribNbextensionsApp]\u001b[m Up to date: /Users/malcolm/Library/Jupyter/nbextensions/runtools/readme.md\n",
      "\u001b[32m[I 15:20:27 InstallContribNbextensionsApp]\u001b[m Up to date: /Users/malcolm/Library/Jupyter/nbextensions/runtools/runtools_marker.png\n",
      "\u001b[32m[I 15:20:27 InstallContribNbextensionsApp]\u001b[m Up to date: /Users/malcolm/Library/Jupyter/nbextensions/runtools/main.js\n",
      "\u001b[32m[I 15:20:27 InstallContribNbextensionsApp]\u001b[m Up to date: /Users/malcolm/Library/Jupyter/nbextensions/runtools/runtools_show_hide.png\n",
      "\u001b[32m[I 15:20:27 InstallContribNbextensionsApp]\u001b[m Up to date: /Users/malcolm/Library/Jupyter/nbextensions/runtools/runtools_lock.png\n",
      "\u001b[32m[I 15:20:27 InstallContribNbextensionsApp]\u001b[m Up to date: /Users/malcolm/Library/Jupyter/nbextensions/runtools/demo.gif\n",
      "\u001b[32m[I 15:20:27 InstallContribNbextensionsApp]\u001b[m Up to date: /Users/malcolm/Library/Jupyter/nbextensions/runtools/gutter.css\n",
      "\u001b[32m[I 15:20:27 InstallContribNbextensionsApp]\u001b[m - Validating: \u001b[32mOK\u001b[0m\n",
      "\u001b[32m[I 15:20:27 InstallContribNbextensionsApp]\u001b[m Installing /Users/malcolm/.virtualenvs/ultron8-cznMaMZB/lib/python3.6/site-packages/jupyter_contrib_nbextensions/nbextensions/tree-filter -> tree-filter\n",
      "\u001b[32m[I 15:20:27 InstallContribNbextensionsApp]\u001b[m Up to date: /Users/malcolm/Library/Jupyter/nbextensions/tree-filter/tree-filter.yaml\n",
      "\u001b[32m[I 15:20:27 InstallContribNbextensionsApp]\u001b[m Up to date: /Users/malcolm/Library/Jupyter/nbextensions/tree-filter/index.js\n",
      "\u001b[32m[I 15:20:27 InstallContribNbextensionsApp]\u001b[m Up to date: /Users/malcolm/Library/Jupyter/nbextensions/tree-filter/readme.md\n",
      "\u001b[32m[I 15:20:27 InstallContribNbextensionsApp]\u001b[m Up to date: /Users/malcolm/Library/Jupyter/nbextensions/tree-filter/demo.gif\n",
      "\u001b[32m[I 15:20:27 InstallContribNbextensionsApp]\u001b[m - Validating: \u001b[32mOK\u001b[0m\n",
      "\u001b[32m[I 15:20:27 InstallContribNbextensionsApp]\u001b[m Installing /Users/malcolm/.virtualenvs/ultron8-cznMaMZB/lib/python3.6/site-packages/jupyter_contrib_nbextensions/nbextensions/table_beautifier -> table_beautifier\n",
      "\u001b[32m[I 15:20:27 InstallContribNbextensionsApp]\u001b[m Up to date: /Users/malcolm/Library/Jupyter/nbextensions/table_beautifier/main.css\n",
      "\u001b[32m[I 15:20:27 InstallContribNbextensionsApp]\u001b[m Up to date: /Users/malcolm/Library/Jupyter/nbextensions/table_beautifier/README.md\n",
      "\u001b[32m[I 15:20:27 InstallContribNbextensionsApp]\u001b[m Up to date: /Users/malcolm/Library/Jupyter/nbextensions/table_beautifier/main.js\n",
      "\u001b[32m[I 15:20:27 InstallContribNbextensionsApp]\u001b[m Up to date: /Users/malcolm/Library/Jupyter/nbextensions/table_beautifier/table_beautifier.yaml\n",
      "\u001b[32m[I 15:20:27 InstallContribNbextensionsApp]\u001b[m - Validating: \u001b[32mOK\u001b[0m\n",
      "\u001b[32m[I 15:20:27 InstallContribNbextensionsApp]\u001b[m Installing /Users/malcolm/.virtualenvs/ultron8-cznMaMZB/lib/python3.6/site-packages/jupyter_contrib_nbextensions/nbextensions/freeze -> freeze\n",
      "\u001b[32m[I 15:20:27 InstallContribNbextensionsApp]\u001b[m Up to date: /Users/malcolm/Library/Jupyter/nbextensions/freeze/icon.png\n",
      "\u001b[32m[I 15:20:27 InstallContribNbextensionsApp]\u001b[m Up to date: /Users/malcolm/Library/Jupyter/nbextensions/freeze/config.yaml\n",
      "\u001b[32m[I 15:20:27 InstallContribNbextensionsApp]\u001b[m Up to date: /Users/malcolm/Library/Jupyter/nbextensions/freeze/readme.md\n",
      "\u001b[32m[I 15:20:27 InstallContribNbextensionsApp]\u001b[m Up to date: /Users/malcolm/Library/Jupyter/nbextensions/freeze/main.js\n",
      "\u001b[32m[I 15:20:27 InstallContribNbextensionsApp]\u001b[m - Validating: \u001b[32mOK\u001b[0m\n",
      "\u001b[32m[I 15:20:27 InstallContribNbextensionsApp]\u001b[m Installing /Users/malcolm/.virtualenvs/ultron8-cznMaMZB/lib/python3.6/site-packages/jupyter_contrib_nbextensions/nbextensions/exercise2 -> exercise2\n",
      "\u001b[32m[I 15:20:27 InstallContribNbextensionsApp]\u001b[m Up to date: /Users/malcolm/Library/Jupyter/nbextensions/exercise2/icon.png\n",
      "\u001b[32m[I 15:20:27 InstallContribNbextensionsApp]\u001b[m Up to date: /Users/malcolm/Library/Jupyter/nbextensions/exercise2/exercise2.yaml\n",
      "\u001b[32m[I 15:20:27 InstallContribNbextensionsApp]\u001b[m Up to date: /Users/malcolm/Library/Jupyter/nbextensions/exercise2/main.css\n",
      "\u001b[32m[I 15:20:27 InstallContribNbextensionsApp]\u001b[m Up to date: /Users/malcolm/Library/Jupyter/nbextensions/exercise2/image.gif\n",
      "\u001b[32m[I 15:20:27 InstallContribNbextensionsApp]\u001b[m Up to date: /Users/malcolm/Library/Jupyter/nbextensions/exercise2/readme.md\n",
      "\u001b[32m[I 15:20:27 InstallContribNbextensionsApp]\u001b[m Up to date: /Users/malcolm/Library/Jupyter/nbextensions/exercise2/main.js\n",
      "\u001b[32m[I 15:20:27 InstallContribNbextensionsApp]\u001b[m - Validating: \u001b[32mOK\u001b[0m\n",
      "\u001b[32m[I 15:20:27 InstallContribNbextensionsApp]\u001b[m Installing /Users/malcolm/.virtualenvs/ultron8-cznMaMZB/lib/python3.6/site-packages/jupyter_contrib_nbextensions/nbextensions/execution_dependencies -> execution_dependencies\n",
      "\u001b[32m[I 15:20:27 InstallContribNbextensionsApp]\u001b[m Up to date: /Users/malcolm/Library/Jupyter/nbextensions/execution_dependencies/execution_dependencies.yml\n",
      "\u001b[32m[I 15:20:27 InstallContribNbextensionsApp]\u001b[m Up to date: /Users/malcolm/Library/Jupyter/nbextensions/execution_dependencies/README.md\n",
      "\u001b[32m[I 15:20:27 InstallContribNbextensionsApp]\u001b[m Up to date: /Users/malcolm/Library/Jupyter/nbextensions/execution_dependencies/execution_dependencies.js\n",
      "\u001b[32m[I 15:20:27 InstallContribNbextensionsApp]\u001b[m - Validating: \u001b[32mOK\u001b[0m\n",
      "\u001b[32m[I 15:20:27 InstallContribNbextensionsApp]\u001b[m Installing /Users/malcolm/.virtualenvs/ultron8-cznMaMZB/lib/python3.6/site-packages/jupyter_contrib_nbextensions/nbextensions/skill -> skill\n",
      "\u001b[32m[I 15:20:27 InstallContribNbextensionsApp]\u001b[m Up to date: /Users/malcolm/Library/Jupyter/nbextensions/skill/skill.js\n",
      "\u001b[32m[I 15:20:27 InstallContribNbextensionsApp]\u001b[m Up to date: /Users/malcolm/Library/Jupyter/nbextensions/skill/README.md\n",
      "\u001b[32m[I 15:20:27 InstallContribNbextensionsApp]\u001b[m Up to date: /Users/malcolm/Library/Jupyter/nbextensions/skill/main.js\n",
      "\u001b[32m[I 15:20:27 InstallContribNbextensionsApp]\u001b[m Up to date: /Users/malcolm/Library/Jupyter/nbextensions/skill/skill.yaml\n",
      "\u001b[32m[I 15:20:27 InstallContribNbextensionsApp]\u001b[m - Validating: \u001b[32mOK\u001b[0m\n",
      "\u001b[32m[I 15:20:27 InstallContribNbextensionsApp]\u001b[m Installing /Users/malcolm/.virtualenvs/ultron8-cznMaMZB/lib/python3.6/site-packages/jupyter_contrib_nbextensions/nbextensions/splitcell -> splitcell\n",
      "\u001b[32m[I 15:20:27 InstallContribNbextensionsApp]\u001b[m Up to date: /Users/malcolm/Library/Jupyter/nbextensions/splitcell/icon.png\n",
      "\u001b[32m[I 15:20:27 InstallContribNbextensionsApp]\u001b[m Up to date: /Users/malcolm/Library/Jupyter/nbextensions/splitcell/readme.md\n",
      "\u001b[32m[I 15:20:27 InstallContribNbextensionsApp]\u001b[m Up to date: /Users/malcolm/Library/Jupyter/nbextensions/splitcell/splitcell.yaml\n",
      "\u001b[32m[I 15:20:27 InstallContribNbextensionsApp]\u001b[m Up to date: /Users/malcolm/Library/Jupyter/nbextensions/splitcell/splitcell.js\n",
      "\u001b[32m[I 15:20:27 InstallContribNbextensionsApp]\u001b[m - Validating: \u001b[32mOK\u001b[0m\n",
      "\u001b[32m[I 15:20:27 InstallContribNbextensionsApp]\u001b[m Installing /Users/malcolm/.virtualenvs/ultron8-cznMaMZB/lib/python3.6/site-packages/jupyter_contrib_nbextensions/nbextensions/autosavetime -> autosavetime\n",
      "\u001b[32m[I 15:20:27 InstallContribNbextensionsApp]\u001b[m Up to date: /Users/malcolm/Library/Jupyter/nbextensions/autosavetime/icon.png\n",
      "\u001b[32m[I 15:20:27 InstallContribNbextensionsApp]\u001b[m Up to date: /Users/malcolm/Library/Jupyter/nbextensions/autosavetime/README.md\n",
      "\u001b[32m[I 15:20:27 InstallContribNbextensionsApp]\u001b[m Up to date: /Users/malcolm/Library/Jupyter/nbextensions/autosavetime/autosavetime.yaml\n",
      "\u001b[32m[I 15:20:27 InstallContribNbextensionsApp]\u001b[m Up to date: /Users/malcolm/Library/Jupyter/nbextensions/autosavetime/main.js\n",
      "\u001b[32m[I 15:20:27 InstallContribNbextensionsApp]\u001b[m - Validating: \u001b[32mOK\u001b[0m\n",
      "\u001b[32m[I 15:20:27 InstallContribNbextensionsApp]\u001b[m Installing /Users/malcolm/.virtualenvs/ultron8-cznMaMZB/lib/python3.6/site-packages/jupyter_contrib_nbextensions/nbextensions/select_keymap -> select_keymap\n",
      "\u001b[32m[I 15:20:27 InstallContribNbextensionsApp]\u001b[m Up to date: /Users/malcolm/Library/Jupyter/nbextensions/select_keymap/select_keymap.png\n",
      "\u001b[32m[I 15:20:27 InstallContribNbextensionsApp]\u001b[m Up to date: /Users/malcolm/Library/Jupyter/nbextensions/select_keymap/README.md\n",
      "\u001b[32m[I 15:20:27 InstallContribNbextensionsApp]\u001b[m Up to date: /Users/malcolm/Library/Jupyter/nbextensions/select_keymap/main.js\n",
      "\u001b[32m[I 15:20:27 InstallContribNbextensionsApp]\u001b[m Up to date: /Users/malcolm/Library/Jupyter/nbextensions/select_keymap/select_keymap.yaml\n",
      "\u001b[32m[I 15:20:27 InstallContribNbextensionsApp]\u001b[m - Validating: \u001b[32mOK\u001b[0m\n",
      "\u001b[32m[I 15:20:27 InstallContribNbextensionsApp]\u001b[m Installing /Users/malcolm/.virtualenvs/ultron8-cznMaMZB/lib/python3.6/site-packages/jupyter_contrib_nbextensions/nbextensions/livemdpreview -> livemdpreview\n",
      "\u001b[32m[I 15:20:27 InstallContribNbextensionsApp]\u001b[m Up to date: /Users/malcolm/Library/Jupyter/nbextensions/livemdpreview/livemdpreview.yml\n",
      "\u001b[32m[I 15:20:27 InstallContribNbextensionsApp]\u001b[m Up to date: /Users/malcolm/Library/Jupyter/nbextensions/livemdpreview/livemdpreview.js\n",
      "\u001b[32m[I 15:20:27 InstallContribNbextensionsApp]\u001b[m - Validating: \u001b[32mOK\u001b[0m\n",
      "\u001b[32m[I 15:20:27 InstallContribNbextensionsApp]\u001b[m Installing /Users/malcolm/.virtualenvs/ultron8-cznMaMZB/lib/python3.6/site-packages/jupyter_contrib_nbextensions/nbextensions/gist_it -> gist_it\n",
      "\u001b[32m[I 15:20:27 InstallContribNbextensionsApp]\u001b[m Up to date: /Users/malcolm/Library/Jupyter/nbextensions/gist_it/icon.png\n",
      "\u001b[32m[I 15:20:27 InstallContribNbextensionsApp]\u001b[m Up to date: /Users/malcolm/Library/Jupyter/nbextensions/gist_it/gist_it.yaml\n",
      "\u001b[32m[I 15:20:27 InstallContribNbextensionsApp]\u001b[m Up to date: /Users/malcolm/Library/Jupyter/nbextensions/gist_it/readme.md\n",
      "\u001b[32m[I 15:20:27 InstallContribNbextensionsApp]\u001b[m Up to date: /Users/malcolm/Library/Jupyter/nbextensions/gist_it/main.js\n",
      "\u001b[32m[I 15:20:27 InstallContribNbextensionsApp]\u001b[m - Validating: \u001b[32mOK\u001b[0m\n",
      "\u001b[32m[I 15:20:27 InstallContribNbextensionsApp]\u001b[m Installing /Users/malcolm/.virtualenvs/ultron8-cznMaMZB/lib/python3.6/site-packages/jupyter_contrib_nbextensions/nbextensions/cell_filter -> cell_filter\n",
      "\u001b[32m[I 15:20:27 InstallContribNbextensionsApp]\u001b[m Up to date: /Users/malcolm/Library/Jupyter/nbextensions/cell_filter/cell_filter.yml\n",
      "\u001b[32m[I 15:20:27 InstallContribNbextensionsApp]\u001b[m Up to date: /Users/malcolm/Library/Jupyter/nbextensions/cell_filter/cell_filter.js\n",
      "\u001b[32m[I 15:20:27 InstallContribNbextensionsApp]\u001b[m Up to date: /Users/malcolm/Library/Jupyter/nbextensions/cell_filter/README.md\n",
      "\u001b[32m[I 15:20:27 InstallContribNbextensionsApp]\u001b[m - Validating: \u001b[32mOK\u001b[0m\n",
      "\u001b[32m[I 15:20:27 InstallContribNbextensionsApp]\u001b[m Installing /Users/malcolm/.virtualenvs/ultron8-cznMaMZB/lib/python3.6/site-packages/jupyter_contrib_nbextensions/nbextensions/scratchpad -> scratchpad\n",
      "\u001b[32m[I 15:20:27 InstallContribNbextensionsApp]\u001b[m Up to date: /Users/malcolm/Library/Jupyter/nbextensions/scratchpad/LICENSE\n",
      "\u001b[32m[I 15:20:27 InstallContribNbextensionsApp]\u001b[m Up to date: /Users/malcolm/Library/Jupyter/nbextensions/scratchpad/scratchpad.yaml\n",
      "\u001b[32m[I 15:20:27 InstallContribNbextensionsApp]\u001b[m Up to date: /Users/malcolm/Library/Jupyter/nbextensions/scratchpad/README.md\n",
      "\u001b[32m[I 15:20:27 InstallContribNbextensionsApp]\u001b[m Up to date: /Users/malcolm/Library/Jupyter/nbextensions/scratchpad/main.js\n",
      "\u001b[32m[I 15:20:27 InstallContribNbextensionsApp]\u001b[m Up to date: /Users/malcolm/Library/Jupyter/nbextensions/scratchpad/scratchpad.css\n",
      "\u001b[32m[I 15:20:27 InstallContribNbextensionsApp]\u001b[m Up to date: /Users/malcolm/Library/Jupyter/nbextensions/scratchpad/demo.gif\n",
      "\u001b[32m[I 15:20:27 InstallContribNbextensionsApp]\u001b[m - Validating: \u001b[32mOK\u001b[0m\n",
      "\u001b[32m[I 15:20:27 InstallContribNbextensionsApp]\u001b[m Installing /Users/malcolm/.virtualenvs/ultron8-cznMaMZB/lib/python3.6/site-packages/jupyter_contrib_nbextensions/nbextensions/toc2 -> toc2\n",
      "\u001b[32m[I 15:20:27 InstallContribNbextensionsApp]\u001b[m Up to date: /Users/malcolm/Library/Jupyter/nbextensions/toc2/toc2.yaml\n",
      "\u001b[32m[I 15:20:27 InstallContribNbextensionsApp]\u001b[m Up to date: /Users/malcolm/Library/Jupyter/nbextensions/toc2/icon.png\n",
      "\u001b[32m[I 15:20:27 InstallContribNbextensionsApp]\u001b[m Up to date: /Users/malcolm/Library/Jupyter/nbextensions/toc2/demo_dark.png\n",
      "\u001b[32m[I 15:20:27 InstallContribNbextensionsApp]\u001b[m Up to date: /Users/malcolm/Library/Jupyter/nbextensions/toc2/main.css\n",
      "\u001b[32m[I 15:20:27 InstallContribNbextensionsApp]\u001b[m Up to date: /Users/malcolm/Library/Jupyter/nbextensions/toc2/README.md\n",
      "\u001b[32m[I 15:20:27 InstallContribNbextensionsApp]\u001b[m Up to date: /Users/malcolm/Library/Jupyter/nbextensions/toc2/main.js\n",
      "\u001b[32m[I 15:20:27 InstallContribNbextensionsApp]\u001b[m Up to date: /Users/malcolm/Library/Jupyter/nbextensions/toc2/demo3.gif\n",
      "\u001b[32m[I 15:20:27 InstallContribNbextensionsApp]\u001b[m Up to date: /Users/malcolm/Library/Jupyter/nbextensions/toc2/demo2.gif\n",
      "\u001b[32m[I 15:20:27 InstallContribNbextensionsApp]\u001b[m Up to date: /Users/malcolm/Library/Jupyter/nbextensions/toc2/toc2.js\n",
      "\u001b[32m[I 15:20:27 InstallContribNbextensionsApp]\u001b[m Up to date: /Users/malcolm/Library/Jupyter/nbextensions/toc2/demo.gif\n"
     ]
    },
    {
     "name": "stdout",
     "output_type": "stream",
     "text": [
      "\u001b[32m[I 15:20:27 InstallContribNbextensionsApp]\u001b[m Up to date: /Users/malcolm/Library/Jupyter/nbextensions/toc2/image.png\r\n",
      "\u001b[32m[I 15:20:27 InstallContribNbextensionsApp]\u001b[m - Validating: \u001b[32mOK\u001b[0m\r\n",
      "\u001b[32m[I 15:20:27 InstallContribNbextensionsApp]\u001b[m Installing /Users/malcolm/.virtualenvs/ultron8-cznMaMZB/lib/python3.6/site-packages/jupyter_contrib_nbextensions/nbextensions/nbTranslate -> nbTranslate\r\n",
      "\u001b[32m[I 15:20:27 InstallContribNbextensionsApp]\u001b[m Up to date: /Users/malcolm/Library/Jupyter/nbextensions/nbTranslate/nbTranslate.yaml\r\n",
      "\u001b[32m[I 15:20:27 InstallContribNbextensionsApp]\u001b[m Up to date: /Users/malcolm/Library/Jupyter/nbextensions/nbTranslate/nbTranslate.js\r\n",
      "\u001b[32m[I 15:20:27 InstallContribNbextensionsApp]\u001b[m Up to date: /Users/malcolm/Library/Jupyter/nbextensions/nbTranslate/README.md\r\n",
      "\u001b[32m[I 15:20:27 InstallContribNbextensionsApp]\u001b[m Up to date: /Users/malcolm/Library/Jupyter/nbextensions/nbTranslate/main.js\r\n",
      "\u001b[32m[I 15:20:27 InstallContribNbextensionsApp]\u001b[m Up to date: /Users/malcolm/Library/Jupyter/nbextensions/nbTranslate/demo1.gif\r\n",
      "\u001b[32m[I 15:20:27 InstallContribNbextensionsApp]\u001b[m Up to date: /Users/malcolm/Library/Jupyter/nbextensions/nbTranslate/demo2.gif\r\n",
      "\u001b[32m[I 15:20:27 InstallContribNbextensionsApp]\u001b[m Up to date: /Users/malcolm/Library/Jupyter/nbextensions/nbTranslate/languages.js\r\n",
      "\u001b[32m[I 15:20:27 InstallContribNbextensionsApp]\u001b[m Up to date: /Users/malcolm/Library/Jupyter/nbextensions/nbTranslate/mutils.js\r\n",
      "\u001b[32m[I 15:20:27 InstallContribNbextensionsApp]\u001b[m - Validating: \u001b[32mOK\u001b[0m\r\n",
      "\u001b[32m[I 15:20:27 InstallContribNbextensionsApp]\u001b[m Installing /Users/malcolm/.virtualenvs/ultron8-cznMaMZB/lib/python3.6/site-packages/jupyter_contrib_nbextensions/nbextensions/equation-numbering -> equation-numbering\r\n",
      "\u001b[32m[I 15:20:27 InstallContribNbextensionsApp]\u001b[m Up to date: /Users/malcolm/Library/Jupyter/nbextensions/equation-numbering/icon.png\r\n",
      "\u001b[32m[I 15:20:27 InstallContribNbextensionsApp]\u001b[m Up to date: /Users/malcolm/Library/Jupyter/nbextensions/equation-numbering/readme.md\r\n",
      "\u001b[32m[I 15:20:27 InstallContribNbextensionsApp]\u001b[m Up to date: /Users/malcolm/Library/Jupyter/nbextensions/equation-numbering/main.js\r\n",
      "\u001b[32m[I 15:20:27 InstallContribNbextensionsApp]\u001b[m Up to date: /Users/malcolm/Library/Jupyter/nbextensions/equation-numbering/info.yaml\r\n",
      "\u001b[32m[I 15:20:27 InstallContribNbextensionsApp]\u001b[m Up to date: /Users/malcolm/Library/Jupyter/nbextensions/equation-numbering/button.png\r\n",
      "\u001b[32m[I 15:20:27 InstallContribNbextensionsApp]\u001b[m - Validating: \u001b[32mOK\u001b[0m\r\n",
      "\u001b[32m[I 15:20:27 InstallContribNbextensionsApp]\u001b[m Installing /Users/malcolm/.virtualenvs/ultron8-cznMaMZB/lib/python3.6/site-packages/jupyter_contrib_nbextensions/nbextensions/navigation-hotkeys -> navigation-hotkeys\r\n",
      "\u001b[32m[I 15:20:27 InstallContribNbextensionsApp]\u001b[m Up to date: /Users/malcolm/Library/Jupyter/nbextensions/navigation-hotkeys/icon.png\r\n",
      "\u001b[32m[I 15:20:27 InstallContribNbextensionsApp]\u001b[m Up to date: /Users/malcolm/Library/Jupyter/nbextensions/navigation-hotkeys/readme.md\r\n",
      "\u001b[32m[I 15:20:27 InstallContribNbextensionsApp]\u001b[m Up to date: /Users/malcolm/Library/Jupyter/nbextensions/navigation-hotkeys/main.js\r\n",
      "\u001b[32m[I 15:20:27 InstallContribNbextensionsApp]\u001b[m Up to date: /Users/malcolm/Library/Jupyter/nbextensions/navigation-hotkeys/hotkeys.yaml\r\n",
      "\u001b[32m[I 15:20:27 InstallContribNbextensionsApp]\u001b[m - Validating: \u001b[32mOK\u001b[0m\r\n",
      "\u001b[32m[I 15:20:27 InstallContribNbextensionsApp]\u001b[m Installing /Users/malcolm/.virtualenvs/ultron8-cznMaMZB/lib/python3.6/site-packages/jupyter_contrib_nbextensions/nbextensions/snippets_menu -> snippets_menu\r\n",
      "\u001b[32m[I 15:20:27 InstallContribNbextensionsApp]\u001b[m Up to date: /Users/malcolm/Library/Jupyter/nbextensions/snippets_menu/snippets_menu.css\r\n",
      "\u001b[32m[I 15:20:27 InstallContribNbextensionsApp]\u001b[m Up to date: /Users/malcolm/Library/Jupyter/nbextensions/snippets_menu/snippets_submenu_python.js\r\n",
      "\u001b[32m[I 15:20:27 InstallContribNbextensionsApp]\u001b[m Up to date: /Users/malcolm/Library/Jupyter/nbextensions/snippets_menu/config.yaml\r\n",
      "\u001b[32m[I 15:20:27 InstallContribNbextensionsApp]\u001b[m Up to date: /Users/malcolm/Library/Jupyter/nbextensions/snippets_menu/readme.md\r\n",
      "\u001b[32m[I 15:20:27 InstallContribNbextensionsApp]\u001b[m Up to date: /Users/malcolm/Library/Jupyter/nbextensions/snippets_menu/main.js\r\n",
      "\u001b[32m[I 15:20:27 InstallContribNbextensionsApp]\u001b[m Up to date: /Users/malcolm/Library/Jupyter/nbextensions/snippets_menu/snippets_submenu_markdown.js\r\n",
      "\u001b[32m[I 15:20:27 InstallContribNbextensionsApp]\u001b[m Up to date: /Users/malcolm/Library/Jupyter/nbextensions/snippets_menu/thumbnail.png\r\n",
      "\u001b[32m[I 15:20:27 InstallContribNbextensionsApp]\u001b[m Up to date: /Users/malcolm/Library/Jupyter/nbextensions/snippets_menu/screenshot1.png\r\n",
      "\u001b[32m[I 15:20:27 InstallContribNbextensionsApp]\u001b[m Up to date: /Users/malcolm/Library/Jupyter/nbextensions/snippets_menu/screenshot2.png\r\n",
      "\u001b[32m[I 15:20:27 InstallContribNbextensionsApp]\u001b[m Up to date: /Users/malcolm/Library/Jupyter/nbextensions/snippets_menu/screenshot3.png\r\n",
      "\u001b[32m[I 15:20:27 InstallContribNbextensionsApp]\u001b[m Up to date: /Users/malcolm/Library/Jupyter/nbextensions/snippets_menu/examples_for_custom.js\r\n",
      "\u001b[32m[I 15:20:27 InstallContribNbextensionsApp]\u001b[m Up to date: /Users/malcolm/Library/Jupyter/nbextensions/snippets_menu/snippets_submenus_python/numpy_ufuncs.js\r\n",
      "\u001b[32m[I 15:20:27 InstallContribNbextensionsApp]\u001b[m Up to date: /Users/malcolm/Library/Jupyter/nbextensions/snippets_menu/snippets_submenus_python/numba.js\r\n",
      "\u001b[32m[I 15:20:27 InstallContribNbextensionsApp]\u001b[m Up to date: /Users/malcolm/Library/Jupyter/nbextensions/snippets_menu/snippets_submenus_python/sympy_assumptions.js\r\n",
      "\u001b[32m[I 15:20:27 InstallContribNbextensionsApp]\u001b[m Up to date: /Users/malcolm/Library/Jupyter/nbextensions/snippets_menu/snippets_submenus_python/sympy.js\r\n",
      "\u001b[32m[I 15:20:27 InstallContribNbextensionsApp]\u001b[m Up to date: /Users/malcolm/Library/Jupyter/nbextensions/snippets_menu/snippets_submenus_python/numpy.js\r\n",
      "\u001b[32m[I 15:20:27 InstallContribNbextensionsApp]\u001b[m Up to date: /Users/malcolm/Library/Jupyter/nbextensions/snippets_menu/snippets_submenus_python/astropy.js\r\n",
      "\u001b[32m[I 15:20:27 InstallContribNbextensionsApp]\u001b[m Up to date: /Users/malcolm/Library/Jupyter/nbextensions/snippets_menu/snippets_submenus_python/pandas.js\r\n",
      "\u001b[32m[I 15:20:27 InstallContribNbextensionsApp]\u001b[m Up to date: /Users/malcolm/Library/Jupyter/nbextensions/snippets_menu/snippets_submenus_python/numpy_polynomial.js\r\n",
      "\u001b[32m[I 15:20:27 InstallContribNbextensionsApp]\u001b[m Up to date: /Users/malcolm/Library/Jupyter/nbextensions/snippets_menu/snippets_submenus_python/scipy_constants.js\r\n",
      "\u001b[32m[I 15:20:27 InstallContribNbextensionsApp]\u001b[m Up to date: /Users/malcolm/Library/Jupyter/nbextensions/snippets_menu/snippets_submenus_python/matplotlib.js\r\n",
      "\u001b[32m[I 15:20:27 InstallContribNbextensionsApp]\u001b[m Up to date: /Users/malcolm/Library/Jupyter/nbextensions/snippets_menu/snippets_submenus_python/sympy_functions.js\r\n",
      "\u001b[32m[I 15:20:27 InstallContribNbextensionsApp]\u001b[m Up to date: /Users/malcolm/Library/Jupyter/nbextensions/snippets_menu/snippets_submenus_python/h5py.js\r\n",
      "\u001b[32m[I 15:20:27 InstallContribNbextensionsApp]\u001b[m Up to date: /Users/malcolm/Library/Jupyter/nbextensions/snippets_menu/snippets_submenus_python/scipy_special.js\r\n",
      "\u001b[32m[I 15:20:27 InstallContribNbextensionsApp]\u001b[m Up to date: /Users/malcolm/Library/Jupyter/nbextensions/snippets_menu/snippets_submenus_python/python_regex.js\r\n",
      "\u001b[32m[I 15:20:27 InstallContribNbextensionsApp]\u001b[m Up to date: /Users/malcolm/Library/Jupyter/nbextensions/snippets_menu/snippets_submenus_python/python.js\r\n",
      "\u001b[32m[I 15:20:27 InstallContribNbextensionsApp]\u001b[m Up to date: /Users/malcolm/Library/Jupyter/nbextensions/snippets_menu/snippets_submenus_python/scipy.js\r\n",
      "\u001b[32m[I 15:20:27 InstallContribNbextensionsApp]\u001b[m - Validating: \u001b[32mOK\u001b[0m\r\n",
      "\u001b[32m[I 15:20:27 InstallContribNbextensionsApp]\u001b[m Installing /Users/malcolm/.virtualenvs/ultron8-cznMaMZB/lib/python3.6/site-packages/jupyter_contrib_nbextensions/nbextensions/printview -> printview\r\n",
      "\u001b[32m[I 15:20:27 InstallContribNbextensionsApp]\u001b[m Up to date: /Users/malcolm/Library/Jupyter/nbextensions/printview/icon.png\r\n",
      "\u001b[32m[I 15:20:27 InstallContribNbextensionsApp]\u001b[m Up to date: /Users/malcolm/Library/Jupyter/nbextensions/printview/printview-button.png\r\n",
      "\u001b[32m[I 15:20:27 InstallContribNbextensionsApp]\u001b[m Up to date: /Users/malcolm/Library/Jupyter/nbextensions/printview/readme.md\r\n",
      "\u001b[32m[I 15:20:27 InstallContribNbextensionsApp]\u001b[m Up to date: /Users/malcolm/Library/Jupyter/nbextensions/printview/main.js\r\n",
      "\u001b[32m[I 15:20:27 InstallContribNbextensionsApp]\u001b[m Up to date: /Users/malcolm/Library/Jupyter/nbextensions/printview/printview.yaml\r\n",
      "\u001b[32m[I 15:20:27 InstallContribNbextensionsApp]\u001b[m - Validating: \u001b[32mOK\u001b[0m\r\n",
      "\u001b[32m[I 15:20:27 InstallContribNbextensionsApp]\u001b[m Installing /Users/malcolm/.virtualenvs/ultron8-cznMaMZB/lib/python3.6/site-packages/jupyter_contrib_nbextensions/nbextensions/export_embedded -> export_embedded\r\n",
      "\u001b[32m[I 15:20:27 InstallContribNbextensionsApp]\u001b[m Up to date: /Users/malcolm/Library/Jupyter/nbextensions/export_embedded/export_embedded.yaml\r\n",
      "\u001b[32m[I 15:20:27 InstallContribNbextensionsApp]\u001b[m Up to date: /Users/malcolm/Library/Jupyter/nbextensions/export_embedded/icon.png\r\n",
      "\u001b[32m[I 15:20:27 InstallContribNbextensionsApp]\u001b[m Up to date: /Users/malcolm/Library/Jupyter/nbextensions/export_embedded/readme.md\r\n",
      "\u001b[32m[I 15:20:27 InstallContribNbextensionsApp]\u001b[m Up to date: /Users/malcolm/Library/Jupyter/nbextensions/export_embedded/main.js\r\n",
      "\u001b[32m[I 15:20:27 InstallContribNbextensionsApp]\u001b[m - Validating: \u001b[32mOK\u001b[0m\r\n",
      "\u001b[32m[I 15:20:27 InstallContribNbextensionsApp]\u001b[m Installing /Users/malcolm/.virtualenvs/ultron8-cznMaMZB/lib/python3.6/site-packages/jupyter_contrib_nbextensions/nbextensions/autoscroll -> autoscroll\r\n",
      "\u001b[32m[I 15:20:27 InstallContribNbextensionsApp]\u001b[m Up to date: /Users/malcolm/Library/Jupyter/nbextensions/autoscroll/icon.png\r\n",
      "\u001b[32m[I 15:20:27 InstallContribNbextensionsApp]\u001b[m Up to date: /Users/malcolm/Library/Jupyter/nbextensions/autoscroll/autoscroll.yaml\r\n",
      "\u001b[32m[I 15:20:27 InstallContribNbextensionsApp]\u001b[m Up to date: /Users/malcolm/Library/Jupyter/nbextensions/autoscroll/README.md\r\n",
      "\u001b[32m[I 15:20:27 InstallContribNbextensionsApp]\u001b[m Up to date: /Users/malcolm/Library/Jupyter/nbextensions/autoscroll/main.js\r\n",
      "\u001b[32m[I 15:20:27 InstallContribNbextensionsApp]\u001b[m - Validating: \u001b[32mOK\u001b[0m\r\n",
      "\u001b[32m[I 15:20:27 InstallContribNbextensionsApp]\u001b[m Installing /Users/malcolm/.virtualenvs/ultron8-cznMaMZB/lib/python3.6/site-packages/jupyter_contrib_nbextensions/nbextensions/hide_input -> hide_input\r\n",
      "\u001b[32m[I 15:20:27 InstallContribNbextensionsApp]\u001b[m Up to date: /Users/malcolm/Library/Jupyter/nbextensions/hide_input/icon.png\r\n",
      "\u001b[32m[I 15:20:27 InstallContribNbextensionsApp]\u001b[m Up to date: /Users/malcolm/Library/Jupyter/nbextensions/hide_input/readme.md\r\n",
      "\u001b[32m[I 15:20:27 InstallContribNbextensionsApp]\u001b[m Up to date: /Users/malcolm/Library/Jupyter/nbextensions/hide_input/main.js\r\n",
      "\u001b[32m[I 15:20:27 InstallContribNbextensionsApp]\u001b[m Up to date: /Users/malcolm/Library/Jupyter/nbextensions/hide_input/hide-input.yaml\r\n",
      "\u001b[32m[I 15:20:27 InstallContribNbextensionsApp]\u001b[m - Validating: \u001b[32mOK\u001b[0m\r\n",
      "\u001b[32m[I 15:20:27 InstallContribNbextensionsApp]\u001b[m Installing /Users/malcolm/.virtualenvs/ultron8-cznMaMZB/lib/python3.6/site-packages/jupyter_contrib_nbextensions/nbextensions/hide_input_all -> hide_input_all\r\n",
      "\u001b[32m[I 15:20:27 InstallContribNbextensionsApp]\u001b[m Up to date: /Users/malcolm/Library/Jupyter/nbextensions/hide_input_all/icon.png\r\n",
      "\u001b[32m[I 15:20:27 InstallContribNbextensionsApp]\u001b[m Up to date: /Users/malcolm/Library/Jupyter/nbextensions/hide_input_all/hide_input_all.yaml\r\n",
      "\u001b[32m[I 15:20:27 InstallContribNbextensionsApp]\u001b[m Up to date: /Users/malcolm/Library/Jupyter/nbextensions/hide_input_all/hide_input_all_show.png\r\n",
      "\u001b[32m[I 15:20:27 InstallContribNbextensionsApp]\u001b[m Up to date: /Users/malcolm/Library/Jupyter/nbextensions/hide_input_all/readme.md\r\n",
      "\u001b[32m[I 15:20:27 InstallContribNbextensionsApp]\u001b[m Up to date: /Users/malcolm/Library/Jupyter/nbextensions/hide_input_all/main.js\r\n",
      "\u001b[32m[I 15:20:27 InstallContribNbextensionsApp]\u001b[m Up to date: /Users/malcolm/Library/Jupyter/nbextensions/hide_input_all/hide_input_all_hide.png\r\n",
      "\u001b[32m[I 15:20:27 InstallContribNbextensionsApp]\u001b[m - Validating: \u001b[32mOK\u001b[0m\r\n",
      "\u001b[32m[I 15:20:27 InstallContribNbextensionsApp]\u001b[m Installing /Users/malcolm/.virtualenvs/ultron8-cznMaMZB/lib/python3.6/site-packages/jupyter_contrib_nbextensions/nbextensions/keyboard_shortcut_editor -> keyboard_shortcut_editor\r\n",
      "\u001b[32m[I 15:20:27 InstallContribNbextensionsApp]\u001b[m Up to date: /Users/malcolm/Library/Jupyter/nbextensions/keyboard_shortcut_editor/keyboard_shortcut_editor.yaml\r\n",
      "\u001b[32m[I 15:20:27 InstallContribNbextensionsApp]\u001b[m Up to date: /Users/malcolm/Library/Jupyter/nbextensions/keyboard_shortcut_editor/icon.png\r\n",
      "\u001b[32m[I 15:20:27 InstallContribNbextensionsApp]\u001b[m Up to date: /Users/malcolm/Library/Jupyter/nbextensions/keyboard_shortcut_editor/readme_comma.png\r\n",
      "\u001b[32m[I 15:20:27 InstallContribNbextensionsApp]\u001b[m Up to date: /Users/malcolm/Library/Jupyter/nbextensions/keyboard_shortcut_editor/readme_shortcut_editor_blank.png\r\n",
      "\u001b[32m[I 15:20:27 InstallContribNbextensionsApp]\u001b[m Up to date: /Users/malcolm/Library/Jupyter/nbextensions/keyboard_shortcut_editor/readme_shortcut_editor_success.png\r\n",
      "\u001b[32m[I 15:20:27 InstallContribNbextensionsApp]\u001b[m Up to date: /Users/malcolm/Library/Jupyter/nbextensions/keyboard_shortcut_editor/main.css\r\n",
      "\u001b[32m[I 15:20:27 InstallContribNbextensionsApp]\u001b[m Up to date: /Users/malcolm/Library/Jupyter/nbextensions/keyboard_shortcut_editor/README.md\r\n",
      "\u001b[32m[I 15:20:27 InstallContribNbextensionsApp]\u001b[m Up to date: /Users/malcolm/Library/Jupyter/nbextensions/keyboard_shortcut_editor/readme_reset_disabled.png\r\n",
      "\u001b[32m[I 15:20:27 InstallContribNbextensionsApp]\u001b[m Up to date: /Users/malcolm/Library/Jupyter/nbextensions/keyboard_shortcut_editor/readme_add_new_link.png\r\n",
      "\u001b[32m[I 15:20:27 InstallContribNbextensionsApp]\u001b[m Up to date: /Users/malcolm/Library/Jupyter/nbextensions/keyboard_shortcut_editor/main.js\r\n",
      "\u001b[32m[I 15:20:27 InstallContribNbextensionsApp]\u001b[m Up to date: /Users/malcolm/Library/Jupyter/nbextensions/keyboard_shortcut_editor/readme_dropdown.png\r\n",
      "\u001b[32m[I 15:20:27 InstallContribNbextensionsApp]\u001b[m Up to date: /Users/malcolm/Library/Jupyter/nbextensions/keyboard_shortcut_editor/quickhelp_shim.js\r\n",
      "\u001b[32m[I 15:20:27 InstallContribNbextensionsApp]\u001b[m Up to date: /Users/malcolm/Library/Jupyter/nbextensions/keyboard_shortcut_editor/readme_add_new_select_action.png\r\n",
      "\u001b[32m[I 15:20:27 InstallContribNbextensionsApp]\u001b[m Up to date: /Users/malcolm/Library/Jupyter/nbextensions/keyboard_shortcut_editor/kse_components.js\r\n",
      "\u001b[32m[I 15:20:27 InstallContribNbextensionsApp]\u001b[m Up to date: /Users/malcolm/Library/Jupyter/nbextensions/keyboard_shortcut_editor/readme_undefined_key.png\r\n",
      "\u001b[32m[I 15:20:27 InstallContribNbextensionsApp]\u001b[m Up to date: /Users/malcolm/Library/Jupyter/nbextensions/keyboard_shortcut_editor/readme_conflict.png\r\n",
      "\u001b[32m[I 15:20:27 InstallContribNbextensionsApp]\u001b[m Up to date: /Users/malcolm/Library/Jupyter/nbextensions/keyboard_shortcut_editor/readme_menu_item.png\r\n",
      "\u001b[32m[I 15:20:27 InstallContribNbextensionsApp]\u001b[m - Validating: \u001b[32mOK\u001b[0m\r\n",
      "\u001b[32m[I 15:20:27 InstallContribNbextensionsApp]\u001b[m Installing /Users/malcolm/.virtualenvs/ultron8-cznMaMZB/lib/python3.6/site-packages/jupyter_contrib_nbextensions/nbextensions/help_panel -> help_panel\r\n",
      "\u001b[32m[I 15:20:27 InstallContribNbextensionsApp]\u001b[m Up to date: /Users/malcolm/Library/Jupyter/nbextensions/help_panel/icon.png\r\n",
      "\u001b[32m[I 15:20:27 InstallContribNbextensionsApp]\u001b[m Up to date: /Users/malcolm/Library/Jupyter/nbextensions/help_panel/help_panel_ext.png\r\n",
      "\u001b[32m[I 15:20:27 InstallContribNbextensionsApp]\u001b[m Up to date: /Users/malcolm/Library/Jupyter/nbextensions/help_panel/readme.md\r\n",
      "\u001b[32m[I 15:20:27 InstallContribNbextensionsApp]\u001b[m Up to date: /Users/malcolm/Library/Jupyter/nbextensions/help_panel/help_panel_ext_fullscreen.png\r\n",
      "\u001b[32m[I 15:20:27 InstallContribNbextensionsApp]\u001b[m Up to date: /Users/malcolm/Library/Jupyter/nbextensions/help_panel/help_panel.yaml\r\n",
      "\u001b[32m[I 15:20:27 InstallContribNbextensionsApp]\u001b[m Up to date: /Users/malcolm/Library/Jupyter/nbextensions/help_panel/help_panel.css\r\n",
      "\u001b[32m[I 15:20:27 InstallContribNbextensionsApp]\u001b[m Up to date: /Users/malcolm/Library/Jupyter/nbextensions/help_panel/help_panel.js\r\n",
      "\u001b[32m[I 15:20:27 InstallContribNbextensionsApp]\u001b[m Up to date: /Users/malcolm/Library/Jupyter/nbextensions/help_panel/img/handle-v.png\r\n",
      "\u001b[32m[I 15:20:27 InstallContribNbextensionsApp]\u001b[m - Validating: \u001b[32mOK\u001b[0m\r\n",
      "\u001b[32m[I 15:20:27 InstallContribNbextensionsApp]\u001b[m Installing /Users/malcolm/.virtualenvs/ultron8-cznMaMZB/lib/python3.6/site-packages/jupyter_contrib_nbextensions/nbextensions/move_selected_cells -> move_selected_cells\r\n",
      "\u001b[32m[I 15:20:27 InstallContribNbextensionsApp]\u001b[m Up to date: /Users/malcolm/Library/Jupyter/nbextensions/move_selected_cells/README.md\r\n",
      "\u001b[32m[I 15:20:27 InstallContribNbextensionsApp]\u001b[m Up to date: /Users/malcolm/Library/Jupyter/nbextensions/move_selected_cells/main.js\r\n",
      "\u001b[32m[I 15:20:27 InstallContribNbextensionsApp]\u001b[m Up to date: /Users/malcolm/Library/Jupyter/nbextensions/move_selected_cells/move_selected_cells.yaml\r\n",
      "\u001b[32m[I 15:20:27 InstallContribNbextensionsApp]\u001b[m - Validating: \u001b[32mOK\u001b[0m\r\n",
      "\u001b[32m[I 15:20:27 InstallContribNbextensionsApp]\u001b[m Installing /Users/malcolm/.virtualenvs/ultron8-cznMaMZB/lib/python3.6/site-packages/jupyter_contrib_nbextensions/nbextensions/zenmode -> zenmode\r\n",
      "\u001b[32m[I 15:20:27 InstallContribNbextensionsApp]\u001b[m Up to date: /Users/malcolm/Library/Jupyter/nbextensions/zenmode/main.css\r\n",
      "\u001b[32m[I 15:20:27 InstallContribNbextensionsApp]\u001b[m Up to date: /Users/malcolm/Library/Jupyter/nbextensions/zenmode/README.md\r\n",
      "\u001b[32m[I 15:20:27 InstallContribNbextensionsApp]\u001b[m Up to date: /Users/malcolm/Library/Jupyter/nbextensions/zenmode/main.js\r\n",
      "\u001b[32m[I 15:20:27 InstallContribNbextensionsApp]\u001b[m Up to date: /Users/malcolm/Library/Jupyter/nbextensions/zenmode/zenmode.yaml\r\n",
      "\u001b[32m[I 15:20:27 InstallContribNbextensionsApp]\u001b[m Up to date: /Users/malcolm/Library/Jupyter/nbextensions/zenmode/images/back12.jpg\r\n",
      "\u001b[32m[I 15:20:27 InstallContribNbextensionsApp]\u001b[m Up to date: /Users/malcolm/Library/Jupyter/nbextensions/zenmode/images/back11.jpg\r\n",
      "\u001b[32m[I 15:20:27 InstallContribNbextensionsApp]\u001b[m Up to date: /Users/malcolm/Library/Jupyter/nbextensions/zenmode/images/back2.jpg\r\n",
      "\u001b[32m[I 15:20:27 InstallContribNbextensionsApp]\u001b[m Up to date: /Users/malcolm/Library/Jupyter/nbextensions/zenmode/images/back3.jpg\r\n",
      "\u001b[32m[I 15:20:27 InstallContribNbextensionsApp]\u001b[m Up to date: /Users/malcolm/Library/Jupyter/nbextensions/zenmode/images/back1.jpg\r\n",
      "\u001b[32m[I 15:20:27 InstallContribNbextensionsApp]\u001b[m Up to date: /Users/malcolm/Library/Jupyter/nbextensions/zenmode/images/ipynblogo1.png\r\n",
      "\u001b[32m[I 15:20:27 InstallContribNbextensionsApp]\u001b[m Up to date: /Users/malcolm/Library/Jupyter/nbextensions/zenmode/images/ipynblogo0.png\r\n",
      "\u001b[32m[I 15:20:27 InstallContribNbextensionsApp]\u001b[m Up to date: /Users/malcolm/Library/Jupyter/nbextensions/zenmode/images/back21.jpg\r\n",
      "\u001b[32m[I 15:20:27 InstallContribNbextensionsApp]\u001b[m Up to date: /Users/malcolm/Library/Jupyter/nbextensions/zenmode/images/back22.jpg\r\n",
      "\u001b[32m[I 15:20:27 InstallContribNbextensionsApp]\u001b[m - Validating: \u001b[32mOK\u001b[0m\r\n",
      "\u001b[32m[I 15:20:27 InstallContribNbextensionsApp]\u001b[m Installing /Users/malcolm/.virtualenvs/ultron8-cznMaMZB/lib/python3.6/site-packages/jupyter_contrib_nbextensions/nbextensions/skip-traceback -> skip-traceback\r\n",
      "\u001b[32m[I 15:20:27 InstallContribNbextensionsApp]\u001b[m Up to date: /Users/malcolm/Library/Jupyter/nbextensions/skip-traceback/icon.png\r\n",
      "\u001b[32m[I 15:20:27 InstallContribNbextensionsApp]\u001b[m Up to date: /Users/malcolm/Library/Jupyter/nbextensions/skip-traceback/traceback.png\r\n",
      "\u001b[32m[I 15:20:27 InstallContribNbextensionsApp]\u001b[m Up to date: /Users/malcolm/Library/Jupyter/nbextensions/skip-traceback/readme.md\r\n",
      "\u001b[32m[I 15:20:27 InstallContribNbextensionsApp]\u001b[m Up to date: /Users/malcolm/Library/Jupyter/nbextensions/skip-traceback/main.js\r\n",
      "\u001b[32m[I 15:20:27 InstallContribNbextensionsApp]\u001b[m Up to date: /Users/malcolm/Library/Jupyter/nbextensions/skip-traceback/skip-traceback.yaml\r\n",
      "\u001b[32m[I 15:20:27 InstallContribNbextensionsApp]\u001b[m Up to date: /Users/malcolm/Library/Jupyter/nbextensions/skip-traceback/skip-traceback.png\r\n",
      "\u001b[32m[I 15:20:27 InstallContribNbextensionsApp]\u001b[m - Validating: \u001b[32mOK\u001b[0m\r\n",
      "\u001b[32m[I 15:20:27 InstallContribNbextensionsApp]\u001b[m Installing /Users/malcolm/.virtualenvs/ultron8-cznMaMZB/lib/python3.6/site-packages/jupyter_contrib_nbextensions/nbextensions/python-markdown -> python-markdown\r\n",
      "\u001b[32m[I 15:20:27 InstallContribNbextensionsApp]\u001b[m Up to date: /Users/malcolm/Library/Jupyter/nbextensions/python-markdown/untrusted.png\r\n",
      "\u001b[32m[I 15:20:27 InstallContribNbextensionsApp]\u001b[m Up to date: /Users/malcolm/Library/Jupyter/nbextensions/python-markdown/python-markdown-pre.png\r\n",
      "\u001b[32m[I 15:20:27 InstallContribNbextensionsApp]\u001b[m Up to date: /Users/malcolm/Library/Jupyter/nbextensions/python-markdown/main.css\r\n",
      "\u001b[32m[I 15:20:27 InstallContribNbextensionsApp]\u001b[m Up to date: /Users/malcolm/Library/Jupyter/nbextensions/python-markdown/readme.md\r\n",
      "\u001b[32m[I 15:20:27 InstallContribNbextensionsApp]\u001b[m Up to date: /Users/malcolm/Library/Jupyter/nbextensions/python-markdown/main.js\r\n",
      "\u001b[32m[I 15:20:27 InstallContribNbextensionsApp]\u001b[m Up to date: /Users/malcolm/Library/Jupyter/nbextensions/python-markdown/python-markdown.png\r\n",
      "\u001b[32m[I 15:20:27 InstallContribNbextensionsApp]\u001b[m Up to date: /Users/malcolm/Library/Jupyter/nbextensions/python-markdown/trusted.png\r\n",
      "\u001b[32m[I 15:20:27 InstallContribNbextensionsApp]\u001b[m Up to date: /Users/malcolm/Library/Jupyter/nbextensions/python-markdown/python-markdown.yaml\r\n",
      "\u001b[32m[I 15:20:27 InstallContribNbextensionsApp]\u001b[m Up to date: /Users/malcolm/Library/Jupyter/nbextensions/python-markdown/python-markdown-post.png\r\n",
      "\u001b[32m[I 15:20:27 InstallContribNbextensionsApp]\u001b[m - Validating: \u001b[32mOK\u001b[0m\r\n",
      "\u001b[32m[I 15:20:27 InstallContribNbextensionsApp]\u001b[m Installing /Users/malcolm/.virtualenvs/ultron8-cznMaMZB/lib/python3.6/site-packages/jupyter_contrib_nbextensions/nbextensions/codefolding -> codefolding\r\n",
      "\u001b[32m[I 15:20:27 InstallContribNbextensionsApp]\u001b[m Up to date: /Users/malcolm/Library/Jupyter/nbextensions/codefolding/codefolding_editor.yaml\r\n",
      "\u001b[32m[I 15:20:27 InstallContribNbextensionsApp]\u001b[m Up to date: /Users/malcolm/Library/Jupyter/nbextensions/codefolding/icon.png\r\n",
      "\u001b[32m[I 15:20:27 InstallContribNbextensionsApp]\u001b[m Up to date: /Users/malcolm/Library/Jupyter/nbextensions/codefolding/codefolding_firstline_folded.png\r\n",
      "\u001b[32m[I 15:20:27 InstallContribNbextensionsApp]\u001b[m Up to date: /Users/malcolm/Library/Jupyter/nbextensions/codefolding/codefolding_indent_folded_2.png\r\n",
      "\u001b[32m[I 15:20:27 InstallContribNbextensionsApp]\u001b[m Up to date: /Users/malcolm/Library/Jupyter/nbextensions/codefolding/codefolding_indent_folded_1.png\r\n",
      "\u001b[32m[I 15:20:27 InstallContribNbextensionsApp]\u001b[m Up to date: /Users/malcolm/Library/Jupyter/nbextensions/codefolding/edit.js\r\n",
      "\u001b[32m[I 15:20:27 InstallContribNbextensionsApp]\u001b[m Up to date: /Users/malcolm/Library/Jupyter/nbextensions/codefolding/magic-fold.js\r\n",
      "\u001b[32m[I 15:20:27 InstallContribNbextensionsApp]\u001b[m Up to date: /Users/malcolm/Library/Jupyter/nbextensions/codefolding/firstline-fold.js\r\n",
      "\u001b[32m[I 15:20:27 InstallContribNbextensionsApp]\u001b[m Up to date: /Users/malcolm/Library/Jupyter/nbextensions/codefolding/codefolding_firstline_unfolded.png\r\n",
      "\u001b[32m[I 15:20:27 InstallContribNbextensionsApp]\u001b[m Up to date: /Users/malcolm/Library/Jupyter/nbextensions/codefolding/readme.md\r\n",
      "\u001b[32m[I 15:20:27 InstallContribNbextensionsApp]\u001b[m Up to date: /Users/malcolm/Library/Jupyter/nbextensions/codefolding/main.js\r\n",
      "\u001b[32m[I 15:20:27 InstallContribNbextensionsApp]\u001b[m Up to date: /Users/malcolm/Library/Jupyter/nbextensions/codefolding/magic-unfolded.png\r\n",
      "\u001b[32m[I 15:20:27 InstallContribNbextensionsApp]\u001b[m Up to date: /Users/malcolm/Library/Jupyter/nbextensions/codefolding/foldgutter.css\r\n",
      "\u001b[32m[I 15:20:27 InstallContribNbextensionsApp]\u001b[m Up to date: /Users/malcolm/Library/Jupyter/nbextensions/codefolding/magic-folded.png\r\n",
      "\u001b[32m[I 15:20:27 InstallContribNbextensionsApp]\u001b[m Up to date: /Users/malcolm/Library/Jupyter/nbextensions/codefolding/codefolding.yaml\r\n",
      "\u001b[32m[I 15:20:27 InstallContribNbextensionsApp]\u001b[m Up to date: /Users/malcolm/Library/Jupyter/nbextensions/codefolding/codefolding_editor.png\r\n",
      "\u001b[32m[I 15:20:27 InstallContribNbextensionsApp]\u001b[m Up to date: /Users/malcolm/Library/Jupyter/nbextensions/codefolding/codefolding_indent_unfolded.png\r\n",
      "\u001b[32m[I 15:20:27 InstallContribNbextensionsApp]\u001b[m - Validating: \u001b[32mOK\u001b[0m\r\n",
      "\u001b[32m[I 15:20:27 InstallContribNbextensionsApp]\u001b[m Installing /Users/malcolm/.virtualenvs/ultron8-cznMaMZB/lib/python3.6/site-packages/jupyter_contrib_nbextensions/nbextensions/codefolding -> codefolding\r\n"
     ]
    },
    {
     "name": "stdout",
     "output_type": "stream",
     "text": [
      "\u001b[32m[I 15:20:27 InstallContribNbextensionsApp]\u001b[m Up to date: /Users/malcolm/Library/Jupyter/nbextensions/codefolding/codefolding_editor.yaml\r\n",
      "\u001b[32m[I 15:20:27 InstallContribNbextensionsApp]\u001b[m Up to date: /Users/malcolm/Library/Jupyter/nbextensions/codefolding/icon.png\r\n",
      "\u001b[32m[I 15:20:27 InstallContribNbextensionsApp]\u001b[m Up to date: /Users/malcolm/Library/Jupyter/nbextensions/codefolding/codefolding_firstline_folded.png\r\n",
      "\u001b[32m[I 15:20:27 InstallContribNbextensionsApp]\u001b[m Up to date: /Users/malcolm/Library/Jupyter/nbextensions/codefolding/codefolding_indent_folded_2.png\r\n",
      "\u001b[32m[I 15:20:27 InstallContribNbextensionsApp]\u001b[m Up to date: /Users/malcolm/Library/Jupyter/nbextensions/codefolding/codefolding_indent_folded_1.png\r\n",
      "\u001b[32m[I 15:20:27 InstallContribNbextensionsApp]\u001b[m Up to date: /Users/malcolm/Library/Jupyter/nbextensions/codefolding/edit.js\r\n",
      "\u001b[32m[I 15:20:27 InstallContribNbextensionsApp]\u001b[m Up to date: /Users/malcolm/Library/Jupyter/nbextensions/codefolding/magic-fold.js\r\n",
      "\u001b[32m[I 15:20:27 InstallContribNbextensionsApp]\u001b[m Up to date: /Users/malcolm/Library/Jupyter/nbextensions/codefolding/firstline-fold.js\r\n",
      "\u001b[32m[I 15:20:27 InstallContribNbextensionsApp]\u001b[m Up to date: /Users/malcolm/Library/Jupyter/nbextensions/codefolding/codefolding_firstline_unfolded.png\r\n",
      "\u001b[32m[I 15:20:27 InstallContribNbextensionsApp]\u001b[m Up to date: /Users/malcolm/Library/Jupyter/nbextensions/codefolding/readme.md\r\n",
      "\u001b[32m[I 15:20:27 InstallContribNbextensionsApp]\u001b[m Up to date: /Users/malcolm/Library/Jupyter/nbextensions/codefolding/main.js\r\n",
      "\u001b[32m[I 15:20:27 InstallContribNbextensionsApp]\u001b[m Up to date: /Users/malcolm/Library/Jupyter/nbextensions/codefolding/magic-unfolded.png\r\n",
      "\u001b[32m[I 15:20:27 InstallContribNbextensionsApp]\u001b[m Up to date: /Users/malcolm/Library/Jupyter/nbextensions/codefolding/foldgutter.css\r\n",
      "\u001b[32m[I 15:20:27 InstallContribNbextensionsApp]\u001b[m Up to date: /Users/malcolm/Library/Jupyter/nbextensions/codefolding/magic-folded.png\r\n",
      "\u001b[32m[I 15:20:27 InstallContribNbextensionsApp]\u001b[m Up to date: /Users/malcolm/Library/Jupyter/nbextensions/codefolding/codefolding.yaml\r\n",
      "\u001b[32m[I 15:20:27 InstallContribNbextensionsApp]\u001b[m Up to date: /Users/malcolm/Library/Jupyter/nbextensions/codefolding/codefolding_editor.png\r\n",
      "\u001b[32m[I 15:20:27 InstallContribNbextensionsApp]\u001b[m Up to date: /Users/malcolm/Library/Jupyter/nbextensions/codefolding/codefolding_indent_unfolded.png\r\n",
      "\u001b[32m[I 15:20:27 InstallContribNbextensionsApp]\u001b[m - Validating: \u001b[32mOK\u001b[0m\r\n",
      "\u001b[32m[I 15:20:27 InstallContribNbextensionsApp]\u001b[m Installing /Users/malcolm/.virtualenvs/ultron8-cznMaMZB/lib/python3.6/site-packages/jupyter_contrib_nbextensions/nbextensions/collapsible_headings -> collapsible_headings\r\n",
      "\u001b[32m[I 15:20:27 InstallContribNbextensionsApp]\u001b[m Up to date: /Users/malcolm/Library/Jupyter/nbextensions/collapsible_headings/icon.png\r\n",
      "\u001b[32m[I 15:20:27 InstallContribNbextensionsApp]\u001b[m Up to date: /Users/malcolm/Library/Jupyter/nbextensions/collapsible_headings/screenshot.png\r\n",
      "\u001b[32m[I 15:20:27 InstallContribNbextensionsApp]\u001b[m Up to date: /Users/malcolm/Library/Jupyter/nbextensions/collapsible_headings/main.css\r\n",
      "\u001b[32m[I 15:20:27 InstallContribNbextensionsApp]\u001b[m Up to date: /Users/malcolm/Library/Jupyter/nbextensions/collapsible_headings/readme.md\r\n",
      "\u001b[32m[I 15:20:27 InstallContribNbextensionsApp]\u001b[m Up to date: /Users/malcolm/Library/Jupyter/nbextensions/collapsible_headings/main.js\r\n",
      "\u001b[32m[I 15:20:27 InstallContribNbextensionsApp]\u001b[m Up to date: /Users/malcolm/Library/Jupyter/nbextensions/collapsible_headings/collapsible_headings.yaml\r\n",
      "\u001b[32m[I 15:20:27 InstallContribNbextensionsApp]\u001b[m - Validating: \u001b[32mOK\u001b[0m\r\n",
      "\u001b[32m[I 15:20:27 InstallContribNbextensionsApp]\u001b[m Installing /Users/malcolm/.virtualenvs/ultron8-cznMaMZB/lib/python3.6/site-packages/jupyter_contrib_nbextensions/nbextensions/exercise -> exercise\r\n",
      "\u001b[32m[I 15:20:27 InstallContribNbextensionsApp]\u001b[m Up to date: /Users/malcolm/Library/Jupyter/nbextensions/exercise/icon.png\r\n",
      "\u001b[32m[I 15:20:27 InstallContribNbextensionsApp]\u001b[m Up to date: /Users/malcolm/Library/Jupyter/nbextensions/exercise/history.md\r\n",
      "\u001b[32m[I 15:20:27 InstallContribNbextensionsApp]\u001b[m Up to date: /Users/malcolm/Library/Jupyter/nbextensions/exercise/main.css\r\n",
      "\u001b[32m[I 15:20:27 InstallContribNbextensionsApp]\u001b[m Up to date: /Users/malcolm/Library/Jupyter/nbextensions/exercise/image.gif\r\n",
      "\u001b[32m[I 15:20:27 InstallContribNbextensionsApp]\u001b[m Up to date: /Users/malcolm/Library/Jupyter/nbextensions/exercise/readme.md\r\n",
      "\u001b[32m[I 15:20:27 InstallContribNbextensionsApp]\u001b[m Up to date: /Users/malcolm/Library/Jupyter/nbextensions/exercise/main.js\r\n",
      "\u001b[32m[I 15:20:27 InstallContribNbextensionsApp]\u001b[m Up to date: /Users/malcolm/Library/Jupyter/nbextensions/exercise/exercise.yaml\r\n",
      "\u001b[32m[I 15:20:27 InstallContribNbextensionsApp]\u001b[m - Validating: \u001b[32mOK\u001b[0m\r\n",
      "\u001b[32m[I 15:20:27 InstallContribNbextensionsApp]\u001b[m Installing /Users/malcolm/.virtualenvs/ultron8-cznMaMZB/lib/python3.6/site-packages/jupyter_contrib_nbextensions/nbextensions/codemirror_mode_extensions -> codemirror_mode_extensions\r\n",
      "\u001b[32m[I 15:20:27 InstallContribNbextensionsApp]\u001b[m Up to date: /Users/malcolm/Library/Jupyter/nbextensions/codemirror_mode_extensions/codemirror_mode_extensions.yaml\r\n",
      "\u001b[32m[I 15:20:27 InstallContribNbextensionsApp]\u001b[m Up to date: /Users/malcolm/Library/Jupyter/nbextensions/codemirror_mode_extensions/main.js\r\n",
      "\u001b[32m[I 15:20:27 InstallContribNbextensionsApp]\u001b[m - Validating: \u001b[32mOK\u001b[0m\r\n",
      "\u001b[32m[I 15:20:27 InstallContribNbextensionsApp]\u001b[m Installing /Users/malcolm/.virtualenvs/ultron8-cznMaMZB/lib/python3.6/site-packages/jupyter_contrib_nbextensions/nbextensions/ruler -> ruler\r\n",
      "\u001b[32m[I 15:20:27 InstallContribNbextensionsApp]\u001b[m Up to date: /Users/malcolm/Library/Jupyter/nbextensions/ruler/icon.png\r\n",
      "\u001b[32m[I 15:20:27 InstallContribNbextensionsApp]\u001b[m Up to date: /Users/malcolm/Library/Jupyter/nbextensions/ruler/edit.js\r\n",
      "\u001b[32m[I 15:20:27 InstallContribNbextensionsApp]\u001b[m Up to date: /Users/malcolm/Library/Jupyter/nbextensions/ruler/ruler_editor.yaml\r\n",
      "\u001b[32m[I 15:20:27 InstallContribNbextensionsApp]\u001b[m Up to date: /Users/malcolm/Library/Jupyter/nbextensions/ruler/readme.md\r\n",
      "\u001b[32m[I 15:20:27 InstallContribNbextensionsApp]\u001b[m Up to date: /Users/malcolm/Library/Jupyter/nbextensions/ruler/main.js\r\n",
      "\u001b[32m[I 15:20:27 InstallContribNbextensionsApp]\u001b[m Up to date: /Users/malcolm/Library/Jupyter/nbextensions/ruler/ruler.yaml\r\n",
      "\u001b[32m[I 15:20:27 InstallContribNbextensionsApp]\u001b[m - Validating: \u001b[32mOK\u001b[0m\r\n",
      "\u001b[32m[I 15:20:27 InstallContribNbextensionsApp]\u001b[m Installing /Users/malcolm/.virtualenvs/ultron8-cznMaMZB/lib/python3.6/site-packages/jupyter_contrib_nbextensions/nbextensions/ruler -> ruler\r\n",
      "\u001b[32m[I 15:20:27 InstallContribNbextensionsApp]\u001b[m Up to date: /Users/malcolm/Library/Jupyter/nbextensions/ruler/icon.png\r\n",
      "\u001b[32m[I 15:20:27 InstallContribNbextensionsApp]\u001b[m Up to date: /Users/malcolm/Library/Jupyter/nbextensions/ruler/edit.js\r\n",
      "\u001b[32m[I 15:20:27 InstallContribNbextensionsApp]\u001b[m Up to date: /Users/malcolm/Library/Jupyter/nbextensions/ruler/ruler_editor.yaml\r\n",
      "\u001b[32m[I 15:20:27 InstallContribNbextensionsApp]\u001b[m Up to date: /Users/malcolm/Library/Jupyter/nbextensions/ruler/readme.md\r\n",
      "\u001b[32m[I 15:20:27 InstallContribNbextensionsApp]\u001b[m Up to date: /Users/malcolm/Library/Jupyter/nbextensions/ruler/main.js\r\n",
      "\u001b[32m[I 15:20:27 InstallContribNbextensionsApp]\u001b[m Up to date: /Users/malcolm/Library/Jupyter/nbextensions/ruler/ruler.yaml\r\n",
      "\u001b[32m[I 15:20:27 InstallContribNbextensionsApp]\u001b[m - Validating: \u001b[32mOK\u001b[0m\r\n",
      "\u001b[32m[I 15:20:27 InstallContribNbextensionsApp]\u001b[m Installing /Users/malcolm/.virtualenvs/ultron8-cznMaMZB/lib/python3.6/site-packages/jupyter_contrib_nbextensions/nbextensions/contrib_nbextensions_help_item -> contrib_nbextensions_help_item\r\n",
      "\u001b[32m[I 15:20:27 InstallContribNbextensionsApp]\u001b[m Up to date: /Users/malcolm/Library/Jupyter/nbextensions/contrib_nbextensions_help_item/README.md\r\n",
      "\u001b[32m[I 15:20:27 InstallContribNbextensionsApp]\u001b[m Up to date: /Users/malcolm/Library/Jupyter/nbextensions/contrib_nbextensions_help_item/main.js\r\n",
      "\u001b[32m[I 15:20:27 InstallContribNbextensionsApp]\u001b[m Up to date: /Users/malcolm/Library/Jupyter/nbextensions/contrib_nbextensions_help_item/contrib_nbextensions_help_item.yaml\r\n",
      "\u001b[32m[I 15:20:27 InstallContribNbextensionsApp]\u001b[m - Validating: \u001b[32mOK\u001b[0m\r\n",
      "\u001b[32m[I 15:20:27 InstallContribNbextensionsApp]\u001b[m Installing /Users/malcolm/.virtualenvs/ultron8-cznMaMZB/lib/python3.6/site-packages/jupyter_contrib_nbextensions/nbextensions/datestamper -> datestamper\r\n",
      "\u001b[32m[I 15:20:27 InstallContribNbextensionsApp]\u001b[m Up to date: /Users/malcolm/Library/Jupyter/nbextensions/datestamper/icon.png\r\n",
      "\u001b[32m[I 15:20:27 InstallContribNbextensionsApp]\u001b[m Up to date: /Users/malcolm/Library/Jupyter/nbextensions/datestamper/main.yaml\r\n",
      "\u001b[32m[I 15:20:27 InstallContribNbextensionsApp]\u001b[m Up to date: /Users/malcolm/Library/Jupyter/nbextensions/datestamper/readme.md\r\n",
      "\u001b[32m[I 15:20:27 InstallContribNbextensionsApp]\u001b[m Up to date: /Users/malcolm/Library/Jupyter/nbextensions/datestamper/main.js\r\n",
      "\u001b[32m[I 15:20:27 InstallContribNbextensionsApp]\u001b[m - Validating: \u001b[32mOK\u001b[0m\r\n",
      "\u001b[32m[I 15:20:27 InstallContribNbextensionsApp]\u001b[m Installing /Users/malcolm/.virtualenvs/ultron8-cznMaMZB/lib/python3.6/site-packages/jupyter_contrib_nbextensions/nbextensions/init_cell -> init_cell\r\n",
      "\u001b[32m[I 15:20:27 InstallContribNbextensionsApp]\u001b[m Up to date: /Users/malcolm/Library/Jupyter/nbextensions/init_cell/init_cell.yaml\r\n",
      "\u001b[32m[I 15:20:27 InstallContribNbextensionsApp]\u001b[m Up to date: /Users/malcolm/Library/Jupyter/nbextensions/init_cell/icon.png\r\n",
      "\u001b[32m[I 15:20:27 InstallContribNbextensionsApp]\u001b[m Up to date: /Users/malcolm/Library/Jupyter/nbextensions/init_cell/README.md\r\n",
      "\u001b[32m[I 15:20:27 InstallContribNbextensionsApp]\u001b[m Up to date: /Users/malcolm/Library/Jupyter/nbextensions/init_cell/main.js\r\n",
      "\u001b[32m[I 15:20:27 InstallContribNbextensionsApp]\u001b[m Up to date: /Users/malcolm/Library/Jupyter/nbextensions/init_cell/cell_toolbar_menu.png\r\n",
      "\u001b[32m[I 15:20:27 InstallContribNbextensionsApp]\u001b[m - Validating: \u001b[32mOK\u001b[0m\r\n",
      "\u001b[32m[I 15:20:27 InstallContribNbextensionsApp]\u001b[m Installing /Users/malcolm/.virtualenvs/ultron8-cznMaMZB/lib/python3.6/site-packages/jupyter_contrib_nbextensions/nbextensions/limit_output -> limit_output\r\n",
      "\u001b[32m[I 15:20:27 InstallContribNbextensionsApp]\u001b[m Up to date: /Users/malcolm/Library/Jupyter/nbextensions/limit_output/icon.png\r\n",
      "\u001b[32m[I 15:20:27 InstallContribNbextensionsApp]\u001b[m Up to date: /Users/malcolm/Library/Jupyter/nbextensions/limit_output/readme.md\r\n",
      "\u001b[32m[I 15:20:27 InstallContribNbextensionsApp]\u001b[m Up to date: /Users/malcolm/Library/Jupyter/nbextensions/limit_output/main.js\r\n",
      "\u001b[32m[I 15:20:27 InstallContribNbextensionsApp]\u001b[m Up to date: /Users/malcolm/Library/Jupyter/nbextensions/limit_output/limit-output.yaml\r\n",
      "\u001b[32m[I 15:20:27 InstallContribNbextensionsApp]\u001b[m - Validating: \u001b[32mOK\u001b[0m\r\n",
      "\u001b[32m[I 15:20:27 InstallContribNbextensionsApp]\u001b[m Installing /Users/malcolm/.virtualenvs/ultron8-cznMaMZB/lib/python3.6/site-packages/jupyter_contrib_nbextensions/nbextensions/qtconsole -> qtconsole\r\n",
      "\u001b[32m[I 15:20:27 InstallContribNbextensionsApp]\u001b[m Up to date: /Users/malcolm/Library/Jupyter/nbextensions/qtconsole/qtconsole.js\r\n",
      "\u001b[32m[I 15:20:27 InstallContribNbextensionsApp]\u001b[m Up to date: /Users/malcolm/Library/Jupyter/nbextensions/qtconsole/qtconsole.yaml\r\n",
      "\u001b[32m[I 15:20:27 InstallContribNbextensionsApp]\u001b[m Up to date: /Users/malcolm/Library/Jupyter/nbextensions/qtconsole/README.md\r\n",
      "\u001b[32m[I 15:20:27 InstallContribNbextensionsApp]\u001b[m - Validating: \u001b[32mOK\u001b[0m\r\n",
      "\u001b[32m[I 15:20:27 InstallContribNbextensionsApp]\u001b[m Installing /Users/malcolm/.virtualenvs/ultron8-cznMaMZB/lib/python3.6/site-packages/jupyter_contrib_nbextensions/nbextensions/addbefore -> addbefore\r\n",
      "\u001b[32m[I 15:20:27 InstallContribNbextensionsApp]\u001b[m Up to date: /Users/malcolm/Library/Jupyter/nbextensions/addbefore/icon.png\r\n",
      "\u001b[32m[I 15:20:27 InstallContribNbextensionsApp]\u001b[m Up to date: /Users/malcolm/Library/Jupyter/nbextensions/addbefore/readme.md\r\n",
      "\u001b[32m[I 15:20:27 InstallContribNbextensionsApp]\u001b[m Up to date: /Users/malcolm/Library/Jupyter/nbextensions/addbefore/main.js\r\n",
      "\u001b[32m[I 15:20:27 InstallContribNbextensionsApp]\u001b[m Up to date: /Users/malcolm/Library/Jupyter/nbextensions/addbefore/addbefore.yaml\r\n",
      "\u001b[32m[I 15:20:27 InstallContribNbextensionsApp]\u001b[m - Validating: \u001b[32mOK\u001b[0m\r\n",
      "\u001b[32m[I 15:20:27 InstallContribNbextensionsApp]\u001b[m Installing /Users/malcolm/.virtualenvs/ultron8-cznMaMZB/lib/python3.6/site-packages/jupyter_contrib_nbextensions/nbextensions/highlighter -> highlighter\r\n",
      "\u001b[32m[I 15:20:27 InstallContribNbextensionsApp]\u001b[m Up to date: /Users/malcolm/Library/Jupyter/nbextensions/highlighter/icon.png\r\n",
      "\u001b[32m[I 15:20:27 InstallContribNbextensionsApp]\u001b[m Up to date: /Users/malcolm/Library/Jupyter/nbextensions/highlighter/export_highlights.pdf\r\n",
      "\u001b[32m[I 15:20:27 InstallContribNbextensionsApp]\u001b[m Up to date: /Users/malcolm/Library/Jupyter/nbextensions/highlighter/demo_highlighter.html\r\n",
      "\u001b[32m[I 15:20:27 InstallContribNbextensionsApp]\u001b[m Up to date: /Users/malcolm/Library/Jupyter/nbextensions/highlighter/demo_highlighter.ipynb\r\n",
      "\u001b[32m[I 15:20:27 InstallContribNbextensionsApp]\u001b[m Up to date: /Users/malcolm/Library/Jupyter/nbextensions/highlighter/tst_highlights.ipynb\r\n",
      "\u001b[32m[I 15:20:27 InstallContribNbextensionsApp]\u001b[m Up to date: /Users/malcolm/Library/Jupyter/nbextensions/highlighter/export_highlights.ipynb\r\n",
      "\u001b[32m[I 15:20:27 InstallContribNbextensionsApp]\u001b[m Up to date: /Users/malcolm/Library/Jupyter/nbextensions/highlighter/tst_highlights.html\r\n",
      "\u001b[32m[I 15:20:27 InstallContribNbextensionsApp]\u001b[m Up to date: /Users/malcolm/Library/Jupyter/nbextensions/highlighter/export_highlights.tex\r\n",
      "\u001b[32m[I 15:20:27 InstallContribNbextensionsApp]\u001b[m Up to date: /Users/malcolm/Library/Jupyter/nbextensions/highlighter/image.gif\r\n",
      "\u001b[32m[I 15:20:27 InstallContribNbextensionsApp]\u001b[m Up to date: /Users/malcolm/Library/Jupyter/nbextensions/highlighter/readme.md\r\n",
      "\u001b[32m[I 15:20:27 InstallContribNbextensionsApp]\u001b[m Up to date: /Users/malcolm/Library/Jupyter/nbextensions/highlighter/highlighter.css\r\n",
      "\u001b[32m[I 15:20:27 InstallContribNbextensionsApp]\u001b[m Up to date: /Users/malcolm/Library/Jupyter/nbextensions/highlighter/tst_highlights.pdf\r\n",
      "\u001b[32m[I 15:20:27 InstallContribNbextensionsApp]\u001b[m Up to date: /Users/malcolm/Library/Jupyter/nbextensions/highlighter/export_highlights.html\r\n",
      "\u001b[32m[I 15:20:27 InstallContribNbextensionsApp]\u001b[m Up to date: /Users/malcolm/Library/Jupyter/nbextensions/highlighter/tst_highlights.tex\r\n",
      "\u001b[32m[I 15:20:27 InstallContribNbextensionsApp]\u001b[m Up to date: /Users/malcolm/Library/Jupyter/nbextensions/highlighter/highlighter.yaml\r\n",
      "\u001b[32m[I 15:20:27 InstallContribNbextensionsApp]\u001b[m Up to date: /Users/malcolm/Library/Jupyter/nbextensions/highlighter/highlighter.js\r\n",
      "\u001b[32m[I 15:20:27 InstallContribNbextensionsApp]\u001b[m - Validating: \u001b[32mOK\u001b[0m\r\n",
      "\u001b[32m[I 15:20:27 InstallContribNbextensionsApp]\u001b[m Installing /Users/malcolm/.virtualenvs/ultron8-cznMaMZB/lib/python3.6/site-packages/jupyter_contrib_nbextensions/nbextensions/comment-uncomment -> comment-uncomment\r\n",
      "\u001b[32m[I 15:20:27 InstallContribNbextensionsApp]\u001b[m Up to date: /Users/malcolm/Library/Jupyter/nbextensions/comment-uncomment/icon.png\r\n",
      "\u001b[32m[I 15:20:27 InstallContribNbextensionsApp]\u001b[m Up to date: /Users/malcolm/Library/Jupyter/nbextensions/comment-uncomment/readme.md\r\n",
      "\u001b[32m[I 15:20:27 InstallContribNbextensionsApp]\u001b[m Up to date: /Users/malcolm/Library/Jupyter/nbextensions/comment-uncomment/main.js\r\n",
      "\u001b[32m[I 15:20:27 InstallContribNbextensionsApp]\u001b[m Up to date: /Users/malcolm/Library/Jupyter/nbextensions/comment-uncomment/comment-uncomment.yaml\r\n",
      "\u001b[32m[I 15:20:27 InstallContribNbextensionsApp]\u001b[m - Validating: \u001b[32mOK\u001b[0m\r\n",
      "\u001b[32m[I 15:20:27 InstallContribNbextensionsApp]\u001b[m Installing /Users/malcolm/.virtualenvs/ultron8-cznMaMZB/lib/python3.6/site-packages/jupyter_contrib_nbextensions/nbextensions/code_font_size -> code_font_size\r\n",
      "\u001b[32m[I 15:20:27 InstallContribNbextensionsApp]\u001b[m Up to date: /Users/malcolm/Library/Jupyter/nbextensions/code_font_size/code_font_size.yaml\r\n",
      "\u001b[32m[I 15:20:27 InstallContribNbextensionsApp]\u001b[m Up to date: /Users/malcolm/Library/Jupyter/nbextensions/code_font_size/code_font_size.js\r\n",
      "\u001b[32m[I 15:20:27 InstallContribNbextensionsApp]\u001b[m Up to date: /Users/malcolm/Library/Jupyter/nbextensions/code_font_size/README.md\r\n",
      "\u001b[32m[I 15:20:27 InstallContribNbextensionsApp]\u001b[m - Validating: \u001b[32mOK\u001b[0m\r\n",
      "\u001b[32m[I 15:20:27 InstallContribNbextensionsApp]\u001b[m Installing /Users/malcolm/.virtualenvs/ultron8-cznMaMZB/lib/python3.6/site-packages/jupyter_contrib_nbextensions/nbextensions/varInspector -> varInspector\r\n",
      "\u001b[32m[I 15:20:27 InstallContribNbextensionsApp]\u001b[m Up to date: /Users/malcolm/Library/Jupyter/nbextensions/varInspector/icon.png\r\n",
      "\u001b[32m[I 15:20:27 InstallContribNbextensionsApp]\u001b[m Up to date: /Users/malcolm/Library/Jupyter/nbextensions/varInspector/jquery.tablesorter.min.js\r\n",
      "\u001b[32m[I 15:20:27 InstallContribNbextensionsApp]\u001b[m Up to date: /Users/malcolm/Library/Jupyter/nbextensions/varInspector/varInspector.yaml\r\n",
      "\u001b[32m[I 15:20:27 InstallContribNbextensionsApp]\u001b[m Up to date: /Users/malcolm/Library/Jupyter/nbextensions/varInspector/main.css\r\n",
      "\u001b[32m[I 15:20:27 InstallContribNbextensionsApp]\u001b[m Up to date: /Users/malcolm/Library/Jupyter/nbextensions/varInspector/var_list.py\r\n",
      "\u001b[32m[I 15:20:27 InstallContribNbextensionsApp]\u001b[m Up to date: /Users/malcolm/Library/Jupyter/nbextensions/varInspector/README.md\r\n",
      "\u001b[32m[I 15:20:27 InstallContribNbextensionsApp]\u001b[m Up to date: /Users/malcolm/Library/Jupyter/nbextensions/varInspector/main.js\r\n",
      "\u001b[32m[I 15:20:27 InstallContribNbextensionsApp]\u001b[m Up to date: /Users/malcolm/Library/Jupyter/nbextensions/varInspector/var_list.r\r\n",
      "\u001b[32m[I 15:20:27 InstallContribNbextensionsApp]\u001b[m Up to date: /Users/malcolm/Library/Jupyter/nbextensions/varInspector/tablesorter_LICENSE.txt\r\n",
      "\u001b[32m[I 15:20:27 InstallContribNbextensionsApp]\u001b[m Up to date: /Users/malcolm/Library/Jupyter/nbextensions/varInspector/demo.gif\r\n",
      "\u001b[32m[I 15:20:27 InstallContribNbextensionsApp]\u001b[m Up to date: /Users/malcolm/Library/Jupyter/nbextensions/varInspector/__pycache__/var_list.cpython-36.pyc\r\n",
      "\u001b[32m[I 15:20:27 InstallContribNbextensionsApp]\u001b[m - Validating: \u001b[32mOK\u001b[0m\r\n",
      "\u001b[32m[I 15:20:27 InstallContribNbextensionsApp]\u001b[m Installing /Users/malcolm/.virtualenvs/ultron8-cznMaMZB/lib/python3.6/site-packages/jupyter_contrib_nbextensions/nbextensions/execute_time -> execute_time\r\n",
      "\u001b[32m[I 15:20:27 InstallContribNbextensionsApp]\u001b[m Up to date: /Users/malcolm/Library/Jupyter/nbextensions/execute_time/ExecuteTime.js\r\n",
      "\u001b[32m[I 15:20:27 InstallContribNbextensionsApp]\u001b[m Up to date: /Users/malcolm/Library/Jupyter/nbextensions/execute_time/icon.png\r\n",
      "\u001b[32m[I 15:20:27 InstallContribNbextensionsApp]\u001b[m Up to date: /Users/malcolm/Library/Jupyter/nbextensions/execute_time/execution-timings-box.png\r\n",
      "\u001b[32m[I 15:20:27 InstallContribNbextensionsApp]\u001b[m Up to date: /Users/malcolm/Library/Jupyter/nbextensions/execute_time/ExecuteTime.css\r\n",
      "\u001b[32m[I 15:20:27 InstallContribNbextensionsApp]\u001b[m Up to date: /Users/malcolm/Library/Jupyter/nbextensions/execute_time/ExecuteTime.yaml\r\n",
      "\u001b[32m[I 15:20:27 InstallContribNbextensionsApp]\u001b[m Up to date: /Users/malcolm/Library/Jupyter/nbextensions/execute_time/execution-timings-menu.png\r\n",
      "\u001b[32m[I 15:20:27 InstallContribNbextensionsApp]\u001b[m Up to date: /Users/malcolm/Library/Jupyter/nbextensions/execute_time/readme.md\r\n",
      "\u001b[32m[I 15:20:27 InstallContribNbextensionsApp]\u001b[m - Validating: \u001b[32mOK\u001b[0m\r\n",
      "\u001b[32m[I 15:20:27 InstallContribNbextensionsApp]\u001b[m Installing /Users/malcolm/.virtualenvs/ultron8-cznMaMZB/lib/python3.6/site-packages/jupyter_contrib_nbextensions/nbextensions/spellchecker -> spellchecker\r\n",
      "\u001b[32m[I 15:20:27 InstallContribNbextensionsApp]\u001b[m Up to date: /Users/malcolm/Library/Jupyter/nbextensions/spellchecker/download_new_dict.py\r\n",
      "\u001b[32m[I 15:20:27 InstallContribNbextensionsApp]\u001b[m Up to date: /Users/malcolm/Library/Jupyter/nbextensions/spellchecker/screenshot.png\r\n",
      "\u001b[32m[I 15:20:27 InstallContribNbextensionsApp]\u001b[m Up to date: /Users/malcolm/Library/Jupyter/nbextensions/spellchecker/config.yaml\r\n",
      "\u001b[32m[I 15:20:27 InstallContribNbextensionsApp]\u001b[m Up to date: /Users/malcolm/Library/Jupyter/nbextensions/spellchecker/main.css\r\n",
      "\u001b[32m[I 15:20:27 InstallContribNbextensionsApp]\u001b[m Up to date: /Users/malcolm/Library/Jupyter/nbextensions/spellchecker/README.md\r\n",
      "\u001b[32m[I 15:20:27 InstallContribNbextensionsApp]\u001b[m Up to date: /Users/malcolm/Library/Jupyter/nbextensions/spellchecker/main.js\r\n",
      "\u001b[32m[I 15:20:27 InstallContribNbextensionsApp]\u001b[m Up to date: /Users/malcolm/Library/Jupyter/nbextensions/spellchecker/typo/typo.js\r\n",
      "\u001b[32m[I 15:20:27 InstallContribNbextensionsApp]\u001b[m Up to date: /Users/malcolm/Library/Jupyter/nbextensions/spellchecker/typo/LICENSE.txt\r\n",
      "\u001b[32m[I 15:20:27 InstallContribNbextensionsApp]\u001b[m Up to date: /Users/malcolm/Library/Jupyter/nbextensions/spellchecker/__pycache__/download_new_dict.cpython-36.pyc\r\n",
      "\u001b[32m[I 15:20:27 InstallContribNbextensionsApp]\u001b[m - Validating: \u001b[32mOK\u001b[0m\r\n",
      "\u001b[32m[I 15:20:27 InstallContribNbextensionsApp]\u001b[m Installing /Users/malcolm/.virtualenvs/ultron8-cznMaMZB/lib/python3.6/site-packages/jupyter_contrib_nbextensions/nbextensions/code_prettify -> code_prettify\r\n",
      "\u001b[32m[I 15:20:27 InstallContribNbextensionsApp]\u001b[m Up to date: /Users/malcolm/Library/Jupyter/nbextensions/code_prettify/demo-py.gif\r\n",
      "\u001b[32m[I 15:20:27 InstallContribNbextensionsApp]\u001b[m Up to date: /Users/malcolm/Library/Jupyter/nbextensions/code_prettify/kernel_exec_on_cell.js\r\n",
      "\u001b[32m[I 15:20:27 InstallContribNbextensionsApp]\u001b[m Up to date: /Users/malcolm/Library/Jupyter/nbextensions/code_prettify/demo-jv.gif\r\n",
      "\u001b[32m[I 15:20:27 InstallContribNbextensionsApp]\u001b[m Up to date: /Users/malcolm/Library/Jupyter/nbextensions/code_prettify/README_2to3.md\r\n",
      "\u001b[32m[I 15:20:27 InstallContribNbextensionsApp]\u001b[m Up to date: /Users/malcolm/Library/Jupyter/nbextensions/code_prettify/2to3.yaml\r\n",
      "\u001b[32m[I 15:20:27 InstallContribNbextensionsApp]\u001b[m Up to date: /Users/malcolm/Library/Jupyter/nbextensions/code_prettify/README_autopep8.md\r\n",
      "\u001b[32m[I 15:20:27 InstallContribNbextensionsApp]\u001b[m Up to date: /Users/malcolm/Library/Jupyter/nbextensions/code_prettify/demo_2to3.gif\r\n",
      "\u001b[32m[I 15:20:27 InstallContribNbextensionsApp]\u001b[m Up to date: /Users/malcolm/Library/Jupyter/nbextensions/code_prettify/README_isort.md\r\n",
      "\u001b[32m[I 15:20:27 InstallContribNbextensionsApp]\u001b[m Up to date: /Users/malcolm/Library/Jupyter/nbextensions/code_prettify/README_code_prettify.md\r\n",
      "\u001b[32m[I 15:20:27 InstallContribNbextensionsApp]\u001b[m Up to date: /Users/malcolm/Library/Jupyter/nbextensions/code_prettify/README.md\r\n",
      "\u001b[32m[I 15:20:27 InstallContribNbextensionsApp]\u001b[m Up to date: /Users/malcolm/Library/Jupyter/nbextensions/code_prettify/code_prettify.js\r\n",
      "\u001b[32m[I 15:20:27 InstallContribNbextensionsApp]\u001b[m Up to date: /Users/malcolm/Library/Jupyter/nbextensions/code_prettify/autopep8.js\r\n",
      "\u001b[32m[I 15:20:27 InstallContribNbextensionsApp]\u001b[m Up to date: /Users/malcolm/Library/Jupyter/nbextensions/code_prettify/demo-R.gif\r\n",
      "\u001b[32m[I 15:20:27 InstallContribNbextensionsApp]\u001b[m Up to date: /Users/malcolm/Library/Jupyter/nbextensions/code_prettify/isort.js\r\n",
      "\u001b[32m[I 15:20:27 InstallContribNbextensionsApp]\u001b[m Up to date: /Users/malcolm/Library/Jupyter/nbextensions/code_prettify/code_prettify.yaml\r\n",
      "\u001b[32m[I 15:20:27 InstallContribNbextensionsApp]\u001b[m Up to date: /Users/malcolm/Library/Jupyter/nbextensions/code_prettify/2to3.js\r\n",
      "\u001b[32m[I 15:20:27 InstallContribNbextensionsApp]\u001b[m Up to date: /Users/malcolm/Library/Jupyter/nbextensions/code_prettify/autopep8.yaml\r\n",
      "\u001b[32m[I 15:20:27 InstallContribNbextensionsApp]\u001b[m Up to date: /Users/malcolm/Library/Jupyter/nbextensions/code_prettify/isort.yaml\r\n",
      "\u001b[32m[I 15:20:27 InstallContribNbextensionsApp]\u001b[m - Validating: \u001b[32mOK\u001b[0m\r\n"
     ]
    },
    {
     "name": "stdout",
     "output_type": "stream",
     "text": [
      "\u001b[32m[I 15:20:27 InstallContribNbextensionsApp]\u001b[m Installing /Users/malcolm/.virtualenvs/ultron8-cznMaMZB/lib/python3.6/site-packages/jupyter_contrib_nbextensions/nbextensions/code_prettify -> code_prettify\r\n",
      "\u001b[32m[I 15:20:27 InstallContribNbextensionsApp]\u001b[m Up to date: /Users/malcolm/Library/Jupyter/nbextensions/code_prettify/demo-py.gif\r\n",
      "\u001b[32m[I 15:20:27 InstallContribNbextensionsApp]\u001b[m Up to date: /Users/malcolm/Library/Jupyter/nbextensions/code_prettify/kernel_exec_on_cell.js\r\n",
      "\u001b[32m[I 15:20:27 InstallContribNbextensionsApp]\u001b[m Up to date: /Users/malcolm/Library/Jupyter/nbextensions/code_prettify/demo-jv.gif\r\n",
      "\u001b[32m[I 15:20:27 InstallContribNbextensionsApp]\u001b[m Up to date: /Users/malcolm/Library/Jupyter/nbextensions/code_prettify/README_2to3.md\r\n",
      "\u001b[32m[I 15:20:27 InstallContribNbextensionsApp]\u001b[m Up to date: /Users/malcolm/Library/Jupyter/nbextensions/code_prettify/2to3.yaml\r\n",
      "\u001b[32m[I 15:20:27 InstallContribNbextensionsApp]\u001b[m Up to date: /Users/malcolm/Library/Jupyter/nbextensions/code_prettify/README_autopep8.md\r\n",
      "\u001b[32m[I 15:20:27 InstallContribNbextensionsApp]\u001b[m Up to date: /Users/malcolm/Library/Jupyter/nbextensions/code_prettify/demo_2to3.gif\r\n",
      "\u001b[32m[I 15:20:27 InstallContribNbextensionsApp]\u001b[m Up to date: /Users/malcolm/Library/Jupyter/nbextensions/code_prettify/README_isort.md\r\n",
      "\u001b[32m[I 15:20:27 InstallContribNbextensionsApp]\u001b[m Up to date: /Users/malcolm/Library/Jupyter/nbextensions/code_prettify/README_code_prettify.md\r\n",
      "\u001b[32m[I 15:20:27 InstallContribNbextensionsApp]\u001b[m Up to date: /Users/malcolm/Library/Jupyter/nbextensions/code_prettify/README.md\r\n",
      "\u001b[32m[I 15:20:27 InstallContribNbextensionsApp]\u001b[m Up to date: /Users/malcolm/Library/Jupyter/nbextensions/code_prettify/code_prettify.js\r\n",
      "\u001b[32m[I 15:20:27 InstallContribNbextensionsApp]\u001b[m Up to date: /Users/malcolm/Library/Jupyter/nbextensions/code_prettify/autopep8.js\r\n",
      "\u001b[32m[I 15:20:27 InstallContribNbextensionsApp]\u001b[m Up to date: /Users/malcolm/Library/Jupyter/nbextensions/code_prettify/demo-R.gif\r\n",
      "\u001b[32m[I 15:20:27 InstallContribNbextensionsApp]\u001b[m Up to date: /Users/malcolm/Library/Jupyter/nbextensions/code_prettify/isort.js\r\n",
      "\u001b[32m[I 15:20:27 InstallContribNbextensionsApp]\u001b[m Up to date: /Users/malcolm/Library/Jupyter/nbextensions/code_prettify/code_prettify.yaml\r\n",
      "\u001b[32m[I 15:20:27 InstallContribNbextensionsApp]\u001b[m Up to date: /Users/malcolm/Library/Jupyter/nbextensions/code_prettify/2to3.js\r\n",
      "\u001b[32m[I 15:20:27 InstallContribNbextensionsApp]\u001b[m Up to date: /Users/malcolm/Library/Jupyter/nbextensions/code_prettify/autopep8.yaml\r\n",
      "\u001b[32m[I 15:20:27 InstallContribNbextensionsApp]\u001b[m Up to date: /Users/malcolm/Library/Jupyter/nbextensions/code_prettify/isort.yaml\r\n",
      "\u001b[32m[I 15:20:27 InstallContribNbextensionsApp]\u001b[m - Validating: \u001b[32mOK\u001b[0m\r\n",
      "\u001b[32m[I 15:20:27 InstallContribNbextensionsApp]\u001b[m Installing /Users/malcolm/.virtualenvs/ultron8-cznMaMZB/lib/python3.6/site-packages/jupyter_contrib_nbextensions/nbextensions/code_prettify -> code_prettify\r\n",
      "\u001b[32m[I 15:20:27 InstallContribNbextensionsApp]\u001b[m Up to date: /Users/malcolm/Library/Jupyter/nbextensions/code_prettify/demo-py.gif\r\n",
      "\u001b[32m[I 15:20:27 InstallContribNbextensionsApp]\u001b[m Up to date: /Users/malcolm/Library/Jupyter/nbextensions/code_prettify/kernel_exec_on_cell.js\r\n",
      "\u001b[32m[I 15:20:27 InstallContribNbextensionsApp]\u001b[m Up to date: /Users/malcolm/Library/Jupyter/nbextensions/code_prettify/demo-jv.gif\r\n",
      "\u001b[32m[I 15:20:27 InstallContribNbextensionsApp]\u001b[m Up to date: /Users/malcolm/Library/Jupyter/nbextensions/code_prettify/README_2to3.md\r\n",
      "\u001b[32m[I 15:20:27 InstallContribNbextensionsApp]\u001b[m Up to date: /Users/malcolm/Library/Jupyter/nbextensions/code_prettify/2to3.yaml\r\n",
      "\u001b[32m[I 15:20:27 InstallContribNbextensionsApp]\u001b[m Up to date: /Users/malcolm/Library/Jupyter/nbextensions/code_prettify/README_autopep8.md\r\n",
      "\u001b[32m[I 15:20:27 InstallContribNbextensionsApp]\u001b[m Up to date: /Users/malcolm/Library/Jupyter/nbextensions/code_prettify/demo_2to3.gif\r\n",
      "\u001b[32m[I 15:20:27 InstallContribNbextensionsApp]\u001b[m Up to date: /Users/malcolm/Library/Jupyter/nbextensions/code_prettify/README_isort.md\r\n",
      "\u001b[32m[I 15:20:27 InstallContribNbextensionsApp]\u001b[m Up to date: /Users/malcolm/Library/Jupyter/nbextensions/code_prettify/README_code_prettify.md\r\n",
      "\u001b[32m[I 15:20:27 InstallContribNbextensionsApp]\u001b[m Up to date: /Users/malcolm/Library/Jupyter/nbextensions/code_prettify/README.md\r\n",
      "\u001b[32m[I 15:20:27 InstallContribNbextensionsApp]\u001b[m Up to date: /Users/malcolm/Library/Jupyter/nbextensions/code_prettify/code_prettify.js\r\n",
      "\u001b[32m[I 15:20:27 InstallContribNbextensionsApp]\u001b[m Up to date: /Users/malcolm/Library/Jupyter/nbextensions/code_prettify/autopep8.js\r\n",
      "\u001b[32m[I 15:20:27 InstallContribNbextensionsApp]\u001b[m Up to date: /Users/malcolm/Library/Jupyter/nbextensions/code_prettify/demo-R.gif\r\n",
      "\u001b[32m[I 15:20:27 InstallContribNbextensionsApp]\u001b[m Up to date: /Users/malcolm/Library/Jupyter/nbextensions/code_prettify/isort.js\r\n",
      "\u001b[32m[I 15:20:27 InstallContribNbextensionsApp]\u001b[m Up to date: /Users/malcolm/Library/Jupyter/nbextensions/code_prettify/code_prettify.yaml\r\n",
      "\u001b[32m[I 15:20:27 InstallContribNbextensionsApp]\u001b[m Up to date: /Users/malcolm/Library/Jupyter/nbextensions/code_prettify/2to3.js\r\n",
      "\u001b[32m[I 15:20:27 InstallContribNbextensionsApp]\u001b[m Up to date: /Users/malcolm/Library/Jupyter/nbextensions/code_prettify/autopep8.yaml\r\n",
      "\u001b[32m[I 15:20:27 InstallContribNbextensionsApp]\u001b[m Up to date: /Users/malcolm/Library/Jupyter/nbextensions/code_prettify/isort.yaml\r\n",
      "\u001b[32m[I 15:20:27 InstallContribNbextensionsApp]\u001b[m - Validating: \u001b[32mOK\u001b[0m\r\n",
      "\u001b[32m[I 15:20:27 InstallContribNbextensionsApp]\u001b[m Installing /Users/malcolm/.virtualenvs/ultron8-cznMaMZB/lib/python3.6/site-packages/jupyter_contrib_nbextensions/nbextensions/code_prettify -> code_prettify\r\n",
      "\u001b[32m[I 15:20:27 InstallContribNbextensionsApp]\u001b[m Up to date: /Users/malcolm/Library/Jupyter/nbextensions/code_prettify/demo-py.gif\r\n",
      "\u001b[32m[I 15:20:27 InstallContribNbextensionsApp]\u001b[m Up to date: /Users/malcolm/Library/Jupyter/nbextensions/code_prettify/kernel_exec_on_cell.js\r\n",
      "\u001b[32m[I 15:20:27 InstallContribNbextensionsApp]\u001b[m Up to date: /Users/malcolm/Library/Jupyter/nbextensions/code_prettify/demo-jv.gif\r\n",
      "\u001b[32m[I 15:20:27 InstallContribNbextensionsApp]\u001b[m Up to date: /Users/malcolm/Library/Jupyter/nbextensions/code_prettify/README_2to3.md\r\n",
      "\u001b[32m[I 15:20:27 InstallContribNbextensionsApp]\u001b[m Up to date: /Users/malcolm/Library/Jupyter/nbextensions/code_prettify/2to3.yaml\r\n",
      "\u001b[32m[I 15:20:27 InstallContribNbextensionsApp]\u001b[m Up to date: /Users/malcolm/Library/Jupyter/nbextensions/code_prettify/README_autopep8.md\r\n",
      "\u001b[32m[I 15:20:27 InstallContribNbextensionsApp]\u001b[m Up to date: /Users/malcolm/Library/Jupyter/nbextensions/code_prettify/demo_2to3.gif\r\n",
      "\u001b[32m[I 15:20:27 InstallContribNbextensionsApp]\u001b[m Up to date: /Users/malcolm/Library/Jupyter/nbextensions/code_prettify/README_isort.md\r\n",
      "\u001b[32m[I 15:20:27 InstallContribNbextensionsApp]\u001b[m Up to date: /Users/malcolm/Library/Jupyter/nbextensions/code_prettify/README_code_prettify.md\r\n",
      "\u001b[32m[I 15:20:27 InstallContribNbextensionsApp]\u001b[m Up to date: /Users/malcolm/Library/Jupyter/nbextensions/code_prettify/README.md\r\n",
      "\u001b[32m[I 15:20:27 InstallContribNbextensionsApp]\u001b[m Up to date: /Users/malcolm/Library/Jupyter/nbextensions/code_prettify/code_prettify.js\r\n",
      "\u001b[32m[I 15:20:27 InstallContribNbextensionsApp]\u001b[m Up to date: /Users/malcolm/Library/Jupyter/nbextensions/code_prettify/autopep8.js\r\n",
      "\u001b[32m[I 15:20:27 InstallContribNbextensionsApp]\u001b[m Up to date: /Users/malcolm/Library/Jupyter/nbextensions/code_prettify/demo-R.gif\r\n",
      "\u001b[32m[I 15:20:27 InstallContribNbextensionsApp]\u001b[m Up to date: /Users/malcolm/Library/Jupyter/nbextensions/code_prettify/isort.js\r\n",
      "\u001b[32m[I 15:20:27 InstallContribNbextensionsApp]\u001b[m Up to date: /Users/malcolm/Library/Jupyter/nbextensions/code_prettify/code_prettify.yaml\r\n",
      "\u001b[32m[I 15:20:27 InstallContribNbextensionsApp]\u001b[m Up to date: /Users/malcolm/Library/Jupyter/nbextensions/code_prettify/2to3.js\r\n",
      "\u001b[32m[I 15:20:27 InstallContribNbextensionsApp]\u001b[m Up to date: /Users/malcolm/Library/Jupyter/nbextensions/code_prettify/autopep8.yaml\r\n",
      "\u001b[32m[I 15:20:27 InstallContribNbextensionsApp]\u001b[m Up to date: /Users/malcolm/Library/Jupyter/nbextensions/code_prettify/isort.yaml\r\n",
      "\u001b[32m[I 15:20:27 InstallContribNbextensionsApp]\u001b[m - Validating: \u001b[32mOK\u001b[0m\r\n",
      "\u001b[32m[I 15:20:27 InstallContribNbextensionsApp]\u001b[m Installing /Users/malcolm/.virtualenvs/ultron8-cznMaMZB/lib/python3.6/site-packages/jupyter_contrib_nbextensions/nbextensions/load_tex_macros -> load_tex_macros\r\n",
      "\u001b[32m[I 15:20:27 InstallContribNbextensionsApp]\u001b[m Up to date: /Users/malcolm/Library/Jupyter/nbextensions/load_tex_macros/load_tex_macros.yaml\r\n",
      "\u001b[32m[I 15:20:27 InstallContribNbextensionsApp]\u001b[m Up to date: /Users/malcolm/Library/Jupyter/nbextensions/load_tex_macros/icon.png\r\n",
      "\u001b[32m[I 15:20:27 InstallContribNbextensionsApp]\u001b[m Up to date: /Users/malcolm/Library/Jupyter/nbextensions/load_tex_macros/readme.md\r\n",
      "\u001b[32m[I 15:20:27 InstallContribNbextensionsApp]\u001b[m Up to date: /Users/malcolm/Library/Jupyter/nbextensions/load_tex_macros/main.js\r\n",
      "\u001b[32m[I 15:20:27 InstallContribNbextensionsApp]\u001b[m - Validating: \u001b[32mOK\u001b[0m\r\n",
      "\u001b[32m[I 15:20:27 InstallContribNbextensionsApp]\u001b[m Installing /Users/malcolm/.virtualenvs/ultron8-cznMaMZB/lib/python3.6/site-packages/jupyter_contrib_nbextensions/nbextensions/hide_header -> hide_header\r\n",
      "\u001b[32m[I 15:20:27 InstallContribNbextensionsApp]\u001b[m Up to date: /Users/malcolm/Library/Jupyter/nbextensions/hide_header/hide_header.yaml\r\n",
      "\u001b[32m[I 15:20:27 InstallContribNbextensionsApp]\u001b[m Up to date: /Users/malcolm/Library/Jupyter/nbextensions/hide_header/README.md\r\n",
      "\u001b[32m[I 15:20:27 InstallContribNbextensionsApp]\u001b[m Up to date: /Users/malcolm/Library/Jupyter/nbextensions/hide_header/main.js\r\n",
      "\u001b[32m[I 15:20:27 InstallContribNbextensionsApp]\u001b[m - Validating: \u001b[32mOK\u001b[0m\r\n",
      "\u001b[32m[I 15:20:27 InstallContribNbextensionsApp]\u001b[m Installing /Users/malcolm/.virtualenvs/ultron8-cznMaMZB/lib/python3.6/site-packages/jupyter_highlight_selected_word/static/highlight_selected_word -> highlight_selected_word\r\n",
      "\u001b[32m[I 15:20:27 InstallContribNbextensionsApp]\u001b[m Up to date: /Users/malcolm/Library/Jupyter/nbextensions/highlight_selected_word/configurator.yaml\r\n",
      "\u001b[32m[I 15:20:27 InstallContribNbextensionsApp]\u001b[m Up to date: /Users/malcolm/Library/Jupyter/nbextensions/highlight_selected_word/README.md\r\n",
      "\u001b[32m[I 15:20:27 InstallContribNbextensionsApp]\u001b[m Up to date: /Users/malcolm/Library/Jupyter/nbextensions/highlight_selected_word/main.js\r\n",
      "\u001b[32m[I 15:20:27 InstallContribNbextensionsApp]\u001b[m - Validating: \u001b[32mOK\u001b[0m\r\n",
      "\u001b[32m[I 15:20:27 InstallContribNbextensionsApp]\u001b[m Installing /Users/malcolm/.virtualenvs/ultron8-cznMaMZB/lib/python3.6/site-packages/latex_envs/static -> latex_envs\r\n",
      "\u001b[32m[I 15:20:27 InstallContribNbextensionsApp]\u001b[m Up to date: /Users/malcolm/Library/Jupyter/nbextensions/latex_envs/icon.png\r\n",
      "\u001b[32m[I 15:20:27 InstallContribNbextensionsApp]\u001b[m Up to date: /Users/malcolm/Library/Jupyter/nbextensions/latex_envs/latex_envs.yaml\r\n",
      "\u001b[32m[I 15:20:27 InstallContribNbextensionsApp]\u001b[m Up to date: /Users/malcolm/Library/Jupyter/nbextensions/latex_envs/configuration_toolbar.png\r\n",
      "\u001b[32m[I 15:20:27 InstallContribNbextensionsApp]\u001b[m Up to date: /Users/malcolm/Library/Jupyter/nbextensions/latex_envs/bibInNb4.js\r\n",
      "\u001b[32m[I 15:20:27 InstallContribNbextensionsApp]\u001b[m Up to date: /Users/malcolm/Library/Jupyter/nbextensions/latex_envs/example_user_envs.json\r\n",
      "\u001b[32m[I 15:20:27 InstallContribNbextensionsApp]\u001b[m Up to date: /Users/malcolm/Library/Jupyter/nbextensions/latex_envs/envsLatex.js\r\n",
      "\u001b[32m[I 15:20:27 InstallContribNbextensionsApp]\u001b[m Up to date: /Users/malcolm/Library/Jupyter/nbextensions/latex_envs/main_toolbar.png\r\n",
      "\u001b[32m[I 15:20:27 InstallContribNbextensionsApp]\u001b[m Up to date: /Users/malcolm/Library/Jupyter/nbextensions/latex_envs/envsLatex.json\r\n",
      "\u001b[32m[I 15:20:27 InstallContribNbextensionsApp]\u001b[m Up to date: /Users/malcolm/Library/Jupyter/nbextensions/latex_envs/README.md\r\n",
      "\u001b[32m[I 15:20:27 InstallContribNbextensionsApp]\u001b[m Up to date: /Users/malcolm/Library/Jupyter/nbextensions/latex_envs/thmsInNb4.js\r\n",
      "\u001b[32m[I 15:20:27 InstallContribNbextensionsApp]\u001b[m Up to date: /Users/malcolm/Library/Jupyter/nbextensions/latex_envs/initNb.js\r\n",
      "\u001b[32m[I 15:20:27 InstallContribNbextensionsApp]\u001b[m Up to date: /Users/malcolm/Library/Jupyter/nbextensions/latex_envs/latex_envs.css\r\n",
      "\u001b[32m[I 15:20:27 InstallContribNbextensionsApp]\u001b[m Up to date: /Users/malcolm/Library/Jupyter/nbextensions/latex_envs/latex_envs.js\r\n",
      "\u001b[32m[I 15:20:27 InstallContribNbextensionsApp]\u001b[m Up to date: /Users/malcolm/Library/Jupyter/nbextensions/latex_envs/bibtex2.js\r\n",
      "\u001b[32m[I 15:20:27 InstallContribNbextensionsApp]\u001b[m Up to date: /Users/malcolm/Library/Jupyter/nbextensions/latex_envs/example.png\r\n",
      "\u001b[32m[I 15:20:27 InstallContribNbextensionsApp]\u001b[m Up to date: /Users/malcolm/Library/Jupyter/nbextensions/latex_envs/doc/IEEEtran.bst\r\n",
      "\u001b[32m[I 15:20:27 InstallContribNbextensionsApp]\u001b[m Up to date: /Users/malcolm/Library/Jupyter/nbextensions/latex_envs/doc/documentation.pdf\r\n",
      "\u001b[32m[I 15:20:27 InstallContribNbextensionsApp]\u001b[m Up to date: /Users/malcolm/Library/Jupyter/nbextensions/latex_envs/doc/configuration_toolbar.png\r\n",
      "\u001b[32m[I 15:20:27 InstallContribNbextensionsApp]\u001b[m Up to date: /Users/malcolm/Library/Jupyter/nbextensions/latex_envs/doc/biblio_ipython.bib\r\n",
      "\u001b[32m[I 15:20:27 InstallContribNbextensionsApp]\u001b[m Up to date: /Users/malcolm/Library/Jupyter/nbextensions/latex_envs/doc/config_toolbar.png\r\n",
      "\u001b[32m[I 15:20:27 InstallContribNbextensionsApp]\u001b[m Up to date: /Users/malcolm/Library/Jupyter/nbextensions/latex_envs/doc/documentation.tex\r\n",
      "\u001b[32m[I 15:20:27 InstallContribNbextensionsApp]\u001b[m Up to date: /Users/malcolm/Library/Jupyter/nbextensions/latex_envs/doc/main_toolbar.png\r\n",
      "\u001b[32m[I 15:20:27 InstallContribNbextensionsApp]\u001b[m Up to date: /Users/malcolm/Library/Jupyter/nbextensions/latex_envs/doc/README.md\r\n",
      "\u001b[32m[I 15:20:27 InstallContribNbextensionsApp]\u001b[m Up to date: /Users/malcolm/Library/Jupyter/nbextensions/latex_envs/doc/latex_env_doc.ipynb\r\n",
      "\u001b[32m[I 15:20:27 InstallContribNbextensionsApp]\u001b[m Up to date: /Users/malcolm/Library/Jupyter/nbextensions/latex_envs/doc/LaTeX_envs_menu.png\r\n",
      "\u001b[32m[I 15:20:27 InstallContribNbextensionsApp]\u001b[m Up to date: /Users/malcolm/Library/Jupyter/nbextensions/latex_envs/doc/latex_env_doc.tex\r\n",
      "\u001b[32m[I 15:20:27 InstallContribNbextensionsApp]\u001b[m Up to date: /Users/malcolm/Library/Jupyter/nbextensions/latex_envs/doc/header.tex\r\n",
      "\u001b[32m[I 15:20:27 InstallContribNbextensionsApp]\u001b[m Up to date: /Users/malcolm/Library/Jupyter/nbextensions/latex_envs/doc/Toggles.png\r\n",
      "\u001b[32m[I 15:20:27 InstallContribNbextensionsApp]\u001b[m Up to date: /Users/malcolm/Library/Jupyter/nbextensions/latex_envs/doc/latex_env_doc.html\r\n",
      "\u001b[32m[I 15:20:27 InstallContribNbextensionsApp]\u001b[m Up to date: /Users/malcolm/Library/Jupyter/nbextensions/latex_envs/doc/example.png\r\n",
      "\u001b[32m[I 15:20:27 InstallContribNbextensionsApp]\u001b[m Up to date: /Users/malcolm/Library/Jupyter/nbextensions/latex_envs/doc/.ipynb_checkpoints/latex_env_doc-checkpoint.ipynb\r\n",
      "\u001b[32m[I 15:20:27 InstallContribNbextensionsApp]\u001b[m Up to date: /Users/malcolm/Library/Jupyter/nbextensions/latex_envs/doc/latex_env_doc_files/latex_env_doc_51_0.png\r\n",
      "\u001b[32m[I 15:20:27 InstallContribNbextensionsApp]\u001b[m Up to date: /Users/malcolm/Library/Jupyter/nbextensions/latex_envs/doc/latex_env_doc_files/latex_env_doc_48_0.png\r\n",
      "\u001b[32m[I 15:20:27 InstallContribNbextensionsApp]\u001b[m Up to date: /Users/malcolm/Library/Jupyter/nbextensions/latex_envs/doc/latex_env_doc_files/latex_env_doc_50_0.png\r\n",
      "\u001b[32m[I 15:20:27 InstallContribNbextensionsApp]\u001b[m Up to date: /Users/malcolm/Library/Jupyter/nbextensions/latex_envs/doc/latex_env_doc_files/latex_env_doc_49_0.png\r\n",
      "\u001b[32m[I 15:20:27 InstallContribNbextensionsApp]\u001b[m Up to date: /Users/malcolm/Library/Jupyter/nbextensions/latex_envs/doc/latex_env_doc_files/latex_env_doc_52_0.png\r\n",
      "\u001b[32m[I 15:20:27 InstallContribNbextensionsApp]\u001b[m Up to date: /Users/malcolm/Library/Jupyter/nbextensions/latex_envs/doc/latex_env_doc_files/latex_env_doc_41_0.png\r\n",
      "\u001b[32m[I 15:20:27 InstallContribNbextensionsApp]\u001b[m Up to date: /Users/malcolm/Library/Jupyter/nbextensions/latex_envs/doc/latex_env_doc_files/latex_env_doc_43_0.png\r\n",
      "\u001b[32m[I 15:20:27 InstallContribNbextensionsApp]\u001b[m Up to date: /Users/malcolm/Library/Jupyter/nbextensions/latex_envs/doc/latex_env_doc_files/latex_env_doc_24_2.png\r\n",
      "\u001b[32m[I 15:20:27 InstallContribNbextensionsApp]\u001b[m Up to date: /Users/malcolm/Library/Jupyter/nbextensions/latex_envs/doc/latex_env_doc_files/latex_env_doc_47_0.png\r\n",
      "\u001b[32m[I 15:20:27 InstallContribNbextensionsApp]\u001b[m Up to date: /Users/malcolm/Library/Jupyter/nbextensions/latex_envs/doc/latex_env_doc_files/latex_env_doc_45_0.png\r\n",
      "\u001b[32m[I 15:20:27 InstallContribNbextensionsApp]\u001b[m Up to date: /Users/malcolm/Library/Jupyter/nbextensions/latex_envs/doc/latex_env_doc_files/latex_env_doc_26_2.png\r\n",
      "\u001b[32m[I 15:20:27 InstallContribNbextensionsApp]\u001b[m Up to date: /Users/malcolm/Library/Jupyter/nbextensions/latex_envs/doc/latex_env_doc_files/latex_env_doc_42_0.png\r\n",
      "\u001b[32m[I 15:20:27 InstallContribNbextensionsApp]\u001b[m Up to date: /Users/malcolm/Library/Jupyter/nbextensions/latex_envs/doc/latex_env_doc_files/latex_env_doc_23_2.png\r\n",
      "\u001b[32m[I 15:20:27 InstallContribNbextensionsApp]\u001b[m Up to date: /Users/malcolm/Library/Jupyter/nbextensions/latex_envs/doc/latex_env_doc_files/latex_env_doc_44_0.png\r\n",
      "\u001b[32m[I 15:20:27 InstallContribNbextensionsApp]\u001b[m Up to date: /Users/malcolm/Library/Jupyter/nbextensions/latex_envs/doc/latex_env_doc_files/latex_env_doc_27_2.png\r\n",
      "\u001b[32m[I 15:20:27 InstallContribNbextensionsApp]\u001b[m Up to date: /Users/malcolm/Library/Jupyter/nbextensions/latex_envs/doc/latex_env_doc_files/latex_env_doc_46_0.png\r\n",
      "\u001b[32m[I 15:20:27 InstallContribNbextensionsApp]\u001b[m - Validating: \u001b[32mOK\u001b[0m\r\n",
      "\u001b[32m[I 15:20:27 InstallContribNbextensionsApp]\u001b[m Installing jupyter_contrib_nbextensions items to config in /Users/malcolm/.jupyter\r\n",
      "Enabling: jupyter_nbextensions_configurator\r\n",
      "- Writing config: /Users/malcolm/.jupyter\r\n",
      "    - Validating...\r\n",
      "      jupyter_nbextensions_configurator 0.4.1 \u001b[32mOK\u001b[0m\r\n",
      "Enabling notebook nbextension nbextensions_configurator/config_menu/main...\r\n",
      "Enabling tree nbextension nbextensions_configurator/tree_tab/main...\r\n",
      "\u001b[32m[I 15:20:27 InstallContribNbextensionsApp]\u001b[m Enabling notebook extension contrib_nbextensions_help_item/main...\r\n",
      "\u001b[32m[I 15:20:27 InstallContribNbextensionsApp]\u001b[m       - Validating: \u001b[32mOK\u001b[0m\r\n",
      "\u001b[32m[I 15:20:27 InstallContribNbextensionsApp]\u001b[m - Editing config: /Users/malcolm/.jupyter/jupyter_nbconvert_config.json\r\n",
      "\u001b[32m[I 15:20:27 InstallContribNbextensionsApp]\u001b[m --  Configuring nbconvert template path\r\n",
      "\u001b[32m[I 15:20:27 InstallContribNbextensionsApp]\u001b[m --  Configuring nbconvert preprocessors\r\n",
      "\u001b[32m[I 15:20:27 InstallContribNbextensionsApp]\u001b[m - Writing config: /Users/malcolm/.jupyter/jupyter_nbconvert_config.json\r\n",
      "\u001b[32m[I 15:20:27 InstallContribNbextensionsApp]\u001b[m --  Writing updated config file /Users/malcolm/.jupyter/jupyter_nbconvert_config.json\r\n"
     ]
    },
    {
     "name": "stdout",
     "output_type": "stream",
     "text": [
      "Enabling: jupyter_nbextensions_configurator\r\n",
      "- Writing config: /Users/malcolm/.jupyter\r\n",
      "    - Validating...\r\n",
      "      jupyter_nbextensions_configurator 0.4.1 \u001b[32mOK\u001b[0m\r\n",
      "Enabling notebook nbextension nbextensions_configurator/config_menu/main...\r\n",
      "Enabling tree nbextension nbextensions_configurator/tree_tab/main...\r\n"
     ]
    }
   ],
   "source": [
    "# Jupyter-contrib extensions ( MUST HAVE )\n",
    "\n",
    "# !pip install https://github.com/ipython-contrib/jupyter_contrib_nbextensions/tarball/master\n",
    "# !pip install jupyter_nbextensions_configurator\n",
    "# !jupyter contrib nbextension install --user\n",
    "# !jupyter nbextensions_configurator enable --user"
   ]
  },
  {
   "cell_type": "code",
   "execution_count": null,
   "metadata": {},
   "outputs": [],
   "source": []
  }
 ],
 "metadata": {
  "kernelspec": {
   "display_name": "Python 3",
   "language": "python",
   "name": "python3"
  },
  "language_info": {
   "codemirror_mode": {
    "name": "ipython",
    "version": 3
   },
   "file_extension": ".py",
   "mimetype": "text/x-python",
   "name": "python",
   "nbconvert_exporter": "python",
   "pygments_lexer": "ipython3",
   "version": "3.6.8"
  }
 },
 "nbformat": 4,
 "nbformat_minor": 2
}
