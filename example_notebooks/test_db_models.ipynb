{
 "cells": [
  {
   "cell_type": "markdown",
   "metadata": {},
   "source": [
    "# Step 1: Inital db setup"
   ]
  },
  {
   "cell_type": "code",
   "execution_count": 1,
   "metadata": {},
   "outputs": [],
   "source": [
    "# Initial - Setup environment vars before testing anything\n",
    "import os\n",
    "\n",
    "os.environ[\"DEBUG\"] = \"1\"\n",
    "os.environ[\"TESTING\"] = \"0\"\n",
    "# os.environ[\"DATABASE_URL\"] = \"sqlite:///:memory:\"\n",
    "# os.environ[\"TEST_DATABASE_URL\"] = \"sqlite:///:memory:\"\n",
    "\n",
    "os.environ[\"DATABASE_URL\"] = \"sqlite:///test.db\"\n",
    "os.environ[\"TEST_DATABASE_URL\"] = \"sqlite:///test.db\""
   ]
  },
  {
   "cell_type": "code",
   "execution_count": 2,
   "metadata": {},
   "outputs": [],
   "source": [
    "# Initalize database and create schema etc\n",
    "\n",
    "import logging\n",
    "\n",
    "from tenacity import after_log, before_log, retry, stop_after_attempt, wait_fixed\n",
    "\n",
    "from ultron8.api.db.u_sqlite.session import db_session\n",
    "\n",
    "logging.basicConfig(level=logging.INFO)\n",
    "logger = logging.getLogger(__name__)\n",
    "\n",
    "max_tries = 60 * 5  # 5 minutes\n",
    "wait_seconds = 1\n",
    "\n",
    "@retry(\n",
    "    stop=stop_after_attempt(max_tries),\n",
    "    wait=wait_fixed(wait_seconds),\n",
    "    before=before_log(logger, logging.INFO),\n",
    "    after=after_log(logger, logging.WARN),\n",
    ")\n",
    "def init():\n",
    "    try:\n",
    "        # Try to create session to check if DB is awake\n",
    "        db_session.execute(\"SELECT 1\")\n",
    "    except Exception as e:\n",
    "        logger.error(e)\n",
    "        raise e\n"
   ]
  },
  {
   "cell_type": "code",
   "execution_count": 3,
   "metadata": {},
   "outputs": [],
   "source": [
    "# Get sqlalchemy classes/objects\n",
    "\n",
    "from ultron8.api.db.u_sqlite.init_db import init_db\n",
    "from ultron8.api.db.u_sqlite.session import db_session, engine, Session\n",
    "\n",
    "session = Session()\n"
   ]
  },
  {
   "cell_type": "code",
   "execution_count": 4,
   "metadata": {},
   "outputs": [
    {
     "name": "stdout",
     "output_type": "stream",
     "text": [
      "2019-07-09 21:04:47,539 INFO sqlalchemy.engine.base.Engine SELECT CAST('test plain returns' AS VARCHAR(60)) AS anon_1\n"
     ]
    },
    {
     "name": "stderr",
     "output_type": "stream",
     "text": [
      "INFO:sqlalchemy.engine.base.Engine:SELECT CAST('test plain returns' AS VARCHAR(60)) AS anon_1\n"
     ]
    },
    {
     "name": "stdout",
     "output_type": "stream",
     "text": [
      "2019-07-09 21:04:47,544 INFO sqlalchemy.engine.base.Engine ()\n"
     ]
    },
    {
     "name": "stderr",
     "output_type": "stream",
     "text": [
      "INFO:sqlalchemy.engine.base.Engine:()\n"
     ]
    },
    {
     "name": "stdout",
     "output_type": "stream",
     "text": [
      "2019-07-09 21:04:47,551 INFO sqlalchemy.engine.base.Engine SELECT CAST('test unicode returns' AS VARCHAR(60)) AS anon_1\n"
     ]
    },
    {
     "name": "stderr",
     "output_type": "stream",
     "text": [
      "INFO:sqlalchemy.engine.base.Engine:SELECT CAST('test unicode returns' AS VARCHAR(60)) AS anon_1\n"
     ]
    },
    {
     "name": "stdout",
     "output_type": "stream",
     "text": [
      "2019-07-09 21:04:47,557 INFO sqlalchemy.engine.base.Engine ()\n"
     ]
    },
    {
     "name": "stderr",
     "output_type": "stream",
     "text": [
      "INFO:sqlalchemy.engine.base.Engine:()\n"
     ]
    },
    {
     "name": "stdout",
     "output_type": "stream",
     "text": [
      "2019-07-09 21:04:47,570 INFO sqlalchemy.engine.base.Engine PRAGMA table_info(\"item\")\n"
     ]
    },
    {
     "name": "stderr",
     "output_type": "stream",
     "text": [
      "INFO:sqlalchemy.engine.base.Engine:PRAGMA table_info(\"item\")\n"
     ]
    },
    {
     "name": "stdout",
     "output_type": "stream",
     "text": [
      "2019-07-09 21:04:47,591 INFO sqlalchemy.engine.base.Engine ()\n"
     ]
    },
    {
     "name": "stderr",
     "output_type": "stream",
     "text": [
      "INFO:sqlalchemy.engine.base.Engine:()\n"
     ]
    },
    {
     "name": "stdout",
     "output_type": "stream",
     "text": [
      "2019-07-09 21:04:47,612 INFO sqlalchemy.engine.base.Engine PRAGMA table_info(\"user\")\n"
     ]
    },
    {
     "name": "stderr",
     "output_type": "stream",
     "text": [
      "INFO:sqlalchemy.engine.base.Engine:PRAGMA table_info(\"user\")\n"
     ]
    },
    {
     "name": "stdout",
     "output_type": "stream",
     "text": [
      "2019-07-09 21:04:47,624 INFO sqlalchemy.engine.base.Engine ()\n"
     ]
    },
    {
     "name": "stderr",
     "output_type": "stream",
     "text": [
      "INFO:sqlalchemy.engine.base.Engine:()\n"
     ]
    },
    {
     "name": "stdout",
     "output_type": "stream",
     "text": [
      "2019-07-09 21:04:47,648 INFO sqlalchemy.engine.base.Engine PRAGMA table_info(\"guid_tracker\")\n"
     ]
    },
    {
     "name": "stderr",
     "output_type": "stream",
     "text": [
      "INFO:sqlalchemy.engine.base.Engine:PRAGMA table_info(\"guid_tracker\")\n"
     ]
    },
    {
     "name": "stdout",
     "output_type": "stream",
     "text": [
      "2019-07-09 21:04:47,665 INFO sqlalchemy.engine.base.Engine ()\n"
     ]
    },
    {
     "name": "stderr",
     "output_type": "stream",
     "text": [
      "INFO:sqlalchemy.engine.base.Engine:()\n"
     ]
    }
   ],
   "source": [
    "# make sure all SQL Alchemy models are imported before initializing DB\n",
    "# otherwise, SQL Alchemy might fail to initialize properly relationships\n",
    "# for more details: https://github.com/tiangolo/full-stack-fastapi-postgresql/issues/28\n",
    "from ultron8.api.db.u_sqlite.base import Base\n",
    "\n",
    "# Tables should be created with Alembic migrations\n",
    "# But if you don't want to use migrations, create\n",
    "# the tables un-commenting the next line\n",
    "Base.metadata.create_all(bind=engine)\n",
    "\n"
   ]
  },
  {
   "cell_type": "code",
   "execution_count": 5,
   "metadata": {},
   "outputs": [
    {
     "name": "stderr",
     "output_type": "stream",
     "text": [
      "INFO:__main__:Initializing service\n",
      "INFO:__main__:Starting call to '__main__.init', this is the 1st time calling it.\n"
     ]
    },
    {
     "name": "stdout",
     "output_type": "stream",
     "text": [
      "2019-07-09 21:04:47,773 INFO sqlalchemy.engine.base.Engine BEGIN (implicit)\n"
     ]
    },
    {
     "name": "stderr",
     "output_type": "stream",
     "text": [
      "INFO:sqlalchemy.engine.base.Engine:BEGIN (implicit)\n"
     ]
    },
    {
     "name": "stdout",
     "output_type": "stream",
     "text": [
      "2019-07-09 21:04:47,777 INFO sqlalchemy.engine.base.Engine SELECT 1\n"
     ]
    },
    {
     "name": "stderr",
     "output_type": "stream",
     "text": [
      "INFO:sqlalchemy.engine.base.Engine:SELECT 1\n"
     ]
    },
    {
     "name": "stdout",
     "output_type": "stream",
     "text": [
      "2019-07-09 21:04:47,781 INFO sqlalchemy.engine.base.Engine ()\n"
     ]
    },
    {
     "name": "stderr",
     "output_type": "stream",
     "text": [
      "INFO:sqlalchemy.engine.base.Engine:()\n",
      "INFO:__main__:Service finished initializing\n",
      "INFO:__main__:Creating initial data\n"
     ]
    },
    {
     "name": "stdout",
     "output_type": "stream",
     "text": [
      "2019-07-09 21:04:47,807 INFO sqlalchemy.engine.base.Engine SELECT user.id AS user_id, user.full_name AS user_full_name, user.email AS user_email, user.hashed_password AS user_hashed_password, user.is_active AS user_is_active, user.is_superuser AS user_is_superuser \n",
      "FROM user \n",
      "WHERE user.email = ?\n",
      " LIMIT ? OFFSET ?\n"
     ]
    },
    {
     "name": "stderr",
     "output_type": "stream",
     "text": [
      "INFO:sqlalchemy.engine.base.Engine:SELECT user.id AS user_id, user.full_name AS user_full_name, user.email AS user_email, user.hashed_password AS user_hashed_password, user.is_active AS user_is_active, user.is_superuser AS user_is_superuser \n",
      "FROM user \n",
      "WHERE user.email = ?\n",
      " LIMIT ? OFFSET ?\n"
     ]
    },
    {
     "name": "stdout",
     "output_type": "stream",
     "text": [
      "2019-07-09 21:04:47,811 INFO sqlalchemy.engine.base.Engine ('admin', 1, 0)\n"
     ]
    },
    {
     "name": "stderr",
     "output_type": "stream",
     "text": [
      "INFO:sqlalchemy.engine.base.Engine:('admin', 1, 0)\n",
      "INFO:__main__:Initial data created\n"
     ]
    }
   ],
   "source": [
    "# Try initializing everything now\n",
    "logger.info(\"Initializing service\")\n",
    "init()\n",
    "logger.info(\"Service finished initializing\")\n",
    "\n",
    "\n",
    "logger.info(\"Creating initial data\")\n",
    "init_db(db_session)\n",
    "logger.info(\"Initial data created\")"
   ]
  },
  {
   "cell_type": "markdown",
   "metadata": {},
   "source": [
    "# Step 2: Now That we have a working sqlite session, let's try playing w/ our various db_models classes etc"
   ]
  },
  {
   "cell_type": "code",
   "execution_count": 6,
   "metadata": {},
   "outputs": [],
   "source": [
    "# Step A. Create a pack ( which has actions, triggers, and sensors associated with it )"
   ]
  },
  {
   "cell_type": "markdown",
   "metadata": {},
   "source": [
    "# Step 3: Import each of the db_models"
   ]
  },
  {
   "cell_type": "code",
   "execution_count": 7,
   "metadata": {},
   "outputs": [],
   "source": [
    "from ultron8.api.db_models.action import Action\n",
    "from ultron8.api.db_models.guid import Guid\n",
    "from ultron8.api.db_models.item import Item\n",
    "from ultron8.api.db_models.packs import Packs\n",
    "from ultron8.api.db_models.rule import RuleTypeParameter, RuleType, Rules\n",
    "from ultron8.api.db_models.sensors import Sensors\n",
    "# from ultron8.api.db_models.timer import TimeDB\n",
    "from ultron8.api.db_models.trigger import TriggerType, Trigger, TriggerInstanceDB\n",
    "from ultron8.api.db_models.user import User"
   ]
  },
  {
   "cell_type": "markdown",
   "metadata": {},
   "source": [
    "# Step 4: Ok, let us try inserting, and updating data in the database"
   ]
  },
  {
   "cell_type": "code",
   "execution_count": null,
   "metadata": {},
   "outputs": [],
   "source": []
  }
 ],
 "metadata": {
  "kernelspec": {
   "display_name": "Python 3",
   "language": "python",
   "name": "python3"
  },
  "language_info": {
   "codemirror_mode": {
    "name": "ipython",
    "version": 3
   },
   "file_extension": ".py",
   "mimetype": "text/x-python",
   "name": "python",
   "nbconvert_exporter": "python",
   "pygments_lexer": "ipython3",
   "version": "3.6.8"
  }
 },
 "nbformat": 4,
 "nbformat_minor": 2
}
