{
 "cells": [
  {
   "cell_type": "markdown",
   "metadata": {},
   "source": [
    "# Step 1: Inital db setup"
   ]
  },
  {
   "cell_type": "code",
   "execution_count": 1,
   "metadata": {},
   "outputs": [],
   "source": [
    "# Initial - Setup environment vars before testing anything\n",
    "import os\n",
    "from sqlalchemy import inspect\n",
    "\n",
    "os.environ[\"DEBUG\"] = \"1\"\n",
    "os.environ[\"TESTING\"] = \"0\"\n",
    "# os.environ[\"DATABASE_URL\"] = \"sqlite:///:memory:\"\n",
    "# os.environ[\"TEST_DATABASE_URL\"] = \"sqlite:///:memory:\"\n",
    "\n",
    "os.environ[\"DATABASE_URL\"] = \"sqlite:///test.db\"\n",
    "os.environ[\"TEST_DATABASE_URL\"] = \"sqlite:///test.db\"\n",
    "\n",
    "def debug_dump(obj):\n",
    "    for attr in dir(obj):\n",
    "        if hasattr(obj, attr):\n",
    "            print(\"obj.%s = %s\" % (attr, getattr(obj, attr)))"
   ]
  },
  {
   "cell_type": "code",
   "execution_count": 2,
   "metadata": {},
   "outputs": [],
   "source": [
    "# Initalize database and create schema etc\n",
    "\n",
    "import logging\n",
    "\n",
    "from tenacity import after_log, before_log, retry, stop_after_attempt, wait_fixed\n",
    "\n",
    "from ultron8.api.db.u_sqlite.session import db_session\n",
    "\n",
    "logging.basicConfig(level=logging.INFO)\n",
    "logger = logging.getLogger(__name__)\n",
    "\n",
    "max_tries = 60 * 5  # 5 minutes\n",
    "wait_seconds = 1\n",
    "\n",
    "@retry(\n",
    "    stop=stop_after_attempt(max_tries),\n",
    "    wait=wait_fixed(wait_seconds),\n",
    "    before=before_log(logger, logging.INFO),\n",
    "    after=after_log(logger, logging.WARN),\n",
    ")\n",
    "def init():\n",
    "    try:\n",
    "        # Try to create session to check if DB is awake\n",
    "        db_session.execute(\"SELECT 1\")\n",
    "    except Exception as e:\n",
    "        logger.error(e)\n",
    "        raise e\n"
   ]
  },
  {
   "cell_type": "code",
   "execution_count": 3,
   "metadata": {},
   "outputs": [],
   "source": [
    "# Get sqlalchemy classes/objects\n",
    "\n",
    "from ultron8.api.db.u_sqlite.init_db import init_db\n",
    "from ultron8.api.db.u_sqlite.session import db_session, engine, Session\n",
    "\n",
    "# make sure all SQL Alchemy models are imported before initializing DB\n",
    "# otherwise, SQL Alchemy might fail to initialize properly relationships\n",
    "# for more details: https://github.com/tiangolo/full-stack-fastapi-postgresql/issues/28\n",
    "from ultron8.api.db.u_sqlite.base import Base\n",
    "\n",
    "import pandas as pd"
   ]
  },
  {
   "cell_type": "markdown",
   "metadata": {},
   "source": [
    "# Import SQLAlchemy data classes"
   ]
  },
  {
   "cell_type": "code",
   "execution_count": 4,
   "metadata": {},
   "outputs": [],
   "source": [
    "from ultron8.api.db_models.packs import Packs\n",
    "from ultron8.api.db_models.action import Action\n",
    "# from ultron8.api.db_models.guid import Guid\n",
    "# from ultron8.api.db_models.item import Item\n",
    "\n",
    "# from ultron8.api.db_models.rule import RuleTypeParameter, RuleType, Rules\n",
    "# from ultron8.api.db_models.sensors import Sensors\n",
    "# from ultron8.api.db_models.timer import TimeDB\n",
    "# from ultron8.api.db_models.trigger import TriggerType, Trigger, TriggerInstanceDB\n",
    "# from ultron8.api.db_models.user import User"
   ]
  },
  {
   "cell_type": "code",
   "execution_count": 5,
   "metadata": {},
   "outputs": [
    {
     "name": "stdout",
     "output_type": "stream",
     "text": [
      "2019-07-11 20:20:51,066 INFO sqlalchemy.engine.base.Engine SELECT CAST('test plain returns' AS VARCHAR(60)) AS anon_1\n"
     ]
    },
    {
     "name": "stderr",
     "output_type": "stream",
     "text": [
      "INFO:sqlalchemy.engine.base.Engine:SELECT CAST('test plain returns' AS VARCHAR(60)) AS anon_1\n"
     ]
    },
    {
     "name": "stdout",
     "output_type": "stream",
     "text": [
      "2019-07-11 20:20:51,070 INFO sqlalchemy.engine.base.Engine ()\n"
     ]
    },
    {
     "name": "stderr",
     "output_type": "stream",
     "text": [
      "INFO:sqlalchemy.engine.base.Engine:()\n"
     ]
    },
    {
     "name": "stdout",
     "output_type": "stream",
     "text": [
      "2019-07-11 20:20:51,076 INFO sqlalchemy.engine.base.Engine SELECT CAST('test unicode returns' AS VARCHAR(60)) AS anon_1\n"
     ]
    },
    {
     "name": "stderr",
     "output_type": "stream",
     "text": [
      "INFO:sqlalchemy.engine.base.Engine:SELECT CAST('test unicode returns' AS VARCHAR(60)) AS anon_1\n"
     ]
    },
    {
     "name": "stdout",
     "output_type": "stream",
     "text": [
      "2019-07-11 20:20:51,082 INFO sqlalchemy.engine.base.Engine ()\n"
     ]
    },
    {
     "name": "stderr",
     "output_type": "stream",
     "text": [
      "INFO:sqlalchemy.engine.base.Engine:()\n"
     ]
    },
    {
     "name": "stdout",
     "output_type": "stream",
     "text": [
      "2019-07-11 20:20:51,094 INFO sqlalchemy.engine.base.Engine PRAGMA table_info(\"item\")\n"
     ]
    },
    {
     "name": "stderr",
     "output_type": "stream",
     "text": [
      "INFO:sqlalchemy.engine.base.Engine:PRAGMA table_info(\"item\")\n"
     ]
    },
    {
     "name": "stdout",
     "output_type": "stream",
     "text": [
      "2019-07-11 20:20:51,100 INFO sqlalchemy.engine.base.Engine ()\n"
     ]
    },
    {
     "name": "stderr",
     "output_type": "stream",
     "text": [
      "INFO:sqlalchemy.engine.base.Engine:()\n"
     ]
    },
    {
     "name": "stdout",
     "output_type": "stream",
     "text": [
      "2019-07-11 20:20:51,112 INFO sqlalchemy.engine.base.Engine PRAGMA table_info(\"user\")\n"
     ]
    },
    {
     "name": "stderr",
     "output_type": "stream",
     "text": [
      "INFO:sqlalchemy.engine.base.Engine:PRAGMA table_info(\"user\")\n"
     ]
    },
    {
     "name": "stdout",
     "output_type": "stream",
     "text": [
      "2019-07-11 20:20:51,126 INFO sqlalchemy.engine.base.Engine ()\n"
     ]
    },
    {
     "name": "stderr",
     "output_type": "stream",
     "text": [
      "INFO:sqlalchemy.engine.base.Engine:()\n"
     ]
    },
    {
     "name": "stdout",
     "output_type": "stream",
     "text": [
      "2019-07-11 20:20:51,146 INFO sqlalchemy.engine.base.Engine PRAGMA table_info(\"guid_tracker\")\n"
     ]
    },
    {
     "name": "stderr",
     "output_type": "stream",
     "text": [
      "INFO:sqlalchemy.engine.base.Engine:PRAGMA table_info(\"guid_tracker\")\n"
     ]
    },
    {
     "name": "stdout",
     "output_type": "stream",
     "text": [
      "2019-07-11 20:20:51,159 INFO sqlalchemy.engine.base.Engine ()\n"
     ]
    },
    {
     "name": "stderr",
     "output_type": "stream",
     "text": [
      "INFO:sqlalchemy.engine.base.Engine:()\n"
     ]
    },
    {
     "name": "stdout",
     "output_type": "stream",
     "text": [
      "2019-07-11 20:20:51,168 INFO sqlalchemy.engine.base.Engine PRAGMA table_info(\"packs_actions\")\n"
     ]
    },
    {
     "name": "stderr",
     "output_type": "stream",
     "text": [
      "INFO:sqlalchemy.engine.base.Engine:PRAGMA table_info(\"packs_actions\")\n"
     ]
    },
    {
     "name": "stdout",
     "output_type": "stream",
     "text": [
      "2019-07-11 20:20:51,177 INFO sqlalchemy.engine.base.Engine ()\n"
     ]
    },
    {
     "name": "stderr",
     "output_type": "stream",
     "text": [
      "INFO:sqlalchemy.engine.base.Engine:()\n"
     ]
    },
    {
     "name": "stdout",
     "output_type": "stream",
     "text": [
      "2019-07-11 20:20:51,182 INFO sqlalchemy.engine.base.Engine PRAGMA table_info(\"packs\")\n"
     ]
    },
    {
     "name": "stderr",
     "output_type": "stream",
     "text": [
      "INFO:sqlalchemy.engine.base.Engine:PRAGMA table_info(\"packs\")\n"
     ]
    },
    {
     "name": "stdout",
     "output_type": "stream",
     "text": [
      "2019-07-11 20:20:51,191 INFO sqlalchemy.engine.base.Engine ()\n"
     ]
    },
    {
     "name": "stderr",
     "output_type": "stream",
     "text": [
      "INFO:sqlalchemy.engine.base.Engine:()\n"
     ]
    },
    {
     "name": "stdout",
     "output_type": "stream",
     "text": [
      "2019-07-11 20:20:51,198 INFO sqlalchemy.engine.base.Engine PRAGMA table_info(\"actions\")\n"
     ]
    },
    {
     "name": "stderr",
     "output_type": "stream",
     "text": [
      "INFO:sqlalchemy.engine.base.Engine:PRAGMA table_info(\"actions\")\n"
     ]
    },
    {
     "name": "stdout",
     "output_type": "stream",
     "text": [
      "2019-07-11 20:20:51,202 INFO sqlalchemy.engine.base.Engine ()\n"
     ]
    },
    {
     "name": "stderr",
     "output_type": "stream",
     "text": [
      "INFO:sqlalchemy.engine.base.Engine:()\n"
     ]
    }
   ],
   "source": [
    "# Tables should be created with Alembic migrations\n",
    "# But if you don't want to use migrations, create\n",
    "# the tables un-commenting the next line\n",
    "# 2 - generate database schema\n",
    "Base.metadata.create_all(bind=engine)\n",
    "\n",
    "# 3 - create a new session\n",
    "session = Session()"
   ]
  },
  {
   "cell_type": "code",
   "execution_count": 6,
   "metadata": {},
   "outputs": [
    {
     "name": "stderr",
     "output_type": "stream",
     "text": [
      "INFO:__main__:Initializing service\n",
      "INFO:__main__:Starting call to '__main__.init', this is the 1st time calling it.\n"
     ]
    },
    {
     "name": "stdout",
     "output_type": "stream",
     "text": [
      "2019-07-11 20:20:51,238 INFO sqlalchemy.engine.base.Engine BEGIN (implicit)\n"
     ]
    },
    {
     "name": "stderr",
     "output_type": "stream",
     "text": [
      "INFO:sqlalchemy.engine.base.Engine:BEGIN (implicit)\n"
     ]
    },
    {
     "name": "stdout",
     "output_type": "stream",
     "text": [
      "2019-07-11 20:20:51,243 INFO sqlalchemy.engine.base.Engine SELECT 1\n"
     ]
    },
    {
     "name": "stderr",
     "output_type": "stream",
     "text": [
      "INFO:sqlalchemy.engine.base.Engine:SELECT 1\n"
     ]
    },
    {
     "name": "stdout",
     "output_type": "stream",
     "text": [
      "2019-07-11 20:20:51,247 INFO sqlalchemy.engine.base.Engine ()\n"
     ]
    },
    {
     "name": "stderr",
     "output_type": "stream",
     "text": [
      "INFO:sqlalchemy.engine.base.Engine:()\n",
      "INFO:__main__:Service finished initializing\n"
     ]
    }
   ],
   "source": [
    "# Try initializing everything now\n",
    "logger.info(\"Initializing service\")\n",
    "init()\n",
    "logger.info(\"Service finished initializing\")\n",
    "\n",
    "\n"
   ]
  },
  {
   "cell_type": "code",
   "execution_count": 7,
   "metadata": {},
   "outputs": [
    {
     "name": "stderr",
     "output_type": "stream",
     "text": [
      "INFO:__main__:Creating initial data\n"
     ]
    },
    {
     "name": "stdout",
     "output_type": "stream",
     "text": [
      "2019-07-11 20:20:51,296 INFO sqlalchemy.engine.base.Engine SELECT user.id AS user_id, user.full_name AS user_full_name, user.email AS user_email, user.hashed_password AS user_hashed_password, user.is_active AS user_is_active, user.is_superuser AS user_is_superuser \n",
      "FROM user \n",
      "WHERE user.email = ?\n",
      " LIMIT ? OFFSET ?\n"
     ]
    },
    {
     "name": "stderr",
     "output_type": "stream",
     "text": [
      "INFO:sqlalchemy.engine.base.Engine:SELECT user.id AS user_id, user.full_name AS user_full_name, user.email AS user_email, user.hashed_password AS user_hashed_password, user.is_active AS user_is_active, user.is_superuser AS user_is_superuser \n",
      "FROM user \n",
      "WHERE user.email = ?\n",
      " LIMIT ? OFFSET ?\n"
     ]
    },
    {
     "name": "stdout",
     "output_type": "stream",
     "text": [
      "2019-07-11 20:20:51,300 INFO sqlalchemy.engine.base.Engine ('admin', 1, 0)\n"
     ]
    },
    {
     "name": "stderr",
     "output_type": "stream",
     "text": [
      "INFO:sqlalchemy.engine.base.Engine:('admin', 1, 0)\n",
      "INFO:__main__:Initial data created\n"
     ]
    }
   ],
   "source": [
    "logger.info(\"Creating initial data\")\n",
    "init_db(db_session)\n",
    "logger.info(\"Initial data created\")"
   ]
  },
  {
   "cell_type": "code",
   "execution_count": 8,
   "metadata": {},
   "outputs": [
    {
     "name": "stdout",
     "output_type": "stream",
     "text": [
      "obj.RESOURCE_TYPE = ResourceType.ACTION\n",
      "obj.UID_FIELDS = ['pack', 'name']\n",
      "obj.UID_SEPARATOR = :\n",
      "obj.__class__ = <class 'sqlalchemy.ext.declarative.api.DeclarativeMeta'>\n",
      "obj.__delattr__ = <slot wrapper '__delattr__' of 'object' objects>\n",
      "obj.__dict__ = {'__module__': 'ultron8.api.db_models.action', '__doc__': 'Db Schema for Action table.', 'RESOURCE_TYPE': <ResourceType.ACTION: 'action'>, 'UID_FIELDS': ['pack', 'name'], '__tablename__': 'actions', 'id': <sqlalchemy.orm.attributes.InstrumentedAttribute object at 0x11acbd1a8>, 'ref': <sqlalchemy.orm.attributes.InstrumentedAttribute object at 0x11acbd258>, 'uid': <sqlalchemy.orm.attributes.InstrumentedAttribute object at 0x11acbd308>, 'metadata_file': <sqlalchemy.orm.attributes.InstrumentedAttribute object at 0x11acbd3b8>, 'name': <sqlalchemy.orm.attributes.InstrumentedAttribute object at 0x11acbd468>, 'description': <sqlalchemy.orm.attributes.InstrumentedAttribute object at 0x11acbd518>, 'runner_type': <sqlalchemy.orm.attributes.InstrumentedAttribute object at 0x11acbd5c8>, 'enabled': <sqlalchemy.orm.attributes.InstrumentedAttribute object at 0x11acbd678>, 'entry_point': <sqlalchemy.orm.attributes.InstrumentedAttribute object at 0x11acbd728>, 'parameters': <sqlalchemy.orm.attributes.InstrumentedAttribute object at 0x11acbd7d8>, 'tags': <sqlalchemy.orm.attributes.InstrumentedAttribute object at 0x11acbd888>, 'created_at': <sqlalchemy.orm.attributes.InstrumentedAttribute object at 0x11acbd938>, 'updated_at': <sqlalchemy.orm.attributes.InstrumentedAttribute object at 0x11acbd9e8>, 'packs_id': <sqlalchemy.orm.attributes.InstrumentedAttribute object at 0x11acbda40>, 'pack': <sqlalchemy.orm.attributes.InstrumentedAttribute object at 0x11acbd0f8>, '__init__': <function __init__ at 0x11ac9f158>, 'get_reference': <function Action.get_reference at 0x11ac79f28>, '__table__': Table('actions', MetaData(bind=None), Column('id', Integer(), table=<actions>, primary_key=True, nullable=False), Column('ref', String(length=255), table=<actions>), Column('uid', String(length=255), table=<actions>), Column('metadata_file', String(length=255), table=<actions>), Column('name', String(length=255), table=<actions>), Column('description', String(length=255), table=<actions>), Column('runner_type', String(length=255), table=<actions>), Column('enabled', String(length=255), table=<actions>), Column('entry_point', String(length=255), table=<actions>), Column('parameters', String(length=255), table=<actions>), Column('tags', String(length=255), table=<actions>), Column('created_at', DateTime(timezone=True), table=<actions>, server_default=DefaultClause(<sqlalchemy.sql.functions.Function at 0x11ac987b8; utcnow>, for_update=False)), Column('updated_at', DateTime(timezone=True), table=<actions>, onupdate=ColumnDefault(<sqlalchemy.sql.functions.Function at 0x11ac98908; utcnow>)), Column('packs_id', Integer(), ForeignKey('packs.id'), table=<actions>), schema=None), '_sa_class_manager': <ClassManager of <class 'ultron8.api.db_models.action.Action'> at 11ac95fc0>, '__mapper__': <Mapper at 0x11ac98c50; Action>}\n",
      "obj.__dir__ = <method '__dir__' of 'object' objects>\n",
      "obj.__doc__ = Db Schema for Action table.\n",
      "obj.__eq__ = <slot wrapper '__eq__' of 'object' objects>\n",
      "obj.__format__ = <method '__format__' of 'object' objects>\n",
      "obj.__ge__ = <slot wrapper '__ge__' of 'object' objects>\n",
      "obj.__getattribute__ = <slot wrapper '__getattribute__' of 'object' objects>\n",
      "obj.__gt__ = <slot wrapper '__gt__' of 'object' objects>\n",
      "obj.__hash__ = <slot wrapper '__hash__' of 'object' objects>\n",
      "obj.__init__ = <function __init__ at 0x11ac9f158>\n",
      "obj.__init_subclass__ = <built-in method __init_subclass__ of DeclarativeMeta object at 0x7ff3fde02da8>\n",
      "obj.__le__ = <slot wrapper '__le__' of 'object' objects>\n",
      "obj.__lt__ = <slot wrapper '__lt__' of 'object' objects>\n",
      "obj.__mapper__ = mapped class Action->actions\n",
      "obj.__module__ = ultron8.api.db_models.action\n",
      "obj.__ne__ = <slot wrapper '__ne__' of 'object' objects>\n",
      "obj.__new__ = <built-in method __new__ of type object at 0x10e7ae470>\n",
      "obj.__reduce__ = <method '__reduce__' of 'object' objects>\n",
      "obj.__reduce_ex__ = <method '__reduce_ex__' of 'object' objects>\n",
      "obj.__repr__ = <slot wrapper '__repr__' of 'object' objects>\n",
      "obj.__setattr__ = <slot wrapper '__setattr__' of 'object' objects>\n",
      "obj.__sizeof__ = <method '__sizeof__' of 'object' objects>\n",
      "obj.__str__ = <slot wrapper '__str__' of 'object' objects>\n",
      "obj.__subclasshook__ = <built-in method __subclasshook__ of DeclarativeMeta object at 0x7ff3fde02da8>\n",
      "obj.__table__ = actions\n",
      "obj.__tablename__ = actions\n",
      "obj.__weakref__ = <attribute '__weakref__' of 'UIDFieldMixin' objects>\n",
      "obj._decl_class_registry = <WeakValueDictionary at 0x111e1b240>\n",
      "obj._sa_class_manager = <ClassManager of <class 'ultron8.api.db_models.action.Action'> at 11ac95fc0>\n",
      "obj.created_at = Action.created_at\n",
      "obj.description = Action.description\n",
      "obj.enabled = Action.enabled\n",
      "obj.entry_point = Action.entry_point\n",
      "obj.get_reference = <function Action.get_reference at 0x11ac79f28>\n",
      "obj.get_uid = <function UIDFieldMixin.get_uid at 0x11ac79488>\n",
      "obj.get_uid_parts = <function UIDFieldMixin.get_uid_parts at 0x11ac79510>\n",
      "obj.has_valid_uid = <function UIDFieldMixin.has_valid_uid at 0x11ac79598>\n",
      "obj.id = Action.id\n",
      "obj.metadata = MetaData(bind=None)\n",
      "obj.metadata_file = Action.metadata_file\n",
      "obj.name = Action.name\n",
      "obj.pack = Action.pack\n",
      "obj.packs_id = Action.packs_id\n",
      "obj.parameters = Action.parameters\n",
      "obj.ref = Action.ref\n",
      "obj.runner_type = Action.runner_type\n",
      "obj.tags = Action.tags\n",
      "obj.uid = Action.uid\n",
      "obj.updated_at = Action.updated_at\n"
     ]
    }
   ],
   "source": [
    "debug_dump(Action)"
   ]
  },
  {
   "cell_type": "markdown",
   "metadata": {},
   "source": [
    "# Step 2: Now That we have a working sqlite session, let's try playing w/ our various db_models classes etc"
   ]
  },
  {
   "cell_type": "code",
   "execution_count": 9,
   "metadata": {},
   "outputs": [],
   "source": [
    "# Step A. Create a pack ( which has actions, triggers, and sensors associated with it )"
   ]
  },
  {
   "cell_type": "markdown",
   "metadata": {},
   "source": [
    "# Step 3: Import each of the db_models"
   ]
  },
  {
   "cell_type": "code",
   "execution_count": 10,
   "metadata": {},
   "outputs": [],
   "source": [
    "# from ultron8.api.db_models.action import Action\n",
    "# from ultron8.api.db_models.guid import Guid\n",
    "# from ultron8.api.db_models.item import Item\n",
    "# from ultron8.api.db_models.packs import Packs\n",
    "# from ultron8.api.db_models.rule import RuleTypeParameter, RuleType, Rules\n",
    "# from ultron8.api.db_models.sensors import Sensors\n",
    "# # from ultron8.api.db_models.timer import TimeDB\n",
    "# from ultron8.api.db_models.trigger import TriggerType, Trigger, TriggerInstanceDB\n",
    "# from ultron8.api.db_models.user import User"
   ]
  },
  {
   "cell_type": "markdown",
   "metadata": {},
   "source": [
    "# Step 4: Ok, let us try inserting, and updating data in the database"
   ]
  },
  {
   "cell_type": "markdown",
   "metadata": {},
   "source": [
    "# PACKS"
   ]
  },
  {
   "cell_type": "code",
   "execution_count": 11,
   "metadata": {},
   "outputs": [],
   "source": [
    "##########################################\n",
    "# packs\n",
    "##########################################\n",
    "\n",
    "# p = Packs(name='linux', description='Generic Linux actions', keywords='linux', version='0.1.0', python_versions='3', author='Jarvis', email='info@theblacktonystark.com', contributors='bossjones', files='./tests/fixtures/simple/packs/linux', path=\"./tests/fixtures/simple/packs/linux\", actions=[\n",
    "#     Action(name=\"check_loadavg\", runner_type=\"remote-shell-script\", description=\"Check CPU Load Average on a Host\", enabled=True, entry_point=\"checks/check_loadavg.py\", parameters='{\"period\": {\"enum\": [\"1\",\"5\",\"15\",\"all\"], \"type\": \"string\", \"description\": \"Time period for load avg: 1,5,15 minutes, or \\'all\\'\", \"default\": \"all\", \"position\": 0}}')\n",
    "# ])"
   ]
  },
  {
   "cell_type": "code",
   "execution_count": 12,
   "metadata": {},
   "outputs": [],
   "source": [
    "# p"
   ]
  },
  {
   "cell_type": "code",
   "execution_count": 13,
   "metadata": {},
   "outputs": [],
   "source": [
    "# committing pack to db\n",
    "\n",
    "# session.add(p)\n",
    "\n",
    "# session.commit()"
   ]
  },
  {
   "cell_type": "code",
   "execution_count": 14,
   "metadata": {},
   "outputs": [],
   "source": [
    "# p = session.query(Packs).get(1)\n",
    "# for a in p.actions:\n",
    "#     print(a, inspect(e).key, a.pack)\n",
    "# assert set([a.name for e in c.actions]) == set(\n",
    "#     [\"linux\"]\n",
    "# )\n",
    "# print(\"\\n\")"
   ]
  },
  {
   "cell_type": "code",
   "execution_count": null,
   "metadata": {},
   "outputs": [],
   "source": []
  }
 ],
 "metadata": {
  "kernelspec": {
   "display_name": "Python 3",
   "language": "python",
   "name": "python3"
  },
  "language_info": {
   "codemirror_mode": {
    "name": "ipython",
    "version": 3
   },
   "file_extension": ".py",
   "mimetype": "text/x-python",
   "name": "python",
   "nbconvert_exporter": "python",
   "pygments_lexer": "ipython3",
   "version": "3.6.8"
  }
 },
 "nbformat": 4,
 "nbformat_minor": 2
}
