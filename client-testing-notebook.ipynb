{
 "cells": [
  {
   "cell_type": "code",
   "execution_count": 2,
   "metadata": {},
   "outputs": [],
   "source": [
    "import ultron8\n",
    "from ultron8 import debugger\n",
    "from ultron8 import client\n",
    "from ultron8.api import settings\n",
    "from ultron8.u8client import session\n",
    "\n",
    "username = settings.FIRST_SUPERUSER\n",
    "password = settings.FIRST_SUPERUSER_PASSWORD"
   ]
  },
  {
   "cell_type": "code",
   "execution_count": 8,
   "metadata": {},
   "outputs": [],
   "source": [
    "# u = client.UltronAPI()"
   ]
  },
  {
   "cell_type": "code",
   "execution_count": 3,
   "metadata": {},
   "outputs": [],
   "source": [
    "s = session.BasicAuth(username, password)"
   ]
  },
  {
   "cell_type": "code",
   "execution_count": 4,
   "metadata": {},
   "outputs": [
    {
     "output_type": "stream",
     "name": "stdout",
     "text": "obj.__call__ = <bound method HTTPBasicAuth.__call__ of basic admin@ultron8.com>\nobj.__class__ = <class 'ultron8.u8client.session.BasicAuth'>\nobj.__delattr__ = <method-wrapper '__delattr__' of BasicAuth object at 0x10c472290>\nobj.__dict__ = {'username': 'admin@ultron8.com', 'password': 'password'}\nobj.__dir__ = <built-in method __dir__ of BasicAuth object at 0x10c472290>\nobj.__eq__ = <bound method HTTPBasicAuth.__eq__ of basic admin@ultron8.com>\nobj.__format__ = <built-in method __format__ of BasicAuth object at 0x10c472290>\nobj.__ge__ = <method-wrapper '__ge__' of BasicAuth object at 0x10c472290>\nobj.__getattribute__ = <method-wrapper '__getattribute__' of BasicAuth object at 0x10c472290>\nobj.__gt__ = <method-wrapper '__gt__' of BasicAuth object at 0x10c472290>\nobj.__hash__ = None\nobj.__init__ = <bound method HTTPBasicAuth.__init__ of basic admin@ultron8.com>\nobj.__init_subclass__ = <built-in method __init_subclass__ of type object at 0x7fddbf0c84b0>\nobj.__le__ = <method-wrapper '__le__' of BasicAuth object at 0x10c472290>\nobj.__lt__ = <method-wrapper '__lt__' of BasicAuth object at 0x10c472290>\nobj.__module__ = ultron8.u8client.session\nobj.__ne__ = <bound method HTTPBasicAuth.__ne__ of basic admin@ultron8.com>\nobj.__new__ = <built-in method __new__ of type object at 0x106941aa0>\nobj.__reduce__ = <built-in method __reduce__ of BasicAuth object at 0x10c472290>\nobj.__reduce_ex__ = <built-in method __reduce_ex__ of BasicAuth object at 0x10c472290>\nobj.__repr__ = <bound method BasicAuth.__repr__ of basic admin@ultron8.com>\nobj.__setattr__ = <method-wrapper '__setattr__' of BasicAuth object at 0x10c472290>\nobj.__sizeof__ = <built-in method __sizeof__ of BasicAuth object at 0x10c472290>\nobj.__str__ = <method-wrapper '__str__' of BasicAuth object at 0x10c472290>\nobj.__subclasshook__ = <built-in method __subclasshook__ of type object at 0x7fddbf0c84b0>\nobj.__weakref__ = None\nobj.password = password\nobj.username = admin@ultron8.com\n"
    }
   ],
   "source": [
    "debugger.debug_dump_exclude(s)"
   ]
  },
  {
   "cell_type": "code",
   "execution_count": 5,
   "metadata": {},
   "outputs": [
    {
     "output_type": "stream",
     "name": "stdout",
     "text": "obj.password = password\nobj.username = admin@ultron8.com\n"
    }
   ],
   "source": [
    "debugger.dump_magic(s)"
   ]
  },
  {
   "cell_type": "code",
   "execution_count": 6,
   "metadata": {},
   "outputs": [
    {
     "output_type": "stream",
     "name": "stdout",
     "text": "[run]--------------[dir(obj)]--------------\ndump_dir for object: basic admin@ultron8.com\n[   '__call__',\n    '__class__',\n    '__delattr__',\n    '__dict__',\n    '__dir__',\n    '__doc__',\n    '__eq__',\n    '__format__',\n    '__ge__',\n    '__getattribute__',\n    '__gt__',\n    '__hash__',\n    '__init__',\n    '__init_subclass__',\n    '__le__',\n    '__lt__',\n    '__module__',\n    '__ne__',\n    '__new__',\n    '__reduce__',\n    '__reduce_ex__',\n    '__repr__',\n    '__setattr__',\n    '__sizeof__',\n    '__str__',\n    '__subclasshook__',\n    '__weakref__',\n    'password',\n    'username']\n[run]--------------[obj.__dict__]--------------\ndump_dict for object: basic admin@ultron8.com\n{'password': 'password', 'username': 'admin@ultron8.com'}\n[run]--------------[pp.pprint(vars(obj))]--------------\ndump_vars for object: basic admin@ultron8.com\n{'password': 'password', 'username': 'admin@ultron8.com'}\n"
    }
   ],
   "source": [
    "debugger.dump_all(s)"
   ]
  },
  {
   "cell_type": "code",
   "execution_count": 7,
   "metadata": {},
   "outputs": [],
   "source": [
    "assert isinstance(s, ultron8.u8client.session.BasicAuth)"
   ]
  },
  {
   "cell_type": "code",
   "execution_count": 15,
   "metadata": {},
   "outputs": [
    {
     "output_type": "stream",
     "name": "stderr",
     "text": "UsageError: Line magic function `%cpaste` not found.\n"
    }
   ],
   "source": []
  },
  {
   "cell_type": "code",
   "execution_count": null,
   "metadata": {},
   "outputs": [],
   "source": []
  }
 ],
 "metadata": {
  "language_info": {
   "codemirror_mode": {
    "name": "ipython",
    "version": 3
   },
   "file_extension": ".py",
   "mimetype": "text/x-python",
   "name": "python",
   "nbconvert_exporter": "python",
   "pygments_lexer": "ipython3",
   "version": "3.7.4-final"
  },
  "orig_nbformat": 2,
  "kernelspec": {
   "name": "python3",
   "display_name": "Python 3"
  }
 },
 "nbformat": 4,
 "nbformat_minor": 2
}
